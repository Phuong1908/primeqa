{
 "cells": [
  {
   "cell_type": "code",
   "execution_count": 8,
   "metadata": {},
   "outputs": [],
   "source": [
    "import pandas as pd\n",
    "\n",
    "filter_file = \"/dccstor/arafat5/projects/mrc/generative-qa/data/eli5/train-train-pairs-with-scores_long-lcss-removed.csv\"\n",
    "df = pd.read_csv (filter_file, index_col = 'ID')\n",
    "df_01 = df[df.Score>=0.1] "
   ]
  },
  {
   "cell_type": "code",
   "execution_count": 14,
   "metadata": {},
   "outputs": [],
   "source": [
    "import jsonlines\n",
    "eli5_train_kilt_dpr_fn = \"/dccstor/myu/data/kilt_eli5_dpr/eli5-train-kilt-dpr.json\"\n",
    "\n",
    "eli5_train_kilt_dpr = []\n",
    "with jsonlines.open(eli5_train_kilt_dpr_fn) as reader_dev:\n",
    "    for obj in reader_dev:\n",
    "\t    eli5_train_kilt_dpr.append(obj)"
   ]
  },
  {
   "cell_type": "code",
   "execution_count": null,
   "metadata": {},
   "outputs": [],
   "source": [
    "print(eli5_train_kilt_dpr[0]['output'])"
   ]
  },
  {
   "cell_type": "code",
   "execution_count": 23,
   "metadata": {},
   "outputs": [
    {
     "name": "stdout",
     "output_type": "stream",
     "text": [
      "82417\n"
     ]
    }
   ],
   "source": [
    "new_eli5_train_kilt_dpr = []\n",
    "for di in eli5_train_kilt_dpr:\n",
    "    di_id = di['id']\n",
    "    if di_id in df_01.index:\n",
    "        di_data = df_01.loc[di_id]\n",
    "        di['output'] = [{'answer': di_data['Answer 1'], 'meta':{'score':4}},\n",
    "                             {'answer': di_data['Answer 2'], 'meta':{'score':4}}]\n",
    "        new_eli5_train_kilt_dpr.append(di) \n",
    "print(len(new_eli5_train_kilt_dpr))   "
   ]
  },
  {
   "cell_type": "code",
   "execution_count": 24,
   "metadata": {},
   "outputs": [],
   "source": [
    "eli5_train_kilt_dpr_sim_01_fn = \"/dccstor/mabornea2/eli5/data/eli5-train-kilt-dpr-sim-01.json\"\n",
    "with jsonlines.open(eli5_train_kilt_dpr_sim_01_fn, mode='w') as writer:\n",
    "    writer.write_all(new_eli5_train_kilt_dpr)"
   ]
  }
 ],
 "metadata": {
  "interpreter": {
   "hash": "76dd688f869d08facd8ecc5be9ee995866df4e3408ecfe0305d19b8b70ae51e5"
  },
  "kernelspec": {
   "display_name": "Python 3.9.12 ('lfqa-research')",
   "language": "python",
   "name": "python3"
  },
  "language_info": {
   "codemirror_mode": {
    "name": "ipython",
    "version": 3
   },
   "file_extension": ".py",
   "mimetype": "text/x-python",
   "name": "python",
   "nbconvert_exporter": "python",
   "pygments_lexer": "ipython3",
   "version": "3.9.12"
  },
  "orig_nbformat": 4
 },
 "nbformat": 4,
 "nbformat_minor": 2
}
