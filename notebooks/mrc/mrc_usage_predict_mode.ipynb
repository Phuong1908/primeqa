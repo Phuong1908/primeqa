{
 "cells": [
  {
   "cell_type": "code",
   "execution_count": null,
   "metadata": {},
   "outputs": [],
   "source": [
    "import json\n",
    "from primeqa.pipelines.components.reader.extractive import ExtractiveReader"
   ]
  },
  {
   "cell_type": "code",
   "execution_count": 2,
   "metadata": {},
   "outputs": [],
   "source": [
    "# load the extractive TyDi QA model that has been initialized with XLM-Roberta.\n",
    "reader = ExtractiveReader(model=\"PrimeQA/tydiqa-primary-task-xlm-roberta-large\")\n",
    "reader.load()"
   ]
  },
  {
   "cell_type": "code",
   "execution_count": 4,
   "metadata": {},
   "outputs": [
    {
     "name": "stderr",
     "output_type": "stream",
     "text": [
      "Running tokenizer on eval dataset: 100%|██████████| 1/1 [00:00<00:00, 224.86ba/s]\n",
      "***** Running Evaluation *****\n",
      "  Num examples = 1\n",
      "  Batch size = 8\n",
      "100%|██████████| 1/1 [00:00<00:00, 713.07it/s]"
     ]
    },
    {
     "name": "stdout",
     "output_type": "stream",
     "text": [
      "[\n",
      "    [\n",
      "        {\n",
      "            \"example_id\": \"0\",\n",
      "            \"span_answer_text\": \"Bob\",\n",
      "            \"span_answer\": {\n",
      "                \"start_position\": 21,\n",
      "                \"end_position\": 24\n",
      "            },\n",
      "            \"confidence_score\": 0.38157925496567646\n",
      "        },\n",
      "        {\n",
      "            \"example_id\": \"0\",\n",
      "            \"span_answer_text\": \"Alice walks the cat. Bob\",\n",
      "            \"span_answer\": {\n",
      "                \"start_position\": 0,\n",
      "                \"end_position\": 24\n",
      "            },\n",
      "            \"confidence_score\": 0.3526266656659346\n",
      "        },\n",
      "        {\n",
      "            \"example_id\": \"0\",\n",
      "            \"span_answer_text\": \"Alice\",\n",
      "            \"span_answer\": {\n",
      "                \"start_position\": 0,\n",
      "                \"end_position\": 5\n",
      "            },\n",
      "            \"confidence_score\": 0.26579407936838895\n",
      "        }\n",
      "    ]\n",
      "]\n"
     ]
    },
    {
     "name": "stderr",
     "output_type": "stream",
     "text": [
      "\n"
     ]
    }
   ],
   "source": [
    "questions = [\"¿Quién paseó al perro?\"]\n",
    "contexts = [[\"Alice walks the cat. Bob walks the dog\"]]\n",
    "answers = reader.apply(questions,contexts)  \n",
    "print(json.dumps(answers, indent=4))  "
   ]
  },
  {
   "cell_type": "code",
   "execution_count": 5,
   "metadata": {},
   "outputs": [
    {
     "name": "stderr",
     "output_type": "stream",
     "text": [
      "Running tokenizer on eval dataset: 100%|██████████| 1/1 [00:00<00:00, 159.13ba/s]\n",
      "***** Running Evaluation *****\n",
      "  Num examples = 1\n",
      "  Batch size = 8\n",
      "100%|██████████| 1/1 [00:00<00:00, 431.69it/s]"
     ]
    },
    {
     "name": "stdout",
     "output_type": "stream",
     "text": [
      "[\n",
      "    [\n",
      "        {\n",
      "            \"example_id\": \"0\",\n",
      "            \"span_answer_text\": \"Australia\",\n",
      "            \"span_answer\": {\n",
      "                \"start_position\": 32,\n",
      "                \"end_position\": 41\n",
      "            },\n",
      "            \"confidence_score\": 0.7988516960240685\n",
      "        },\n",
      "        {\n",
      "            \"example_id\": \"0\",\n",
      "            \"span_answer_text\": \"Australia. \\nFounded following the federation of the colonies of Australia \\nas the seat of government for the new nation, it is Australia\",\n",
      "            \"span_answer\": {\n",
      "                \"start_position\": 32,\n",
      "                \"end_position\": 168\n",
      "            },\n",
      "            \"confidence_score\": 0.10721889035823319\n",
      "        },\n",
      "        {\n",
      "            \"example_id\": \"0\",\n",
      "            \"span_answer_text\": \"Australia. \\nFounded following the federation of the colonies of Australia\",\n",
      "            \"span_answer\": {\n",
      "                \"start_position\": 32,\n",
      "                \"end_position\": 105\n",
      "            },\n",
      "            \"confidence_score\": 0.09392941361769835\n",
      "        }\n",
      "    ]\n",
      "]\n"
     ]
    },
    {
     "name": "stderr",
     "output_type": "stream",
     "text": [
      "\n"
     ]
    }
   ],
   "source": [
    "question = [\"Which country is Canberra located in?\"]\n",
    "context = [[\"\"\"Canberra is the capital city of Australia. \n",
    "Founded following the federation of the colonies of Australia \n",
    "as the seat of government for the new nation, it is Australia's \n",
    "largest inland city\"\"\"]]\n",
    "answers = reader.apply(question,context)  \n",
    "print(json.dumps(answers, indent=4))  "
   ]
  },
  {
   "cell_type": "code",
   "execution_count": 2,
   "metadata": {},
   "outputs": [],
   "source": [
    "# load the fine-tuned Natural Questions List QA model that has been initialized with the TyDi model\n",
    "list_reader = ExtractiveReader(model=\"PrimeQA/tydiqa-ft-listqa_nq-task-xlm-roberta-large\")\n",
    "list_reader.load()"
   ]
  },
  {
   "cell_type": "code",
   "execution_count": 3,
   "metadata": {},
   "outputs": [
    {
     "name": "stderr",
     "output_type": "stream",
     "text": [
      "Running tokenizer on eval dataset: 100%|██████████| 1/1 [00:00<00:00, 15.37ba/s]\n",
      "***** Running Evaluation *****\n",
      "  Num examples = 2\n",
      "  Batch size = 8\n"
     ]
    },
    {
     "data": {
      "text/html": [
       "\n",
       "    <div>\n",
       "      \n",
       "      <progress value='1' max='1' style='width:300px; height:20px; vertical-align: middle;'></progress>\n",
       "      [1/1 : < :]\n",
       "    </div>\n",
       "    "
      ],
      "text/plain": [
       "<IPython.core.display.HTML object>"
      ]
     },
     "metadata": {},
     "output_type": "display_data"
    },
    {
     "name": "stderr",
     "output_type": "stream",
     "text": [
      "100%|██████████| 1/1 [00:00<00:00, 113.90it/s]"
     ]
    },
    {
     "name": "stdout",
     "output_type": "stream",
     "text": [
      "[\n",
      "    [\n",
      "        {\n",
      "            \"example_id\": \"0\",\n",
      "            \"span_answer_text\": \"* Andaman and Nicobar Islands -- Port Blair * Chandigarh -- Chandigarh * Dadra and Nagar Haveli -- Silvassa * Daman and Diu -- Daman * Lakshwadweep -- Kavaratti * National Capital Territory -- New Delhi * Puducherry -- Pondicherry\",\n",
      "            \"span_answer\": {\n",
      "                \"start_position\": 192,\n",
      "                \"end_position\": 422\n",
      "            },\n",
      "            \"confidence_score\": 0.47059373601539756\n",
      "        },\n",
      "        {\n",
      "            \"example_id\": \"0\",\n",
      "            \"span_answer_text\": \"* Andaman and Nicobar Islands -- Port Blair * Chandigarh -- Chandigarh * Dadra and Nagar Haveli -- Silvassa * Daman and Diu -- Daman * Lakshwadweep -- Kavaratti * National Capital Territory -- New Delhi * Puducherry -- Pondicherry * * * State and Union Territory capitals of India * Agartala * Aizawl * Amaravati ( de facto ) * Bangalore * Bhopal * Bhubaneswar * Chandigarh * Chennai * Daman * Dehradun ( interim ) * New Delhi * Dispur * Gandhinagar * Gangtok * Hyderabad * Imphal * Itanagar * Jaipur * Jammu ( in winter ) * Kavaratti * Kohima * Kolkata * Lucknow * Mumbai * Panaji * Patna * Pondicherry * Port Blair * Raipur * Ranchi * Shillong * Shimla * Silvassa * Srinagar ( in summer ) * Thiruvananthapuram * * * States and union territories of India States * Arunachal Pradesh * Andhra Pradesh * Assam * Bihar * Chhattisgarh * Goa * Gujarat * Haryana * Himachal Pradesh * Jammu and Kashmir * Jharkhand * Karnataka * Kerala * Madhya Pradesh * Maharashtra * Manipur * Meghalaya * Mizoram * Nagaland * Odisha * Punjab * Rajasthan * Sikkim * Tamil Nadu * Telangana * Tripura * Uttar Pradesh * Uttarakhand * West Bengal Union Territories * Andaman and Nicobar Islands * Chandigarh * Dadra and Nagar Haveli * National Capital Territory of Delhi * Daman and Diu * Lakshadweep * Puducherry * Capitals in India * Proposed states and territories * Historical Regions * British Provinces\",\n",
      "            \"span_answer\": {\n",
      "                \"start_position\": 192,\n",
      "                \"end_position\": 1574\n",
      "            },\n",
      "            \"confidence_score\": 0.3351108257060536\n",
      "        },\n",
      "        {\n",
      "            \"example_id\": \"0\",\n",
      "            \"span_answer_text\": \"* Andaman and Nicobar Islands -- Port Blair * Chandigarh -- Chandigarh * Dadra and Nagar Haveli -- Silvassa * Daman and Diu -- Daman * Lakshwadweep -- Kavaratti * National Capital Territory -- New Delhi * Puducherry -- Pondicherry * * * State and Union Territory capitals of India * Agartala * Aizawl * Amaravati ( de facto ) * Bangalore * Bhopal * Bhubaneswar * Chandigarh * Chennai * Daman * Dehradun ( interim ) * New Delhi * Dispur * Gandhinagar * Gangtok * Hyderabad * Imphal * Itanagar * Jaipur * Jammu ( in winter ) * Kavaratti * Kohima * Kolkata * Lucknow * Mumbai * Panaji * Patna * Pondicherry * Port Blair * Raipur * Ranchi * Shillong * Shimla * Silvassa * Srinagar ( in summer ) * Thiruvananthapuram * * * States and union territories of India States * Arunachal Pradesh * Andhra Pradesh * Assam * Bihar * Chhattisgarh * Goa * Gujarat * Haryana * Himachal Pradesh * Jammu and Kashmir * Jharkhand * Karnataka * Kerala * Madhya Pradesh * Maharashtra * Manipur * Meghalaya * Mizoram * Nagaland * Odisha * Punjab * Rajasthan * Sikkim * Tamil Nadu * Telangana * Tripura * Uttar Pradesh * Uttarakhand * West Bengal\",\n",
      "            \"span_answer\": {\n",
      "                \"start_position\": 192,\n",
      "                \"end_position\": 1312\n",
      "            },\n",
      "            \"confidence_score\": 0.19429543827854873\n",
      "        }\n",
      "    ]\n",
      "]\n"
     ]
    },
    {
     "name": "stderr",
     "output_type": "stream",
     "text": [
      "\n"
     ]
    }
   ],
   "source": [
    "question = [\"seven union territories of india and their capital\"]\n",
    "context = [[\"Category : indian Union Territory capitals - wikipedia Help Category : indian Union Territory capitals Jump to : navigation , search * The 7 Union Territories of India and their capitals is : * Andaman and Nicobar Islands -- Port Blair * Chandigarh -- Chandigarh * Dadra and Nagar Haveli -- Silvassa * Daman and Diu -- Daman * Lakshwadweep -- Kavaratti * National Capital Territory -- New Delhi * Puducherry -- Pondicherry * * * State and Union Territory capitals of India * Agartala * Aizawl * Amaravati ( de facto ) * Bangalore * Bhopal * Bhubaneswar * Chandigarh * Chennai * Daman * Dehradun ( interim ) * New Delhi * Dispur * Gandhinagar * Gangtok * Hyderabad * Imphal * Itanagar * Jaipur * Jammu ( in winter ) * Kavaratti * Kohima * Kolkata * Lucknow * Mumbai * Panaji * Patna * Pondicherry * Port Blair * Raipur * Ranchi * Shillong * Shimla * Silvassa * Srinagar ( in summer ) * Thiruvananthapuram * * * States and union territories of India States * Arunachal Pradesh * Andhra Pradesh * Assam * Bihar * Chhattisgarh * Goa * Gujarat * Haryana * Himachal Pradesh * Jammu and Kashmir * Jharkhand * Karnataka * Kerala * Madhya Pradesh * Maharashtra * Manipur * Meghalaya * Mizoram * Nagaland * Odisha * Punjab * Rajasthan * Sikkim * Tamil Nadu * Telangana * Tripura * Uttar Pradesh * Uttarakhand * West Bengal Union Territories * Andaman and Nicobar Islands * Chandigarh * Dadra and Nagar Haveli * National Capital Territory of Delhi * Daman and Diu * Lakshadweep * Puducherry * Capitals in India * Proposed states and territories * Historical Regions * British Provinces This category has the following 7 subcategories , out of 7 total . * \\u25ba Chandigarh \\u200e ( 18 C , 7 P ) * \\u25ba Daman , Daman and Diu \\u200e ( 3 P ) * \\u25ba Kavaratti \\u200e ( 1 P ) * \\u25ba New Delhi \\u200e ( 6 C , 85 P ) * \\u25ba Pondicherry ( city ) \\u200e ( 3 C , 3 P ) * \\u25ba Port Blair \\u200e ( 1 C , 12 P ) * \\u25ba Silvassa \\u200e ( 1 C , 2 P ) Pages in category `` indian Union Territory capitals '' The following 7 pages are in this category , out of 7 total . This list may not reflect recent changes ( learn more ) . * Chandigarh * Daman , Daman and Diu * Kavaratti * New Delhi * Pondicherry * Port Blair * Silvassa Retrieved from `` https://en.wikipedia.org/w/index.php?title=Category:Indian_Union_Territory_capitals&oldid=836071111 '' Categories : * Indian capital cities * Union Territories of India * Cities and towns in India * * Talk * * * * * * * * * * * * * * * * Help * About Wikipedia * * * * * * * * * * * * * * \\u09ac\\u09be\\u0982\\u09b2\\u09be * \\u092e\\u0948\\u0925\\u093f\\u0932\\u0940 * \\u0d2e\\u0d32\\u0d2f\\u0d3e\\u0d33\\u0d02 Edit links * This page was last edited on 12 April 2018 , at 14 : 33 . * * * About Wikipedia * * * * * * * * \"]]\n",
    "answers = list_reader.apply(question,context)  \n",
    "print(json.dumps(answers, indent=4))  "
   ]
  },
  {
   "cell_type": "code",
   "execution_count": 1,
   "metadata": {},
   "outputs": [],
   "source": [
    "import json\n",
    "from primeqa.pipelines.components.reader.generative import GenerativeFiDReader\n",
    "\n",
    "fid_reader = GenerativeFiDReader()\n",
    "fid_reader.load()"
   ]
  },
  {
   "cell_type": "code",
   "execution_count": 2,
   "metadata": {},
   "outputs": [
    {
     "data": {
      "application/vnd.jupyter.widget-view+json": {
       "model_id": "ca297dc83c0c45dda0572d8078ac2939",
       "version_major": 2,
       "version_minor": 0
      },
      "text/plain": [
       "Running tokenizer on eval dataset:   0%|          | 0/1 [00:00<?, ?ba/s]"
      ]
     },
     "metadata": {},
     "output_type": "display_data"
    },
    {
     "name": "stderr",
     "output_type": "stream",
     "text": [
      "The following columns in the test set  don't have a corresponding argument in `BartFiDModelForDownstreamTasks.forward` and have been ignored: example_id. If example_id are not expected by `BartFiDModelForDownstreamTasks.forward`,  you can safely ignore this message.\n",
      "***** Running Prediction *****\n",
      "  Num examples = 1\n",
      "  Batch size = 1\n"
     ]
    },
    {
     "data": {
      "text/html": [
       "\n",
       "    <div>\n",
       "      \n",
       "      <progress value='1' max='1' style='width:300px; height:20px; vertical-align: middle;'></progress>\n",
       "      [1/1 : < :]\n",
       "    </div>\n",
       "    "
      ],
      "text/plain": [
       "<IPython.core.display.HTML object>"
      ]
     },
     "metadata": {},
     "output_type": "display_data"
    },
    {
     "name": "stdout",
     "output_type": "stream",
     "text": [
      "[\n",
      "    {\n",
      "        \"example_id\": \"0\",\n",
      "        \"text\": \"The water vapor from the exhaust of the jet is condensing on the particles of the surrounding air. \\n\\nThe water is so cold that it freezes and forms a thin layer of ice.  \\nThe ice is so thin that it can't escape the jet, so it forms a trail behind the jet.\"\n",
      "    }\n",
      "]\n"
     ]
    }
   ],
   "source": [
    "question = [\"What causes the trail behind jets at high altitude?\"]\n",
    "context = [[\"\"\"Chemtrail conspiracy theory The chemtrail conspiracy theory is based \n",
    "            on the erroneous belief that long-lasting condensation trails are \n",
    "            \\\"chemtrails\\\" consisting of chemical or biological agents left in the \n",
    "            sky by high-flying aircraft, sprayed for nefarious purposes undisclosed \n",
    "            to the general public. Believers in this conspiracy theory say that while \n",
    "            normal contrails dissipate relatively quickly, contrails that linger must \n",
    "            contain additional substances. Those who subscribe to the theory speculate \n",
    "            that the purpose of the chemical release may be solar radiation management,\n",
    "            weather modification, psychological manipulation, human population control, \n",
    "            or biological or chemical warfare, and that the trails are causing \n",
    "            respiratory illnesses\"\"\",\n",
    "            \"\"\"Associated with jet streams is a phenomenon known as clear-air turbulence \n",
    "            (CAT), caused by vertical and horizontal wind shear caused by jet streams. \n",
    "            The CAT is strongest on the cold air side of the jet, next to and just under \n",
    "            the axis of the jet. Clear-air turbulence can cause aircraft to plunge and so \n",
    "            present a passenger safety hazard that has caused fatal accidents, such as the \n",
    "            death of one passenger on United Airlines Flight 826. \n",
    "            Section: Uses.:Possible future power generation.\"\"\",\n",
    "            \"\"\"Contrails are a manmade type of cirrus cloud formed when water vapor from \n",
    "            the exhaust of a jet engine condenses on particles, which come from either the \n",
    "            surrounding air or the exhaust itself, and freezes, leaving behind a visible trail. \n",
    "            The exhaust can also trigger the formation of cirrus by providing ice nuclei \n",
    "            when there is an insufficient naturally-occurring supply in the atmosphere. \n",
    "            One of the environmental impacts of aviation is that persistent contrails can \n",
    "            form into large mats of cirrus, and increased air traffic has been implicated \n",
    "            as one possible cause of the increasing frequency and amount of cirrus\"\"\"]]\n",
    "answers = fid_reader.apply(question,context)  \n",
    "print(json.dumps(answers, indent=4)) "
   ]
  }
 ],
 "metadata": {
  "kernelspec": {
   "display_name": "Python 3.9.13 ('fid2')",
   "language": "python",
   "name": "python3"
  },
  "language_info": {
   "codemirror_mode": {
    "name": "ipython",
    "version": 3
   },
   "file_extension": ".py",
   "mimetype": "text/x-python",
   "name": "python",
   "nbconvert_exporter": "python",
   "pygments_lexer": "ipython3",
   "version": "3.9.13"
  },
  "orig_nbformat": 4,
  "vscode": {
   "interpreter": {
    "hash": "d46188ad2618180fd7f7eec71970fbf57588098ec0d5b28866320649df1783a0"
   }
  }
 },
 "nbformat": 4,
 "nbformat_minor": 2
}
