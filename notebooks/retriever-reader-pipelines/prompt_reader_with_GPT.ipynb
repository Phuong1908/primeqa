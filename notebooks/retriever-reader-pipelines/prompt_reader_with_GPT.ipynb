{
 "cells": [
  {
   "cell_type": "code",
   "execution_count": 1,
   "metadata": {},
   "outputs": [
    {
     "name": "stdout",
     "output_type": "stream",
     "text": [
      "{\"time\":\"2023-02-13 13:58:34,817\", \"name\": \"faiss.loader\", \"level\": \"INFO\", \"message\": \"Loading faiss with AVX2 support.\"}\n",
      "{\"time\":\"2023-02-13 13:58:35,184\", \"name\": \"faiss.loader\", \"level\": \"INFO\", \"message\": \"Successfully loaded faiss with AVX2 support.\"}\n"
     ]
    }
   ],
   "source": [
    "from primeqa.components.retriever.dense import ColBERTRetriever\n",
    "from primeqa.components.reader.prompt import PromptGPTReader\n",
    "from primeqa.pipelines.qa_pipeline import QAPipeline\n",
    "import json"
   ]
  },
  {
   "cell_type": "code",
   "execution_count": 2,
   "metadata": {},
   "outputs": [
    {
     "name": "stdout",
     "output_type": "stream",
     "text": [
      "[Feb 13, 13:58:45] #> base_config.py from_path /dccstor/colbert-ir/franzm/indexes/oct2_10_11/oct2_10_11_exp/indexes//oct2_10_11_indname/metadata.json\n",
      "[Feb 13, 13:58:45] #> base_config.py from_path args loaded! \n",
      "[Feb 13, 13:58:45] #> base_config.py from_path args replaced ! \n",
      "[Feb 13, 13:58:54] #>>>>> at ColBERT name (model type) : /dccstor/colbert-ir/franzm/experiments/oct2_7_12_1.5e-06/none/2022-10/09/15.21.39/checkpoints/colbert.dnn.batch_91287.model\n",
      "[Feb 13, 13:58:54] #>>>>> at BaseColBERT name (model type) : /dccstor/colbert-ir/franzm/experiments/oct2_7_12_1.5e-06/none/2022-10/09/15.21.39/checkpoints/colbert.dnn.batch_91287.model\n",
      "[Feb 13, 13:59:00] factory model type: xlm-roberta-large\n",
      "[Feb 13, 13:59:14] get query model type: xlm-roberta-large\n",
      "[Feb 13, 13:59:15] get doc model type: xlm-roberta-large\n",
      "[Feb 13, 13:59:52] #> Loading codec...\n",
      "[Feb 13, 13:59:52] #> base_config.py from_path /dccstor/colbert-ir/franzm/indexes/oct2_10_11/oct2_10_11_exp/indexes//oct2_10_11_indname/metadata.json\n",
      "[Feb 13, 13:59:52] #> base_config.py from_path args loaded! \n",
      "[Feb 13, 13:59:52] #> base_config.py from_path args replaced ! \n",
      "[Feb 13, 13:59:52] Loading decompress_residuals_cpp extension (set COLBERT_LOAD_TORCH_EXTENSION_VERBOSE=True for more info)...\n",
      "[Feb 13, 13:59:53] Loading packbits_cpp extension (set COLBERT_LOAD_TORCH_EXTENSION_VERBOSE=True for more info)...\n",
      "[Feb 13, 13:59:54] #> Loading IVF...\n"
     ]
    }
   ],
   "source": [
    "# setup ColBERT index\n",
    "index_root = \"/dccstor/colbert-ir/franzm/indexes/oct2_10_11/oct2_10_11_exp/indexes/\"\n",
    "index_name = \"oct2_10_11_indname\"\n",
    "collection = \"/dccstor/avi7/neural_ir/colbert/data/psgs_w100.tsv\"\n",
    "\n",
    "\n",
    "retriever = ColBERTRetriever(index_root = index_root, \n",
    "                                     index_name = index_name, \n",
    "                                     collection = collection, \n",
    "                                     max_num_documents = 3)\n",
    "retriever.load()"
   ]
  },
  {
   "cell_type": "code",
   "execution_count": 3,
   "metadata": {},
   "outputs": [],
   "source": [
    "# setup a Prompt Reader: here we use a GPT reader\n",
    "reader = PromptGPTReader(api_key='API KEY HERE')\n",
    "reader.load()"
   ]
  },
  {
   "cell_type": "code",
   "execution_count": 4,
   "metadata": {},
   "outputs": [
    {
     "name": "stderr",
     "output_type": "stream",
     "text": [
      "21015325it [01:06, 317140.50it/s]\n"
     ]
    }
   ],
   "source": [
    "# setup the pipeline\n",
    "pipeline = QAPipeline(retriever, reader)"
   ]
  },
  {
   "cell_type": "code",
   "execution_count": 5,
   "metadata": {},
   "outputs": [
    {
     "name": "stdout",
     "output_type": "stream",
     "text": [
      "[\n",
      "    {\n",
      "        \"example_id\": 0,\n",
      "        \"text\": \"\\n\\nAnswer: There were 22 teams that participated in the 2017 Tour de France, representing a total of 29 countries.\"\n",
      "    }\n",
      "]\n"
     ]
    }
   ],
   "source": [
    "# start asking questions without retriever\n",
    "questions = [\"number of participating countries in tour de france 2017 ?\"]\n",
    "answers = pipeline.run(questions, use_retriever=False)\n",
    "print(json.dumps(answers, indent=4))"
   ]
  },
  {
   "cell_type": "code",
   "execution_count": 7,
   "metadata": {},
   "outputs": [
    {
     "name": "stderr",
     "output_type": "stream",
     "text": [
      "100%|███████████████████████████████████████████████████████████████████████████████████████████████████████████████████████████████████████| 1/1 [00:00<00:00, 79.38it/s]\n"
     ]
    },
    {
     "name": "stdout",
     "output_type": "stream",
     "text": [
      "[\n",
      "    {\n",
      "        \"example_id\": 0,\n",
      "        \"text\": \"\\n\\nAnswer: 32 countries\",\n",
      "        \"passages\": [\n",
      "            \"\\\"2017 Tour de France\\\"\\n \\\"de France. The total number of riders that finished the race was 167. The riders came from 32 countries. Six countries had more than 10 riders in the race: France (39), Italy (18), Belgium (16), Germany (16), the Netherlands (15), and Spain (13). The average age of riders in the race was 29.4 years, ranging from the 22-year-old \\u00c9lie Gesbert () to the 40-year-old Haimar Zubeldia (). had the youngest average age while had the oldest. The teams entering the race were: In the lead up to the 2017 Tour de France, Chris Froome () was seen by many pundits\\\"\",\n",
      "            \"\\\"2018 Tour de France\\\"\\n \\\"reduced the number of riders per team for Grand Tours from 9 to 8, resulting in a start list total of 176, instead of the usual 198. Of these, 35 competed in their first Tour de France. The total number of riders that finished the race was 145. The riders came from 30 countries. Seven countries had more than 10 riders in the race: France (35), Belgium (19), the Netherlands (13), Italy (13), Australia (11), Germany (11) and Spain (11). The average age of riders in the race was 29.37 years, ranging from the 21-year-old Egan Bernal () to the\\\"\",\n",
      "            \"\\\"2016 Tour de France\\\"\\n \\\"were competing in their first Tour de France. The total number of riders that finished the race was 174, beating the previous record of 170 set in 2010 Tour. The riders came from 35 countries; France, Spain, the Netherlands, Belgium, Italy and Germany all had 10 or more riders in the race. Riders from ten countries won stages during the race; British riders won the largest number of stages, with seven. The average age of riders in the race was 30 years, ranging from the 22-year-old Sondre Holst Enger () to the 42-year-old Matteo Tosatto (). Of the total average\\\"\"\n",
      "        ]\n",
      "    }\n",
      "]\n"
     ]
    }
   ],
   "source": [
    "# start asking questions with retriever\n",
    "questions = [\"number of participating countries in tour de france 2017 ?\"]\n",
    "prompt_prefix = \"Answer the following question after looking at the text.\"\n",
    "answers = pipeline.run(questions, prefix=prompt_prefix, use_retriever=True)\n",
    "print(json.dumps(answers, indent=4))"
   ]
  },
  {
   "cell_type": "code",
   "execution_count": 8,
   "metadata": {},
   "outputs": [
    {
     "name": "stdout",
     "output_type": "stream",
     "text": [
      "[\n",
      "    {\n",
      "        \"example_id\": 0,\n",
      "        \"text\": \"\\n\\nThere are three area codes in New Hampshire: 603, 617, and 857.\"\n",
      "    }\n",
      "]\n"
     ]
    }
   ],
   "source": [
    "# start asking questions without retreiver\n",
    "questions = [\"How many area codes are in New Hampshire ?\"]\n",
    "answers = pipeline.run(questions, use_retriever=False)\n",
    "print(json.dumps(answers, indent=4))"
   ]
  },
  {
   "cell_type": "code",
   "execution_count": 9,
   "metadata": {},
   "outputs": [
    {
     "name": "stderr",
     "output_type": "stream",
     "text": [
      "100%|███████████████████████████████████████████████████████████████████████████████████████████████████████████████████████████████████████| 1/1 [00:00<00:00, 18.56it/s]\n"
     ]
    },
    {
     "name": "stdout",
     "output_type": "stream",
     "text": [
      "[\n",
      "    {\n",
      "        \"example_id\": 0,\n",
      "        \"text\": \"\\n\\nAnswer: One\",\n",
      "        \"passages\": [\n",
      "            \"\\\"Area code 603\\\"\\n \\\"previously allocated telephone numbers, as well as number pooling, the exhaustion time frame has been moved beyond 2025. Since New Hampshire has only one area code, callers in the state can reach any other telephone within the 603 area code with 7-digit dialing. Area code 603 Area code 603 is the sole area code for the U.S. state of New Hampshire in the North American Numbering Plan (NANP). It was created as one of the original 86 numbering plan areas in October 1947. As of April 2011, the 603 code was nearing exhaustion and a second area code for New\\\"\",\n",
      "            \"\\\"Area code 603\\\"\\n \\\"Area code 603 Area code 603 is the sole area code for the U.S. state of New Hampshire in the North American Numbering Plan (NANP). It was created as one of the original 86 numbering plan areas in October 1947. As of April 2011, the 603 code was nearing exhaustion and a second area code for New Hampshire was expected to be activated by 2013. Rather than a split, the New Hampshire Public Utilities Commission recommended that it be implemented as a statewide overlay. However, because of a change in allocation policies and a reclamation of a large block of\\\"\",\n",
      "            \"\\\"New Hampshire Lottery\\\"\\n \\\"to avoid violating US anti-lottery statutes. Tickets were sold mostly in New Hampshire's liquor stores. In September 2018, the New Hampshire Lottery offered online lottery products for the first time. All of New Hampshire's draw games are shared with other lotteries, with the exception of Keno. New Hampshire's version of lottery keno, called \\\"\\\"Keno 603\\\"\\\" (the state's area code) launched on December 15, 2017. These games are always drawn in New Hampshire: Pick 3 and Pick 4 are numbers games played twice daily, including Sundays. Prizes and options vary. The original Megabucks, a \\\"\\\"classic\\\"\\\" six-number game, began in 1985. Megabucks\\\"\"\n",
      "        ]\n",
      "    }\n",
      "]\n"
     ]
    }
   ],
   "source": [
    "# start asking questions with retreived passages\n",
    "questions = [\"How many area codes are in New Hampshire ?\"]\n",
    "prompt_prefix = \"Answer the following question after looking at the text.\"\n",
    "answers = pipeline.run(questions, prefix=prompt_prefix, use_retriever=True)\n",
    "print(json.dumps(answers, indent=4))"
   ]
  },
  {
   "cell_type": "code",
   "execution_count": null,
   "metadata": {},
   "outputs": [],
   "source": []
  }
 ],
 "metadata": {
  "kernelspec": {
   "display_name": "Python 3 (ipykernel)",
   "language": "python",
   "name": "python3"
  },
  "language_info": {
   "codemirror_mode": {
    "name": "ipython",
    "version": 3
   },
   "file_extension": ".py",
   "mimetype": "text/x-python",
   "name": "python",
   "nbconvert_exporter": "python",
   "pygments_lexer": "ipython3",
   "version": "3.9.16"
  },
  "vscode": {
   "interpreter": {
    "hash": "c5d039775dffd761dc362a240b88aab365529f2df8e87d6e6e9eecd3e8d89fd4"
   }
  }
 },
 "nbformat": 4,
 "nbformat_minor": 2
}
