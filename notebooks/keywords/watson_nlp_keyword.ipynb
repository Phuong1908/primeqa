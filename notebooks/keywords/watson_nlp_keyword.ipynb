{
 "cells": [
  {
   "cell_type": "code",
   "execution_count": 1,
   "metadata": {},
   "outputs": [
    {
     "name": "stderr",
     "output_type": "stream",
     "text": [
      "/dccstor/srosent1/miniconda3/envs/primeqa4.24/lib/python3.9/site-packages/tensorflow_hub/__init__.py:74: DeprecationWarning: distutils Version classes are deprecated. Use packaging.version instead.\n",
      "  if (distutils.version.LooseVersion(tf.__version__) <\n",
      "/dccstor/srosent1/miniconda3/envs/primeqa4.24/lib/python3.9/site-packages/tensorflow_hub/__init__.py:75: DeprecationWarning: distutils Version classes are deprecated. Use packaging.version instead.\n",
      "  distutils.version.LooseVersion(required_tensorflow_version)):\n"
     ]
    }
   ],
   "source": [
    "import watson_nlp\n",
    "from watson_nlp import data_model as dm"
   ]
  },
  {
   "cell_type": "code",
   "execution_count": 17,
   "metadata": {},
   "outputs": [],
   "source": [
    "generated_text = 'reducing biomass burning emissions causes negative global radiative forcing due to ozone and aerosols; however, regional differences need to be considered when evaluating controls on biomass burning to mitigate global climate change., Biomass burning is one of the largest sources of trace gases and aerosols to the atmosphere and has profound influence on tropospheric oxidants and radiative forcing. Using a fully coupled chemistry-climate model (GFDL AM3), we find that co-emission of trace gases and aerosol from present-day biomass burning increases the global tropospheric ozone burden by 5.1% and decreases global mean OH by 6.3%. Gas and aerosol emissions combine to increase CH4 lifetime nonlinearly. Heterogeneous processes are shown to contribute partly to the observed lower O3/CO ratios in northern high latitudes versus tropical regions. The radiative forcing from biomass burning is shown to vary nonlinearly with biomass burning strength.'"
   ]
  },
  {
   "cell_type": "code",
   "execution_count": 9,
   "metadata": {},
   "outputs": [],
   "source": [
    "# %run \"../../Assets/magics/set_model_download_path_magic.py\"\n",
    "parent_dir=\"/dccstor/srosent2/watson_nlp\"\n",
    "username=\"sjrosenthal@us.ibm.com\"\n",
    "password=\"\""
   ]
  },
  {
   "cell_type": "code",
   "execution_count": 10,
   "metadata": {},
   "outputs": [],
   "source": [
    "# Download embedding model and initialize\n",
    "use_model_type = \"embedding_use_en_stock\"\n",
    "use_model = watson_nlp.load(watson_nlp.download(use_model_type, parent_dir=parent_dir, username=username,password=password))"
   ]
  },
  {
   "cell_type": "code",
   "execution_count": 7,
   "metadata": {},
   "outputs": [],
   "source": [
    "\n",
    "# Create a dummy SyntaxPrediction object\n",
    "syntax_analysis = dm.SyntaxPrediction(text=text)\n",
    "\n",
    "# Get document embeddings\n",
    "doc_embeddings = use_model.run(syntax_analysis, doc_embed_style='raw_text')"
   ]
  },
  {
   "cell_type": "code",
   "execution_count": 11,
   "metadata": {},
   "outputs": [],
   "source": [
    "# Load noun phrases model in WatsonNLP\n",
    "noun_phrases_model = watson_nlp.load(watson_nlp.download('noun-phrases_rbr_en_stock', parent_dir=parent_dir, username=username,password=password))\n",
    "\n",
    "# Run noun phrases model in WatsonNLP\n",
    "noun_phrases = noun_phrases_model.run(text)\n",
    "\n",
    "# Get embeddings for noun phrases\n",
    "noun_phrases_analysis = [dm.SyntaxPrediction(text=c.span.text) for c in noun_phrases.noun_phrases]\n",
    "noun_phrase_embeddings = use_model.run_batch(noun_phrases_analysis, doc_embed_style='raw_text')"
   ]
  },
  {
   "cell_type": "code",
   "execution_count": 12,
   "metadata": {},
   "outputs": [],
   "source": [
    "# Load keywords model in WatsonNLP\n",
    "keywords_model = watson_nlp.load(watson_nlp.download('keywords_embed-rank_multi_stock', parent_dir=parent_dir, username=username,password=password))\n",
    "\n",
    "# Run keywords model on the embeddings\n",
    "keywords = keywords_model.run(doc_embeddings, noun_phrases, noun_phrase_embeddings)"
   ]
  },
  {
   "cell_type": "code",
   "execution_count": 13,
   "metadata": {},
   "outputs": [
    {
     "data": {
      "text/plain": [
       "['Biomass burning',\n",
       " 'biomass burning',\n",
       " 'global tropospheric ozone burden',\n",
       " 'biomass',\n",
       " 'present-day biomass',\n",
       " 'aerosol emissions combine',\n",
       " 'negative global radiative forcing',\n",
       " 'global climate change',\n",
       " 'ozone',\n",
       " 'largest sources of trace gases',\n",
       " 'aerosols',\n",
       " 'emissions',\n",
       " 'radiative forcing',\n",
       " 'global mean OH',\n",
       " 'aerosol',\n",
       " 'tropical regions',\n",
       " 'co-emission of trace gases',\n",
       " 'atmosphere',\n",
       " 'northern high latitudes',\n",
       " 'regional differences',\n",
       " 'decreases',\n",
       " 'Gas',\n",
       " 'CO ratios',\n",
       " 'profound influence',\n",
       " 'Heterogeneous processes',\n",
       " 'tropospheric oxidants',\n",
       " 'fully coupled chemistry-climate model',\n",
       " 'GFDL AM',\n",
       " 'controls',\n",
       " 'lifetime',\n",
       " 'CH',\n",
       " 'strength']"
      ]
     },
     "execution_count": 13,
     "metadata": {},
     "output_type": "execute_result"
    }
   ],
   "source": [
    "keywords.get_keyword_texts()"
   ]
  },
  {
   "cell_type": "code",
   "execution_count": 15,
   "metadata": {},
   "outputs": [],
   "source": [
    "passages = []\n",
    "passages.append(generated_text)\n",
    "passages.append(\"Biomass burning is a major source of air pollutants, some of which are also climate forcing agents. We investigate the sensitivity of direct radiative forcing due to tropospheric ozone and aerosols (carbonaceous and sulfate) to a marginal reduction in their (or their precursor) emissions from major biomass burning regions. We find that the largest negative global forcing is for 10% emission reductions in tropical regions, including Africa (−4.1 mWm−2 from gas and −4.1 mWm−2 from aerosols), and South America (−3.0 mWm−2 from gas and −2.8 mWm−2 from aerosols). We estimate that a unit reduction in the amount of biomass burned in India produces the largest negative ozone and aerosol forcing. Our analysis indicates that reducing biomass burning emissions causes negative global radiative forcing due to ozone and aerosols; however, regional differences need to be considered when evaluating controls on biomass burning to mitigate global climate change.\")\n",
    "passages.append(\"Biomass burning is one of the largest sources of trace gases and aerosols to the atmosphere and has profound influence on tropospheric oxidants and radiative forcing. Using a fully coupled chemistry-climate model (GFDL AM3), we find that co-emission of trace gases and aerosol from present-day biomass burning increases the global tropospheric ozone burden by 5.1% and decreases global mean OH by 6.3%. Gas and aerosol emissions combine to increase CH4 lifetime nonlinearly. Heterogeneous processes are shown to contribute partly to the observed lower ΔO3/ΔCO ratios in northern high latitudes versus tropical regions. The radiative forcing from biomass burning is shown to vary nonlinearly with biomass burning strength. At present-day emission levels, biomass burning produces a net radiative forcing of −0.19 W/m2 (−0.29 from short-lived species, mostly aerosol direct and indirect effects, +0.10 from CH4- and CH4-induced changes in O3 and stratospheric H2O) but increases emissions to over 5 times present levels would result in a positive net forcing.\")\n",
    "passages.append(\"This study utilizes the National Oceanic and Atmospheric Administration Geophysical Fluid Dynamics Laboratory three-dimensional global chemical transport model to quantify the impacts of biomass burning on tropospheric concentrations of carbon monoxide (CO), nitrogen oxides (NOx), and ozone (O3). We construct updated global sources that emit 748 Tg CO/yr and 7.8 Tg N/yr in the surface layer. Both sources include six types of biomass: forest, savanna, fuelwood, agricultural residues, domestic crop residues (burned in the home for cooking and/or heating), and dried animal waste. Timing for the burning of forest, savanna, and agricultural residues is based upon regional cultural use of fire, vegetation type, local climate, and information gathered from satellite observations, while emissions from the burning of fuelwood, domestic crop residues, and dried animal waste are constant throughout the year. Based on agreement with observations, particularly of CO, we conclude that the collective uncertainty in our biomass burning sources is much less than the factor of two suggested by previous estimates of biomass burned in the tropics annually. Overall, biomass burning is a major source of CO and NOx in the northern high latitudes during the summer and fall and in the tropics throughout most of the year. While it contributes more than 50% of both the NOx and CO in the boundary layer over major source regions, it has a much larger global impact on the CO distribution in comparison to either NOx or O3, contributing 15 to 30% of the entire tropospheric CO background. The only significant biomass burning contribution to NOx at 500 mbar, due to the short lifetime of NOx in the lower troposphere, is a plume occurring July through October in the Southern Hemisphere subtropical free troposphere, stretching from South America to the western Pacific. The largest impacts on O3 are limited to those regions where NOx impacts are large as well. Near the surface, biomass burning indirectly contributes less than half of the total O3 concentrations over major tropical source regions, up to 15% throughout the year in the tropics, and 10 to 20% throughout the Southern Hemisphere during September through November. At 500 mbar, the largest contribution to O3 (20–30%) is correlated with the NOx plume during July through November. Biomass burning contributes less than 15% of either NOx or O3 in the upper troposphere.\")\n",
    "passages.append(\"Biomass burning substantially contributes to atmospheric aerosol and greenhouse gas emissions that influence climate and air quality. Fire radiative energy (FRE) (units: MJ) has been demonstrated to be linearly related to biomass consumption (units: kg) with potential for improving biomass burning emission estimation. The scalar constant, termed herein as the FRE biomass combustion coefficient (FBCC) (units: kg/MJ), which converts FRE to biomass consumption, has been estimated using field and laboratory experiments, varying from 0.368 to 0.453 kg/MJ. However, quite different FBCC values, especially for satellite-based approaches, have been reported. This study investigated the FBCC with respect to 445 wildfires that occurred from 2011 to 2012 across the Conterminous United States (CONUS) considering both polar-orbiting and geostationary satellite data. The FBCC was derived by comparing satellite FRE estimates with biomass consumption for the CONUS. FRE was estimated using observations from the Moderate Resolution Imaging Spectroradiometer (MODIS) and the Geostationary Operational Environmental Satellite (GOES); biomass consumption was estimated using Landsat-derived burned areas with fuel loadings from the Fuel Characteristic Classification System and using combustion completeness parameterized by Landsat burn severity and Fuel Characteristic Classification System fuelbed type. The reported results confirm the linearity of the empirical relationship between FRE and biomass consumption for wildfires. The CONUS FBCC was 0.374 kg/MJ for GOES FRE, 0.266 kg/MJ for MODIS FRE, and 0.320 kg/MJ considering both GOES and MODIS FRE. Limited sensitivity analyses, comparing MODIS and GOES FRE with biomass consumption estimated in three different ways, indicated that the FBCC varied from 0.301 to 0.458 kg/MJ.\")\n",
    "passages.append(\"As a significant source of trace gases and particulate matter to the atmosphere, biomass burning plays an important role in climate change and atmospheric chemistry at regional and global scales. The burned area is a critical parameter in estimating fire emissions. Recently, multiyear global burned area products with medium spatial resolution (1 km or 500 m) have been released, including the L3JRC product and the Collection 5 Moderate-Resolution Imaging Spectroradiometer (MCD45A1) product. In this study, we compare the spatial distribution and temporal pattern of L3JRC and MCD45A1 burned areas over 7 fire years from 1 April 2000 to 31 March 2007. For these 7 fire years, L3JRC gave global burned areas of 3.89, 4.32, 3.53, 4.43, 3.81, 3.60, and 4.51 million km2, and MCD45A1 gave values of 3.44, 3.33, 3.57, 3.38, 3.52, 3.39, and 3.61 million km2, respectively. The L3JRC product showed persistent burning activity from April to October, whereas the burned area according to MCD45A1 often peaked in August and December at the global scale. For most continents, the L3JRC and MCD45A1 burned areas compared very well during the fire season; however, for the period outside the fire season, L3JRC generally reported a significantly larger burned area than did MCD45A1. The burned areas were examined according to the main vegetation classes given by the GlobCover product. Validation of the L3JRC and MCD45A1 burned areas was performed using data from ground-based measurements in Canada, the United States, Russia, and China. The results showed that MCD45A1 was more comparable to reference data, although it often underestimated in the boreal forests. L3JRC generally exhibited significant overestimation in these areas.\")"
   ]
  },
  {
   "cell_type": "code",
   "execution_count": 16,
   "metadata": {},
   "outputs": [
    {
     "name": "stdout",
     "output_type": "stream",
     "text": [
      "['Biomass burning', 'major biomass', 'biomass', 'amount of biomass', 'negative global radiative forcing', 'largest negative ozone', 'global climate change', 'tropospheric ozone', 'ozone', 'major source of air pollutants', 'aerosols', 'emissions', 'largest negative global forcing', 'climate', 'aerosol', 'tropical regions', 'emission reductions', 'regional differences', 'gas', 'marginal reduction', 'regions', 'unit reduction', 'analysis', 'Africa', 'agents', 'precursor', 'South America', 'sensitivity', 'controls', 'sulfate', 'mWm', 'India']\n",
      "['Biomass burning', 'biomass burning', 'global tropospheric ozone burden', 'biomass', 'present-day biomass', 'aerosol emissions combine', 'aerosols', 'largest sources of trace gases', 'emissions', 'radiative forcing', 'global mean OH', 'present-day emission levels', 'aerosol', 'northern high latitudes', 'tropical regions', 'co-emission of trace gases', 'atmosphere', 'Gas', 'decreases', 'Heterogeneous processes', 'short-lived species', 'profound influence', 'stratospheric H', 'observed lower ΔO', 'indirect effects', '4-induced changes', 'ΔCO ratios', 'tropospheric oxidants', 'fully coupled chemistry-climate model', 'lifetime', 'present levels', 'positive net', 'GFDL AM', 'produces', 'CH', 'strength', 'times', 'net']\n",
      "['Biomass burning', 'biomass burning', 'impacts of biomass', 'only significant biomass', 'biomass', 'types of biomass', 'previous estimates of biomass', 'ozone', 'burning of forest', 'burning of fuelwood', 'much larger global impact', 'regional cultural use of fire', 'global sources', 'emissions', 'lower troposphere', 'tropospheric concentrations of carbon monoxide', 'subtropical free troposphere', 'heating', 'northern high latitudes', 'entire tropospheric CO background', 'satellite observations', 'nitrogen oxides', 'three-dimensional global chemical transport model', 'Atmospheric Administration Geophysical Fluid Dynamics Laboratory', 'local climate', 'surface layer', 'fuelwood', 'major tropical source regions', 'savanna', 'tropics', 'agreement', 'forest', 'contribution', 'CO', 'collective uncertainty', 'regions', 'short lifetime of NOx', 'animal waste', 'agricultural residues', 'western Pacific', 'cooking', 'vegetation type', 'Tg N', 'summer', 'factor', 'October', 'yr', 'mbar', 'South America', 'study']\n",
      "['FRE biomass combustion coefficient', 'biomass consumption', 'Biomass', 'biomass', 'greenhouse gas emissions', 'atmospheric aerosol', 'wildfires', 'combustion completeness', 'radiative energy', 'Landsat burn severity', 'climate', 'emission estimation', 'Geostationary Operational Environmental Satellite', 'air quality', 'satellite FRE estimates', 'geostationary satellite data', 'MODIS', 'scalar constant', 'kg', 'fuel loadings', 'MJ', 'Conterminous United States', 'MODIS FRE', 'CONUS', 'observations', 'laboratory experiments', 'CONUS FBCC', 'areas', 'different ways', 'respect', 'Limited sensitivity analyses', 'Fuel Characteristic Classification System', 'GOES FRE', 'potential', 'Landsat-derived', 'field', 'linearity of the empirical relationship', 'reported results', 'study', 'units', 'Moderate Resolution Imaging Spectroradiometer', 'polar-orbiting', 'fuelbed type', 'satellite-based approaches', 'FRE', 'FBCC', 'different FBCC values', 'GOES']\n",
      "['biomass', 'fire emissions', 'climate change', 'boreal forests', 'atmospheric chemistry', 'multiyear global burned area products', 'significant source of trace gases', 'significantly larger burned area', 'global scale', 'fire years', 'particulate matter', 'burned areas', 'burned area', 'atmosphere', 'fire season', 'global scales', 'significant overestimation', 'important role', 'continents', 'MCD', 'activity', 'United States', 'medium spatial resolution', 'Russia', 'values', 'areas', 'Canada', 'main vegetation classes', 'spatial distribution', 'temporal pattern', 'study', 'km', 'GlobCover product', 'December', 'Moderate-Resolution Imaging Spectroradiometer', 'JRC', 'Collection', 'ground-based measurements', 'results', 'Validation', 'data', 'critical parameter', 'China', 'August', 'period', 'March', 'October', 'April', 'product', 'JRC product']\n"
     ]
    }
   ],
   "source": [
    "\n",
    "for text in passages:\n",
    "    # Run noun phrases model in WatsonNLP\n",
    "    noun_phrases = noun_phrases_model.run(text)\n",
    "\n",
    "    # Get embeddings for noun phrases\n",
    "    noun_phrases_analysis = [dm.SyntaxPrediction(text=c.span.text) for c in noun_phrases.noun_phrases]\n",
    "    noun_phrase_embeddings = use_model.run_batch(noun_phrases_analysis, doc_embed_style='raw_text')\n",
    "    # Run keywords model on the embeddings\n",
    "    keywords = keywords_model.run(doc_embeddings, noun_phrases, noun_phrase_embeddings)\n",
    "    print(keywords)"
   ]
  }
 ],
 "metadata": {
  "kernelspec": {
   "display_name": "primeqa4.24",
   "language": "python",
   "name": "python3"
  },
  "language_info": {
   "codemirror_mode": {
    "name": "ipython",
    "version": 3
   },
   "file_extension": ".py",
   "mimetype": "text/x-python",
   "name": "python",
   "nbconvert_exporter": "python",
   "pygments_lexer": "ipython3",
   "version": "3.9.16"
  },
  "orig_nbformat": 4
 },
 "nbformat": 4,
 "nbformat_minor": 2
}
