{
 "cells": [
  {
   "cell_type": "markdown",
   "metadata": {},
   "source": [
    "# Table Question generation: WikiSQL dataset\n",
    "In this notebook, we will see how to fine-tune and evaluate a question generation model on WikiSQL dataset."
   ]
  },
  {
   "cell_type": "markdown",
   "metadata": {},
   "source": [
    "## Configuration\n",
    "\n",
    "We start by setting some parameters to configure the process.  Note that depending on the GPU being used you may need to tune the batch size."
   ]
  },
  {
   "cell_type": "code",
   "execution_count": 1,
   "metadata": {},
   "outputs": [],
   "source": [
    "model_name_or_path=\"t5-small\"\n",
    "modality=\"table\"\n",
    "dataset_name=\"wikisql\"\n",
    "max_len=200\n",
    "target_max_len=40\n",
    "output_dir=\"../../models/qg/wikisql_nb\"\n",
    "learning_rate=0.0001\n",
    "num_train_epochs=2\n",
    "per_device_train_batch_size=8\n",
    "per_device_eval_batch_size=32\n",
    "evaluation_strategy='epoch'"
   ]
  },
  {
   "cell_type": "code",
   "execution_count": 2,
   "metadata": {},
   "outputs": [],
   "source": [
    "from transformers import Seq2SeqTrainingArguments\n",
    "\n",
    "training_args = Seq2SeqTrainingArguments(\n",
    "    output_dir=output_dir,\n",
    "    overwrite_output_dir=True,\n",
    "    do_train=True,\n",
    "    do_eval=True,\n",
    "    per_device_train_batch_size=per_device_train_batch_size,\n",
    "    per_device_eval_batch_size=per_device_eval_batch_size,\n",
    "    num_train_epochs=num_train_epochs,\n",
    "    evaluation_strategy='epoch',\n",
    "    learning_rate=learning_rate,\n",
    "    prediction_loss_only=True,\n",
    "    remove_unused_columns=False,\n",
    "    )\n",
    "training_args.predict_with_generate=True\n",
    "training_args.remove_unused_columns = False\n",
    "training_args.prediction_loss_only = False"
   ]
  },
  {
   "cell_type": "markdown",
   "metadata": {},
   "source": [
    "---\n",
    "## WikiSQL data\n",
    "Here we load one instance of WikiSQL and visualize it. <font color='red'>This part of the code is not needed to train the model </font>"
   ]
  },
  {
   "cell_type": "code",
   "execution_count": 3,
   "metadata": {},
   "outputs": [
    {
     "name": "stdout",
     "output_type": "stream",
     "text": [
      "Table:\n",
      " +-------------------+-------+---------------+----------------+------------------+---------------------+\n",
      "| Player            |   No. | Nationality   | Position       | Years for Jazz   | School/Club Team    |\n",
      "+===================+=======+===============+================+==================+=====================+\n",
      "| Fred Saunders     |    12 | United States | Forward        | 1977-78          | Syracuse            |\n",
      "+-------------------+-------+---------------+----------------+------------------+---------------------+\n",
      "| Danny Schayes     |    24 | United States | Forward-Center | 1981-83          | Syracuse            |\n",
      "+-------------------+-------+---------------+----------------+------------------+---------------------+\n",
      "| Carey Scurry      |    22 | United States | Forward        | 1985-88          | Long Island         |\n",
      "+-------------------+-------+---------------+----------------+------------------+---------------------+\n",
      "| Robert Smith      |     5 | United States | Guard          | 1979-80          | UNLV                |\n",
      "+-------------------+-------+---------------+----------------+------------------+---------------------+\n",
      "| Kirk Snyder       |     3 | United States | Guard          | 2004-05          | Nevada              |\n",
      "+-------------------+-------+---------------+----------------+------------------+---------------------+\n",
      "| Felton Spencer    |    50 | United States | Center         | 1993-96          | Louisville          |\n",
      "+-------------------+-------+---------------+----------------+------------------+---------------------+\n",
      "| Bud Stallworth    |    15 | United States | Guard-Forward  | 1974-77          | Kansas              |\n",
      "+-------------------+-------+---------------+----------------+------------------+---------------------+\n",
      "| John Starks       |     9 | United States | Shooting guard | 2000-02          | Oklahoma State      |\n",
      "+-------------------+-------+---------------+----------------+------------------+---------------------+\n",
      "| DeShawn Stevenson |     2 | United States | Shooting guard | 2000-04          | Washington Union HS |\n",
      "+-------------------+-------+---------------+----------------+------------------+---------------------+\n",
      "Question =  Which position does John Starks play?\n",
      "SQL =  SELECT Position FROM table WHERE Player = John Starks\n"
     ]
    }
   ],
   "source": [
    "from datasets import load_dataset\n",
    "from tabulate import tabulate\n",
    "\n",
    "def print_wikisql_instance(train_instance):\n",
    "    table = train_instance['table']\n",
    "    print('Table:\\n',tabulate(table['rows'], headers=table['header'], tablefmt='grid'))\n",
    "\n",
    "    print('Question = ',train_instance['question'])\n",
    "    print('SQL = ', train_instance['sql']['human_readable'])\n",
    "\n",
    "train_instance = load_dataset('wikisql', split='train[1001:1002]')\n",
    "print_wikisql_instance(train_instance[0])"
   ]
  },
  {
   "cell_type": "markdown",
   "metadata": {},
   "source": [
    "The SQL gets converted to a string format which goes as input to generator to generate question"
   ]
  },
  {
   "cell_type": "code",
   "execution_count": 4,
   "metadata": {},
   "outputs": [
    {
     "name": "stdout",
     "output_type": "stream",
     "text": [
      "Question =  Which position does John Starks play?\n",
      "\n",
      "Input to generator =  select <<sep>> Position <<sep>> Player <<cond>> equal <<cond>> John Starks <<answer>> shooting guard <<header>> Player <<hsep>> No. <<hsep>> Nationality <<hsep>> Position <<hsep>> Years for Jazz <<hsep>> School/Club Team\n"
     ]
    }
   ],
   "source": [
    "from primeqa.qg.processors.table_qg.sql_processor import SqlProcessor\n",
    "\n",
    "processed_data = SqlProcessor.preprocess_data(train_instance)\n",
    "print('Question = ', processed_data['label'][0])\n",
    "print('\\nInput to generator = ', processed_data['input'][0])"
   ]
  },
  {
   "cell_type": "markdown",
   "metadata": {},
   "source": [
    "---\n",
    "## Loading the Model\n",
    "\n",
    "Here we load the model based on the model_name and modality parameter set above. For WikiSQL we keep modality='table'. Other option is modality='passage'"
   ]
  },
  {
   "cell_type": "code",
   "execution_count": 5,
   "metadata": {},
   "outputs": [],
   "source": [
    "from primeqa.qg.models.qg_model import QGModel\n",
    "\n",
    "qg_model = QGModel(model_name_or_path, modality=modality)"
   ]
  },
  {
   "cell_type": "markdown",
   "metadata": {},
   "source": [
    "# Loading Data\n",
    "\n",
    "Here we load the data"
   ]
  },
  {
   "cell_type": "code",
   "execution_count": 6,
   "metadata": {},
   "outputs": [],
   "source": [
    "from primeqa.qg.processors.data_loader import QGDataLoader\n",
    "\n",
    "qgdl = QGDataLoader(\n",
    "    tokenizer=qg_model.tokenizer,\n",
    "    modality=modality,\n",
    "    dataset_name=dataset_name,\n",
    "    input_max_len=max_len,\n",
    "    target_max_len=target_max_len\n",
    "    )\n",
    "\n",
    "train_dataset = qgdl.create(dataset_split=\"train[:100]\")\n",
    "valid_dataset = qgdl.create(dataset_split=\"validation[:50]\")"
   ]
  },
  {
   "cell_type": "markdown",
   "metadata": {},
   "source": [
    "# Train using QGTrainer\n",
    "Here we create a QG trainer with the training arguments defined above and use it to train on Wikisql training data (or any custom data following the same format)"
   ]
  },
  {
   "cell_type": "code",
   "execution_count": 7,
   "metadata": {},
   "outputs": [
    {
     "name": "stderr",
     "output_type": "stream",
     "text": [
      "***** Running training *****\n",
      "  Num examples = 100\n",
      "  Num Epochs = 2\n",
      "  Instantaneous batch size per device = 8\n",
      "  Total train batch size (w. parallel, distributed & accumulation) = 72\n",
      "  Gradient Accumulation steps = 1\n",
      "  Total optimization steps = 4\n"
     ]
    },
    {
     "data": {
      "text/html": [
       "\n",
       "    <div>\n",
       "      \n",
       "      <progress value='4' max='4' style='width:300px; height:20px; vertical-align: middle;'></progress>\n",
       "      [4/4 00:05, Epoch 2/2]\n",
       "    </div>\n",
       "    <table border=\"1\" class=\"dataframe\">\n",
       "  <thead>\n",
       " <tr style=\"text-align: left;\">\n",
       "      <th>Epoch</th>\n",
       "      <th>Training Loss</th>\n",
       "      <th>Validation Loss</th>\n",
       "      <th>Rouge1</th>\n",
       "      <th>Rouge2</th>\n",
       "      <th>Rougel</th>\n",
       "      <th>Rougelsum</th>\n",
       "    </tr>\n",
       "  </thead>\n",
       "  <tbody>\n",
       "    <tr>\n",
       "      <td>1</td>\n",
       "      <td>No log</td>\n",
       "      <td>4.202608</td>\n",
       "      <td>18.279500</td>\n",
       "      <td>10.361500</td>\n",
       "      <td>17.024400</td>\n",
       "      <td>17.094900</td>\n",
       "    </tr>\n",
       "    <tr>\n",
       "      <td>2</td>\n",
       "      <td>No log</td>\n",
       "      <td>4.054491</td>\n",
       "      <td>18.012100</td>\n",
       "      <td>9.780500</td>\n",
       "      <td>16.538800</td>\n",
       "      <td>16.710400</td>\n",
       "    </tr>\n",
       "  </tbody>\n",
       "</table><p>"
      ],
      "text/plain": [
       "<IPython.core.display.HTML object>"
      ]
     },
     "metadata": {},
     "output_type": "display_data"
    },
    {
     "name": "stderr",
     "output_type": "stream",
     "text": [
      "***** Running Evaluation *****\n",
      "  Num examples = 50\n",
      "  Batch size = 288\n",
      "***** Running Evaluation *****\n",
      "  Num examples = 50\n",
      "  Batch size = 288\n",
      "\n",
      "\n",
      "Training completed. Do not forget to share your model on huggingface.co/models =)\n"
     ]
    },
    {
     "name": "stdout",
     "output_type": "stream",
     "text": [
      "{'train_runtime': 48.8531, 'train_samples_per_second': 4.094, 'train_steps_per_second': 0.082, 'total_flos': 10573578240000.0, 'train_loss': 4.659993648529053, 'epoch': 2.0}\n"
     ]
    }
   ],
   "source": [
    "from primeqa.qg.trainers.qg_trainer import QGTrainer\n",
    "from primeqa.qg.metrics.generation_metrics import rouge_metrics\n",
    "from primeqa.qg.utils.data_collator import T2TDataCollator\n",
    "import os\n",
    "\n",
    "compute_metrics = rouge_metrics(qg_model.tokenizer)\n",
    "\n",
    "trainer = QGTrainer(\n",
    "    model=qg_model.model,\n",
    "    tokenizer = qg_model.tokenizer,\n",
    "    args=training_args,\n",
    "    train_dataset=train_dataset,\n",
    "    eval_dataset=valid_dataset,\n",
    "    data_collator=T2TDataCollator(),\n",
    "    compute_metrics=compute_metrics\n",
    "    )\n",
    "\n",
    "train_results = trainer.train()\n",
    "trainer.save_model()\n",
    "print(train_results.metrics)"
   ]
  },
  {
   "cell_type": "markdown",
   "metadata": {},
   "source": [
    "## Evaluation\n",
    "\n",
    "Here we evaluate the trained model on validation set"
   ]
  },
  {
   "cell_type": "code",
   "execution_count": 8,
   "metadata": {},
   "outputs": [
    {
     "name": "stderr",
     "output_type": "stream",
     "text": [
      "***** Running Evaluation *****\n",
      "  Num examples = 50\n",
      "  Batch size = 288\n"
     ]
    },
    {
     "data": {
      "text/html": [
       "\n",
       "    <div>\n",
       "      \n",
       "      <progress value='1' max='1' style='width:300px; height:20px; vertical-align: middle;'></progress>\n",
       "      [1/1 : < :]\n",
       "    </div>\n",
       "    "
      ],
      "text/plain": [
       "<IPython.core.display.HTML object>"
      ]
     },
     "metadata": {},
     "output_type": "display_data"
    },
    {
     "name": "stdout",
     "output_type": "stream",
     "text": [
      "{'eval_loss': 4.05449104309082, 'eval_rouge1': 18.0121, 'eval_rouge2': 9.7805, 'eval_rougeL': 16.5388, 'eval_rougeLsum': 16.7104, 'eval_runtime': 1.1546, 'eval_samples_per_second': 43.304, 'eval_steps_per_second': 0.866, 'epoch': 2.0}\n"
     ]
    }
   ],
   "source": [
    "metrics = trainer.evaluate()\n",
    "print(metrics)"
   ]
  }
 ],
 "metadata": {
  "kernelspec": {
   "display_name": "Python 3.9.13 ('primeqa')",
   "language": "python",
   "name": "python3"
  },
  "language_info": {
   "codemirror_mode": {
    "name": "ipython",
    "version": 3
   },
   "file_extension": ".py",
   "mimetype": "text/x-python",
   "name": "python",
   "nbconvert_exporter": "python",
   "pygments_lexer": "ipython3",
   "version": "3.9.13"
  },
  "vscode": {
   "interpreter": {
    "hash": "32a39a98a102ae44422c1f7681e7af5e8c3b16734582d14c2fb0296dae7628d1"
   }
  }
 },
 "nbformat": 4,
 "nbformat_minor": 2
}
