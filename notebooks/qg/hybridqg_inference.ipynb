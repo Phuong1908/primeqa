{
 "cells": [
  {
   "cell_type": "markdown",
   "id": "489bc0df",
   "metadata": {},
   "source": [
    "# Multihop Hybrid (Table + text) Question Generation: Inference example\n",
    "\n",
    "In this notebook, we will show how to use a pretrained HybridQG model to generate questions. We first sample hybrid chains from a given table and its linked passages, and then use a text-to-text transformer (T5) to transcribe the chains to a natural language question. "
   ]
  },
  {
   "cell_type": "markdown",
   "id": "4bbe1173",
   "metadata": {},
   "source": [
    "## Dependencies\n",
    "\n",
    "If not already done, make sure to install PrimeQA with notebooks extras before getting started."
   ]
  },
  {
   "cell_type": "code",
   "execution_count": 1,
   "id": "815cec1c",
   "metadata": {},
   "outputs": [
    {
     "data": {
      "application/vnd.jupyter.widget-view+json": {
       "model_id": "efe59a28cb3e4464a69c0b5a2f327da2",
       "version_major": 2,
       "version_minor": 0
      },
      "text/plain": [
       "Downloading https://raw.githubusercontent.com/stanfordnlp/stanza-resources/main/resources_1.4.0.json:   0%|   …"
      ]
     },
     "metadata": {},
     "output_type": "display_data"
    },
    {
     "name": "stdout",
     "output_type": "stream",
     "text": [
      "{\"time\":\"2023-01-17 06:05:55,867\", \"name\": \"stanza\", \"level\": \"INFO\", \"message\": \"Downloading default packages for language: multilingual (multilingual)...\"}\n"
     ]
    },
    {
     "data": {
      "application/vnd.jupyter.widget-view+json": {
       "model_id": "48e339b0aa5b44a992f364558f767d4b",
       "version_major": 2,
       "version_minor": 0
      },
      "text/plain": [
       "Downloading https://huggingface.co/stanfordnlp/stanza-multilingual/resolve/v1.4.0/models/default.zip:   0%|   …"
      ]
     },
     "metadata": {},
     "output_type": "display_data"
    },
    {
     "name": "stdout",
     "output_type": "stream",
     "text": [
      "{\"time\":\"2023-01-17 06:05:56,802\", \"name\": \"stanza\", \"level\": \"INFO\", \"message\": \"Finished downloading models and saved to /u/rbhat/stanza_resources.\"}\n"
     ]
    }
   ],
   "source": [
    "from primeqa.qg.models.qg_model import QGModel\n",
    "from primeqa.qg.models.hybrid_qg.path_sampler import PathSampler"
   ]
  },
  {
   "cell_type": "markdown",
   "id": "b9f309b8",
   "metadata": {},
   "source": [
    "## Loading pretrained model from huggingface\n",
    "\n",
    "This model was trained using PrimeQA library and uploaded to huggingface."
   ]
  },
  {
   "cell_type": "code",
   "execution_count": 2,
   "id": "2a3c5377",
   "metadata": {},
   "outputs": [],
   "source": [
    "#model_name = 'PrimeQA/t5-base-table-question-generator'\n",
    "model_name = 'PrimeQA/t5-base-hybrid-question-generator'\n",
    "hybrid_qg_model = QGModel(model_name, modality='hybrid', lang='en')"
   ]
  },
  {
   "cell_type": "markdown",
   "id": "984e88f0",
   "metadata": {},
   "source": [
    "<br>\n",
    "\n",
    "## Sample table\n",
    "\n",
    "Hybrid context should be passed as a `list` of `tuples`. Each `tuple` will correspond to a table (as a `dict` with keys `\"header\"` and `\"rows\"`) and linked passages (as a `dict`)."
   ]
  },
  {
   "cell_type": "code",
   "execution_count": null,
   "id": "80b02adb",
   "metadata": {},
   "outputs": [],
   "source": [
    "import json\n",
    "\n",
    "\n",
    "table = {\n",
    "    'header': [['Year', []], ['Title', []], ['Role', []]], \n",
    "    'data': [[['1986', []], ['Impure Thoughts', ['/wiki/Impure_Thoughts']], ['Patty Stubbs', []]], \n",
    "            [['1988', []], ['My Stepmother Is an Alien', ['/wiki/My_Stepmother_Is_an_Alien']], ['Jessie Mills', []]], \n",
    "            [['1998', []], ['Dead Man on Campus', ['/wiki/Dead_Man_on_Campus']], ['Lucy', []]], \n",
    "            [['1999', []], ['American Pie', ['/wiki/American_Pie_(film)']], ['Michelle Flaherty', ['/wiki/Michelle_Flaherty']]], \n",
    "            [['2000', []], ['Boys and Girls', ['/wiki/Boys_and_Girls_(2000_film)']], ['Betty', []]], \n",
    "            [['2001', []], ['American Pie 2', ['/wiki/American_Pie_2']], ['Michelle Flaherty', []]], \n",
    "            [['2001', []], ['Beyond the City Limits', []], ['Lexi', []]], \n",
    "            [['2003', []], ['American Wedding', ['/wiki/American_Wedding']], ['Michelle Flaherty', []]], \n",
    "            [['2006', []], ['Date Movie', ['/wiki/Date_Movie']], ['Julia Jones', []]], \n",
    "            [['2006', []], ['Farce of the Penguins', ['/wiki/Farce_of_the_Penguins']], ['Hottie Penguin', []]], \n",
    "            [['2011', []], ['Love , Wedding , Marriage', ['/wiki/Love,_Wedding,_Marriage']], ['Courtney', []]], \n",
    "            [['2012', []], ['American Reunion', ['/wiki/American_Reunion']], ['Michelle Levenstein', []]], \n",
    "            [['2016', []], ['Do You Take This Man', []], ['Rachael', []]], \n",
    "            [['2018', []], ['You Might Be the Killer', ['/wiki/You_Might_Be_the_Killer']], ['Chuck', []]], \n",
    "            [['2020', []], ['Flora & Ulysses', ['/wiki/Flora_&_Ulysses_(film)']], ['Phyllis Buckman', []]]], \n",
    "    'title': 'Alyson Hannigan', 'section_title': 'Filmography -- Film', 'uid': 'abcdID123'\n",
    "    }\n",
    "passages = {'/wiki/Impure_Thoughts': \"Impure Thoughts is a 1986 American comedy film . The film was directed by Michael A. Simpson . It marked Alyson Hannigan 's feature film debut .\", \n",
    "            '/wiki/My_Stepmother_Is_an_Alien': \"My Stepmother Is an Alien is a 1988 American comic science fiction film directed by Richard Benjamin . The film stars Kim Basinger as Celeste , an extraterrestrial woman sent on a secret mission to Earth , after her home planet 's gravity is mistakenly disrupted by Steven Mills ( Dan Aykroyd ) , a widowed scientist raising his daughter Jessie ( Alyson Hannigan ) as a single father . The film 's screenplay was written by Herschel Weingrod , Timothy Harris and Jonathan Reynolds , based on an earlier script by Jericho Stone , who originally pitched the film to Paramount Pictures as a drama which would serve as an allegory about child abuse . When Paramount optioned the story , they suggested that it would be more believable as a comedy . The film was unproduced for four years until Weintraub Entertainment Group put it into production in 1988 . My Stepmother Is an Alien was a box-office bomb , grossing $ 13.8 million against a $ 19 million budget . The film also received negative reviews from critics , with most of the responses panning the film 's humor and screenplay . Although , Basinger and costar Jon Lovitz generally received favorable reviews for their comedic performances . In the New York Times review , Aykroyd was singled out for criticism in his performance as a romantic lead .\", \n",
    "            '/wiki/Dead_Man_on_Campus': \"Dead Man on Campus is a 1998 black comedy film starring Mark-Paul Gosselaar and Tom Everett Scott . It centers on the urban legend that a student gets straight As if their roommate commits suicide ( see pass by catastrophe ) . Two failing friends attempt to find a depressed roommate to push him over the edge and receive As . To boost ticket sales , the film 's U.S. release was timed with the start of the new college school year in late August 1998 . It was the first film by MTV Films to have an R rating . The film was shot at University of the Pacific in Stockton , California .\", \n",
    "            '/wiki/American_Pie_(film)': \"American Pie is a 1999 American teen sex comedy film written by Adam Herz and directed by brothers Paul and Chris Weitz , in their directorial film debut . It is the first film in the American Pie theatrical series . The film was a box-office hit and spawned three direct sequels : American Pie 2 ( 2001 ) , American Wedding ( 2003 ) , and American Reunion ( 2012 ) . The film concentrates on five best friends ( Jim , Kevin , Oz , Finch , and Stifler ) who attend East Great Falls High . With the exception of Stifler ( who has already lost his virginity ) , the guys make a pact to lose their virginity before their high school graduation . The title is borrowed from the song of the same name and refers to a scene in the film , in which the protagonist is caught masturbating with a pie after being told that third base feels like warm apple pie . Writer Adam Herz has stated that the title also refers to the quest of losing one 's virginity in high school , which is as American as apple pie . In addition to the primary American Pie saga , there are four direct-to-DVD spin-off films bearing the title American Pie Presents : Band Camp ( 2005 ) , The Naked Mile ( 2006 ) , Beta House ( 2007 ) , and The Book of Love ( 2009 ) . In response to the success of American Reunion , a fifth theatrical film , under the working title American Pie 5 was announced on August 4 , 2012 . In August 2017 , Seann William Scott said in an interview that the fourth film probably had not made enough at the domestic box office to warrant another film .\", \n",
    "            '/wiki/Michelle_Flaherty': 'This is a list of characters from the film series American Pie consisting of American Pie ( 1999 ) , American Pie 2 ( 2001 ) , American Wedding ( 2003 ) , American Pie Presents : Band Camp ( 2005 ) , American Pie Presents : The Naked Mile ( 2006 ) , American Pie Presents : Beta House ( 2007 ) , American Pie Presents : The Book of Love ( 2009 ) , and American Reunion ( 2012 ) . Only one character , Noah Levenstein played by Eugene Levy , has appeared in all eight released films . Biggs , Hannigan , Scott , Nicholas , Thomas , Coolidge , Cho , Isfield , Cheek , and Owen all play their characters in four films each ; other characters appear in fewer films .', \n",
    "            '/wiki/Boys_and_Girls_(2000_film)': 'Boys and Girls is a 2000 American comedy film directed by Robert Iscove . The two main characters , Ryan ( played by Freddie Prinze , Jr. ) and Jennifer ( Claire Forlani ) , meet each other initially as adolescents , and later realize that their lives are intertwined through fate .', \n",
    "            '/wiki/American_Pie_2': 'American Pie 2 is a 2001 American sex comedy film directed by James B. Rogers and written by Adam Herz and David H. Steinberg from a story by Herz . A sequel to the 1999 comedy film American Pie , it the second film in the American Pie series and stars Jason Biggs , Shannon Elizabeth , Alyson Hannigan , Chris Klein , Natasha Lyonne , Thomas Ian Nicholas , Tara Reid , Seann William Scott , Mena Suvari , Eddie Kaye Thomas , and Eugene Levy . The film follows the sexual exploits of five friends - Jim Levenstein , Kevin Myers , Steve Stifler , Oz Ostreicher , and Paul Finch - and their attempts to have the greatest summer party ever , at a summer beach house in Grand Haven , Michigan . American Pie 2 was released in the United States on August 10 , 2001 , and grossed over $ 145 million in the US and $ 142 million overseas on a budget of $ 30 million , making it highest grossing film in the franchise at just under $ 288 million worldwide . The film was followed by American Wedding .', \n",
    "            '/wiki/American_Wedding': \"American Wedding ( known as American Pie 3 : The Wedding or American Pie : The Wedding , in some countries ) is a 2003 American sex comedy film and a sequel to American Pie and American Pie 2 . It is the third ( originally intended final ) installment in the American Pie theatrical series . It was written by Adam Herz and directed by Jesse Dylan . Another sequel , American Reunion , was released nine years later . This also stands as the last film in the series to be written by Herz , who conceptualized the franchise . Though the film mainly focuses on the union of Jim Levenstein and Michelle Flaherty , for the first time in the series , the story centers on Steve Stifler , and his outrageous antics including his attempt to organize a bachelor party , teaching Jim to dance for the wedding , and competing with Finch to win the heart of Michelle 's sister , Cadence .\", \n",
    "            '/wiki/Date_Movie': \"Date Movie is a 2006 American parody romantic comedy film written and directed by Jason Friedberg and Aaron Seltzer . The film was released on February 17 , 2006 by 20th Century Fox . A parody of the romantic comedy genre , much of the story line is based on My Big Fat Greek Wedding , Meet the Fockers , Hitch , Legally Blonde , and Bridget Jones 's Diary . It stars Alyson Hannigan , Adam Campbell , Sophie Monk , Tony Cox , Jennifer Coolidge , Eddie Griffin , and Fred Willard . The film was panned by critics and has a 7% rating on Rotten Tomatoes , but was a box office success .\", \n",
    "            '/wiki/Farce_of_the_Penguins': \"Farce of the Penguins is a 2007 American direct-to-video parody directed by Bob Saget . It is a parody of the 2005 French feature-length nature documentary March of the Penguins , directed and co written by Luc Jacquet . The film features Samuel L. Jackson as narrator , with the two main characters voiced by Bob Saget and Lewis Black . Five of Saget 's former Full House co stars also lent their voices to the film . Additional voices were provided by Tracy Morgan , Christina Applegate , James Belushi , Whoopi Goldberg , Dane Cook , Abe Vigoda , Mo'Nique , and others .\", \n",
    "            '/wiki/Love,_Wedding,_Marriage': 'Love , Wedding , Marriage is a 2011 American romantic comedy film directed by Dermot Mulroney and starring Mandy Moore , Kellan Lutz , James Brolin , Jane Seymour and Christopher Lloyd .', \n",
    "            '/wiki/American_Reunion': 'American Reunion ( also known as American Pie 4 : Reunion or American Pie : Reunion in certain countries ) is a 2012 American ensemble sex comedy film written and directed by Jon Hurwitz and Hayden Schlossberg . It is the fourth installment in the American Pie theatrical series . The film received mixed reviews from critics , and grossed $ 250 million worldwide .', \n",
    "            '/wiki/You_Might_Be_the_Killer': 'You Might Be the Killer is a 2018 American meta supernatural slasher film directed by Brett Simmons and written by Covis Berzoyne , Thomas P. Vitale , and Simmons , based on an idea by Chuck Wendig and Sam Sykes . The film stars Fran Kranz and Alyson Hannigan , and features Brittany S. Hall , Patrick Reginald Walker , Keith David , and Bryan Price in supporting roles .', \n",
    "            '/wiki/Flora_&_Ulysses_(film)': \"Flora & Ulysses is an upcoming family film based on the children 's novel of the same name by Kate DiCamillo that is set to debut on Disney+ . The film is directed by Lena Khan , produced by Gil Netter from a screenplay written by Brad Copeland and stars Matilda Lawler , Alyson Hannigan , Ben Schwartz , Benjamin Evan Ainsworth and Danny Pudi .\"\n",
    "           }\n",
    "\n",
    "# print wraped passages\n",
    "print(json.dumps(passages, indent=4))\n",
    "                      \n",
    "data_list = [(table, passages)]\n",
    "# [optional] include an id_list aligned with table_list\n",
    "id_list = [\"abcID123\"]\n"
   ]
  },
  {
   "cell_type": "markdown",
   "id": "02bf93d1",
   "metadata": {},
   "source": [
    "## Sample Hybrid Chains from the input context"
   ]
  },
  {
   "cell_type": "code",
   "execution_count": 12,
   "id": "77b7be20",
   "metadata": {},
   "outputs": [
    {
     "name": "stdout",
     "output_type": "stream",
     "text": [
      "['american pie 2  <<answer>>  american wedding ( known as american pie 3 : the wedding or american pie : the wedding , in some countries ) is a 2003 american sex comedy film and a sequel to american pie and american pie 2 . <<hsep>> the year is 2003 . <<hsep>> the title is american wedding . <<header>> alyson hannigan <<header>> filmography -- film', 'michelle levenstein  <<answer>>  the role is michelle levenstein . <<hsep>> the title is american reunion . <<hsep>> american reunion ( also known as american pie 4 : reunion or american pie : reunion in certain countries ) is a 2012 american ensemble sex comedy film written and directed by jon hurwitz and hayden schlossberg . <<header>> alyson hannigan <<header>> filmography -- film', 'hayden schlossberg  <<answer>>  american reunion ( also known as american pie 4 : reunion or american pie : reunion in certain countries ) is a 2012 american ensemble sex comedy film written and directed by jon hurwitz and hayden schlossberg . <<hsep>> the year is 2012 . <<hsep>> the title is american reunion . <<header>> alyson hannigan <<header>> filmography -- film', 'american wedding  <<answer>>  american wedding ( known as american pie 3 : the wedding or american pie : the wedding , in some countries ) is a 2003 american sex comedy film and a sequel to american pie and american pie 2 . <<hsep>> the year is 2003 . <<hsep>> the title is american wedding . <<header>> alyson hannigan <<header>> filmography -- film', 'american pie  <<answer>>  american wedding ( known as american pie 3 : the wedding or american pie : the wedding , in some countries ) is a 2003 american sex comedy film and a sequel to american pie and american pie 2 . <<hsep>> the year is 2003 . <<hsep>> the title is american wedding . <<header>> alyson hannigan <<header>> filmography -- film']\n"
     ]
    }
   ],
   "source": [
    "sampler = PathSampler('en')\n",
    "chains, answers, *_ = sampler.create_qg_input(data_list)\n",
    "print(chains)"
   ]
  },
  {
   "cell_type": "markdown",
   "id": "b002086c",
   "metadata": {},
   "source": [
    "## Generate questions\n",
    "\n",
    "There are some arguments to control the type of questions generated.\n",
    "#### Controls:\n",
    "- `num_questions_per_instance`: Number of questions to generate per table with linked passages (default=5).\n",
    "- `hallucination_prop`: Tolerance proportion for hallucinated words per entity. It should be a float, 0 means no tolerance for hallucination and 1 means full tolerance (default=0.25).\n",
    "- `id_list`: Include an id_list of tables aligned with table_list, defaults to empty list."
   ]
  },
  {
   "cell_type": "code",
   "execution_count": 4,
   "id": "40b38a3f",
   "metadata": {
    "scrolled": true
   },
   "outputs": [
    {
     "name": "stderr",
     "output_type": "stream",
     "text": [
      "Asking to truncate to max_length but no maximum length is provided and the model has no predefined maximum length. Default to no truncation.\n",
      "2022-12-06 06:31:11.803166: E tensorflow/stream_executor/cuda/cuda_blas.cc:2981] Unable to register cuBLAS factory: Attempting to register factory for plugin cuBLAS when one has already been registered\n"
     ]
    },
    {
     "name": "stdout",
     "output_type": "stream",
     "text": [
      "{\"time\":\"2022-12-06 06:31:53,997\", \"name\": \"numexpr.utils\", \"level\": \"INFO\", \"message\": \"Note: NumExpr detected 16 cores but \"NUMEXPR_MAX_THREADS\" not set, so enforcing safe limit of 8.\"}\n",
      "{\"time\":\"2022-12-06 06:31:53,998\", \"name\": \"numexpr.utils\", \"level\": \"INFO\", \"message\": \"NumExpr defaulting to 8 threads.\"}\n"
     ]
    },
    {
     "data": {
      "text/plain": [
       "[{'context_id': 'abcID123',\n",
       "  'answer': 'alien',\n",
       "  'question': 'What was the genre of the movie starring alyson hannigan in my stepmother is an alien?'},\n",
       " {'context_id': 'abcID123',\n",
       "  'answer': 'aaron seltzer',\n",
       "  'question': 'Who was the director of the 2006 film starring alyson hannigan?'},\n",
       " {'context_id': 'abcID123',\n",
       "  'answer': '1988',\n",
       "  'question': 'what is the year of the title that alyson hannigan played my stepmother is an alien?'},\n",
       " {'context_id': 'abcID123',\n",
       "  'answer': 'richard benjamin',\n",
       "  'question': 'Who was the director of the 1988 film starring alyson hannigan?'},\n",
       " {'context_id': 'abcID123',\n",
       "  'answer': 'my stepmother',\n",
       "  'question': 'What is the title of the 1988 film?'}]"
      ]
     },
     "execution_count": 4,
     "metadata": {},
     "output_type": "execute_result"
    }
   ],
   "source": [
    "hybrid_qg_model.generate_questions(data_list, \n",
    "                                    num_questions_per_instance = 5,\n",
    "                                    hallucination_prop=0.25,\n",
    "                                    num_beams=5,\n",
    "                                    id_list=id_list\n",
    "                                )"
   ]
  },
  {
   "cell_type": "code",
   "execution_count": null,
   "id": "05abc088",
   "metadata": {},
   "outputs": [],
   "source": []
  }
 ],
 "metadata": {
  "kernelspec": {
   "display_name": "Python 3 (ipykernel)",
   "language": "python",
   "name": "python3"
  },
  "language_info": {
   "codemirror_mode": {
    "name": "ipython",
    "version": 3
   },
   "file_extension": ".py",
   "mimetype": "text/x-python",
   "name": "python",
   "nbconvert_exporter": "python",
   "pygments_lexer": "ipython3",
   "version": "3.8.8"
  },
  "vscode": {
   "interpreter": {
    "hash": "7d21c3d80586c4cada912fbe8386ca6018c05632b838068c2d847893c1029454"
   }
  }
 },
 "nbformat": 4,
 "nbformat_minor": 5
}
