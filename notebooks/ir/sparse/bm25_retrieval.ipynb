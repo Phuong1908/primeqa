{
 "cells": [
  {
   "cell_type": "markdown",
   "metadata": {},
   "source": [
    "# Sparse Retrieval\n",
    "\n",
    "In this notebook, we will see how to run BM25 search."
   ]
  },
  {
   "cell_type": "markdown",
   "metadata": {},
   "source": [
    "Pyserini requires Java 11\n",
    "\n",
    "Uncomment and run the following code to install Java 11 and set the JAVA_HOME environment variable.  \n",
    "\n",
    "This will install of Java JDK 11 into $HOME/.jdk/<VERSION>"
   ]
  },
  {
   "cell_type": "code",
   "execution_count": 2,
   "metadata": {},
   "outputs": [],
   "source": [
    "import os\n",
    "if \"JAVA_HOME\" not in os.environ:\n",
    "    print(\"JAVA_HOME is not set. Please uncomment and run the code below to setup Java\")\n",
    "\n",
    "# !pip install install-jdk\n",
    "# import jdk\n",
    "# jdk_dir = jdk.install('11')\n",
    "# os.environ[\"JAVA_HOME\"] = jdk_dir"
   ]
  },
  {
   "cell_type": "code",
   "execution_count": 3,
   "metadata": {},
   "outputs": [],
   "source": [
    "from primeqa.ir.sparse.retriever import PyseriniRetriever\n",
    "import pandas as pd"
   ]
  },
  {
   "cell_type": "code",
   "execution_count": 4,
   "metadata": {},
   "outputs": [],
   "source": [
    "import pandas as pd\n",
    "from IPython.display import display, HTML"
   ]
  },
  {
   "cell_type": "markdown",
   "metadata": {},
   "source": [
    "Set some parameters\n",
    "- index_path: path to an index \n",
    "- queries: example queries\n",
    "- top_k: number of hits \n",
    "- k1: bm25 parameter to tune impact of term frequency \n",
    "- b: bm25 constant to fine tune the effect of document length   "
   ]
  },
  {
   "cell_type": "code",
   "execution_count": 7,
   "metadata": {},
   "outputs": [],
   "source": [
    "index_path = '../../../tests/resources/ir_sparse/sample_wiki_psgs_w100_index'\n",
    "queries = [\n",
    "    'who designed the South African 1961 one-cent postage stamp',\n",
    "    'vitamin e deficiency',\n",
    "    'where is the Presanella located'\n",
    "]\n",
    "top_k=5\n",
    "k1 = 0.9\n",
    "b = 0.4"
   ]
  },
  {
   "cell_type": "code",
   "execution_count": 8,
   "metadata": {},
   "outputs": [],
   "source": [
    "# Instantiate the retriever\n",
    "\n",
    "searcher = PyseriniRetriever(index_path, use_bm25=True, k1=k1, b=b)"
   ]
  },
  {
   "cell_type": "code",
   "execution_count": 42,
   "metadata": {},
   "outputs": [
    {
     "name": "stdout",
     "output_type": "stream",
     "text": [
      "======================================================================\n",
      "QUERY: who designed the South African 1961 one-cent postage stamp\n"
     ]
    },
    {
     "data": {
      "text/html": [
       "<table border=\"1\" class=\"dataframe\">\n",
       "  <thead>\n",
       "    <tr style=\"text-align: right;\">\n",
       "      <th></th>\n",
       "      <th>rank</th>\n",
       "      <th>score</th>\n",
       "      <th>doc_id</th>\n",
       "      <th>title</th>\n",
       "      <th>text</th>\n",
       "    </tr>\n",
       "  </thead>\n",
       "  <tbody>\n",
       "    <tr>\n",
       "      <th>0</th>\n",
       "      <td>0</td>\n",
       "      <td>17.771099</td>\n",
       "      <td>20076582</td>\n",
       "      <td>Nerine Desmond</td>\n",
       "      <td>A South African 1961 one-cent postage stamp carried a design by Desmond and in the same year she was elected as Fellow of the International Institute of Arts and Letters. She exhibited in all three Quadrennials of South African Art between 1956 and 1964, as well as at the São Paulo Biennale (graphic), Brazil in 1961. She exhibited with the Women’s International Art Club and the Royal Institute of Painters, and held solo shows in Johannesburg in 1962 and Pretoria in 1970. Her works are held in the following collections: Iziko South African National Gallery (Cape Town); Johannesburg Art Gallery;</td>\n",
       "    </tr>\n",
       "    <tr>\n",
       "      <th>1</th>\n",
       "      <td>1</td>\n",
       "      <td>2.901800</td>\n",
       "      <td>19750546</td>\n",
       "      <td>SOS-Hermann Gmeiner International College</td>\n",
       "      <td>SOS-Hermann Gmeiner International College SOS-Hermann Gmeiner International College (locally called HGIC) is a school in Tema, Ghana. It is a selective preparatory college that educates students from across Africa as well as from America, Europe, and Asia. With a Pan-African mission and philosophy, the school prepares young leaders who go on to top universities around the globe; with recent alumni going on to Yale, Harvard, Dartmouth, Stanford, MIT, University of Edinburgh, University of British Columbia, and the University of Cape Town. The school was established in 1990 as a project of SOS Kinderdorf to educate the most academically promising students</td>\n",
       "    </tr>\n",
       "    <tr>\n",
       "      <th>2</th>\n",
       "      <td>2</td>\n",
       "      <td>2.230800</td>\n",
       "      <td>14213975</td>\n",
       "      <td>Dana (South Korean singer)</td>\n",
       "      <td>Dana (South Korean singer) Hong Sung-mi (born 17 July 1986), known professionally as Dana, is a South Korean singer and musical actress and vocal coach. She was originally a solo singer, debuting in 2001, and later debuted as a member of South Korean girl group The Grace in 2005. Prior to debut, she received promotion as an actress in popular boyband H.O.T's \"Age of Peace\" movie and in Kangta's \"\"Polaris\"\" music video. Starting off as a solo artist on Lee Soo Man's SM Entertainment label, Dana was labeled the \"next BoA\". In 2001 she released her fairly successful debut single</td>\n",
       "    </tr>\n",
       "    <tr>\n",
       "      <th>3</th>\n",
       "      <td>3</td>\n",
       "      <td>2.161900</td>\n",
       "      <td>14796077</td>\n",
       "      <td>A Cottage on Dartmoor</td>\n",
       "      <td>date; however the evening turns out awkwardly and it is clear that Sally does not reciprocate Joe's feelings. Despite Sally's lack of interest and through a misunderstanding involving a floral buttonhole, Joe's infatuation with her develops into obsession. Meanwhile, a regular client at the salon, young gentleman farmer Harry (Schlettow), begins to woo Sally, who is much more receptive to his attentions. The couple begin seeing each other, and one evening arrange to go to the local cinema. Unknown to them they are stalked by the jealous and overwrought Joe, who sits behind them and is forced to witness their</td>\n",
       "    </tr>\n",
       "    <tr>\n",
       "      <th>4</th>\n",
       "      <td>4</td>\n",
       "      <td>2.125000</td>\n",
       "      <td>9503472</td>\n",
       "      <td>Nayaks of Kandy</td>\n",
       "      <td>kith and kin. Narenappa Nayaka was destined to be not only the father-in-law of one king, but the father of the next two kings of Kandy; for his two sons, the one five or six years old in 1740, and the other still an infant were successively to succeed Sri Vijaya Rajasinha. Sri Vijaya Rajasinha married another Madurai princess in 1747. Each bride brought a contingent of relatives with royal lineage ultimately making Kandy their permanent home. The king, however, died childless soon after, having nominated as his successor, his eldest brother in-law who had been living in the court</td>\n",
       "    </tr>\n",
       "  </tbody>\n",
       "</table>"
      ],
      "text/plain": [
       "<IPython.core.display.HTML object>"
      ]
     },
     "metadata": {},
     "output_type": "display_data"
    },
    {
     "name": "stdout",
     "output_type": "stream",
     "text": [
      "======================================================================\n",
      "QUERY: vitamin e deficiency\n"
     ]
    },
    {
     "data": {
      "text/html": [
       "<table border=\"1\" class=\"dataframe\">\n",
       "  <thead>\n",
       "    <tr style=\"text-align: right;\">\n",
       "      <th></th>\n",
       "      <th>rank</th>\n",
       "      <th>score</th>\n",
       "      <th>doc_id</th>\n",
       "      <th>title</th>\n",
       "      <th>text</th>\n",
       "    </tr>\n",
       "  </thead>\n",
       "  <tbody>\n",
       "    <tr>\n",
       "      <th>0</th>\n",
       "      <td>0</td>\n",
       "      <td>9.2066</td>\n",
       "      <td>15415536</td>\n",
       "      <td>Mercury regulation in the United States</td>\n",
       "      <td>Other deficiencies that are observed with a persisting mercury intake are vitamin E, vitamin B12 and vitamin C. Long term deficiency in vitamin E might cause muscle weakness as well as loss of muscle mass, abnormal eye movements and even vision problems. As for Vitamin B12 deficiency, it might cause anemia and confusion for the elderly population. Finally, for long term Vitamin C deficiencies, high blood pressure as well as Gallbladder disease and stroke are all possible outcomes of those deficiencies. In order to avoid such deficiencies, a higher intake of those nutrients and vitamins are necessary. Methylmercury is a</td>\n",
       "    </tr>\n",
       "    <tr>\n",
       "      <th>1</th>\n",
       "      <td>1</td>\n",
       "      <td>2.5695</td>\n",
       "      <td>18680280</td>\n",
       "      <td>Phonological history of Old English</td>\n",
       "      <td>the rest by much less palatalization. Forms in Modern English with hard and where a palatalized sound would be expected from Old English are due either to Northumbrian influence or to direct borrowing from Scandinavian. Note that, in fact, the lack of palatalization in Northumbrian was probably due to heavy Scandinavian influence.) The early history of Kentish was similar to Anglian, but sometime around the ninth century all of the front vowels \"æ\", \"e\", \"y\" (long and short) merged into \"e\" (long and short). The further discussion concerns the differences between Anglian and West Saxon, with the understanding that Kentish,</td>\n",
       "    </tr>\n",
       "    <tr>\n",
       "      <th>2</th>\n",
       "      <td>2</td>\n",
       "      <td>1.8086</td>\n",
       "      <td>12687639</td>\n",
       "      <td>Frederick Norton Manning</td>\n",
       "      <td>on 15 October 1868 and immediately reported on the isolation of patients from their relations in accommodation best described as 'prison-like and gloomy', the inadequate facilities for their gainful employment and recreation and the monotonous diets deficient in both quantity and quality. In January 1869 the asylum's name was changed to the Hospital for the Insane, Gladesville, wherein patients were to receive treatment rather than be confined in a 'cemetery for diseased intellects'. By 1879 radical changes in patient care and accommodation had been made. Gladesville was extended and modernised and an asylum for imbeciles set up in Newcastle and</td>\n",
       "    </tr>\n",
       "    <tr>\n",
       "      <th>3</th>\n",
       "      <td>3</td>\n",
       "      <td>1.7706</td>\n",
       "      <td>11347768</td>\n",
       "      <td>APOBEC3C</td>\n",
       "      <td>APOBEC3C DNA dC-&gt;dU-editing enzyme APOBEC-3C is a protein that in humans is encoded by the \"APOBEC3C\" gene. A3C belong to the A3 family of cytidine deaminases that act as restriction factors against diverse retroviruses. A3C was reported to inhibit simian immunodeficiency deficiency virus potently rather than HIV-1, in absence of viral infectivity factor, Vif. Enhancing A3C's catalytic activity had only a marginal effect on HIV-1 replication (in absence of Vif), the counteractive viral mechanism is unclear. A3C was also shown to inhibit other viruses. This gene is a member of the cytidine deaminase gene family. It is one of seven</td>\n",
       "    </tr>\n",
       "  </tbody>\n",
       "</table>"
      ],
      "text/plain": [
       "<IPython.core.display.HTML object>"
      ]
     },
     "metadata": {},
     "output_type": "display_data"
    },
    {
     "name": "stdout",
     "output_type": "stream",
     "text": [
      "======================================================================\n",
      "QUERY: where is the Presanella located\n"
     ]
    },
    {
     "data": {
      "text/html": [
       "<table border=\"1\" class=\"dataframe\">\n",
       "  <thead>\n",
       "    <tr style=\"text-align: right;\">\n",
       "      <th></th>\n",
       "      <th>rank</th>\n",
       "      <th>score</th>\n",
       "      <th>doc_id</th>\n",
       "      <th>title</th>\n",
       "      <th>text</th>\n",
       "    </tr>\n",
       "  </thead>\n",
       "  <tbody>\n",
       "    <tr>\n",
       "      <th>0</th>\n",
       "      <td>0</td>\n",
       "      <td>5.2528</td>\n",
       "      <td>8356488</td>\n",
       "      <td>Presanella</td>\n",
       "      <td>Presanella Presanella is a mountain in the Adamello-Presanella range of the Italian Alps of northern Italy. Presanella has an elevation of 3,558 meters and is located in the Adamello Brenta National Park within the Trentino province of Italy. Presanella may have first been climbed by surveyors in 1854. Eduard Pechmann's 1865 Notizen zur Höhen- und Profilkarte has Presanella's height with two digits precision (1878.26 Viennese Klaster or 3,562.1 m), which in this list indicated that a measurement was taken from the summit during the trigonometric survey, which for Presanella was done in 1854. This possible ascent is otherwise unrecorded. In</td>\n",
       "    </tr>\n",
       "    <tr>\n",
       "      <th>1</th>\n",
       "      <td>1</td>\n",
       "      <td>2.1000</td>\n",
       "      <td>8237529</td>\n",
       "      <td>Idaho State Police</td>\n",
       "      <td>State Police was formed in 1939, when Governor C. A. Bottolfsen signed the bill on February 20. The Idaho State Police is divided geographically into 6 districts. Its central headquarters and training facility is located in Meridian, Idaho. District offices (1-3) are located in Coeur d'Alene, Lewiston, and Meridian. District offices (4-6) are located in Jerome, Pocatello, and Idaho Falls. Each district has a different captain and command staff, are managed separately and are overseen by a major. Each district has two divisions; patrol and investigations. The patrol division consists of uniformed state troopers who enforce the laws of Idaho.</td>\n",
       "    </tr>\n",
       "    <tr>\n",
       "      <th>2</th>\n",
       "      <td>2</td>\n",
       "      <td>1.4756</td>\n",
       "      <td>2492833</td>\n",
       "      <td>Rakhigarhi</td>\n",
       "      <td>Rakhigarhi Rakhigarhi, () or Rakhi Garhi (\"Rakhi Shahpur\" + \"Rakhi Khas\"), is a village in Hisar District in the state of Haryana in India, situated 150 kilometers to the northwest of Delhi. It is the site of a pre-Indus Valley Civilisation settlement going back to about 6500 BCE. Later, it was also part of the mature Indus Valley Civilisation, dating to 2600-1900 BCE. The site is located in the Ghaggar-Hakra river plain, some 27 km from the seasonal Ghaggar river. Rakhigarhi encompasses a set of seven mounds, and there are many more settlement mounds in the immediate vicinity. Not all</td>\n",
       "    </tr>\n",
       "    <tr>\n",
       "      <th>3</th>\n",
       "      <td>3</td>\n",
       "      <td>1.4599</td>\n",
       "      <td>13176993</td>\n",
       "      <td>Sacro Cuore, Florence</td>\n",
       "      <td>glass window of the Resurrection by Marcello Avelani, bronze doors and ceramic saints by Angelo Biancini, mosaic Stations of the Cross by Giovanni Haynal, a cruzifix by Umberto Bartoli, a 16th-century Madonna and Child, a Last Supper by Giovanni Stradano and the Apparition of the Sacred Heart by Antonio Ciseri (1880). Sacro Cuore, Florence The Chiesa del Sacro Cuore (Church of the Sacred Heart) is located in Via Capo di Mondo in Florence. Ludovico da Casoria, a Franciscan priest, founder of the Congregation of Frati Bigi, had the church built between 1874 and 1877, on the model of San Salvatore</td>\n",
       "    </tr>\n",
       "    <tr>\n",
       "      <th>4</th>\n",
       "      <td>4</td>\n",
       "      <td>1.4446</td>\n",
       "      <td>13751330</td>\n",
       "      <td>Saint Anne Byzantine Catholic Church</td>\n",
       "      <td>Saint Anne Byzantine Catholic Church Saint Anne Byzantine Catholic Church is a Catholic Christian parish of the Byzantine Ruthenian Tradition located in the City of San Luis Obispo, California. It was founded in 1986. It is a parish of the Holy Protection of Mary Byzantine Catholic Eparchy of Phoenix. The history of the Byzantine Catholic Church on the Central Coast of California began in the early 1950s when the Petrick, Kubek and Bereczky families settled in San Luis Obispo. Father Anthony Kubek maintained his own private chapel, and for many years celebrated the Divine Liturgy for his family and other</td>\n",
       "    </tr>\n",
       "  </tbody>\n",
       "</table>"
      ],
      "text/plain": [
       "<IPython.core.display.HTML object>"
      ]
     },
     "metadata": {},
     "output_type": "display_data"
    }
   ],
   "source": [
    "# Run queries\n",
    "for query in queries:\n",
    "    hits = searcher.retrieve(query, top_k)\n",
    "    df = pd.DataFrame.from_records(hits, columns=['rank','score','doc_id','title','text'])\n",
    "    print('======================================================================')\n",
    "    print(f'QUERY: {query}')\n",
    "    display( HTML(df.to_html()) )\n"
   ]
  }
 ],
 "metadata": {
  "kernelspec": {
   "display_name": "primeqa-kpfadnis",
   "language": "python",
   "name": "python3"
  },
  "language_info": {
   "codemirror_mode": {
    "name": "ipython",
    "version": 3
   },
   "file_extension": ".py",
   "mimetype": "text/x-python",
   "name": "python",
   "nbconvert_exporter": "python",
   "pygments_lexer": "ipython3",
   "version": "3.9.15 (main, Nov 24 2022, 14:31:59) \n[GCC 11.2.0]"
  },
  "orig_nbformat": 4,
  "vscode": {
   "interpreter": {
    "hash": "d1ab85b37f5f7642ecf51c394f42be1f6421955e34dbae8f37bc531712479088"
   }
  }
 },
 "nbformat": 4,
 "nbformat_minor": 2
}
