{
 "cells": [
  {
   "cell_type": "code",
   "execution_count": 1,
   "metadata": {},
   "outputs": [
    {
     "name": "stdout",
     "output_type": "stream",
     "text": [
      "{\"time\":\"2023-02-14 22:34:58,421\", \"name\": \"faiss.loader\", \"level\": \"INFO\", \"message\": \"Loading faiss with AVX2 support.\"}\n",
      "{\"time\":\"2023-02-14 22:34:58,497\", \"name\": \"faiss.loader\", \"level\": \"INFO\", \"message\": \"Successfully loaded faiss with AVX2 support.\"}\n"
     ]
    }
   ],
   "source": [
    "from primeqa.components.retriever.dense import ColBERTRetriever\n",
    "from primeqa.components.reader.extractive import ExtractiveReader\n",
    "from primeqa.pipelines.qa_pipeline import QAPipeline\n",
    "import json"
   ]
  },
  {
   "cell_type": "code",
   "execution_count": 2,
   "metadata": {},
   "outputs": [
    {
     "name": "stdout",
     "output_type": "stream",
     "text": [
      "[Feb 14, 22:35:07] #> base_config.py from_path /dccstor/colbert-ir/franzm/indexes/oct2_10_11/oct2_10_11_exp/indexes//oct2_10_11_indname/metadata.json\n",
      "[Feb 14, 22:35:07] #> base_config.py from_path args loaded! \n",
      "[Feb 14, 22:35:07] #> base_config.py from_path args replaced ! \n",
      "[Feb 14, 22:35:16] #>>>>> at ColBERT name (model type) : /dccstor/colbert-ir/franzm/experiments/oct2_7_12_1.5e-06/none/2022-10/09/15.21.39/checkpoints/colbert.dnn.batch_91287.model\n",
      "[Feb 14, 22:35:16] #>>>>> at BaseColBERT name (model type) : /dccstor/colbert-ir/franzm/experiments/oct2_7_12_1.5e-06/none/2022-10/09/15.21.39/checkpoints/colbert.dnn.batch_91287.model\n",
      "[Feb 14, 22:35:24] factory model type: xlm-roberta-large\n",
      "[Feb 14, 22:35:37] get query model type: xlm-roberta-large\n",
      "[Feb 14, 22:35:38] get doc model type: xlm-roberta-large\n",
      "[Feb 14, 22:35:47] #> Loading codec...\n",
      "[Feb 14, 22:35:47] #> base_config.py from_path /dccstor/colbert-ir/franzm/indexes/oct2_10_11/oct2_10_11_exp/indexes//oct2_10_11_indname/metadata.json\n",
      "[Feb 14, 22:35:47] #> base_config.py from_path args loaded! \n",
      "[Feb 14, 22:35:47] #> base_config.py from_path args replaced ! \n",
      "[Feb 14, 22:35:47] Loading decompress_residuals_cpp extension (set COLBERT_LOAD_TORCH_EXTENSION_VERBOSE=True for more info)...\n",
      "[Feb 14, 22:35:48] Loading packbits_cpp extension (set COLBERT_LOAD_TORCH_EXTENSION_VERBOSE=True for more info)...\n",
      "[Feb 14, 22:35:49] #> Loading IVF...\n"
     ]
    }
   ],
   "source": [
    "# setup ColBERT index\n",
    "index_root = \"/dccstor/colbert-ir/franzm/indexes/oct2_10_11/oct2_10_11_exp/indexes/\"\n",
    "index_name = \"oct2_10_11_indname\"\n",
    "collection = \"/dccstor/avi7/neural_ir/colbert/data/psgs_w100.tsv\"\n",
    "\n",
    "\n",
    "retriever = ColBERTRetriever(index_root = index_root, \n",
    "                                     index_name = index_name, \n",
    "                                     collection = collection, \n",
    "                                     max_num_documents = 3)\n",
    "retriever.load()"
   ]
  },
  {
   "cell_type": "code",
   "execution_count": 3,
   "metadata": {},
   "outputs": [
    {
     "name": "stdout",
     "output_type": "stream",
     "text": [
      "{\"time\":\"2023-02-14 22:43:28,863\", \"name\": \"ExtractiveQAHead\", \"level\": \"INFO\", \"message\": \"Loading dropout value 0.1 from config attribute 'hidden_dropout_prob'\"}\n",
      "{\"time\":\"2023-02-14 22:43:28,984\", \"name\": \"XLMRobertaModelForDownstreamTasks\", \"level\": \"INFO\", \"message\": \"Setting task head for first time to 'None'\"}\n"
     ]
    }
   ],
   "source": [
    "\n",
    "reader = ExtractiveReader()\n",
    "reader.load()"
   ]
  },
  {
   "cell_type": "code",
   "execution_count": 4,
   "metadata": {},
   "outputs": [
    {
     "name": "stderr",
     "output_type": "stream",
     "text": [
      "21015325it [01:06, 316127.15it/s]\n"
     ]
    }
   ],
   "source": [
    "# setup the pipeline\n",
    "pipeline = QAPipeline(retriever, reader)"
   ]
  },
  {
   "cell_type": "code",
   "execution_count": 7,
   "metadata": {},
   "outputs": [
    {
     "name": "stderr",
     "output_type": "stream",
     "text": [
      "100%|█████████████████████████████████████████████████████████████████████████████████████████████| 1/1 [00:00<00:00, 36.70it/s]\n",
      "PyTorch: setting up devices\n",
      "The default value for the training argument `--report_to` will change in v5 (from all installed integrations to none). In v5, you will need to use `--report_to all` to get the same behavior as now. You should start updating your code and make this info disappear :-).\n"
     ]
    },
    {
     "data": {
      "application/vnd.jupyter.widget-view+json": {
       "model_id": "857dbdf9f342449196d7b34e3be9a845",
       "version_major": 2,
       "version_minor": 0
      },
      "text/plain": [
       "Running tokenizer on eval dataset:   0%|          | 0/1 [00:00<?, ?ba/s]"
      ]
     },
     "metadata": {},
     "output_type": "display_data"
    },
    {
     "name": "stdout",
     "output_type": "stream",
     "text": [
      "{\"time\":\"2023-02-14 22:53:17,623\", \"name\": \"primeqa.mrc.trainers.mrc\", \"level\": \"INFO\", \"message\": \"The following columns in the evaluation set  don't have a corresponding argument in `XLMRobertaModelForDownstreamTasks.forward` and have been ignored: example_id, example_idx, offset_mapping, context_idx.\"}\n"
     ]
    },
    {
     "name": "stderr",
     "output_type": "stream",
     "text": [
      "***** Running Evaluation *****\n",
      "  Num examples = 3\n",
      "  Batch size = 8\n"
     ]
    },
    {
     "data": {
      "text/html": [
       "\n",
       "    <div>\n",
       "      \n",
       "      <progress value='1' max='1' style='width:300px; height:20px; vertical-align: middle;'></progress>\n",
       "      [1/1 : < :]\n",
       "    </div>\n",
       "    "
      ],
      "text/plain": [
       "<IPython.core.display.HTML object>"
      ]
     },
     "metadata": {},
     "output_type": "display_data"
    },
    {
     "name": "stderr",
     "output_type": "stream",
     "text": [
      "100%|████████████████████████████████████████████████████████████████████████████████████████████| 1/1 [00:00<00:00, 235.24it/s]"
     ]
    },
    {
     "name": "stdout",
     "output_type": "stream",
     "text": [
      "{\n",
      "    \"0\": {\n",
      "        \"answers\": [\n",
      "            {\n",
      "                \"example_id\": \"0\",\n",
      "                \"passage_index\": 0,\n",
      "                \"span_answer_text\": \"30\",\n",
      "                \"span_answer\": {\n",
      "                    \"start_position\": 290,\n",
      "                    \"end_position\": 292\n",
      "                },\n",
      "                \"span_answer_score\": 13.23436987400055,\n",
      "                \"confidence_score\": 0.6843328375958754\n",
      "            },\n",
      "            {\n",
      "                \"example_id\": \"0\",\n",
      "                \"passage_index\": 0,\n",
      "                \"span_answer_text\": \"30 countries\",\n",
      "                \"span_answer\": {\n",
      "                    \"start_position\": 290,\n",
      "                    \"end_position\": 302\n",
      "                },\n",
      "                \"span_answer_score\": 12.000644713640213,\n",
      "                \"confidence_score\": 0.19928166850408563\n",
      "            },\n",
      "            {\n",
      "                \"example_id\": \"0\",\n",
      "                \"passage_index\": 0,\n",
      "                \"span_answer_text\": \"The riders came from 30\",\n",
      "                \"span_answer\": {\n",
      "                    \"start_position\": 269,\n",
      "                    \"end_position\": 292\n",
      "                },\n",
      "                \"span_answer_score\": 11.462833374738693,\n",
      "                \"confidence_score\": 0.116385493900039\n",
      "            }\n",
      "        ],\n",
      "        \"passages\": [\n",
      "            \"\\\"2018 Tour de France\\\"\\n \\\"reduced the number of riders per team for Grand Tours from 9 to 8, resulting in a start list total of 176, instead of the usual 198. Of these, 35 competed in their first Tour de France. The total number of riders that finished the race was 145. The riders came from 30 countries. Seven countries had more than 10 riders in the race: France (35), Belgium (19), the Netherlands (13), Italy (13), Australia (11), Germany (11) and Spain (11). The average age of riders in the race was 29.37 years, ranging from the 21-year-old Egan Bernal () to the\\\"\",\n",
      "            \"\\\"2017 Tour de France\\\"\\n \\\"de France. The total number of riders that finished the race was 167. The riders came from 32 countries. Six countries had more than 10 riders in the race: France (39), Italy (18), Belgium (16), Germany (16), the Netherlands (15), and Spain (13). The average age of riders in the race was 29.4 years, ranging from the 22-year-old \\u00c9lie Gesbert () to the 40-year-old Haimar Zubeldia (). had the youngest average age while had the oldest. The teams entering the race were: In the lead up to the 2017 Tour de France, Chris Froome () was seen by many pundits\\\"\",\n",
      "            \"\\\"2015 Tour de France\\\"\\n \\\"these, 45 were riding the Tour de France for the first time. The total number of riders that finished the race was 160. The riders came from 32 countries; France, the Netherlands, Italy, Spain, Belgium, Australia, Germany, Great Britain and Switzerland all had 10 or more riders in the race. Eritrean riders Daniel Teklehaimanot and Merhawi Kudus, both of , became the first black Africans to compete in the Tour de France. Riders from nine countries won stages during the race; German riders won the largest number of stages, with six. The average age of riders in the race was\\\"\"\n",
      "        ]\n",
      "    }\n",
      "}\n"
     ]
    },
    {
     "name": "stderr",
     "output_type": "stream",
     "text": [
      "\n"
     ]
    }
   ],
   "source": [
    "questions = [\"number of participating countries in tour de france 2018 ?\"]\n",
    "answers = pipeline.run(questions, use_retriever=True)\n",
    "print(json.dumps(answers, indent=4))"
   ]
  },
  {
   "cell_type": "code",
   "execution_count": null,
   "metadata": {},
   "outputs": [],
   "source": []
  }
 ],
 "metadata": {
  "kernelspec": {
   "display_name": "Python 3 (ipykernel)",
   "language": "python",
   "name": "python3"
  },
  "language_info": {
   "codemirror_mode": {
    "name": "ipython",
    "version": 3
   },
   "file_extension": ".py",
   "mimetype": "text/x-python",
   "name": "python",
   "nbconvert_exporter": "python",
   "pygments_lexer": "ipython3",
   "version": "3.9.16"
  },
  "vscode": {
   "interpreter": {
    "hash": "c5d039775dffd761dc362a240b88aab365529f2df8e87d6e6e9eecd3e8d89fd4"
   }
  }
 },
 "nbformat": 4,
 "nbformat_minor": 2
}
