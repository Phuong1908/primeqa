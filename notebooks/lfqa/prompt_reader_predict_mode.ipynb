{
 "cells": [
  {
   "cell_type": "code",
   "execution_count": 1,
   "metadata": {},
   "outputs": [
    {
     "name": "stdout",
     "output_type": "stream",
     "text": [
      "{\"time\":\"2023-02-13 11:44:07,069\", \"name\": \"faiss.loader\", \"level\": \"INFO\", \"message\": \"Loading faiss with AVX2 support.\"}\n",
      "{\"time\":\"2023-02-13 11:44:07,385\", \"name\": \"faiss.loader\", \"level\": \"INFO\", \"message\": \"Successfully loaded faiss with AVX2 support.\"}\n"
     ]
    }
   ],
   "source": [
    "from primeqa.components.retriever.dense import ColBERTRetriever\n",
    "from primeqa.components.retriever.dense import DPRRetriever\n",
    "from primeqa.components.reader.prompt import PromptGPTReader\n",
    "from primeqa.pipelines.qa_pipeline import QAPipeline\n",
    "import json"
   ]
  },
  {
   "cell_type": "code",
   "execution_count": null,
   "metadata": {},
   "outputs": [],
   "source": [
    "# setup ColBERT index\n",
    "index_root = \"/dccstor/mabornea1/kilt-wikipedia-test/colbert_ir/kilt_wikipedia_eli5_dev_exp/indexes/\"\n",
    "index_name = \"kilt_wikipedia_eli5_dev_indname\"\n",
    "collection = \"/dccstor/mabornea1/kilt-wikipedia-test/passages/kilt_knowledgesource_eli5_dev.tsv\"\n",
    "\n",
    "\n",
    "retriever = ColBERTRetriever(index_root = index_root, \n",
    "                                     index_name = index_name, \n",
    "                                     collection = collection, \n",
    "                                     max_num_documents = 3)\n",
    "retriever.load()"
   ]
  },
  {
   "cell_type": "code",
   "execution_count": 2,
   "metadata": {},
   "outputs": [
    {
     "name": "stdout",
     "output_type": "stream",
     "text": [
      "{\"time\":\"2023-02-13 11:44:16,054\", \"name\": \"primeqa.ir.dense.dpr_top.torch_util.hypers_base\", \"level\": \"INFO\", \"message\": \"world_rank 0 cuda_is_available True cuda_device_cnt 1 on cccxc564, CUDA_VISIBLE_DEVICES = 0\"}\n",
      "{\"time\":\"2023-02-13 11:45:05,574\", \"name\": \"primeqa.ir.dense.dpr_top.dpr.searcher\", \"level\": \"INFO\", \"message\": \"Using sharded faiss, reading shards from /dccstor/colbert-ir/franzm/experiments/oct2_18_20\"}\n",
      "{\"time\":\"2023-02-13 11:45:05,575\", \"name\": \"primeqa.ir.dense.dpr_top.dpr.searcher\", \"level\": \"INFO\", \"message\": \"Reading passages_1_of_40.json.gz.records\"}\n",
      "{\"time\":\"2023-02-13 11:45:09,898\", \"name\": \"primeqa.ir.dense.dpr_top.dpr.searcher\", \"level\": \"INFO\", \"message\": \"Reading passages_15_of_40.json.gz.records\"}\n",
      "{\"time\":\"2023-02-13 11:45:13,245\", \"name\": \"primeqa.ir.dense.dpr_top.dpr.searcher\", \"level\": \"INFO\", \"message\": \"Reading passages_4_of_40.json.gz.records\"}\n",
      "{\"time\":\"2023-02-13 11:45:15,941\", \"name\": \"primeqa.ir.dense.dpr_top.dpr.searcher\", \"level\": \"INFO\", \"message\": \"Reading passages_19_of_40.json.gz.records\"}\n",
      "{\"time\":\"2023-02-13 11:45:18,749\", \"name\": \"primeqa.ir.dense.dpr_top.dpr.searcher\", \"level\": \"INFO\", \"message\": \"Reading passages_38_of_40.json.gz.records\"}\n",
      "{\"time\":\"2023-02-13 11:45:20,079\", \"name\": \"primeqa.ir.dense.dpr_top.dpr.searcher\", \"level\": \"INFO\", \"message\": \"Reading passages_11_of_40.json.gz.records\"}\n",
      "{\"time\":\"2023-02-13 11:45:23,797\", \"name\": \"primeqa.ir.dense.dpr_top.dpr.searcher\", \"level\": \"INFO\", \"message\": \"Reading passages_22_of_40.json.gz.records\"}\n",
      "{\"time\":\"2023-02-13 11:45:27,474\", \"name\": \"primeqa.ir.dense.dpr_top.dpr.searcher\", \"level\": \"INFO\", \"message\": \"Reading passages_8_of_40.json.gz.records\"}\n",
      "{\"time\":\"2023-02-13 11:45:30,849\", \"name\": \"primeqa.ir.dense.dpr_top.dpr.searcher\", \"level\": \"INFO\", \"message\": \"Reading passages_12_of_40.json.gz.records\"}\n",
      "{\"time\":\"2023-02-13 11:45:34,931\", \"name\": \"primeqa.ir.dense.dpr_top.dpr.searcher\", \"level\": \"INFO\", \"message\": \"Reading passages_24_of_40.json.gz.records\"}\n",
      "{\"time\":\"2023-02-13 11:45:36,336\", \"name\": \"primeqa.ir.dense.dpr_top.dpr.searcher\", \"level\": \"INFO\", \"message\": \"Reading passages_5_of_40.json.gz.records\"}\n",
      "{\"time\":\"2023-02-13 11:45:39,355\", \"name\": \"primeqa.ir.dense.dpr_top.dpr.searcher\", \"level\": \"INFO\", \"message\": \"Reading passages_2_of_40.json.gz.records\"}\n",
      "{\"time\":\"2023-02-13 11:45:42,663\", \"name\": \"primeqa.ir.dense.dpr_top.dpr.searcher\", \"level\": \"INFO\", \"message\": \"Reading passages_31_of_40.json.gz.records\"}\n",
      "{\"time\":\"2023-02-13 11:45:44,441\", \"name\": \"primeqa.ir.dense.dpr_top.dpr.searcher\", \"level\": \"INFO\", \"message\": \"Reading passages_18_of_40.json.gz.records\"}\n",
      "{\"time\":\"2023-02-13 11:45:48,549\", \"name\": \"primeqa.ir.dense.dpr_top.dpr.searcher\", \"level\": \"INFO\", \"message\": \"Reading passages_34_of_40.json.gz.records\"}\n",
      "{\"time\":\"2023-02-13 11:45:50,890\", \"name\": \"primeqa.ir.dense.dpr_top.dpr.searcher\", \"level\": \"INFO\", \"message\": \"Reading passages_20_of_40.json.gz.records\"}\n",
      "{\"time\":\"2023-02-13 11:45:54,151\", \"name\": \"primeqa.ir.dense.dpr_top.dpr.searcher\", \"level\": \"INFO\", \"message\": \"Reading passages_25_of_40.json.gz.records\"}\n",
      "{\"time\":\"2023-02-13 11:45:55,602\", \"name\": \"primeqa.ir.dense.dpr_top.dpr.searcher\", \"level\": \"INFO\", \"message\": \"Reading passages_36_of_40.json.gz.records\"}\n",
      "{\"time\":\"2023-02-13 11:45:59,870\", \"name\": \"primeqa.ir.dense.dpr_top.dpr.searcher\", \"level\": \"INFO\", \"message\": \"Reading passages_3_of_40.json.gz.records\"}\n",
      "{\"time\":\"2023-02-13 11:46:02,889\", \"name\": \"primeqa.ir.dense.dpr_top.dpr.searcher\", \"level\": \"INFO\", \"message\": \"Reading passages_23_of_40.json.gz.records\"}\n",
      "{\"time\":\"2023-02-13 11:46:06,750\", \"name\": \"primeqa.ir.dense.dpr_top.dpr.searcher\", \"level\": \"INFO\", \"message\": \"Reading passages_39_of_40.json.gz.records\"}\n",
      "{\"time\":\"2023-02-13 11:46:11,404\", \"name\": \"primeqa.ir.dense.dpr_top.dpr.searcher\", \"level\": \"INFO\", \"message\": \"Reading passages_37_of_40.json.gz.records\"}\n",
      "{\"time\":\"2023-02-13 11:46:14,834\", \"name\": \"primeqa.ir.dense.dpr_top.dpr.searcher\", \"level\": \"INFO\", \"message\": \"Reading passages_35_of_40.json.gz.records\"}\n",
      "{\"time\":\"2023-02-13 11:46:17,769\", \"name\": \"primeqa.ir.dense.dpr_top.dpr.searcher\", \"level\": \"INFO\", \"message\": \"Reading passages_30_of_40.json.gz.records\"}\n",
      "{\"time\":\"2023-02-13 11:46:20,362\", \"name\": \"primeqa.ir.dense.dpr_top.dpr.searcher\", \"level\": \"INFO\", \"message\": \"Reading passages_14_of_40.json.gz.records\"}\n",
      "{\"time\":\"2023-02-13 11:46:24,205\", \"name\": \"primeqa.ir.dense.dpr_top.dpr.searcher\", \"level\": \"INFO\", \"message\": \"Reading passages_21_of_40.json.gz.records\"}\n",
      "{\"time\":\"2023-02-13 11:46:29,037\", \"name\": \"primeqa.ir.dense.dpr_top.dpr.searcher\", \"level\": \"INFO\", \"message\": \"Reading passages_27_of_40.json.gz.records\"}\n",
      "{\"time\":\"2023-02-13 11:46:31,298\", \"name\": \"primeqa.ir.dense.dpr_top.dpr.searcher\", \"level\": \"INFO\", \"message\": \"Reading passages_6_of_40.json.gz.records\"}\n",
      "{\"time\":\"2023-02-13 11:46:32,788\", \"name\": \"primeqa.ir.dense.dpr_top.dpr.searcher\", \"level\": \"INFO\", \"message\": \"Reading passages_40_of_40.json.gz.records\"}\n",
      "{\"time\":\"2023-02-13 11:46:34,750\", \"name\": \"primeqa.ir.dense.dpr_top.dpr.searcher\", \"level\": \"INFO\", \"message\": \"Reading passages_16_of_40.json.gz.records\"}\n",
      "{\"time\":\"2023-02-13 11:46:37,309\", \"name\": \"primeqa.ir.dense.dpr_top.dpr.searcher\", \"level\": \"INFO\", \"message\": \"Reading passages_17_of_40.json.gz.records\"}\n",
      "{\"time\":\"2023-02-13 11:46:40,763\", \"name\": \"primeqa.ir.dense.dpr_top.dpr.searcher\", \"level\": \"INFO\", \"message\": \"Reading passages_28_of_40.json.gz.records\"}\n",
      "{\"time\":\"2023-02-13 11:46:44,922\", \"name\": \"primeqa.ir.dense.dpr_top.dpr.searcher\", \"level\": \"INFO\", \"message\": \"Reading passages_32_of_40.json.gz.records\"}\n",
      "{\"time\":\"2023-02-13 11:46:49,543\", \"name\": \"primeqa.ir.dense.dpr_top.dpr.searcher\", \"level\": \"INFO\", \"message\": \"Reading passages_10_of_40.json.gz.records\"}\n",
      "{\"time\":\"2023-02-13 11:46:52,304\", \"name\": \"primeqa.ir.dense.dpr_top.dpr.searcher\", \"level\": \"INFO\", \"message\": \"Reading passages_13_of_40.json.gz.records\"}\n",
      "{\"time\":\"2023-02-13 11:46:54,714\", \"name\": \"primeqa.ir.dense.dpr_top.dpr.searcher\", \"level\": \"INFO\", \"message\": \"Reading passages_26_of_40.json.gz.records\"}\n",
      "{\"time\":\"2023-02-13 11:47:00,018\", \"name\": \"primeqa.ir.dense.dpr_top.dpr.searcher\", \"level\": \"INFO\", \"message\": \"Reading passages_7_of_40.json.gz.records\"}\n",
      "{\"time\":\"2023-02-13 11:47:02,757\", \"name\": \"primeqa.ir.dense.dpr_top.dpr.searcher\", \"level\": \"INFO\", \"message\": \"Reading passages_9_of_40.json.gz.records\"}\n",
      "{\"time\":\"2023-02-13 11:47:05,491\", \"name\": \"primeqa.ir.dense.dpr_top.dpr.searcher\", \"level\": \"INFO\", \"message\": \"Reading passages_33_of_40.json.gz.records\"}\n",
      "{\"time\":\"2023-02-13 11:47:09,916\", \"name\": \"primeqa.ir.dense.dpr_top.dpr.searcher\", \"level\": \"INFO\", \"message\": \"Reading passages_29_of_40.json.gz.records\"}\n",
      "{\"time\":\"2023-02-13 11:47:11,744\", \"name\": \"primeqa.ir.dense.dpr_top.dpr.searcher\", \"level\": \"INFO\", \"message\": \"Using sharded faiss with 40 shards.\"}\n"
     ]
    }
   ],
   "source": [
    "#checkpoint = \"/dccstor/colbert-ir/franzm/experiments/jan3_7_10/qry_encoder\"\n",
    "checkpoint = \"/dccstor/colbert-ir/franzm/experiments/oct2_18_10/qry_encoder\"\n",
    "index_root = \"/dccstor/colbert-ir/franzm/experiments/\"\n",
    "index_name = \"oct2_18_20\"\n",
    "collection = \"/dccstor/avi7/neural_ir/colbert/data/psgs_w100.tsv\"\n",
    "\n",
    "retriever = DPRRetriever(index_root = index_root, \n",
    "                                     index_name = index_name,  \n",
    "                                     checkpoint = checkpoint,\n",
    "                                     collection = collection,\n",
    "                                     max_num_documents = 3)\n",
    "\n",
    "retriever.load()"
   ]
  },
  {
   "cell_type": "markdown",
   "metadata": {},
   "source": [
    "We provide three examples of loading models to generate answers from the prompt: GPT, Flan-T5-xxl from HuggingFace, and Flan-T5-xxl from BAM services"
   ]
  },
  {
   "cell_type": "code",
   "execution_count": 3,
   "metadata": {},
   "outputs": [],
   "source": [
    "# setup a Prompt Reader: here we use a GPT reader\n",
    "reader = PromptGPTReader(api_key='')\n",
    "reader.load()"
   ]
  },
  {
   "cell_type": "code",
   "execution_count": 4,
   "metadata": {},
   "outputs": [
    {
     "name": "stderr",
     "output_type": "stream",
     "text": [
      "21015325it [01:00, 347195.41it/s]\n"
     ]
    }
   ],
   "source": [
    "# setup the pipeline\n",
    "pipeline = QAPipeline(retriever, reader)"
   ]
  },
  {
   "cell_type": "code",
   "execution_count": 5,
   "metadata": {},
   "outputs": [
    {
     "name": "stdout",
     "output_type": "stream",
     "text": [
      "[\n",
      "    {\n",
      "        \"example_id\": 0,\n",
      "        \"text\": \"\\n\\nAnswer: Yes, smoking marijuana can impair driving. Studies have shown that smoking marijuana can slow reaction time, impair judgment, coordination and concentration, and decrease the ability to make quick decisions necessary for safe driving.\"\n",
      "    }\n",
      "]\n"
     ]
    }
   ],
   "source": [
    "# start asking questions\n",
    "questions = [\"Does smoking marijuana impair driving ?\"]\n",
    "answers = pipeline.run(questions, use_retriever=False)\n",
    "print(json.dumps(answers, indent=4))"
   ]
  },
  {
   "cell_type": "code",
   "execution_count": 6,
   "metadata": {},
   "outputs": [
    {
     "name": "stdout",
     "output_type": "stream",
     "text": [
      "[\n",
      "    {\n",
      "        \"example_id\": 0,\n",
      "        \"text\": \"\\n\\nNo, the text does not mention anything about smoking marijuana impairing driving.\",\n",
      "        \"passages\": [\n",
      "            \"\\\"tobacco companies are viewed and dismissed as \\\"\\\"deceitful\\\"\\\", i.e. as being driven by (conscious) bad intention. During the debates over the Washington, DC, smoke-free law, city council member Carol Schwartz proposed legislation that would have enacted either a substantial tax credit for businesses that chose to voluntarily restrict smoking or a quadrupling of the annual business license fee for bars, restaurants and clubs that wished to allow smoking. Additionally, locations allowing smoking would have been required to install specified high-performance ventilation systems. Critics of smoke-free laws have suggested that ventilation is a means of reducing the harmful effects of second-hand\\\"\",\n",
      "            \"\\\"smoking ban ordinances that their legislature found unacceptable. In Wauwatosa, Wisconsin, three restaurants received short-term exemptions from a local smoke-free ordinance in restaurants when they managed to demonstrate financial suffering because of it. Smoking ban Smoking bans (or smoke-free laws) are public policies, including criminal laws and occupational safety and health regulations, that prohibit tobacco smoking in workplaces and other public spaces. Legislation may also define smoking as more generally being the carrying or possessing of any lit tobacco product. Smoking bans are enacted in an attempt to protect people from the effects of second-hand smoke, which include an increased\\\"\",\n",
      "            \"\\\"\\\"\\\"catch-all\\\"\\\" statutes cover situations involving a person under the influence of drugs or under the combined influence of alcohol and drugs. With the advent of the legalization of marijuana, these catch-all provisions cover those prosecutions pursuing those charged with driving under the influence of drugs or even drugs and alcohol. All US states have implied consent laws which state that a licensed driver has given their consent to an evidential Breathalyzer or similar manner of determining blood alcohol concentration; however, in order to sustain a conviction based on evidence from a chemical test, probable cause for arrest must be demonstrated.\\\"\"\n",
      "        ]\n",
      "    }\n",
      "]\n"
     ]
    }
   ],
   "source": [
    "# start asking questions\n",
    "questions = [\"Does smoking marijuana impair driving ?\"]\n",
    "prompt_prefix = \"Answer the following question after looking at the text.\"\n",
    "answers = pipeline.run(questions, prefix=prompt_prefix, use_retriever=True)\n",
    "print(json.dumps(answers, indent=4))"
   ]
  },
  {
   "cell_type": "code",
   "execution_count": 7,
   "metadata": {
    "scrolled": true
   },
   "outputs": [
    {
     "name": "stdout",
     "output_type": "stream",
     "text": [
      "[\n",
      "    {\n",
      "        \"example_id\": 0,\n",
      "        \"text\": \"\\n\\nAnswer: The trail behind jets at high altitude is called a contrail, which is short for \\\"condensation trail\\\". Contrails are composed of water vapor that is released from the jet's engines, which then quickly freezes in the cold air at high altitudes. The resulting ice crystals form a visible plume-like trail behind the jet.\"\n",
      "    }\n",
      "]\n"
     ]
    }
   ],
   "source": [
    "# start asking questions\n",
    "questions = [\"What causes the trail behind jets at high altitude? ?\"]\n",
    "answers = pipeline.run(questions, use_retriever=False)\n",
    "print(json.dumps(answers, indent=4))"
   ]
  },
  {
   "cell_type": "code",
   "execution_count": 8,
   "metadata": {},
   "outputs": [
    {
     "name": "stdout",
     "output_type": "stream",
     "text": [
      "[\n",
      "    {\n",
      "        \"example_id\": 0,\n",
      "        \"text\": \"\\n\\nThe trail behind jets at high altitude is caused by their updrafts and outflow boundaries.\",\n",
      "        \"passages\": [\n",
      "            \"\\\"before the traveller is fully adjusted to the new time zone; a recovery period of one day per time zone crossed is a suggested guideline. Jet lag is especially an issue for airline pilots, aircraft crew, and frequent travellers. Airlines have regulations aimed at combating pilot fatigue caused by jet lag. The term \\\"\\\"jet lag\\\"\\\" is used because before the arrival of passenger jet aircraft, it was uncommon to travel far and fast enough to cause desynchronosis. Travel by propeller-driven aircraft, by ship, or by train was slower and of more limited distance than jet flights, and thus did not\\\"\",\n",
      "            \"\\\"Texas area and many people associated with DFW and American Airlines were reluctant to put any jobs at risk, especially when considering the chronic financial difficulties that modern airlines, other than Southwest, face. Another concern of people in the immediate area of the airport was that of nuisance noise and traffic; the area near Love Field, especially the incorporated \\\"\\\"Park Cities\\\"\\\" (University Park and Highland Park) and the \\\"\\\"Uptown\\\"\\\" section of Dallas, has become high-value real estate, and developers and residents feared that increased air and street traffic into the airport, and increased fuel loads for interstate flights requiring higher\\\"\",\n",
      "            \"\\\"to their updrafts and outflow boundaries, icing due to the heavy precipitation, as well as large hail, strong winds, and lightning, all of which can cause severe damage to an aircraft in flight. Volcanic ash is also a significant problem for aviation, as aircraft can lose engine power within ash clouds. On a day-to-day basis airliners are routed to take advantage of the jet stream tailwind to improve fuel efficiency. Aircrews are briefed prior to takeoff on the conditions to expect en route and at their destination. Additionally, airports often change which runway is being used to take advantage of\\\"\"\n",
      "        ]\n",
      "    }\n",
      "]\n"
     ]
    }
   ],
   "source": [
    "# start asking questions\n",
    "questions = [\"What causes the trail behind jets at high altitude? ?\"]\n",
    "prompt_prefix = \"Answer the following question after looking at the text.\"\n",
    "answers = pipeline.run(questions, prefix=prompt_prefix, use_retriever=True)\n",
    "print(json.dumps(answers, indent=4))"
   ]
  },
  {
   "cell_type": "code",
   "execution_count": null,
   "metadata": {},
   "outputs": [],
   "source": [
    "#setup a FlanT5PromptReader: note this loads a Flan T5 xxl model\n",
    "from primeqa.components.reader.prompt import PromptFLANT5Reader\n",
    "reader = PromptFLANT5Reader()\n",
    "reader.load()"
   ]
  },
  {
   "cell_type": "code",
   "execution_count": null,
   "metadata": {},
   "outputs": [],
   "source": [
    "# setup the pipeline\n",
    "pipeline = QAPipeline(retriever, reader)"
   ]
  },
  {
   "cell_type": "code",
   "execution_count": 17,
   "metadata": {},
   "outputs": [
    {
     "name": "stdout",
     "output_type": "stream",
     "text": [
      "[Feb 05, 15:18:28] #> XMLR QueryTokenizer.tensorize(batch_text[0], batch_background[0], bsize) ==\n",
      "[Feb 05, 15:18:28] #> Input: $ Does smoking marijuana impair driving ?, \t\t True, \t\t None\n",
      "[Feb 05, 15:18:28] #> Output IDs: torch.Size([32]), tensor([     0,   9748, 101790, 200166, 227071,    566, 109637, 132442,    705,\n",
      "             2,      1,      1,      1,      1,      1,      1,      1,      1,\n",
      "             1,      1,      1,      1,      1,      1,      1,      1,      1,\n",
      "             1,      1,      1,      1,      1])\n",
      "[Feb 05, 15:18:28] #> Output Mask: torch.Size([32]), tensor([1, 1, 1, 1, 1, 1, 1, 1, 1, 1, 0, 0, 0, 0, 0, 0, 0, 0, 0, 0, 0, 0, 0, 0,\n",
      "        0, 0, 0, 0, 0, 0, 0, 0])\n",
      "[Feb 05, 15:18:29] #>>>> colbert query ==\n",
      "[Feb 05, 15:18:29] #>>>>> input_ids: torch.Size([32]), tensor([     0,   9748, 101790, 200166, 227071,    566, 109637, 132442,    705,\n",
      "             2,      1,      1,      1,      1,      1,      1,      1,      1,\n",
      "             1,      1,      1,      1,      1,      1,      1,      1,      1,\n",
      "             1,      1,      1,      1,      1])\n",
      "[Feb 05, 15:18:29] #>>>> before linear query ==\n",
      "[Feb 05, 15:18:29] #>>>>> Q: torch.Size([32, 1024]), tensor([[-0.1650, -0.3333,  0.9402,  ...,  0.3227, -0.3856, -0.4365],\n",
      "        [ 0.0714, -0.7822,  0.3105,  ...,  1.2002, -1.3122, -0.1596],\n",
      "        [ 0.3656, -0.3024,  0.4815,  ...,  0.8248, -1.5551, -0.0617],\n",
      "        ...,\n",
      "        [-0.5295, -1.5305, -0.7263,  ...,  1.5818, -0.7768,  0.0924],\n",
      "        [-0.5295, -1.5305, -0.7263,  ...,  1.5818, -0.7768,  0.0924],\n",
      "        [-0.5295, -1.5305, -0.7263,  ...,  1.5818, -0.7768,  0.0924]])\n",
      "[Feb 05, 15:18:29] #>>>>> self.linear query : Parameter containing:\n",
      "tensor([[-0.0301, -0.0307, -0.0115,  ..., -0.0231, -0.0023, -0.0216],\n",
      "        [ 0.0053,  0.0023, -0.0308,  ...,  0.0108,  0.0011,  0.0201],\n",
      "        [-0.0220,  0.0370,  0.0339,  ..., -0.0023, -0.0172,  0.0244],\n",
      "        ...,\n",
      "        [ 0.0222,  0.0115, -0.0246,  ...,  0.0389, -0.0034, -0.0165],\n",
      "        [-0.0146,  0.0392,  0.0131,  ..., -0.0055,  0.0219, -0.0368],\n",
      "        [ 0.0071,  0.0256, -0.0346,  ...,  0.0322,  0.0370,  0.0437]],\n",
      "       requires_grad=True)\n",
      "[Feb 05, 15:18:29] #>>>> colbert query ==\n",
      "[Feb 05, 15:18:29] #>>>>> Q: torch.Size([32, 128]), tensor([[-0.4394, -0.1235,  0.4794,  ..., -0.0403, -0.5039, -0.4353],\n",
      "        [-0.5037, -0.8312,  0.6287,  ..., -0.0070, -1.4869, -0.4849],\n",
      "        [-0.1961, -0.9401,  0.4864,  ..., -0.2654, -1.2466, -0.4863],\n",
      "        ...,\n",
      "        [-1.0761, -0.1264,  0.8598,  ...,  0.5152, -1.2081,  0.1824],\n",
      "        [-1.0761, -0.1264,  0.8598,  ...,  0.5152, -1.2081,  0.1824],\n",
      "        [-1.0761, -0.1264,  0.8598,  ...,  0.5152, -1.2081,  0.1824]])\n"
     ]
    },
    {
     "name": "stderr",
     "output_type": "stream",
     "text": [
      "100%|██████████| 1/1 [00:00<00:00, 66.32it/s]\n",
      "/dccstor/srosent1/miniconda3/envs/primeqa4.24/lib/python3.9/site-packages/transformers/generation_utils.py:1359: UserWarning: Neither `max_length` nor `max_new_tokens` has been set, `max_length` will default to 20 (`self.config.max_length`). Controlling `max_length` via the config is deprecated and `max_length` will be removed from the config in v5 of Transformers -- we recommend using `max_new_tokens` to control the maximum length of the generation.\n",
      "  warnings.warn(\n"
     ]
    },
    {
     "name": "stdout",
     "output_type": "stream",
     "text": [
      "[\n",
      "    {\n",
      "        \"example_id\": 0,\n",
      "        \"text\": [\n",
      "            \"\\\"[a]ny amount of marijuana consumption puts you at risk of driving impaired.\\\"\\\"\"\n",
      "        ],\n",
      "        \"passages\": [\n",
      "            \"\\\"In the US state of Colorado, the state government indicates that \\\"\\\"[a]ny amount of marijuana consumption puts you at risk of driving impaired.\\\"\\\" Colorado law states that \\\"\\\"drivers with five nanograms of active tetrahydrocannabinol (THC) in their whole blood can be prosecuted for driving under the influence (DUI). However, no matter the level of THC, law enforcement officers base arrests on observed impairment.\\\"\\\" In Colorado, if consumption of marijuana is impairing your ability to drive, \\\"\\\"it is illegal for you to be driving, even if that substance is prescribed [by a doctor] or legally acquired.\\\"\\\" Section: Other drugs.:Prescription medications.\\\"\",\n",
      "            \"\\\"Section: Legal standards.:Americas.:United States.:State.:Georgia. Georgia Statute \\u00a7 40-6-391 makes it to drive while there is \\\"\\\"\\\"\\\"any amount\\\"\\\" of marijuana . . . present in the person's blood or urine, or both, \\\"\\\"including the metabolites and derivatives of each or both\\\"\\\" . . . .\\\"\\\" Subsection (b) of the statute provides that being legally entitled to use a drug is not a defense to the statute if the person is still \\\"\\\"rendered incapable of driving safely as a result\\\"\\\" of using that drug. Section: Legal standards.:Americas.:United States.:State.:Illinois.\\\"\",\n",
      "            \"Acute effects may include anxiety and panic, impaired attention and memory, an increased risk of psychotic symptoms, the inability to think clearly, and an increased risk of accidents. Cannabis impairs a person's driving ability, and THC was the illicit drug most frequently found in the blood of drivers who have been involved in vehicle crashes. Those with THC in their system were from three to seven times more likely to be the cause of the accident than those who had not used either cannabis or alcohol, although its role is not necessarily causal because THC stays in the bloodstream for\"\n",
      "        ]\n",
      "    }\n",
      "]\n"
     ]
    }
   ],
   "source": [
    "# start asking questions\n",
    "questions = [\"Does smoking marijuana impair driving ?\"]\n",
    "prompt = \"Answer the following question after looking at the text.\"\n",
    "answers = pipeline.run(questions,prompt)\n",
    "print(json.dumps(answers, indent=4))"
   ]
  },
  {
   "cell_type": "code",
   "execution_count": 18,
   "metadata": {},
   "outputs": [
    {
     "name": "stderr",
     "output_type": "stream",
     "text": [
      "100%|██████████| 1/1 [00:00<00:00, 77.71it/s]\n"
     ]
    },
    {
     "name": "stdout",
     "output_type": "stream",
     "text": [
      "[\n",
      "    {\n",
      "        \"example_id\": 0,\n",
      "        \"text\": [\n",
      "            \"condensation trails\"\n",
      "        ],\n",
      "        \"passages\": [\n",
      "            \"\\\"Aircraft flying at high altitude form condensation trails or contrails in the exhaust plume of their engines. While in the Troposphere these have very little climatic impact. However, jet aircraft cruising in the Stratosphere do create an impact from their contrails, although the extent of the damage to the environment is as yet unknown. Contrails can also trigger the formation of high-altitude Cirrus cloud thus creating a greater climatic effect. A 2015 study found that artificial cloudiness caused by contrail \\\"\\\"outbreaks\\\"\\\" reduce the difference between daytime and nighttime temperatures. The former are decreased and the latter are increased, in comparison\\\"\",\n",
      "            \"\\\"Contrails, or condensation trails, are \\\"\\\"streaks of condensed water vapor created in the air by an airplane or rocket at high altitudes.\\\"\\\" Fossil fuel combustion (as in piston and jet engines) produces carbon dioxide and water vapor. At high altitudes the air is very cold. Hot humid air from the engine exhaust mixes with the colder surrounding air, causing the water vapor to condense into droplets or ice crystals that form visible clouds. The rate at which contrails dissipate is entirely dependent on weather conditions. If the atmosphere is near saturation, the contrail may exist for some time. Conversely, if\\\"\",\n",
      "            \"\\\"Contrails (; short for \\\"\\\"condensation trails\\\"\\\") are line-shaped clouds produced by aircraft engine exhaust or changes in air pressure, typically at aircraft cruise altitudes several miles above the Earth's surface. Contrails are composed primarily of water, in the form of ice crystals. The combination of water vapor in aircraft engine exhaust and the low ambient temperatures that exist at high altitudes allows the formation of the trails. Impurities in the engine exhaust from the fuel, including sulfur compounds (0.05% by weight in jet fuel) provide some of the particles that can serve as sites for water droplet growth in the\\\"\"\n",
      "        ]\n",
      "    }\n",
      "]\n"
     ]
    }
   ],
   "source": [
    "# start asking questions\n",
    "questions = [\"What causes the trail behind jets at high altitude? ?\"]\n",
    "prompt = \"Answer the following question after looking at the text.\"\n",
    "answers = pipeline.run(questions,prompt)\n",
    "print(json.dumps(answers, indent=4))"
   ]
  },
  {
   "cell_type": "code",
   "execution_count": 19,
   "metadata": {},
   "outputs": [],
   "source": [
    "#setup a FlanT5PromptReader using the bam service (https://bam.res.ibm.com/): note this loads a Flan T5 xxl model\n",
    "from primeqa.components.reader.prompt import PromptFLANT5Reader\n",
    "reader = PromptFLANT5Reader(use_bam=True, api_key='API KEY HERE')\n",
    "reader.load()"
   ]
  },
  {
   "cell_type": "code",
   "execution_count": 20,
   "metadata": {},
   "outputs": [
    {
     "name": "stderr",
     "output_type": "stream",
     "text": [
      "14635it [00:00, 283158.38it/s]\n"
     ]
    }
   ],
   "source": [
    "# setup the pipeline\n",
    "pipeline = QAPipeline(retriever, reader)"
   ]
  },
  {
   "cell_type": "code",
   "execution_count": 21,
   "metadata": {},
   "outputs": [
    {
     "name": "stderr",
     "output_type": "stream",
     "text": [
      "100%|██████████| 1/1 [00:00<00:00, 36.33it/s]\n",
      "/dccstor/srosent1/miniconda3/envs/primeqa4.24/lib/python3.9/site-packages/urllib3/connectionpool.py:1045: InsecureRequestWarning: Unverified HTTPS request is being made to host 'bam-api.res.ibm.com'. Adding certificate verification is strongly advised. See: https://urllib3.readthedocs.io/en/1.26.x/advanced-usage.html#ssl-warnings\n",
      "  warnings.warn(\n"
     ]
    },
    {
     "name": "stdout",
     "output_type": "stream",
     "text": [
      "[\n",
      "    {\n",
      "        \"example_id\": 0,\n",
      "        \"text\": \"\\\"[a]ny amount of marijuana consumption puts you at risk of driving impaired.\\\"\\\" Colorado law states that \\\"\\\"drivers with five nanograms of active tetrahydrocannabinol (THC) in their whole blood can be prosecuted for driving under the influence (DUI). However, no matter the level of THC, law enforcement officers base arrests on observed impairment.\\\"\\\" In Colorado, if consumption of marijuana is impairing your ability to drive, \\\"\\\"it is illegal for you to be driving, even if that substance is prescribed [by a doctor] or legally acquired.\\\"\\\" Section: Other drugs.:Prescription medications.\\\", \\\"Section: Legal standards.:Americas.:United States.:State.:Georgia. Georgia Statute  40-6-391 makes it to drive while there is \\\"\\\"\\\"\\\"any amount\\\"\\\" of marijuana . . . present in the person's blood or urine, or both, \\\"\\\"including the metabolites and derivatives of each or both\\\"\\\"\\\"\\\" Subsection (b) of the statute provides that being legally entitled to use a drug\",\n",
      "        \"passages\": [\n",
      "            \"\\\"In the US state of Colorado, the state government indicates that \\\"\\\"[a]ny amount of marijuana consumption puts you at risk of driving impaired.\\\"\\\" Colorado law states that \\\"\\\"drivers with five nanograms of active tetrahydrocannabinol (THC) in their whole blood can be prosecuted for driving under the influence (DUI). However, no matter the level of THC, law enforcement officers base arrests on observed impairment.\\\"\\\" In Colorado, if consumption of marijuana is impairing your ability to drive, \\\"\\\"it is illegal for you to be driving, even if that substance is prescribed [by a doctor] or legally acquired.\\\"\\\" Section: Other drugs.:Prescription medications.\\\"\",\n",
      "            \"\\\"Section: Legal standards.:Americas.:United States.:State.:Georgia. Georgia Statute \\u00a7 40-6-391 makes it to drive while there is \\\"\\\"\\\"\\\"any amount\\\"\\\" of marijuana . . . present in the person's blood or urine, or both, \\\"\\\"including the metabolites and derivatives of each or both\\\"\\\" . . . .\\\"\\\" Subsection (b) of the statute provides that being legally entitled to use a drug is not a defense to the statute if the person is still \\\"\\\"rendered incapable of driving safely as a result\\\"\\\" of using that drug. Section: Legal standards.:Americas.:United States.:State.:Illinois.\\\"\",\n",
      "            \"Acute effects may include anxiety and panic, impaired attention and memory, an increased risk of psychotic symptoms, the inability to think clearly, and an increased risk of accidents. Cannabis impairs a person's driving ability, and THC was the illicit drug most frequently found in the blood of drivers who have been involved in vehicle crashes. Those with THC in their system were from three to seven times more likely to be the cause of the accident than those who had not used either cannabis or alcohol, although its role is not necessarily causal because THC stays in the bloodstream for\"\n",
      "        ]\n",
      "    }\n",
      "]\n"
     ]
    }
   ],
   "source": [
    "# start asking questions\n",
    "questions = [\"Does smoking marijuana impair driving ?\"]\n",
    "prompt = \"Answer the following question after looking at the text.\"\n",
    "answers = pipeline.run(questions,prompt)\n",
    "print(json.dumps(answers, indent=4))"
   ]
  },
  {
   "cell_type": "code",
   "execution_count": 22,
   "metadata": {},
   "outputs": [
    {
     "name": "stderr",
     "output_type": "stream",
     "text": [
      "100%|██████████| 1/1 [00:00<00:00, 58.55it/s]\n",
      "/dccstor/srosent1/miniconda3/envs/primeqa4.24/lib/python3.9/site-packages/urllib3/connectionpool.py:1045: InsecureRequestWarning: Unverified HTTPS request is being made to host 'bam-api.res.ibm.com'. Adding certificate verification is strongly advised. See: https://urllib3.readthedocs.io/en/1.26.x/advanced-usage.html#ssl-warnings\n",
      "  warnings.warn(\n"
     ]
    },
    {
     "name": "stdout",
     "output_type": "stream",
     "text": [
      "[\n",
      "    {\n",
      "        \"example_id\": 0,\n",
      "        \"text\": \"condensation trails or contrails in the exhaust plume of their engines. While in the Troposphere these have very little climatic impact. However, jet aircraft cruising in the Stratosphere do create an impact from their contrails, although the extent of the damage to the environment is as yet unknown. Contrails can also trigger the formation of high-altitude Cirrus cloud thus creating a greater climatic effect. A 2015 study found that artificial cloudiness caused by contrail \\\"\\\"outbreaks\\\"\\\" reduce the difference between daytime and nighttime temperatures. The former are decreased and the latter are increased, in comparison\\\"\",\n",
      "        \"passages\": [\n",
      "            \"\\\"Aircraft flying at high altitude form condensation trails or contrails in the exhaust plume of their engines. While in the Troposphere these have very little climatic impact. However, jet aircraft cruising in the Stratosphere do create an impact from their contrails, although the extent of the damage to the environment is as yet unknown. Contrails can also trigger the formation of high-altitude Cirrus cloud thus creating a greater climatic effect. A 2015 study found that artificial cloudiness caused by contrail \\\"\\\"outbreaks\\\"\\\" reduce the difference between daytime and nighttime temperatures. The former are decreased and the latter are increased, in comparison\\\"\",\n",
      "            \"\\\"Contrails, or condensation trails, are \\\"\\\"streaks of condensed water vapor created in the air by an airplane or rocket at high altitudes.\\\"\\\" Fossil fuel combustion (as in piston and jet engines) produces carbon dioxide and water vapor. At high altitudes the air is very cold. Hot humid air from the engine exhaust mixes with the colder surrounding air, causing the water vapor to condense into droplets or ice crystals that form visible clouds. The rate at which contrails dissipate is entirely dependent on weather conditions. If the atmosphere is near saturation, the contrail may exist for some time. Conversely, if\\\"\",\n",
      "            \"\\\"Contrails (; short for \\\"\\\"condensation trails\\\"\\\") are line-shaped clouds produced by aircraft engine exhaust or changes in air pressure, typically at aircraft cruise altitudes several miles above the Earth's surface. Contrails are composed primarily of water, in the form of ice crystals. The combination of water vapor in aircraft engine exhaust and the low ambient temperatures that exist at high altitudes allows the formation of the trails. Impurities in the engine exhaust from the fuel, including sulfur compounds (0.05% by weight in jet fuel) provide some of the particles that can serve as sites for water droplet growth in the\\\"\"\n",
      "        ]\n",
      "    }\n",
      "]\n"
     ]
    }
   ],
   "source": [
    "# start asking questions\n",
    "questions = [\"What causes the trail behind jets at high altitude? ?\"]\n",
    "prompt = \"Answer the following question after looking at the text.\"\n",
    "answers = pipeline.run(questions,prompt)\n",
    "print(json.dumps(answers, indent=4))"
   ]
  }
 ],
 "metadata": {
  "kernelspec": {
   "display_name": "Python 3 (ipykernel)",
   "language": "python",
   "name": "python3"
  },
  "language_info": {
   "codemirror_mode": {
    "name": "ipython",
    "version": 3
   },
   "file_extension": ".py",
   "mimetype": "text/x-python",
   "name": "python",
   "nbconvert_exporter": "python",
   "pygments_lexer": "ipython3",
   "version": "3.9.16"
  },
  "vscode": {
   "interpreter": {
    "hash": "e7370f93d1d0cde622a1f8e1c04877d8463912d04d973331ad4851f04de6915a"
   }
  }
 },
 "nbformat": 4,
 "nbformat_minor": 2
}
