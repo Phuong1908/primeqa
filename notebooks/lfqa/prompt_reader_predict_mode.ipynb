{
 "cells": [
  {
   "cell_type": "code",
   "execution_count": 1,
   "metadata": {},
   "outputs": [
    {
     "name": "stdout",
     "output_type": "stream",
     "text": [
      "{\"time\":\"2023-02-13 12:31:56,103\", \"name\": \"faiss.loader\", \"level\": \"INFO\", \"message\": \"Loading faiss with AVX2 support.\"}\n",
      "{\"time\":\"2023-02-13 12:31:56,193\", \"name\": \"faiss.loader\", \"level\": \"INFO\", \"message\": \"Successfully loaded faiss with AVX2 support.\"}\n"
     ]
    }
   ],
   "source": [
    "from primeqa.components.retriever.dense import ColBERTRetriever\n",
    "from primeqa.components.retriever.dense import DPRRetriever\n",
    "from primeqa.components.reader.prompt import PromptGPTReader\n",
    "from primeqa.pipelines.qa_pipeline import QAPipeline\n",
    "import json"
   ]
  },
  {
   "cell_type": "code",
   "execution_count": 2,
   "metadata": {},
   "outputs": [
    {
     "name": "stdout",
     "output_type": "stream",
     "text": [
      "[Feb 13, 12:32:03] #> base_config.py from_path /dccstor/colbert-ir/franzm/indexes/oct2_10_11/oct2_10_11_exp/indexes//oct2_10_11_indname/metadata.json\n",
      "[Feb 13, 12:32:03] #> base_config.py from_path args loaded! \n",
      "[Feb 13, 12:32:03] #> base_config.py from_path args replaced ! \n",
      "[Feb 13, 12:32:15] #>>>>> at ColBERT name (model type) : /dccstor/colbert-ir/franzm/experiments/oct2_7_12_1.5e-06/none/2022-10/09/15.21.39/checkpoints/colbert.dnn.batch_91287.model\n",
      "[Feb 13, 12:32:15] #>>>>> at BaseColBERT name (model type) : /dccstor/colbert-ir/franzm/experiments/oct2_7_12_1.5e-06/none/2022-10/09/15.21.39/checkpoints/colbert.dnn.batch_91287.model\n",
      "[Feb 13, 12:32:24] factory model type: xlm-roberta-large\n",
      "[Feb 13, 12:32:39] get query model type: xlm-roberta-large\n",
      "[Feb 13, 12:32:40] get doc model type: xlm-roberta-large\n",
      "[Feb 13, 12:32:53] #> Loading codec...\n",
      "[Feb 13, 12:32:53] #> base_config.py from_path /dccstor/colbert-ir/franzm/indexes/oct2_10_11/oct2_10_11_exp/indexes//oct2_10_11_indname/metadata.json\n",
      "[Feb 13, 12:32:53] #> base_config.py from_path args loaded! \n",
      "[Feb 13, 12:32:53] #> base_config.py from_path args replaced ! \n",
      "[Feb 13, 12:32:53] Loading decompress_residuals_cpp extension (set COLBERT_LOAD_TORCH_EXTENSION_VERBOSE=True for more info)...\n",
      "[Feb 13, 12:32:54] Loading packbits_cpp extension (set COLBERT_LOAD_TORCH_EXTENSION_VERBOSE=True for more info)...\n",
      "[Feb 13, 12:32:55] #> Loading IVF...\n"
     ]
    }
   ],
   "source": [
    "# setup ColBERT index\n",
    "index_root = \"/dccstor/colbert-ir/franzm/indexes/oct2_10_11/oct2_10_11_exp/indexes/\"\n",
    "index_name = \"oct2_10_11_indname\"\n",
    "collection = \"/dccstor/avi7/neural_ir/colbert/data/psgs_w100.tsv\"\n",
    "\n",
    "\n",
    "retriever = ColBERTRetriever(index_root = index_root, \n",
    "                                     index_name = index_name, \n",
    "                                     collection = collection, \n",
    "                                     max_num_documents = 3)\n",
    "retriever.load()"
   ]
  },
  {
   "cell_type": "code",
   "execution_count": 2,
   "metadata": {},
   "outputs": [
    {
     "name": "stdout",
     "output_type": "stream",
     "text": [
      "{\"time\":\"2023-02-13 12:22:49,144\", \"name\": \"primeqa.ir.dense.dpr_top.torch_util.hypers_base\", \"level\": \"INFO\", \"message\": \"world_rank 0 cuda_is_available True cuda_device_cnt 1 on cccxc564, CUDA_VISIBLE_DEVICES = 0\"}\n",
      "{\"time\":\"2023-02-13 12:23:48,217\", \"name\": \"primeqa.ir.dense.dpr_top.dpr.searcher\", \"level\": \"INFO\", \"message\": \"Using sharded faiss, reading shards from /dccstor/colbert-ir/franzm/experiments/oct2_18_20\"}\n",
      "{\"time\":\"2023-02-13 12:23:48,218\", \"name\": \"primeqa.ir.dense.dpr_top.dpr.searcher\", \"level\": \"INFO\", \"message\": \"Reading passages_1_of_40.json.gz.records\"}\n",
      "{\"time\":\"2023-02-13 12:23:51,505\", \"name\": \"primeqa.ir.dense.dpr_top.dpr.searcher\", \"level\": \"INFO\", \"message\": \"Reading passages_15_of_40.json.gz.records\"}\n",
      "{\"time\":\"2023-02-13 12:23:54,465\", \"name\": \"primeqa.ir.dense.dpr_top.dpr.searcher\", \"level\": \"INFO\", \"message\": \"Reading passages_4_of_40.json.gz.records\"}\n",
      "{\"time\":\"2023-02-13 12:23:56,992\", \"name\": \"primeqa.ir.dense.dpr_top.dpr.searcher\", \"level\": \"INFO\", \"message\": \"Reading passages_19_of_40.json.gz.records\"}\n",
      "{\"time\":\"2023-02-13 12:23:59,140\", \"name\": \"primeqa.ir.dense.dpr_top.dpr.searcher\", \"level\": \"INFO\", \"message\": \"Reading passages_38_of_40.json.gz.records\"}\n",
      "{\"time\":\"2023-02-13 12:24:00,532\", \"name\": \"primeqa.ir.dense.dpr_top.dpr.searcher\", \"level\": \"INFO\", \"message\": \"Reading passages_11_of_40.json.gz.records\"}\n",
      "{\"time\":\"2023-02-13 12:24:04,284\", \"name\": \"primeqa.ir.dense.dpr_top.dpr.searcher\", \"level\": \"INFO\", \"message\": \"Reading passages_22_of_40.json.gz.records\"}\n",
      "{\"time\":\"2023-02-13 12:24:07,281\", \"name\": \"primeqa.ir.dense.dpr_top.dpr.searcher\", \"level\": \"INFO\", \"message\": \"Reading passages_8_of_40.json.gz.records\"}\n",
      "{\"time\":\"2023-02-13 12:24:10,204\", \"name\": \"primeqa.ir.dense.dpr_top.dpr.searcher\", \"level\": \"INFO\", \"message\": \"Reading passages_12_of_40.json.gz.records\"}\n",
      "{\"time\":\"2023-02-13 12:24:13,950\", \"name\": \"primeqa.ir.dense.dpr_top.dpr.searcher\", \"level\": \"INFO\", \"message\": \"Reading passages_24_of_40.json.gz.records\"}\n",
      "{\"time\":\"2023-02-13 12:24:15,509\", \"name\": \"primeqa.ir.dense.dpr_top.dpr.searcher\", \"level\": \"INFO\", \"message\": \"Reading passages_5_of_40.json.gz.records\"}\n",
      "{\"time\":\"2023-02-13 12:24:17,609\", \"name\": \"primeqa.ir.dense.dpr_top.dpr.searcher\", \"level\": \"INFO\", \"message\": \"Reading passages_2_of_40.json.gz.records\"}\n",
      "{\"time\":\"2023-02-13 12:24:20,427\", \"name\": \"primeqa.ir.dense.dpr_top.dpr.searcher\", \"level\": \"INFO\", \"message\": \"Reading passages_31_of_40.json.gz.records\"}\n",
      "{\"time\":\"2023-02-13 12:24:22,375\", \"name\": \"primeqa.ir.dense.dpr_top.dpr.searcher\", \"level\": \"INFO\", \"message\": \"Reading passages_18_of_40.json.gz.records\"}\n",
      "{\"time\":\"2023-02-13 12:24:27,115\", \"name\": \"primeqa.ir.dense.dpr_top.dpr.searcher\", \"level\": \"INFO\", \"message\": \"Reading passages_34_of_40.json.gz.records\"}\n",
      "{\"time\":\"2023-02-13 12:24:29,722\", \"name\": \"primeqa.ir.dense.dpr_top.dpr.searcher\", \"level\": \"INFO\", \"message\": \"Reading passages_20_of_40.json.gz.records\"}\n",
      "{\"time\":\"2023-02-13 12:24:33,138\", \"name\": \"primeqa.ir.dense.dpr_top.dpr.searcher\", \"level\": \"INFO\", \"message\": \"Reading passages_25_of_40.json.gz.records\"}\n",
      "{\"time\":\"2023-02-13 12:24:34,869\", \"name\": \"primeqa.ir.dense.dpr_top.dpr.searcher\", \"level\": \"INFO\", \"message\": \"Reading passages_36_of_40.json.gz.records\"}\n",
      "{\"time\":\"2023-02-13 12:24:38,347\", \"name\": \"primeqa.ir.dense.dpr_top.dpr.searcher\", \"level\": \"INFO\", \"message\": \"Reading passages_3_of_40.json.gz.records\"}\n",
      "{\"time\":\"2023-02-13 12:24:41,859\", \"name\": \"primeqa.ir.dense.dpr_top.dpr.searcher\", \"level\": \"INFO\", \"message\": \"Reading passages_23_of_40.json.gz.records\"}\n",
      "{\"time\":\"2023-02-13 12:24:45,784\", \"name\": \"primeqa.ir.dense.dpr_top.dpr.searcher\", \"level\": \"INFO\", \"message\": \"Reading passages_39_of_40.json.gz.records\"}\n",
      "{\"time\":\"2023-02-13 12:24:49,762\", \"name\": \"primeqa.ir.dense.dpr_top.dpr.searcher\", \"level\": \"INFO\", \"message\": \"Reading passages_37_of_40.json.gz.records\"}\n",
      "{\"time\":\"2023-02-13 12:24:52,813\", \"name\": \"primeqa.ir.dense.dpr_top.dpr.searcher\", \"level\": \"INFO\", \"message\": \"Reading passages_35_of_40.json.gz.records\"}\n",
      "{\"time\":\"2023-02-13 12:24:55,711\", \"name\": \"primeqa.ir.dense.dpr_top.dpr.searcher\", \"level\": \"INFO\", \"message\": \"Reading passages_30_of_40.json.gz.records\"}\n",
      "{\"time\":\"2023-02-13 12:24:57,843\", \"name\": \"primeqa.ir.dense.dpr_top.dpr.searcher\", \"level\": \"INFO\", \"message\": \"Reading passages_14_of_40.json.gz.records\"}\n",
      "{\"time\":\"2023-02-13 12:25:01,208\", \"name\": \"primeqa.ir.dense.dpr_top.dpr.searcher\", \"level\": \"INFO\", \"message\": \"Reading passages_21_of_40.json.gz.records\"}\n",
      "{\"time\":\"2023-02-13 12:25:07,951\", \"name\": \"primeqa.ir.dense.dpr_top.dpr.searcher\", \"level\": \"INFO\", \"message\": \"Reading passages_27_of_40.json.gz.records\"}\n",
      "{\"time\":\"2023-02-13 12:25:09,757\", \"name\": \"primeqa.ir.dense.dpr_top.dpr.searcher\", \"level\": \"INFO\", \"message\": \"Reading passages_6_of_40.json.gz.records\"}\n",
      "{\"time\":\"2023-02-13 12:25:11,269\", \"name\": \"primeqa.ir.dense.dpr_top.dpr.searcher\", \"level\": \"INFO\", \"message\": \"Reading passages_40_of_40.json.gz.records\"}\n",
      "{\"time\":\"2023-02-13 12:25:12,868\", \"name\": \"primeqa.ir.dense.dpr_top.dpr.searcher\", \"level\": \"INFO\", \"message\": \"Reading passages_16_of_40.json.gz.records\"}\n",
      "{\"time\":\"2023-02-13 12:25:15,310\", \"name\": \"primeqa.ir.dense.dpr_top.dpr.searcher\", \"level\": \"INFO\", \"message\": \"Reading passages_17_of_40.json.gz.records\"}\n",
      "{\"time\":\"2023-02-13 12:25:19,051\", \"name\": \"primeqa.ir.dense.dpr_top.dpr.searcher\", \"level\": \"INFO\", \"message\": \"Reading passages_28_of_40.json.gz.records\"}\n",
      "{\"time\":\"2023-02-13 12:25:21,610\", \"name\": \"primeqa.ir.dense.dpr_top.dpr.searcher\", \"level\": \"INFO\", \"message\": \"Reading passages_32_of_40.json.gz.records\"}\n",
      "{\"time\":\"2023-02-13 12:25:24,928\", \"name\": \"primeqa.ir.dense.dpr_top.dpr.searcher\", \"level\": \"INFO\", \"message\": \"Reading passages_10_of_40.json.gz.records\"}\n",
      "{\"time\":\"2023-02-13 12:25:28,243\", \"name\": \"primeqa.ir.dense.dpr_top.dpr.searcher\", \"level\": \"INFO\", \"message\": \"Reading passages_13_of_40.json.gz.records\"}\n",
      "{\"time\":\"2023-02-13 12:25:30,909\", \"name\": \"primeqa.ir.dense.dpr_top.dpr.searcher\", \"level\": \"INFO\", \"message\": \"Reading passages_26_of_40.json.gz.records\"}\n",
      "{\"time\":\"2023-02-13 12:25:34,198\", \"name\": \"primeqa.ir.dense.dpr_top.dpr.searcher\", \"level\": \"INFO\", \"message\": \"Reading passages_7_of_40.json.gz.records\"}\n",
      "{\"time\":\"2023-02-13 12:25:35,761\", \"name\": \"primeqa.ir.dense.dpr_top.dpr.searcher\", \"level\": \"INFO\", \"message\": \"Reading passages_9_of_40.json.gz.records\"}\n",
      "{\"time\":\"2023-02-13 12:25:39,604\", \"name\": \"primeqa.ir.dense.dpr_top.dpr.searcher\", \"level\": \"INFO\", \"message\": \"Reading passages_33_of_40.json.gz.records\"}\n",
      "{\"time\":\"2023-02-13 12:25:42,498\", \"name\": \"primeqa.ir.dense.dpr_top.dpr.searcher\", \"level\": \"INFO\", \"message\": \"Reading passages_29_of_40.json.gz.records\"}\n",
      "{\"time\":\"2023-02-13 12:25:43,971\", \"name\": \"primeqa.ir.dense.dpr_top.dpr.searcher\", \"level\": \"INFO\", \"message\": \"Using sharded faiss with 40 shards.\"}\n"
     ]
    }
   ],
   "source": [
    "#checkpoint = \"/dccstor/colbert-ir/franzm/experiments/jan3_7_10/qry_encoder\"\n",
    "checkpoint = \"/dccstor/colbert-ir/franzm/experiments/oct2_18_10/qry_encoder\"\n",
    "index_root = \"/dccstor/colbert-ir/franzm/experiments/\"\n",
    "index_name = \"oct2_18_20\"\n",
    "collection = \"/dccstor/avi7/neural_ir/colbert/data/psgs_w100.tsv\"\n",
    "\n",
    "retriever = DPRRetriever(index_root = index_root, \n",
    "                                     index_name = index_name,  \n",
    "                                     checkpoint = checkpoint,\n",
    "                                     collection = collection,\n",
    "                                     max_num_documents = 3)\n",
    "\n",
    "retriever.load()"
   ]
  },
  {
   "cell_type": "markdown",
   "metadata": {},
   "source": [
    "We provide three examples of loading models to generate answers from the prompt: GPT, Flan-T5-xxl from HuggingFace, and Flan-T5-xxl from BAM services"
   ]
  },
  {
   "cell_type": "code",
   "execution_count": 3,
   "metadata": {},
   "outputs": [],
   "source": [
    "# setup a Prompt Reader: here we use a GPT reader\n",
    "reader = PromptGPTReader(api_key='API KEY HERE')\n",
    "reader.load()"
   ]
  },
  {
   "cell_type": "code",
   "execution_count": 4,
   "metadata": {},
   "outputs": [
    {
     "name": "stderr",
     "output_type": "stream",
     "text": [
      "21015325it [01:04, 325853.20it/s]\n"
     ]
    }
   ],
   "source": [
    "# setup the pipeline\n",
    "pipeline = QAPipeline(retriever, reader)"
   ]
  },
  {
   "cell_type": "code",
   "execution_count": 5,
   "metadata": {},
   "outputs": [
    {
     "name": "stdout",
     "output_type": "stream",
     "text": [
      "[\n",
      "    {\n",
      "        \"example_id\": 0,\n",
      "        \"text\": \"\\n\\nAnswer: Yes, smoking marijuana can impair driving. Studies have shown that marijuana use can lead to reduced attention, coordination, and reaction time, as well as altered perception and judgment, which can all increase the risk of a car accident.\"\n",
      "    }\n",
      "]\n"
     ]
    }
   ],
   "source": [
    "# start asking questions\n",
    "questions = [\"Does smoking marijuana impair driving ?\"]\n",
    "answers = pipeline.run(questions, use_retriever=False)\n",
    "print(json.dumps(answers, indent=4))"
   ]
  },
  {
   "cell_type": "code",
   "execution_count": 7,
   "metadata": {},
   "outputs": [
    {
     "name": "stderr",
     "output_type": "stream",
     "text": [
      "100%|███████████████████████████████████████████████████████████████████████████████████████████████████████████████████████████████████████| 1/1 [00:00<00:00, 57.50it/s]\n"
     ]
    },
    {
     "name": "stdout",
     "output_type": "stream",
     "text": [
      "[\n",
      "    {\n",
      "        \"example_id\": 0,\n",
      "        \"text\": \"\\n\\nYes, smoking marijuana can impair driving. Studies have found that drivers who tested positive for marijuana were no more likely to crash than those who had not used any drugs or alcohol prior to driving. However, law enforcement officers base arrests on observed impairment, and it is illegal to be driving if consumption of marijuana is impairing your ability to drive.\",\n",
      "        \"passages\": [\n",
      "            \"\\\"Driving under the influence\\\"\\n \\\"driving under the influence (DUI). However, no matter the level of THC, law enforcement officers base arrests on observed impairment.\\\"\\\" In Colorado, if consumption of marijuana is impairing your ability to drive, \\\"\\\"it is illegal for you to be driving, even if that substance is prescribed [by a doctor] or legally acquired.\\\"\\\" Prescription medications such as opioids and benzodiazepines often cause side effects such as excessive drowsiness, and, in the case of opioids, nausea. Other prescription drugs including antiepileptics and antidepressants are now also believed to have the same effect. In the last ten years, there has been an increase\\\"\",\n",
      "            \"\\\"Child development\\\"\\n \\\"the child. Parental marijuana exposure may have long-term emotional and behavioral consequences. A ten-year-old child who had been exposed to the drug during pregnancy reported more depressive symptoms than fetuses unexposed. Some short-term effects include executive function impairment, reading difficulty, and delayed state regulation. An opiate drug, such as heroin, decreases birth weight, birth length, and head circumference when exposed to the fetus. Parental opiate exposure has greater conflicting impact than parental cocaine exposure on the infant's Central Nervous System and autonomic nervous system. There are also some negative consequences on a child that you wouldn\\u2019t think of with opiates,\\\"\",\n",
      "            \"\\\"Effects of cannabis\\\"\\n \\\"studies have found lower (or no) elevated crash risk estimates\\\"\\\". The study found that \\\"\\\"after adjusting for age, gender, race and alcohol use, drivers who tested positive for marijuana were no more likely to crash than those who had not used any drugs or alcohol prior to driving\\\"\\\". On the other hand, a recent study of Journal of Transport & Health indicated that the numbers of fatal crashes involving marijuana after the recreational marijuana legalization or decriminalization have significantly increased in Colorado, Washington, and Massachusetts. Short-term (one to two hours) effects on the cardiovascular system can include increased heart rate,\\\"\"\n",
      "        ]\n",
      "    }\n",
      "]\n"
     ]
    }
   ],
   "source": [
    "# start asking questions\n",
    "questions = [\"Does smoking marijuana impair driving ?\"]\n",
    "prompt_prefix = \"Answer the following question after looking at the text.\"\n",
    "answers = pipeline.run(questions, prefix=prompt_prefix, use_retriever=True)\n",
    "print(json.dumps(answers, indent=4))"
   ]
  },
  {
   "cell_type": "code",
   "execution_count": 8,
   "metadata": {
    "scrolled": true
   },
   "outputs": [
    {
     "name": "stdout",
     "output_type": "stream",
     "text": [
      "[\n",
      "    {\n",
      "        \"example_id\": 0,\n",
      "        \"text\": \"\\n\\nAnswer: At high altitudes, jets leave a trail of water vapor, ice crystals, and other particles behind them. These trails are known as contrails and form when hot, humid air from the jet exhaust mixes with the cold, dry air in the upper atmosphere.\"\n",
      "    }\n",
      "]\n"
     ]
    }
   ],
   "source": [
    "# start asking questions\n",
    "questions = [\"What causes the trail behind jets at high altitude?\"]\n",
    "answers = pipeline.run(questions, use_retriever=False)\n",
    "print(json.dumps(answers, indent=4))"
   ]
  },
  {
   "cell_type": "code",
   "execution_count": 9,
   "metadata": {},
   "outputs": [
    {
     "name": "stderr",
     "output_type": "stream",
     "text": [
      "100%|███████████████████████████████████████████████████████████████████████████████████████████████████████████████████████████████████████| 1/1 [00:00<00:00, 29.80it/s]\n"
     ]
    },
    {
     "name": "stdout",
     "output_type": "stream",
     "text": [
      "[\n",
      "    {\n",
      "        \"example_id\": 0,\n",
      "        \"text\": \"\\n\\nContrails are caused by the combustion of fuel in jet engines at high altitude. They are visible cores of wingtip vortices that trail behind the wingtips and wing flaps rather than behind the engines.\",\n",
      "        \"passages\": [\n",
      "            \"\\\"Mitigation of aviation's environmental impact\\\"\\n \\\"of fuel and are produced in greater quantities in engines with low pressure gains in the compressors and/or relatively low temperatures in the combustor. As with particulates, UHC has all but been eliminated in modern jet engines through improved design and technology. Aircraft flying at high altitude form condensation trails or contrails in the exhaust plume of their engines. While in the Troposphere these have very little climatic impact. However, jet aircraft cruising in the Stratosphere do create an impact from their contrails, although the extent of the damage to the environment is as yet unknown. Contrails can also trigger\\\"\",\n",
      "            \"Contrail\\n \\\"cores of wingtip vortices contrast with the other major type of contrails which are caused by the combustion of fuel. Contrails produced from jet engine exhaust are seen at high altitude, directly behind each engine. By contrast, the visible cores of wingtip vortices are usually seen only at low altitude where the aircraft is travelling slowly after takeoff or before landing, and where the ambient humidity is higher. They trail behind the wingtips and wing flaps rather than behind the engines. At high-thrust settings the fan blades at the intake of a turbofan engine reach transonic speeds, causing a sudden\\\"\",\n",
      "            \"\\\"Chemtrail conspiracy theory\\\"\\n \\\"enact a Space Preservation Act. In 2003, in a response to a petition by concerned Canadian citizens regarding \\\"\\\"chemicals used in aerial sprayings are adversely affecting the health of Canadians,\\\"\\\" the Government House Leader responded by stating, \\\"\\\"There is no substantiated evidence, scientific or otherwise, to support the allegation that there is high altitude spraying conducted in Canadian airspace. The term 'chemtrails' is a popularised expression, and there is no scientific evidence to support their existence.\\\"\\\" The house leader went on to say that \\\"\\\"it is our belief that the petitioners are seeing regular airplane condensation trails, or contrails.\\\"\\\" In\\\"\"\n",
      "        ]\n",
      "    }\n",
      "]\n"
     ]
    }
   ],
   "source": [
    "# start asking questions\n",
    "questions = [\"What causes the trail behind jets at high altitude?\"]\n",
    "prompt_prefix = \"Answer the following question after looking at the text.\"\n",
    "answers = pipeline.run(questions, prefix=prompt_prefix, use_retriever=True)\n",
    "print(json.dumps(answers, indent=4))"
   ]
  },
  {
   "cell_type": "code",
   "execution_count": 10,
   "metadata": {},
   "outputs": [
    {
     "name": "stdout",
     "output_type": "stream",
     "text": [
      "[\n",
      "    {\n",
      "        \"example_id\": 0,\n",
      "        \"text\": \"\\n\\nAnswer: 22.\"\n",
      "    }\n",
      "]\n"
     ]
    }
   ],
   "source": [
    "# start asking questions\n",
    "questions = [\"number of participating countries in tour de france 2017 ?\"]\n",
    "answers = pipeline.run(questions, use_retriever=False)\n",
    "print(json.dumps(answers, indent=4))"
   ]
  },
  {
   "cell_type": "code",
   "execution_count": 34,
   "metadata": {},
   "outputs": [
    {
     "name": "stderr",
     "output_type": "stream",
     "text": [
      "100%|███████████████████████████████████████████████████████████████████████████████████████████████████████████████████████████████████████| 1/1 [00:00<00:00, 35.16it/s]\n"
     ]
    },
    {
     "name": "stdout",
     "output_type": "stream",
     "text": [
      "[\n",
      "    {\n",
      "        \"example_id\": 0,\n",
      "        \"text\": \"\\n\\nAnswer: 32 countries\",\n",
      "        \"passages\": [\n",
      "            \"\\\"2017 Tour de France\\\"\\n \\\"de France. The total number of riders that finished the race was 167. The riders came from 32 countries. Six countries had more than 10 riders in the race: France (39), Italy (18), Belgium (16), Germany (16), the Netherlands (15), and Spain (13). The average age of riders in the race was 29.4 years, ranging from the 22-year-old \\u00c9lie Gesbert () to the 40-year-old Haimar Zubeldia (). had the youngest average age while had the oldest. The teams entering the race were: In the lead up to the 2017 Tour de France, Chris Froome () was seen by many pundits\\\"\",\n",
      "            \"\\\"2018 Tour de France\\\"\\n \\\"reduced the number of riders per team for Grand Tours from 9 to 8, resulting in a start list total of 176, instead of the usual 198. Of these, 35 competed in their first Tour de France. The total number of riders that finished the race was 145. The riders came from 30 countries. Seven countries had more than 10 riders in the race: France (35), Belgium (19), the Netherlands (13), Italy (13), Australia (11), Germany (11) and Spain (11). The average age of riders in the race was 29.37 years, ranging from the 21-year-old Egan Bernal () to the\\\"\",\n",
      "            \"\\\"2016 Tour de France\\\"\\n \\\"were competing in their first Tour de France. The total number of riders that finished the race was 174, beating the previous record of 170 set in 2010 Tour. The riders came from 35 countries; France, Spain, the Netherlands, Belgium, Italy and Germany all had 10 or more riders in the race. Riders from ten countries won stages during the race; British riders won the largest number of stages, with seven. The average age of riders in the race was 30 years, ranging from the 22-year-old Sondre Holst Enger () to the 42-year-old Matteo Tosatto (). Of the total average\\\"\"\n",
      "        ]\n",
      "    }\n",
      "]\n"
     ]
    }
   ],
   "source": [
    "# start asking questions\n",
    "questions = [\"number of participating countries in tour de france 2017 ?\"]\n",
    "prompt_prefix = \"Answer the following question after looking at the text.\"\n",
    "answers = pipeline.run(questions, prefix=prompt_prefix, use_retriever=True)\n",
    "print(json.dumps(answers, indent=4))"
   ]
  },
  {
   "cell_type": "code",
   "execution_count": 64,
   "metadata": {},
   "outputs": [
    {
     "name": "stdout",
     "output_type": "stream",
     "text": [
      "[\n",
      "    {\n",
      "        \"example_id\": 0,\n",
      "        \"text\": \"\\n\\nAs of 2017, 31 states in the US have the death penalty.\"\n",
      "    }\n",
      "]\n"
     ]
    }
   ],
   "source": [
    "# start asking questions\n",
    "questions = [\"how many states in the us have the death penalty 2017 ?\"]\n",
    "answers = pipeline.run(questions, use_retriever=False)\n",
    "print(json.dumps(answers, indent=4))"
   ]
  },
  {
   "cell_type": "code",
   "execution_count": 16,
   "metadata": {},
   "outputs": [
    {
     "name": "stderr",
     "output_type": "stream",
     "text": [
      "100%|███████████████████████████████████████████████████████████████████████████████████████████████████████████████████████████████████████| 1/1 [00:00<00:00, 94.43it/s]\n"
     ]
    },
    {
     "name": "stdout",
     "output_type": "stream",
     "text": [
      "[\n",
      "    {\n",
      "        \"example_id\": 0,\n",
      "        \"text\": \"\\n\\n31 states\",\n",
      "        \"passages\": [\n",
      "            \"\\\"Capital punishment debate in the United States\\\"\\n \\\"Capital punishment debate in the United States Capital punishment debate in the United States existed as early as the colonial period. As of 2017 it remains a legal penalty in 31 states, the federal government, and military criminal justice systems. Gallup, Inc. monitors support for the death penalty in the United States since 1937 by asking \\\"\\\"Are you in favor of the death penalty for a person convicted of murder?\\\"\\\" Opposition to the death penalty peaked in 1966, with 47% of Americans opposing it; by comparison, 42% supported the death penalty and 11% had \\\"\\\"no opinion.\\\"\\\" The death penalty increased\\\"\",\n",
      "            \"\\\"United States\\\"\\n \\\"3,246 violent and property crimes per 100,000 residents in 2012, for a total of over 9 million total crimes. Capital punishment is sanctioned in the United States for certain federal and military crimes, and used in 31 states. No executions took place from 1967 to 1977, owing in part to a U.S. Supreme Court ruling striking down arbitrary imposition of the death penalty. In 1976, that Court ruled that, under appropriate circumstances, capital punishment may constitutionally be imposed. Since the decision there have been more than 1,300 executions, a majority of these taking place in three states: Texas, Virginia, and\\\"\",\n",
      "            \"\\\"On Death Row\\\"\\n \\\"Paula Zahn were inserted after each commercial break. These \\\"\\\"bumpers\\\"\\\" were poorly received in reviews. Each episode of the series profiles a particular death row inmate, beginning with Herzog's statement: Since the series was produced in 2012 some regulations have changed. , the death penalty is legal in 31 states. Lethal injection is the primary method of execution, but some states allow other methods. Several states allow death row inmates to choose their method of execution from a list of approved methods. Most of the episode's runtime consists of the interview subject speaking to Herzog, who never appears on screen.\\\"\"\n",
      "        ]\n",
      "    }\n",
      "]\n"
     ]
    }
   ],
   "source": [
    "# start asking questions\n",
    "questions = [\"how many states in the us have the death penalty 2018 ?\"]\n",
    "prompt_prefix = \"Answer the following question after looking at the text.\"\n",
    "answers = pipeline.run(questions, prefix=prompt_prefix, use_retriever=True)\n",
    "print(json.dumps(answers, indent=4))"
   ]
  },
  {
   "cell_type": "code",
   "execution_count": 65,
   "metadata": {},
   "outputs": [
    {
     "name": "stdout",
     "output_type": "stream",
     "text": [
      "[\n",
      "    {\n",
      "        \"example_id\": 0,\n",
      "        \"text\": \"\\n\\nNew Hampshire has two area codes: 603 and 380.\"\n",
      "    }\n",
      "]\n"
     ]
    }
   ],
   "source": [
    "# start asking questions\n",
    "questions = [\"How many area codes are in New Hampshire ?\"]\n",
    "answers = pipeline.run(questions, use_retriever=False)\n",
    "print(json.dumps(answers, indent=4))"
   ]
  },
  {
   "cell_type": "code",
   "execution_count": 66,
   "metadata": {},
   "outputs": [
    {
     "name": "stderr",
     "output_type": "stream",
     "text": [
      "100%|███████████████████████████████████████████████████████████████████████████████████████████████████████████████████████████████████████| 1/1 [00:00<00:00, 52.50it/s]\n"
     ]
    },
    {
     "name": "stdout",
     "output_type": "stream",
     "text": [
      "[\n",
      "    {\n",
      "        \"example_id\": 0,\n",
      "        \"text\": \"\\n\\nAnswer: One\",\n",
      "        \"passages\": [\n",
      "            \"\\\"Area code 603\\\"\\n \\\"previously allocated telephone numbers, as well as number pooling, the exhaustion time frame has been moved beyond 2025. Since New Hampshire has only one area code, callers in the state can reach any other telephone within the 603 area code with 7-digit dialing. Area code 603 Area code 603 is the sole area code for the U.S. state of New Hampshire in the North American Numbering Plan (NANP). It was created as one of the original 86 numbering plan areas in October 1947. As of April 2011, the 603 code was nearing exhaustion and a second area code for New\\\"\",\n",
      "            \"\\\"Area code 603\\\"\\n \\\"Area code 603 Area code 603 is the sole area code for the U.S. state of New Hampshire in the North American Numbering Plan (NANP). It was created as one of the original 86 numbering plan areas in October 1947. As of April 2011, the 603 code was nearing exhaustion and a second area code for New Hampshire was expected to be activated by 2013. Rather than a split, the New Hampshire Public Utilities Commission recommended that it be implemented as a statewide overlay. However, because of a change in allocation policies and a reclamation of a large block of\\\"\",\n",
      "            \"\\\"New Hampshire Lottery\\\"\\n \\\"to avoid violating US anti-lottery statutes. Tickets were sold mostly in New Hampshire's liquor stores. In September 2018, the New Hampshire Lottery offered online lottery products for the first time. All of New Hampshire's draw games are shared with other lotteries, with the exception of Keno. New Hampshire's version of lottery keno, called \\\"\\\"Keno 603\\\"\\\" (the state's area code) launched on December 15, 2017. These games are always drawn in New Hampshire: Pick 3 and Pick 4 are numbers games played twice daily, including Sundays. Prizes and options vary. The original Megabucks, a \\\"\\\"classic\\\"\\\" six-number game, began in 1985. Megabucks\\\"\"\n",
      "        ]\n",
      "    }\n",
      "]\n"
     ]
    }
   ],
   "source": [
    "questions = [\"How many area codes are in New Hampshire ?\"]\n",
    "prompt_prefix = \"Answer the following question after looking at the text.\"\n",
    "answers = pipeline.run(questions, prefix=prompt_prefix, use_retriever=True)\n",
    "print(json.dumps(answers, indent=4))"
   ]
  },
  {
   "cell_type": "code",
   "execution_count": 60,
   "metadata": {},
   "outputs": [
    {
     "name": "stdout",
     "output_type": "stream",
     "text": [
      "[\n",
      "    {\n",
      "        \"example_id\": 0,\n",
      "        \"text\": \"\\n\\nAnswer: The Audi R8 V10 is equipped with a 5.2-liter naturally aspirated V10 engine that produces 540 horsepower and 398 lb-ft of torque.\"\n",
      "    }\n",
      "]\n"
     ]
    }
   ],
   "source": [
    "# start asking questions\n",
    "questions = [\"what engine is in the audi r8 v10\"]\n",
    "answers = pipeline.run(questions, use_retriever=False)\n",
    "print(json.dumps(answers, indent=4))"
   ]
  },
  {
   "cell_type": "code",
   "execution_count": 61,
   "metadata": {},
   "outputs": [
    {
     "name": "stderr",
     "output_type": "stream",
     "text": [
      "100%|██████████████████████████████████████████████████████████████████████████████████████████████████████████████████████████████████████| 1/1 [00:00<00:00, 108.82it/s]\n"
     ]
    },
    {
     "name": "stdout",
     "output_type": "stream",
     "text": [
      "[\n",
      "    {\n",
      "        \"example_id\": 0,\n",
      "        \"text\": \"\\n\\nThe engine in the Audi R8 V10 is a 5.2 litre FSI engine.\",\n",
      "        \"passages\": [\n",
      "            \"\\\"Audi R18\\\"\\n \\\"gearbox is electrically controlled instead of pneumatically controlled, saving weight by eliminating the pneumatic system. Despite the capacity reduction, the 3.7L V6 is claimed to develop more than of power. This is less than the outgoing R15, but the V6 engine's fuel consumption will more than likely be lower than that of the outgoing V10 engine on the R15. The new engine has a single Garrett (Honeywell Turbo Technologies) TR30R VGT turbocharger, as opposed to the twin TR30R configuration of both the Peugeot 908 HDi FAP and the previous Audi R15 TDI. The R18's V6 engine exhausts inwards between the\\\"\",\n",
      "            \"\\\"Audi RS 6\\\"\\n \\\"steering wheel movements. The facelifted Audi A6, released as a 2009 model, received similar front and rear-end LED lighting styling to that pioneered on the RS 6. Luggage capacity, measured according to the VDA 'block method' in the Avant ranges from , to . The engine (parts code: 07L, identification code: BUH) of the RS6 was what Audi claimed to be the first all-aluminium alloy even firing 5.0-litre () 90\\u00b0 V10 twin-turbocharged (\\\"\\\"biturbo\\\"\\\"), Fuel Stratified Injection (FSI), with a dry sump lubrication system. This engine is related to the naturally-aspirated V10 found in the Audi R8, S6 and S8, and\\\"\",\n",
      "            \"\\\"Audi R8\\\"\\n \\\"RS4, but is modified to use a dry sump lubrication system. It uses two chain-driven double overhead camshafts (DOHC) per cylinder bank, and utilises variable valve timing for both inlet and exhaust camshafts. The 4 wheel drive system is biased towards the rear; it sends 30% of its power to the front wheels and 70% to the rear. Audi AG unveiled the Audi R8 V10 on December 8, 2008. It uses a 5.2 litre FSI engine, based on the unit in the Lamborghini Gallardo LP560-4 (which in turn was based on the 5.2 FSI V10 as used in the Audi\\\"\"\n",
      "        ]\n",
      "    }\n",
      "]\n"
     ]
    }
   ],
   "source": [
    "questions = [\"what engine is in the audi r8 v10\"]\n",
    "prompt_prefix = \"Answer the following question after looking at the text.\"\n",
    "answers = pipeline.run(questions, prefix=prompt_prefix, use_retriever=True)\n",
    "print(json.dumps(answers, indent=4))"
   ]
  },
  {
   "cell_type": "code",
   "execution_count": 62,
   "metadata": {},
   "outputs": [
    {
     "name": "stdout",
     "output_type": "stream",
     "text": [
      "[\n",
      "    {\n",
      "        \"example_id\": 0,\n",
      "        \"text\": \" for treason\\n\\nAnswer: William Joyce, also known as Lord Haw-Haw, was the last person to be hanged in England for treason in 1946.\"\n",
      "    }\n",
      "]\n"
     ]
    }
   ],
   "source": [
    "# start asking questions\n",
    "questions = [\"who was the last person hanged in england\"]\n",
    "answers = pipeline.run(questions, use_retriever=False)\n",
    "print(json.dumps(answers, indent=4))"
   ]
  },
  {
   "cell_type": "code",
   "execution_count": 63,
   "metadata": {},
   "outputs": [
    {
     "name": "stderr",
     "output_type": "stream",
     "text": [
      "100%|███████████████████████████████████████████████████████████████████████████████████████████████████████████████████████████████████████| 1/1 [00:00<00:00, 71.51it/s]\n"
     ]
    },
    {
     "name": "stdout",
     "output_type": "stream",
     "text": [
      "[\n",
      "    {\n",
      "        \"example_id\": 0,\n",
      "        \"text\": \"\\n\\nThe last person hanged in England was John Robson Walby (alias Gwynne Owen Evans).\",\n",
      "        \"passages\": [\n",
      "            \"\\\"HM Prison Manchester\\\"\\n \\\"that of twenty-year-old murderer Michael Johnson, who was hanged by William Calcraft on 29 March 1869. Twenty-nine hangings took place over the next twenty years and 71 took place in the 20th century, bringing the total number to 100. During the second half of the century, the number of executions decreased, with no hangings between 1954 and 28 November 1962, when James Smith was executed. John Robson Walby (alias Gwynne Owen Evans), one of the last two people to be hanged in England, was executed here on 13 August 1964. Out of the 100 hangings, four were double hangings, while\\\"\",\n",
      "            \"\\\"Harry Allen (executioner)\\\"\\n \\\"Cyprus. Pierrepoint was no longer available because he had resigned in February 1956. Allen's most controversial hanging came in April 1962, when James Hanratty was hanged for murder, despite efforts to clear his name. Hanratty was proven guilty in 2002 by DNA. Allen also assisted in the execution of Derek Bentley in 1953, and he performed one of the last two executions in Britain, in August 1964. Born in Denaby Main, near Conisbrough in the West Riding of Yorkshire on 5 November 1911, Allen was brought up in Ashton-under-Lyne, Lancashire, and was educated at St Anne's Roman Catholic School in\\\"\",\n",
      "            \"\\\"Robert Leslie Stewart\\\"\\n \\\"and the suspension of capital punishment for murder in 1965, carrying out 21 executions as assistant. On the 1957 printing of the list, Stewart and Harry Allen were both promoted to the role of executioner in the wake of the resignation of Albert Pierrepoint and the death of Wade, both in 1956. In this capacity, Stewart carried out six executions. He also assisted Harry Allen at the execution of Anthony Miller, the last teenager to be executed in the United Kingdom. Stewart performed one of the last executions in the United Kingdom at 8 am on 13 August 1964, when\\\"\"\n",
      "        ]\n",
      "    }\n",
      "]\n"
     ]
    }
   ],
   "source": [
    "questions = [\"who was the last person hanged in england\"]\n",
    "prompt_prefix = \"Answer the following question after looking at the text.\"\n",
    "answers = pipeline.run(questions, prefix=prompt_prefix, use_retriever=True)\n",
    "print(json.dumps(answers, indent=4))"
   ]
  },
  {
   "cell_type": "code",
   "execution_count": 26,
   "metadata": {},
   "outputs": [
    {
     "ename": "KeyboardInterrupt",
     "evalue": "",
     "output_type": "error",
     "traceback": [
      "\u001b[0;31m---------------------------------------------------------------------------\u001b[0m",
      "\u001b[0;31mKeyboardInterrupt\u001b[0m                         Traceback (most recent call last)",
      "Cell \u001b[0;32mIn[26], line 4\u001b[0m\n\u001b[1;32m      2\u001b[0m \u001b[38;5;28;01mfrom\u001b[39;00m \u001b[38;5;21;01mprimeqa\u001b[39;00m\u001b[38;5;21;01m.\u001b[39;00m\u001b[38;5;21;01mcomponents\u001b[39;00m\u001b[38;5;21;01m.\u001b[39;00m\u001b[38;5;21;01mreader\u001b[39;00m\u001b[38;5;21;01m.\u001b[39;00m\u001b[38;5;21;01mprompt\u001b[39;00m \u001b[38;5;28;01mimport\u001b[39;00m PromptFLANT5Reader\n\u001b[1;32m      3\u001b[0m reader \u001b[38;5;241m=\u001b[39m PromptFLANT5Reader()\n\u001b[0;32m----> 4\u001b[0m \u001b[43mreader\u001b[49m\u001b[38;5;241;43m.\u001b[39;49m\u001b[43mload\u001b[49m\u001b[43m(\u001b[49m\u001b[43m)\u001b[49m\n",
      "File \u001b[0;32m/dccstor/mabornea2/oneqa_os/prompt_reader/primeqa/primeqa/components/reader/prompt.py:177\u001b[0m, in \u001b[0;36mPromptFLANT5Reader.load\u001b[0;34m(self, *args, **kwargs)\u001b[0m\n\u001b[1;32m    175\u001b[0m     \u001b[38;5;28mself\u001b[39m\u001b[38;5;241m.\u001b[39mmodel \u001b[38;5;241m=\u001b[39m LLMService(token\u001b[38;5;241m=\u001b[39m\u001b[38;5;28mself\u001b[39m\u001b[38;5;241m.\u001b[39mapi_key, model_id\u001b[38;5;241m=\u001b[39m\u001b[38;5;124m\"\u001b[39m\u001b[38;5;124mgoogle/\u001b[39m\u001b[38;5;124m\"\u001b[39m \u001b[38;5;241m+\u001b[39m \u001b[38;5;28mself\u001b[39m\u001b[38;5;241m.\u001b[39mmodel_name)\n\u001b[1;32m    176\u001b[0m \u001b[38;5;28;01melse\u001b[39;00m:\n\u001b[0;32m--> 177\u001b[0m     \u001b[38;5;28mself\u001b[39m\u001b[38;5;241m.\u001b[39mmodel \u001b[38;5;241m=\u001b[39m \u001b[43mAutoModelForSeq2SeqLM\u001b[49m\u001b[38;5;241;43m.\u001b[39;49m\u001b[43mfrom_pretrained\u001b[49m\u001b[43m(\u001b[49m\u001b[38;5;124;43m\"\u001b[39;49m\u001b[38;5;124;43mgoogle/\u001b[39;49m\u001b[38;5;124;43m\"\u001b[39;49m\u001b[43m \u001b[49m\u001b[38;5;241;43m+\u001b[39;49m\u001b[43m \u001b[49m\u001b[38;5;28;43mself\u001b[39;49m\u001b[38;5;241;43m.\u001b[39;49m\u001b[43mmodel_name\u001b[49m\u001b[43m)\u001b[49m\n\u001b[1;32m    178\u001b[0m     \u001b[38;5;28mself\u001b[39m\u001b[38;5;241m.\u001b[39mtokenizer \u001b[38;5;241m=\u001b[39m AutoTokenizer\u001b[38;5;241m.\u001b[39mfrom_pretrained(\u001b[38;5;124m\"\u001b[39m\u001b[38;5;124mgoogle/\u001b[39m\u001b[38;5;124m\"\u001b[39m \u001b[38;5;241m+\u001b[39m \u001b[38;5;28mself\u001b[39m\u001b[38;5;241m.\u001b[39mmodel_name)\n",
      "File \u001b[0;32m/dccstor/mabornea1/miniconda3/envs/prompt_reader/lib/python3.9/site-packages/transformers/models/auto/auto_factory.py:463\u001b[0m, in \u001b[0;36m_BaseAutoModelClass.from_pretrained\u001b[0;34m(cls, pretrained_model_name_or_path, *model_args, **kwargs)\u001b[0m\n\u001b[1;32m    461\u001b[0m \u001b[38;5;28;01melif\u001b[39;00m \u001b[38;5;28mtype\u001b[39m(config) \u001b[38;5;129;01min\u001b[39;00m \u001b[38;5;28mcls\u001b[39m\u001b[38;5;241m.\u001b[39m_model_mapping\u001b[38;5;241m.\u001b[39mkeys():\n\u001b[1;32m    462\u001b[0m     model_class \u001b[38;5;241m=\u001b[39m _get_model_class(config, \u001b[38;5;28mcls\u001b[39m\u001b[38;5;241m.\u001b[39m_model_mapping)\n\u001b[0;32m--> 463\u001b[0m     \u001b[38;5;28;01mreturn\u001b[39;00m \u001b[43mmodel_class\u001b[49m\u001b[38;5;241;43m.\u001b[39;49m\u001b[43mfrom_pretrained\u001b[49m\u001b[43m(\u001b[49m\n\u001b[1;32m    464\u001b[0m \u001b[43m        \u001b[49m\u001b[43mpretrained_model_name_or_path\u001b[49m\u001b[43m,\u001b[49m\u001b[43m \u001b[49m\u001b[38;5;241;43m*\u001b[39;49m\u001b[43mmodel_args\u001b[49m\u001b[43m,\u001b[49m\u001b[43m \u001b[49m\u001b[43mconfig\u001b[49m\u001b[38;5;241;43m=\u001b[39;49m\u001b[43mconfig\u001b[49m\u001b[43m,\u001b[49m\u001b[43m \u001b[49m\u001b[38;5;241;43m*\u001b[39;49m\u001b[38;5;241;43m*\u001b[39;49m\u001b[43mhub_kwargs\u001b[49m\u001b[43m,\u001b[49m\u001b[43m \u001b[49m\u001b[38;5;241;43m*\u001b[39;49m\u001b[38;5;241;43m*\u001b[39;49m\u001b[43mkwargs\u001b[49m\n\u001b[1;32m    465\u001b[0m \u001b[43m    \u001b[49m\u001b[43m)\u001b[49m\n\u001b[1;32m    466\u001b[0m \u001b[38;5;28;01mraise\u001b[39;00m \u001b[38;5;167;01mValueError\u001b[39;00m(\n\u001b[1;32m    467\u001b[0m     \u001b[38;5;124mf\u001b[39m\u001b[38;5;124m\"\u001b[39m\u001b[38;5;124mUnrecognized configuration class \u001b[39m\u001b[38;5;132;01m{\u001b[39;00mconfig\u001b[38;5;241m.\u001b[39m\u001b[38;5;18m__class__\u001b[39m\u001b[38;5;132;01m}\u001b[39;00m\u001b[38;5;124m for this kind of AutoModel: \u001b[39m\u001b[38;5;132;01m{\u001b[39;00m\u001b[38;5;28mcls\u001b[39m\u001b[38;5;241m.\u001b[39m\u001b[38;5;18m__name__\u001b[39m\u001b[38;5;132;01m}\u001b[39;00m\u001b[38;5;124m.\u001b[39m\u001b[38;5;130;01m\\n\u001b[39;00m\u001b[38;5;124m\"\u001b[39m\n\u001b[1;32m    468\u001b[0m     \u001b[38;5;124mf\u001b[39m\u001b[38;5;124m\"\u001b[39m\u001b[38;5;124mModel type should be one of \u001b[39m\u001b[38;5;132;01m{\u001b[39;00m\u001b[38;5;124m'\u001b[39m\u001b[38;5;124m, \u001b[39m\u001b[38;5;124m'\u001b[39m\u001b[38;5;241m.\u001b[39mjoin(c\u001b[38;5;241m.\u001b[39m\u001b[38;5;18m__name__\u001b[39m\u001b[38;5;250m \u001b[39m\u001b[38;5;28;01mfor\u001b[39;00m\u001b[38;5;250m \u001b[39mc\u001b[38;5;250m \u001b[39m\u001b[38;5;129;01min\u001b[39;00m\u001b[38;5;250m \u001b[39m\u001b[38;5;28mcls\u001b[39m\u001b[38;5;241m.\u001b[39m_model_mapping\u001b[38;5;241m.\u001b[39mkeys())\u001b[38;5;132;01m}\u001b[39;00m\u001b[38;5;124m.\u001b[39m\u001b[38;5;124m\"\u001b[39m\n\u001b[1;32m    469\u001b[0m )\n",
      "File \u001b[0;32m/dccstor/mabornea1/miniconda3/envs/prompt_reader/lib/python3.9/site-packages/transformers/modeling_utils.py:2230\u001b[0m, in \u001b[0;36mPreTrainedModel.from_pretrained\u001b[0;34m(cls, pretrained_model_name_or_path, *model_args, **kwargs)\u001b[0m\n\u001b[1;32m   2227\u001b[0m     init_contexts\u001b[38;5;241m.\u001b[39mappend(init_empty_weights())\n\u001b[1;32m   2229\u001b[0m \u001b[38;5;28;01mwith\u001b[39;00m ContextManagers(init_contexts):\n\u001b[0;32m-> 2230\u001b[0m     model \u001b[38;5;241m=\u001b[39m \u001b[38;5;28;43mcls\u001b[39;49m\u001b[43m(\u001b[49m\u001b[43mconfig\u001b[49m\u001b[43m,\u001b[49m\u001b[43m \u001b[49m\u001b[38;5;241;43m*\u001b[39;49m\u001b[43mmodel_args\u001b[49m\u001b[43m,\u001b[49m\u001b[43m \u001b[49m\u001b[38;5;241;43m*\u001b[39;49m\u001b[38;5;241;43m*\u001b[39;49m\u001b[43mmodel_kwargs\u001b[49m\u001b[43m)\u001b[49m\n\u001b[1;32m   2232\u001b[0m \u001b[38;5;28;01mif\u001b[39;00m load_in_8bit:\n\u001b[1;32m   2233\u001b[0m     \u001b[38;5;28;01mfrom\u001b[39;00m \u001b[38;5;21;01m.\u001b[39;00m\u001b[38;5;21;01mutils\u001b[39;00m\u001b[38;5;21;01m.\u001b[39;00m\u001b[38;5;21;01mbitsandbytes\u001b[39;00m \u001b[38;5;28;01mimport\u001b[39;00m get_keys_to_not_convert, replace_8bit_linear\n",
      "File \u001b[0;32m/dccstor/mabornea1/miniconda3/envs/prompt_reader/lib/python3.9/site-packages/transformers/models/t5/modeling_t5.py:1486\u001b[0m, in \u001b[0;36mT5ForConditionalGeneration.__init__\u001b[0;34m(self, config)\u001b[0m\n\u001b[1;32m   1484\u001b[0m encoder_config\u001b[38;5;241m.\u001b[39muse_cache \u001b[38;5;241m=\u001b[39m \u001b[38;5;28;01mFalse\u001b[39;00m\n\u001b[1;32m   1485\u001b[0m encoder_config\u001b[38;5;241m.\u001b[39mis_encoder_decoder \u001b[38;5;241m=\u001b[39m \u001b[38;5;28;01mFalse\u001b[39;00m\n\u001b[0;32m-> 1486\u001b[0m \u001b[38;5;28mself\u001b[39m\u001b[38;5;241m.\u001b[39mencoder \u001b[38;5;241m=\u001b[39m \u001b[43mT5Stack\u001b[49m\u001b[43m(\u001b[49m\u001b[43mencoder_config\u001b[49m\u001b[43m,\u001b[49m\u001b[43m \u001b[49m\u001b[38;5;28;43mself\u001b[39;49m\u001b[38;5;241;43m.\u001b[39;49m\u001b[43mshared\u001b[49m\u001b[43m)\u001b[49m\n\u001b[1;32m   1488\u001b[0m decoder_config \u001b[38;5;241m=\u001b[39m copy\u001b[38;5;241m.\u001b[39mdeepcopy(config)\n\u001b[1;32m   1489\u001b[0m decoder_config\u001b[38;5;241m.\u001b[39mis_decoder \u001b[38;5;241m=\u001b[39m \u001b[38;5;28;01mTrue\u001b[39;00m\n",
      "File \u001b[0;32m/dccstor/mabornea1/miniconda3/envs/prompt_reader/lib/python3.9/site-packages/transformers/models/t5/modeling_t5.py:848\u001b[0m, in \u001b[0;36mT5Stack.__init__\u001b[0;34m(self, config, embed_tokens)\u001b[0m\n\u001b[1;32m    844\u001b[0m \u001b[38;5;28mself\u001b[39m\u001b[38;5;241m.\u001b[39membed_tokens \u001b[38;5;241m=\u001b[39m embed_tokens\n\u001b[1;32m    845\u001b[0m \u001b[38;5;28mself\u001b[39m\u001b[38;5;241m.\u001b[39mis_decoder \u001b[38;5;241m=\u001b[39m config\u001b[38;5;241m.\u001b[39mis_decoder\n\u001b[1;32m    847\u001b[0m \u001b[38;5;28mself\u001b[39m\u001b[38;5;241m.\u001b[39mblock \u001b[38;5;241m=\u001b[39m nn\u001b[38;5;241m.\u001b[39mModuleList(\n\u001b[0;32m--> 848\u001b[0m     [T5Block(config, has_relative_attention_bias\u001b[38;5;241m=\u001b[39m\u001b[38;5;28mbool\u001b[39m(i \u001b[38;5;241m==\u001b[39m \u001b[38;5;241m0\u001b[39m)) \u001b[38;5;28;01mfor\u001b[39;00m i \u001b[38;5;129;01min\u001b[39;00m \u001b[38;5;28mrange\u001b[39m(config\u001b[38;5;241m.\u001b[39mnum_layers)]\n\u001b[1;32m    849\u001b[0m )\n\u001b[1;32m    850\u001b[0m \u001b[38;5;28mself\u001b[39m\u001b[38;5;241m.\u001b[39mfinal_layer_norm \u001b[38;5;241m=\u001b[39m T5LayerNorm(config\u001b[38;5;241m.\u001b[39md_model, eps\u001b[38;5;241m=\u001b[39mconfig\u001b[38;5;241m.\u001b[39mlayer_norm_epsilon)\n\u001b[1;32m    851\u001b[0m \u001b[38;5;28mself\u001b[39m\u001b[38;5;241m.\u001b[39mdropout \u001b[38;5;241m=\u001b[39m nn\u001b[38;5;241m.\u001b[39mDropout(config\u001b[38;5;241m.\u001b[39mdropout_rate)\n",
      "File \u001b[0;32m/dccstor/mabornea1/miniconda3/envs/prompt_reader/lib/python3.9/site-packages/transformers/models/t5/modeling_t5.py:848\u001b[0m, in \u001b[0;36m<listcomp>\u001b[0;34m(.0)\u001b[0m\n\u001b[1;32m    844\u001b[0m \u001b[38;5;28mself\u001b[39m\u001b[38;5;241m.\u001b[39membed_tokens \u001b[38;5;241m=\u001b[39m embed_tokens\n\u001b[1;32m    845\u001b[0m \u001b[38;5;28mself\u001b[39m\u001b[38;5;241m.\u001b[39mis_decoder \u001b[38;5;241m=\u001b[39m config\u001b[38;5;241m.\u001b[39mis_decoder\n\u001b[1;32m    847\u001b[0m \u001b[38;5;28mself\u001b[39m\u001b[38;5;241m.\u001b[39mblock \u001b[38;5;241m=\u001b[39m nn\u001b[38;5;241m.\u001b[39mModuleList(\n\u001b[0;32m--> 848\u001b[0m     [\u001b[43mT5Block\u001b[49m\u001b[43m(\u001b[49m\u001b[43mconfig\u001b[49m\u001b[43m,\u001b[49m\u001b[43m \u001b[49m\u001b[43mhas_relative_attention_bias\u001b[49m\u001b[38;5;241;43m=\u001b[39;49m\u001b[38;5;28;43mbool\u001b[39;49m\u001b[43m(\u001b[49m\u001b[43mi\u001b[49m\u001b[43m \u001b[49m\u001b[38;5;241;43m==\u001b[39;49m\u001b[43m \u001b[49m\u001b[38;5;241;43m0\u001b[39;49m\u001b[43m)\u001b[49m\u001b[43m)\u001b[49m \u001b[38;5;28;01mfor\u001b[39;00m i \u001b[38;5;129;01min\u001b[39;00m \u001b[38;5;28mrange\u001b[39m(config\u001b[38;5;241m.\u001b[39mnum_layers)]\n\u001b[1;32m    849\u001b[0m )\n\u001b[1;32m    850\u001b[0m \u001b[38;5;28mself\u001b[39m\u001b[38;5;241m.\u001b[39mfinal_layer_norm \u001b[38;5;241m=\u001b[39m T5LayerNorm(config\u001b[38;5;241m.\u001b[39md_model, eps\u001b[38;5;241m=\u001b[39mconfig\u001b[38;5;241m.\u001b[39mlayer_norm_epsilon)\n\u001b[1;32m    851\u001b[0m \u001b[38;5;28mself\u001b[39m\u001b[38;5;241m.\u001b[39mdropout \u001b[38;5;241m=\u001b[39m nn\u001b[38;5;241m.\u001b[39mDropout(config\u001b[38;5;241m.\u001b[39mdropout_rate)\n",
      "File \u001b[0;32m/dccstor/mabornea1/miniconda3/envs/prompt_reader/lib/python3.9/site-packages/transformers/models/t5/modeling_t5.py:638\u001b[0m, in \u001b[0;36mT5Block.__init__\u001b[0;34m(self, config, has_relative_attention_bias)\u001b[0m\n\u001b[1;32m    635\u001b[0m \u001b[38;5;28;01mif\u001b[39;00m \u001b[38;5;28mself\u001b[39m\u001b[38;5;241m.\u001b[39mis_decoder:\n\u001b[1;32m    636\u001b[0m     \u001b[38;5;28mself\u001b[39m\u001b[38;5;241m.\u001b[39mlayer\u001b[38;5;241m.\u001b[39mappend(T5LayerCrossAttention(config))\n\u001b[0;32m--> 638\u001b[0m \u001b[38;5;28mself\u001b[39m\u001b[38;5;241m.\u001b[39mlayer\u001b[38;5;241m.\u001b[39mappend(\u001b[43mT5LayerFF\u001b[49m\u001b[43m(\u001b[49m\u001b[43mconfig\u001b[49m\u001b[43m)\u001b[49m)\n",
      "File \u001b[0;32m/dccstor/mabornea1/miniconda3/envs/prompt_reader/lib/python3.9/site-packages/transformers/models/t5/modeling_t5.py:319\u001b[0m, in \u001b[0;36mT5LayerFF.__init__\u001b[0;34m(self, config)\u001b[0m\n\u001b[1;32m    317\u001b[0m \u001b[38;5;28msuper\u001b[39m()\u001b[38;5;241m.\u001b[39m\u001b[38;5;21m__init__\u001b[39m()\n\u001b[1;32m    318\u001b[0m \u001b[38;5;28;01mif\u001b[39;00m config\u001b[38;5;241m.\u001b[39mis_gated_act:\n\u001b[0;32m--> 319\u001b[0m     \u001b[38;5;28mself\u001b[39m\u001b[38;5;241m.\u001b[39mDenseReluDense \u001b[38;5;241m=\u001b[39m \u001b[43mT5DenseGatedActDense\u001b[49m\u001b[43m(\u001b[49m\u001b[43mconfig\u001b[49m\u001b[43m)\u001b[49m\n\u001b[1;32m    320\u001b[0m \u001b[38;5;28;01melse\u001b[39;00m:\n\u001b[1;32m    321\u001b[0m     \u001b[38;5;28mself\u001b[39m\u001b[38;5;241m.\u001b[39mDenseReluDense \u001b[38;5;241m=\u001b[39m T5DenseActDense(config)\n",
      "File \u001b[0;32m/dccstor/mabornea1/miniconda3/envs/prompt_reader/lib/python3.9/site-packages/transformers/models/t5/modeling_t5.py:301\u001b[0m, in \u001b[0;36mT5DenseGatedActDense.__init__\u001b[0;34m(self, config)\u001b[0m\n\u001b[1;32m    299\u001b[0m \u001b[38;5;28msuper\u001b[39m()\u001b[38;5;241m.\u001b[39m\u001b[38;5;21m__init__\u001b[39m()\n\u001b[1;32m    300\u001b[0m \u001b[38;5;28mself\u001b[39m\u001b[38;5;241m.\u001b[39mwi_0 \u001b[38;5;241m=\u001b[39m nn\u001b[38;5;241m.\u001b[39mLinear(config\u001b[38;5;241m.\u001b[39md_model, config\u001b[38;5;241m.\u001b[39md_ff, bias\u001b[38;5;241m=\u001b[39m\u001b[38;5;28;01mFalse\u001b[39;00m)\n\u001b[0;32m--> 301\u001b[0m \u001b[38;5;28mself\u001b[39m\u001b[38;5;241m.\u001b[39mwi_1 \u001b[38;5;241m=\u001b[39m \u001b[43mnn\u001b[49m\u001b[38;5;241;43m.\u001b[39;49m\u001b[43mLinear\u001b[49m\u001b[43m(\u001b[49m\u001b[43mconfig\u001b[49m\u001b[38;5;241;43m.\u001b[39;49m\u001b[43md_model\u001b[49m\u001b[43m,\u001b[49m\u001b[43m \u001b[49m\u001b[43mconfig\u001b[49m\u001b[38;5;241;43m.\u001b[39;49m\u001b[43md_ff\u001b[49m\u001b[43m,\u001b[49m\u001b[43m \u001b[49m\u001b[43mbias\u001b[49m\u001b[38;5;241;43m=\u001b[39;49m\u001b[38;5;28;43;01mFalse\u001b[39;49;00m\u001b[43m)\u001b[49m\n\u001b[1;32m    302\u001b[0m \u001b[38;5;28mself\u001b[39m\u001b[38;5;241m.\u001b[39mwo \u001b[38;5;241m=\u001b[39m nn\u001b[38;5;241m.\u001b[39mLinear(config\u001b[38;5;241m.\u001b[39md_ff, config\u001b[38;5;241m.\u001b[39md_model, bias\u001b[38;5;241m=\u001b[39m\u001b[38;5;28;01mFalse\u001b[39;00m)\n\u001b[1;32m    303\u001b[0m \u001b[38;5;28mself\u001b[39m\u001b[38;5;241m.\u001b[39mdropout \u001b[38;5;241m=\u001b[39m nn\u001b[38;5;241m.\u001b[39mDropout(config\u001b[38;5;241m.\u001b[39mdropout_rate)\n",
      "File \u001b[0;32m/dccstor/mabornea1/miniconda3/envs/prompt_reader/lib/python3.9/site-packages/torch/nn/modules/linear.py:90\u001b[0m, in \u001b[0;36mLinear.__init__\u001b[0;34m(self, in_features, out_features, bias, device, dtype)\u001b[0m\n\u001b[1;32m     88\u001b[0m \u001b[38;5;28;01melse\u001b[39;00m:\n\u001b[1;32m     89\u001b[0m     \u001b[38;5;28mself\u001b[39m\u001b[38;5;241m.\u001b[39mregister_parameter(\u001b[38;5;124m'\u001b[39m\u001b[38;5;124mbias\u001b[39m\u001b[38;5;124m'\u001b[39m, \u001b[38;5;28;01mNone\u001b[39;00m)\n\u001b[0;32m---> 90\u001b[0m \u001b[38;5;28;43mself\u001b[39;49m\u001b[38;5;241;43m.\u001b[39;49m\u001b[43mreset_parameters\u001b[49m\u001b[43m(\u001b[49m\u001b[43m)\u001b[49m\n",
      "File \u001b[0;32m/dccstor/mabornea1/miniconda3/envs/prompt_reader/lib/python3.9/site-packages/torch/nn/modules/linear.py:96\u001b[0m, in \u001b[0;36mLinear.reset_parameters\u001b[0;34m(self)\u001b[0m\n\u001b[1;32m     92\u001b[0m \u001b[38;5;28;01mdef\u001b[39;00m \u001b[38;5;21mreset_parameters\u001b[39m(\u001b[38;5;28mself\u001b[39m) \u001b[38;5;241m-\u001b[39m\u001b[38;5;241m>\u001b[39m \u001b[38;5;28;01mNone\u001b[39;00m:\n\u001b[1;32m     93\u001b[0m     \u001b[38;5;66;03m# Setting a=sqrt(5) in kaiming_uniform is the same as initializing with\u001b[39;00m\n\u001b[1;32m     94\u001b[0m     \u001b[38;5;66;03m# uniform(-1/sqrt(in_features), 1/sqrt(in_features)). For details, see\u001b[39;00m\n\u001b[1;32m     95\u001b[0m     \u001b[38;5;66;03m# https://github.com/pytorch/pytorch/issues/57109\u001b[39;00m\n\u001b[0;32m---> 96\u001b[0m     \u001b[43minit\u001b[49m\u001b[38;5;241;43m.\u001b[39;49m\u001b[43mkaiming_uniform_\u001b[49m\u001b[43m(\u001b[49m\u001b[38;5;28;43mself\u001b[39;49m\u001b[38;5;241;43m.\u001b[39;49m\u001b[43mweight\u001b[49m\u001b[43m,\u001b[49m\u001b[43m \u001b[49m\u001b[43ma\u001b[49m\u001b[38;5;241;43m=\u001b[39;49m\u001b[43mmath\u001b[49m\u001b[38;5;241;43m.\u001b[39;49m\u001b[43msqrt\u001b[49m\u001b[43m(\u001b[49m\u001b[38;5;241;43m5\u001b[39;49m\u001b[43m)\u001b[49m\u001b[43m)\u001b[49m\n\u001b[1;32m     97\u001b[0m     \u001b[38;5;28;01mif\u001b[39;00m \u001b[38;5;28mself\u001b[39m\u001b[38;5;241m.\u001b[39mbias \u001b[38;5;129;01mis\u001b[39;00m \u001b[38;5;129;01mnot\u001b[39;00m \u001b[38;5;28;01mNone\u001b[39;00m:\n\u001b[1;32m     98\u001b[0m         fan_in, _ \u001b[38;5;241m=\u001b[39m init\u001b[38;5;241m.\u001b[39m_calculate_fan_in_and_fan_out(\u001b[38;5;28mself\u001b[39m\u001b[38;5;241m.\u001b[39mweight)\n",
      "File \u001b[0;32m/dccstor/mabornea1/miniconda3/envs/prompt_reader/lib/python3.9/site-packages/torch/nn/init.py:410\u001b[0m, in \u001b[0;36mkaiming_uniform_\u001b[0;34m(tensor, a, mode, nonlinearity)\u001b[0m\n\u001b[1;32m    408\u001b[0m bound \u001b[38;5;241m=\u001b[39m math\u001b[38;5;241m.\u001b[39msqrt(\u001b[38;5;241m3.0\u001b[39m) \u001b[38;5;241m*\u001b[39m std  \u001b[38;5;66;03m# Calculate uniform bounds from standard deviation\u001b[39;00m\n\u001b[1;32m    409\u001b[0m \u001b[38;5;28;01mwith\u001b[39;00m torch\u001b[38;5;241m.\u001b[39mno_grad():\n\u001b[0;32m--> 410\u001b[0m     \u001b[38;5;28;01mreturn\u001b[39;00m \u001b[43mtensor\u001b[49m\u001b[38;5;241;43m.\u001b[39;49m\u001b[43muniform_\u001b[49m\u001b[43m(\u001b[49m\u001b[38;5;241;43m-\u001b[39;49m\u001b[43mbound\u001b[49m\u001b[43m,\u001b[49m\u001b[43m \u001b[49m\u001b[43mbound\u001b[49m\u001b[43m)\u001b[49m\n",
      "\u001b[0;31mKeyboardInterrupt\u001b[0m: "
     ]
    }
   ],
   "source": [
    "#setup a FlanT5PromptReader: note this loads a Flan T5 xxl model\n",
    "from primeqa.components.reader.prompt import PromptFLANT5Reader\n",
    "reader = PromptFLANT5Reader()\n",
    "reader.load()"
   ]
  },
  {
   "cell_type": "code",
   "execution_count": null,
   "metadata": {},
   "outputs": [],
   "source": [
    "# setup the pipeline\n",
    "pipeline = QAPipeline(retriever, reader)"
   ]
  },
  {
   "cell_type": "code",
   "execution_count": 17,
   "metadata": {},
   "outputs": [
    {
     "name": "stdout",
     "output_type": "stream",
     "text": [
      "[Feb 05, 15:18:28] #> XMLR QueryTokenizer.tensorize(batch_text[0], batch_background[0], bsize) ==\n",
      "[Feb 05, 15:18:28] #> Input: $ Does smoking marijuana impair driving ?, \t\t True, \t\t None\n",
      "[Feb 05, 15:18:28] #> Output IDs: torch.Size([32]), tensor([     0,   9748, 101790, 200166, 227071,    566, 109637, 132442,    705,\n",
      "             2,      1,      1,      1,      1,      1,      1,      1,      1,\n",
      "             1,      1,      1,      1,      1,      1,      1,      1,      1,\n",
      "             1,      1,      1,      1,      1])\n",
      "[Feb 05, 15:18:28] #> Output Mask: torch.Size([32]), tensor([1, 1, 1, 1, 1, 1, 1, 1, 1, 1, 0, 0, 0, 0, 0, 0, 0, 0, 0, 0, 0, 0, 0, 0,\n",
      "        0, 0, 0, 0, 0, 0, 0, 0])\n",
      "[Feb 05, 15:18:29] #>>>> colbert query ==\n",
      "[Feb 05, 15:18:29] #>>>>> input_ids: torch.Size([32]), tensor([     0,   9748, 101790, 200166, 227071,    566, 109637, 132442,    705,\n",
      "             2,      1,      1,      1,      1,      1,      1,      1,      1,\n",
      "             1,      1,      1,      1,      1,      1,      1,      1,      1,\n",
      "             1,      1,      1,      1,      1])\n",
      "[Feb 05, 15:18:29] #>>>> before linear query ==\n",
      "[Feb 05, 15:18:29] #>>>>> Q: torch.Size([32, 1024]), tensor([[-0.1650, -0.3333,  0.9402,  ...,  0.3227, -0.3856, -0.4365],\n",
      "        [ 0.0714, -0.7822,  0.3105,  ...,  1.2002, -1.3122, -0.1596],\n",
      "        [ 0.3656, -0.3024,  0.4815,  ...,  0.8248, -1.5551, -0.0617],\n",
      "        ...,\n",
      "        [-0.5295, -1.5305, -0.7263,  ...,  1.5818, -0.7768,  0.0924],\n",
      "        [-0.5295, -1.5305, -0.7263,  ...,  1.5818, -0.7768,  0.0924],\n",
      "        [-0.5295, -1.5305, -0.7263,  ...,  1.5818, -0.7768,  0.0924]])\n",
      "[Feb 05, 15:18:29] #>>>>> self.linear query : Parameter containing:\n",
      "tensor([[-0.0301, -0.0307, -0.0115,  ..., -0.0231, -0.0023, -0.0216],\n",
      "        [ 0.0053,  0.0023, -0.0308,  ...,  0.0108,  0.0011,  0.0201],\n",
      "        [-0.0220,  0.0370,  0.0339,  ..., -0.0023, -0.0172,  0.0244],\n",
      "        ...,\n",
      "        [ 0.0222,  0.0115, -0.0246,  ...,  0.0389, -0.0034, -0.0165],\n",
      "        [-0.0146,  0.0392,  0.0131,  ..., -0.0055,  0.0219, -0.0368],\n",
      "        [ 0.0071,  0.0256, -0.0346,  ...,  0.0322,  0.0370,  0.0437]],\n",
      "       requires_grad=True)\n",
      "[Feb 05, 15:18:29] #>>>> colbert query ==\n",
      "[Feb 05, 15:18:29] #>>>>> Q: torch.Size([32, 128]), tensor([[-0.4394, -0.1235,  0.4794,  ..., -0.0403, -0.5039, -0.4353],\n",
      "        [-0.5037, -0.8312,  0.6287,  ..., -0.0070, -1.4869, -0.4849],\n",
      "        [-0.1961, -0.9401,  0.4864,  ..., -0.2654, -1.2466, -0.4863],\n",
      "        ...,\n",
      "        [-1.0761, -0.1264,  0.8598,  ...,  0.5152, -1.2081,  0.1824],\n",
      "        [-1.0761, -0.1264,  0.8598,  ...,  0.5152, -1.2081,  0.1824],\n",
      "        [-1.0761, -0.1264,  0.8598,  ...,  0.5152, -1.2081,  0.1824]])\n"
     ]
    },
    {
     "name": "stderr",
     "output_type": "stream",
     "text": [
      "100%|██████████| 1/1 [00:00<00:00, 66.32it/s]\n",
      "/dccstor/srosent1/miniconda3/envs/primeqa4.24/lib/python3.9/site-packages/transformers/generation_utils.py:1359: UserWarning: Neither `max_length` nor `max_new_tokens` has been set, `max_length` will default to 20 (`self.config.max_length`). Controlling `max_length` via the config is deprecated and `max_length` will be removed from the config in v5 of Transformers -- we recommend using `max_new_tokens` to control the maximum length of the generation.\n",
      "  warnings.warn(\n"
     ]
    },
    {
     "name": "stdout",
     "output_type": "stream",
     "text": [
      "[\n",
      "    {\n",
      "        \"example_id\": 0,\n",
      "        \"text\": [\n",
      "            \"\\\"[a]ny amount of marijuana consumption puts you at risk of driving impaired.\\\"\\\"\"\n",
      "        ],\n",
      "        \"passages\": [\n",
      "            \"\\\"In the US state of Colorado, the state government indicates that \\\"\\\"[a]ny amount of marijuana consumption puts you at risk of driving impaired.\\\"\\\" Colorado law states that \\\"\\\"drivers with five nanograms of active tetrahydrocannabinol (THC) in their whole blood can be prosecuted for driving under the influence (DUI). However, no matter the level of THC, law enforcement officers base arrests on observed impairment.\\\"\\\" In Colorado, if consumption of marijuana is impairing your ability to drive, \\\"\\\"it is illegal for you to be driving, even if that substance is prescribed [by a doctor] or legally acquired.\\\"\\\" Section: Other drugs.:Prescription medications.\\\"\",\n",
      "            \"\\\"Section: Legal standards.:Americas.:United States.:State.:Georgia. Georgia Statute \\u00a7 40-6-391 makes it to drive while there is \\\"\\\"\\\"\\\"any amount\\\"\\\" of marijuana . . . present in the person's blood or urine, or both, \\\"\\\"including the metabolites and derivatives of each or both\\\"\\\" . . . .\\\"\\\" Subsection (b) of the statute provides that being legally entitled to use a drug is not a defense to the statute if the person is still \\\"\\\"rendered incapable of driving safely as a result\\\"\\\" of using that drug. Section: Legal standards.:Americas.:United States.:State.:Illinois.\\\"\",\n",
      "            \"Acute effects may include anxiety and panic, impaired attention and memory, an increased risk of psychotic symptoms, the inability to think clearly, and an increased risk of accidents. Cannabis impairs a person's driving ability, and THC was the illicit drug most frequently found in the blood of drivers who have been involved in vehicle crashes. Those with THC in their system were from three to seven times more likely to be the cause of the accident than those who had not used either cannabis or alcohol, although its role is not necessarily causal because THC stays in the bloodstream for\"\n",
      "        ]\n",
      "    }\n",
      "]\n"
     ]
    }
   ],
   "source": [
    "# start asking questions\n",
    "questions = [\"Does smoking marijuana impair driving ?\"]\n",
    "prompt = \"Answer the following question after looking at the text.\"\n",
    "answers = pipeline.run(questions,prompt)\n",
    "print(json.dumps(answers, indent=4))"
   ]
  },
  {
   "cell_type": "code",
   "execution_count": 18,
   "metadata": {},
   "outputs": [
    {
     "name": "stderr",
     "output_type": "stream",
     "text": [
      "100%|██████████| 1/1 [00:00<00:00, 77.71it/s]\n"
     ]
    },
    {
     "name": "stdout",
     "output_type": "stream",
     "text": [
      "[\n",
      "    {\n",
      "        \"example_id\": 0,\n",
      "        \"text\": [\n",
      "            \"condensation trails\"\n",
      "        ],\n",
      "        \"passages\": [\n",
      "            \"\\\"Aircraft flying at high altitude form condensation trails or contrails in the exhaust plume of their engines. While in the Troposphere these have very little climatic impact. However, jet aircraft cruising in the Stratosphere do create an impact from their contrails, although the extent of the damage to the environment is as yet unknown. Contrails can also trigger the formation of high-altitude Cirrus cloud thus creating a greater climatic effect. A 2015 study found that artificial cloudiness caused by contrail \\\"\\\"outbreaks\\\"\\\" reduce the difference between daytime and nighttime temperatures. The former are decreased and the latter are increased, in comparison\\\"\",\n",
      "            \"\\\"Contrails, or condensation trails, are \\\"\\\"streaks of condensed water vapor created in the air by an airplane or rocket at high altitudes.\\\"\\\" Fossil fuel combustion (as in piston and jet engines) produces carbon dioxide and water vapor. At high altitudes the air is very cold. Hot humid air from the engine exhaust mixes with the colder surrounding air, causing the water vapor to condense into droplets or ice crystals that form visible clouds. The rate at which contrails dissipate is entirely dependent on weather conditions. If the atmosphere is near saturation, the contrail may exist for some time. Conversely, if\\\"\",\n",
      "            \"\\\"Contrails (; short for \\\"\\\"condensation trails\\\"\\\") are line-shaped clouds produced by aircraft engine exhaust or changes in air pressure, typically at aircraft cruise altitudes several miles above the Earth's surface. Contrails are composed primarily of water, in the form of ice crystals. The combination of water vapor in aircraft engine exhaust and the low ambient temperatures that exist at high altitudes allows the formation of the trails. Impurities in the engine exhaust from the fuel, including sulfur compounds (0.05% by weight in jet fuel) provide some of the particles that can serve as sites for water droplet growth in the\\\"\"\n",
      "        ]\n",
      "    }\n",
      "]\n"
     ]
    }
   ],
   "source": [
    "# start asking questions\n",
    "questions = [\"What causes the trail behind jets at high altitude? ?\"]\n",
    "prompt = \"Answer the following question after looking at the text.\"\n",
    "answers = pipeline.run(questions,prompt)\n",
    "print(json.dumps(answers, indent=4))"
   ]
  },
  {
   "cell_type": "code",
   "execution_count": 19,
   "metadata": {},
   "outputs": [],
   "source": [
    "#setup a FlanT5PromptReader using the bam service (https://bam.res.ibm.com/): note this loads a Flan T5 xxl model\n",
    "from primeqa.components.reader.prompt import PromptFLANT5Reader\n",
    "reader = PromptFLANT5Reader(use_bam=True, api_key='API KEY HERE')\n",
    "reader.load()"
   ]
  },
  {
   "cell_type": "code",
   "execution_count": 20,
   "metadata": {},
   "outputs": [
    {
     "name": "stderr",
     "output_type": "stream",
     "text": [
      "14635it [00:00, 283158.38it/s]\n"
     ]
    }
   ],
   "source": [
    "# setup the pipeline\n",
    "pipeline = QAPipeline(retriever, reader)"
   ]
  },
  {
   "cell_type": "code",
   "execution_count": 21,
   "metadata": {},
   "outputs": [
    {
     "name": "stderr",
     "output_type": "stream",
     "text": [
      "100%|██████████| 1/1 [00:00<00:00, 36.33it/s]\n",
      "/dccstor/srosent1/miniconda3/envs/primeqa4.24/lib/python3.9/site-packages/urllib3/connectionpool.py:1045: InsecureRequestWarning: Unverified HTTPS request is being made to host 'bam-api.res.ibm.com'. Adding certificate verification is strongly advised. See: https://urllib3.readthedocs.io/en/1.26.x/advanced-usage.html#ssl-warnings\n",
      "  warnings.warn(\n"
     ]
    },
    {
     "name": "stdout",
     "output_type": "stream",
     "text": [
      "[\n",
      "    {\n",
      "        \"example_id\": 0,\n",
      "        \"text\": \"\\\"[a]ny amount of marijuana consumption puts you at risk of driving impaired.\\\"\\\" Colorado law states that \\\"\\\"drivers with five nanograms of active tetrahydrocannabinol (THC) in their whole blood can be prosecuted for driving under the influence (DUI). However, no matter the level of THC, law enforcement officers base arrests on observed impairment.\\\"\\\" In Colorado, if consumption of marijuana is impairing your ability to drive, \\\"\\\"it is illegal for you to be driving, even if that substance is prescribed [by a doctor] or legally acquired.\\\"\\\" Section: Other drugs.:Prescription medications.\\\", \\\"Section: Legal standards.:Americas.:United States.:State.:Georgia. Georgia Statute  40-6-391 makes it to drive while there is \\\"\\\"\\\"\\\"any amount\\\"\\\" of marijuana . . . present in the person's blood or urine, or both, \\\"\\\"including the metabolites and derivatives of each or both\\\"\\\"\\\"\\\" Subsection (b) of the statute provides that being legally entitled to use a drug\",\n",
      "        \"passages\": [\n",
      "            \"\\\"In the US state of Colorado, the state government indicates that \\\"\\\"[a]ny amount of marijuana consumption puts you at risk of driving impaired.\\\"\\\" Colorado law states that \\\"\\\"drivers with five nanograms of active tetrahydrocannabinol (THC) in their whole blood can be prosecuted for driving under the influence (DUI). However, no matter the level of THC, law enforcement officers base arrests on observed impairment.\\\"\\\" In Colorado, if consumption of marijuana is impairing your ability to drive, \\\"\\\"it is illegal for you to be driving, even if that substance is prescribed [by a doctor] or legally acquired.\\\"\\\" Section: Other drugs.:Prescription medications.\\\"\",\n",
      "            \"\\\"Section: Legal standards.:Americas.:United States.:State.:Georgia. Georgia Statute \\u00a7 40-6-391 makes it to drive while there is \\\"\\\"\\\"\\\"any amount\\\"\\\" of marijuana . . . present in the person's blood or urine, or both, \\\"\\\"including the metabolites and derivatives of each or both\\\"\\\" . . . .\\\"\\\" Subsection (b) of the statute provides that being legally entitled to use a drug is not a defense to the statute if the person is still \\\"\\\"rendered incapable of driving safely as a result\\\"\\\" of using that drug. Section: Legal standards.:Americas.:United States.:State.:Illinois.\\\"\",\n",
      "            \"Acute effects may include anxiety and panic, impaired attention and memory, an increased risk of psychotic symptoms, the inability to think clearly, and an increased risk of accidents. Cannabis impairs a person's driving ability, and THC was the illicit drug most frequently found in the blood of drivers who have been involved in vehicle crashes. Those with THC in their system were from three to seven times more likely to be the cause of the accident than those who had not used either cannabis or alcohol, although its role is not necessarily causal because THC stays in the bloodstream for\"\n",
      "        ]\n",
      "    }\n",
      "]\n"
     ]
    }
   ],
   "source": [
    "# start asking questions\n",
    "questions = [\"Does smoking marijuana impair driving ?\"]\n",
    "prompt = \"Answer the following question after looking at the text.\"\n",
    "answers = pipeline.run(questions,prompt)\n",
    "print(json.dumps(answers, indent=4))"
   ]
  },
  {
   "cell_type": "code",
   "execution_count": 22,
   "metadata": {},
   "outputs": [
    {
     "name": "stderr",
     "output_type": "stream",
     "text": [
      "100%|██████████| 1/1 [00:00<00:00, 58.55it/s]\n",
      "/dccstor/srosent1/miniconda3/envs/primeqa4.24/lib/python3.9/site-packages/urllib3/connectionpool.py:1045: InsecureRequestWarning: Unverified HTTPS request is being made to host 'bam-api.res.ibm.com'. Adding certificate verification is strongly advised. See: https://urllib3.readthedocs.io/en/1.26.x/advanced-usage.html#ssl-warnings\n",
      "  warnings.warn(\n"
     ]
    },
    {
     "name": "stdout",
     "output_type": "stream",
     "text": [
      "[\n",
      "    {\n",
      "        \"example_id\": 0,\n",
      "        \"text\": \"condensation trails or contrails in the exhaust plume of their engines. While in the Troposphere these have very little climatic impact. However, jet aircraft cruising in the Stratosphere do create an impact from their contrails, although the extent of the damage to the environment is as yet unknown. Contrails can also trigger the formation of high-altitude Cirrus cloud thus creating a greater climatic effect. A 2015 study found that artificial cloudiness caused by contrail \\\"\\\"outbreaks\\\"\\\" reduce the difference between daytime and nighttime temperatures. The former are decreased and the latter are increased, in comparison\\\"\",\n",
      "        \"passages\": [\n",
      "            \"\\\"Aircraft flying at high altitude form condensation trails or contrails in the exhaust plume of their engines. While in the Troposphere these have very little climatic impact. However, jet aircraft cruising in the Stratosphere do create an impact from their contrails, although the extent of the damage to the environment is as yet unknown. Contrails can also trigger the formation of high-altitude Cirrus cloud thus creating a greater climatic effect. A 2015 study found that artificial cloudiness caused by contrail \\\"\\\"outbreaks\\\"\\\" reduce the difference between daytime and nighttime temperatures. The former are decreased and the latter are increased, in comparison\\\"\",\n",
      "            \"\\\"Contrails, or condensation trails, are \\\"\\\"streaks of condensed water vapor created in the air by an airplane or rocket at high altitudes.\\\"\\\" Fossil fuel combustion (as in piston and jet engines) produces carbon dioxide and water vapor. At high altitudes the air is very cold. Hot humid air from the engine exhaust mixes with the colder surrounding air, causing the water vapor to condense into droplets or ice crystals that form visible clouds. The rate at which contrails dissipate is entirely dependent on weather conditions. If the atmosphere is near saturation, the contrail may exist for some time. Conversely, if\\\"\",\n",
      "            \"\\\"Contrails (; short for \\\"\\\"condensation trails\\\"\\\") are line-shaped clouds produced by aircraft engine exhaust or changes in air pressure, typically at aircraft cruise altitudes several miles above the Earth's surface. Contrails are composed primarily of water, in the form of ice crystals. The combination of water vapor in aircraft engine exhaust and the low ambient temperatures that exist at high altitudes allows the formation of the trails. Impurities in the engine exhaust from the fuel, including sulfur compounds (0.05% by weight in jet fuel) provide some of the particles that can serve as sites for water droplet growth in the\\\"\"\n",
      "        ]\n",
      "    }\n",
      "]\n"
     ]
    }
   ],
   "source": [
    "# start asking questions\n",
    "questions = [\"What causes the trail behind jets at high altitude? ?\"]\n",
    "prompt = \"Answer the following question after looking at the text.\"\n",
    "answers = pipeline.run(questions,prompt)\n",
    "print(json.dumps(answers, indent=4))"
   ]
  }
 ],
 "metadata": {
  "kernelspec": {
   "display_name": "Python 3 (ipykernel)",
   "language": "python",
   "name": "python3"
  },
  "language_info": {
   "codemirror_mode": {
    "name": "ipython",
    "version": 3
   },
   "file_extension": ".py",
   "mimetype": "text/x-python",
   "name": "python",
   "nbconvert_exporter": "python",
   "pygments_lexer": "ipython3",
   "version": "3.6.8"
  },
  "vscode": {
   "interpreter": {
    "hash": "e7370f93d1d0cde622a1f8e1c04877d8463912d04d973331ad4851f04de6915a"
   }
  }
 },
 "nbformat": 4,
 "nbformat_minor": 2
}
