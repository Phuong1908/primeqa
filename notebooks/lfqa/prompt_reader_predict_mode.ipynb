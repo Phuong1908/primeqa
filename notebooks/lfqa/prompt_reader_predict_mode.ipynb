{
 "cells": [
  {
   "cell_type": "code",
   "execution_count": 1,
   "metadata": {},
   "outputs": [
    {
     "name": "stdout",
     "output_type": "stream",
     "text": [
      "No CUDA runtime is found, using CUDA_HOME='/usr/local/cuda'\n",
      "{\"time\":\"2023-02-03 16:33:19,378\", \"name\": \"faiss.loader\", \"level\": \"INFO\", \"message\": \"Loading faiss.\"}\n",
      "{\"time\":\"2023-02-03 16:33:19,753\", \"name\": \"faiss.loader\", \"level\": \"INFO\", \"message\": \"Successfully loaded faiss.\"}\n",
      "[Feb 03, 16:33:24] #> base_config.py from_path /dccstor/mabornea1/kilt-wikipedia-test/colbert_ir/kilt_wikipedia_eli5_dev_exp/indexes//kilt_wikipedia_eli5_dev_indname/metadata.json\n",
      "[Feb 03, 16:33:24] #> base_config.py from_path args loaded! \n",
      "[Feb 03, 16:33:24] #> base_config.py from_path args replaced ! \n",
      "[Feb 03, 16:33:33] #>>>>> at ColBERT name (model type) : /dccstor/colbert-ir/franzm/experiments/oct2_7_12_1.5e-06/none/2022-10/09/15.21.39/checkpoints/colbert.dnn.batch_91287.model\n",
      "[Feb 03, 16:33:33] #>>>>> at BaseColBERT name (model type) : /dccstor/colbert-ir/franzm/experiments/oct2_7_12_1.5e-06/none/2022-10/09/15.21.39/checkpoints/colbert.dnn.batch_91287.model\n",
      "[Feb 03, 16:33:47] factory model type: xlm-roberta-large\n",
      "[Feb 03, 16:34:08] Loading segmented_maxsim_cpp extension (set COLBERT_LOAD_TORCH_EXTENSION_VERBOSE=True for more info)...\n",
      "[Feb 03, 16:34:16] get query model type: xlm-roberta-large\n",
      "[Feb 03, 16:34:17] get doc model type: xlm-roberta-large\n",
      "[Feb 03, 16:34:17] #> Loading codec...\n",
      "[Feb 03, 16:34:17] #> base_config.py from_path /dccstor/mabornea1/kilt-wikipedia-test/colbert_ir/kilt_wikipedia_eli5_dev_exp/indexes//kilt_wikipedia_eli5_dev_indname/metadata.json\n",
      "[Feb 03, 16:34:17] #> base_config.py from_path args loaded! \n",
      "[Feb 03, 16:34:17] #> base_config.py from_path args replaced ! \n",
      "[Feb 03, 16:34:18] #> Loading IVF...\n",
      "[Feb 03, 16:34:18] Loading segmented_lookup_cpp extension (set COLBERT_LOAD_TORCH_EXTENSION_VERBOSE=True for more info)...\n"
     ]
    },
    {
     "name": "stderr",
     "output_type": "stream",
     "text": [
      "/dccstor/mabornea1/miniconda3/envs/prompt_reader/lib/python3.9/site-packages/torch/cuda/amp/grad_scaler.py:115: UserWarning: torch.cuda.amp.GradScaler is enabled, but CUDA is not available.  Disabling.\n",
      "  warnings.warn(\"torch.cuda.amp.GradScaler is enabled, but CUDA is not available.  Disabling.\")\n"
     ]
    },
    {
     "name": "stdout",
     "output_type": "stream",
     "text": [
      "[Feb 03, 16:34:19] Loading filter_pids_cpp extension (set COLBERT_LOAD_TORCH_EXTENSION_VERBOSE=True for more info)...\n",
      "[Feb 03, 16:34:20] Loading decompress_residuals_cpp extension (set COLBERT_LOAD_TORCH_EXTENSION_VERBOSE=True for more info)...\n"
     ]
    },
    {
     "name": "stderr",
     "output_type": "stream",
     "text": [
      "14635it [00:00, 118580.21it/s]\n"
     ]
    }
   ],
   "source": [
    "from primeqa.components.retriever.dense import ColBERTRetriever\n",
    "from primeqa.components.reader.prompt import PromptGPTReader\n",
    "from primeqa.pipelines.qa_pipeline import QAPipeline\n",
    "import json\n",
    "\n",
    "index_root = \"/dccstor/mabornea1/kilt-wikipedia-test/colbert_ir/kilt_wikipedia_eli5_dev_exp/indexes/\"\n",
    "index_name = \"kilt_wikipedia_eli5_dev_indname\"\n",
    "collection = \"/dccstor/mabornea1/kilt-wikipedia-test/passages/kilt_knowledgesource_eli5_dev.tsv\"\n",
    "\n",
    "\n",
    "retriever = ColBERTRetriever(index_root = index_root, \n",
    "                                     index_name = index_name, \n",
    "                                     collection = collection, \n",
    "                                     max_num_documents = 3)\n",
    "retriever.load()"
   ]
  },
  {
   "cell_type": "code",
   "execution_count": null,
   "metadata": {},
   "outputs": [],
   "source": [
    "from primeqa.components.reader.prompt import PromptGPTReader\n",
    "\n",
    "reader = PromptGPTReader(api_key='OPENAI_API_KEY')\n",
    "reader.load()\n",
    "\n",
    "pipeline = QAPipeline(retriever, reader)"
   ]
  },
  {
   "cell_type": "code",
   "execution_count": 5,
   "metadata": {},
   "outputs": [
    {
     "name": "stderr",
     "output_type": "stream",
     "text": [
      "/dccstor/mabornea1/miniconda3/envs/prompt_reader/lib/python3.9/site-packages/torch/autocast_mode.py:162: UserWarning: User provided device_type of 'cuda', but CUDA is not available. Disabling\n",
      "  warnings.warn('User provided device_type of \\'cuda\\', but CUDA is not available. Disabling')\n",
      "100%|██████████| 1/1 [00:00<00:00, 30.83it/s]\n"
     ]
    },
    {
     "name": "stdout",
     "output_type": "stream",
     "text": [
      "[\n",
      "    {\n",
      "        \"example_id\": 0,\n",
      "        \"text\": \"\\n\\nTo be a good singer, one must have musical skill, an excellent voice, the ability to work with people, a sense of showmanship and drama, ambition and drive to continually study and improve, and regular practice. Additionally, singers need to have knowledge and experience in a specific genre of music, such as classical or rock, and may need to take voice training.\",\n",
      "        \"passages\": [\n",
      "            \"The salaries and working conditions for vocalists vary a great deal. While jobs in other music fields such as music education tend to be based on full-time, salaried positions, singing jobs tend to be based on contracts for individual shows or performances, or for a sequence of shows Aspiring singers and vocalists must have musical skill, an excellent voice, the ability to work with people, and a sense of showmanship and drama. Additionally, singers need to have the ambition and drive to continually study and improve,\",\n",
      "            \"Singing can be formal or informal, arranged or improvised. It may be done as a form of religious devotion, as a hobby, as a source of pleasure, comfort or ritual, as part of music education or as a profession. Excellence in singing requires time, dedication, instruction and regular practice. If practice is done on a regular basis then the sounds can become more clear and strong. Professional singers usually build their careers around one specific musical genre, such as classical or rock, although there are singers with crossover success (singing in more than one genre). They usually take voice training\",\n",
      "            \"\\\"Wealth Wealth is the abundance of valuable financial assets or physical possessions which can be converted into a form that can be used for transactions. This includes the core meaning as held in the originating old English word \\\"\\\"weal\\\"\\\", which is from an Indo-European word stem. The modern concept of wealth is of significance in all areas of economics, and clearly so for growth economics and development economics, yet the meaning of wealth is context-dependent. An individual possessing a substantial net worth is known as \\\"\\\"wealthy\\\"\\\". Net worth is defined as the current value of one's assets less liabilities (excluding\\\"\"\n",
      "        ]\n",
      "    }\n",
      "]\n"
     ]
    }
   ],
   "source": [
    "questions = [\"What does it mean to be a good singer ?\"]\n",
    "prompt = \"Answer the following question using the text.\"\n",
    "answers = pipeline.run(questions,prompt)\n",
    "print(json.dumps(answers, indent=4))"
   ]
  },
  {
   "cell_type": "code",
   "execution_count": null,
   "metadata": {},
   "outputs": [],
   "source": []
  }
 ],
 "metadata": {
  "kernelspec": {
   "display_name": "Python 3 (ipykernel)",
   "language": "python",
   "name": "python3"
  },
  "language_info": {
   "codemirror_mode": {
    "name": "ipython",
    "version": 3
   },
   "file_extension": ".py",
   "mimetype": "text/x-python",
   "name": "python",
   "nbconvert_exporter": "python",
   "pygments_lexer": "ipython3",
   "version": "3.9.16"
  },
  "vscode": {
   "interpreter": {
    "hash": "d32919132f66e210a1b695050b8f424e37551142a4189348e2af6a594afe21a0"
   }
  }
 },
 "nbformat": 4,
 "nbformat_minor": 2
}
