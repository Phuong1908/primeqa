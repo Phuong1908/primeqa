{
 "cells": [
  {
   "cell_type": "code",
   "execution_count": 13,
   "metadata": {},
   "outputs": [],
   "source": [
    "from primeqa.components.retriever.dense import ColBERTRetriever\n",
    "from primeqa.components.reader.prompt import PromptGPTReader\n",
    "from primeqa.pipelines.qa_pipeline import QAPipeline\n",
    "import json"
   ]
  },
  {
   "cell_type": "code",
   "execution_count": 14,
   "metadata": {},
   "outputs": [
    {
     "name": "stdout",
     "output_type": "stream",
     "text": [
      "[Feb 05, 15:09:48] #> base_config.py from_path /dccstor/mabornea1/kilt-wikipedia-test/colbert_ir/kilt_wikipedia_eli5_dev_exp/indexes//kilt_wikipedia_eli5_dev_indname/metadata.json\n",
      "[Feb 05, 15:09:48] #> base_config.py from_path args loaded! \n",
      "[Feb 05, 15:09:48] #> base_config.py from_path args replaced ! \n",
      "[Feb 05, 15:09:57] #>>>>> at ColBERT name (model type) : /dccstor/colbert-ir/franzm/experiments/oct2_7_12_1.5e-06/none/2022-10/09/15.21.39/checkpoints/colbert.dnn.batch_91287.model\n",
      "[Feb 05, 15:09:57] #>>>>> at BaseColBERT name (model type) : /dccstor/colbert-ir/franzm/experiments/oct2_7_12_1.5e-06/none/2022-10/09/15.21.39/checkpoints/colbert.dnn.batch_91287.model\n",
      "[Feb 05, 15:10:11] factory model type: xlm-roberta-large\n",
      "[Feb 05, 15:10:40] get query model type: xlm-roberta-large\n",
      "[Feb 05, 15:10:40] get doc model type: xlm-roberta-large\n",
      "[Feb 05, 15:10:41] #> Loading codec...\n",
      "[Feb 05, 15:10:41] #> base_config.py from_path /dccstor/mabornea1/kilt-wikipedia-test/colbert_ir/kilt_wikipedia_eli5_dev_exp/indexes//kilt_wikipedia_eli5_dev_indname/metadata.json\n",
      "[Feb 05, 15:10:41] #> base_config.py from_path args loaded! \n",
      "[Feb 05, 15:10:41] #> base_config.py from_path args replaced ! \n",
      "[Feb 05, 15:10:41] #> Loading IVF...\n"
     ]
    },
    {
     "name": "stderr",
     "output_type": "stream",
     "text": [
      "/dccstor/srosent1/miniconda3/envs/primeqa4.24/lib/python3.9/site-packages/torch/cuda/amp/grad_scaler.py:115: UserWarning: torch.cuda.amp.GradScaler is enabled, but CUDA is not available.  Disabling.\n",
      "  warnings.warn(\"torch.cuda.amp.GradScaler is enabled, but CUDA is not available.  Disabling.\")\n"
     ]
    }
   ],
   "source": [
    "# setup ColBERT index\n",
    "index_root = \"/dccstor/mabornea1/kilt-wikipedia-test/colbert_ir/kilt_wikipedia_eli5_dev_exp/indexes/\"\n",
    "index_name = \"kilt_wikipedia_eli5_dev_indname\"\n",
    "collection = \"/dccstor/mabornea1/kilt-wikipedia-test/passages/kilt_knowledgesource_eli5_dev.tsv\"\n",
    "\n",
    "\n",
    "retriever = ColBERTRetriever(index_root = index_root, \n",
    "                                     index_name = index_name, \n",
    "                                     collection = collection, \n",
    "                                     max_num_documents = 3)\n",
    "retriever.load()"
   ]
  },
  {
   "attachments": {},
   "cell_type": "markdown",
   "metadata": {},
   "source": [
    "We provide three examples of loading models to generate answers from the prompt: GPT, Flan-T5-xxl from HuggingFace, and Flan-T5-xxl from BAM services"
   ]
  },
  {
   "cell_type": "code",
   "execution_count": null,
   "metadata": {},
   "outputs": [],
   "source": [
    "# setup a Prompt Reader: here we use a GPT reader\n",
    "reader = PromptGPTReader(api_key='API KEY HERE')\n",
    "reader.load()"
   ]
  },
  {
   "cell_type": "code",
   "execution_count": null,
   "metadata": {},
   "outputs": [],
   "source": [
    "# setup the pipeline\n",
    "pipeline = QAPipeline(retriever, reader)"
   ]
  },
  {
   "cell_type": "code",
   "execution_count": null,
   "metadata": {},
   "outputs": [],
   "source": [
    "# start asking questions\n",
    "questions = [\"Does smoking marijuana impair driving ?\"]\n",
    "prompt = \"Answer the following question after looking at the text.\"\n",
    "answers = pipeline.run(questions,prompt)\n",
    "print(json.dumps(answers, indent=4))"
   ]
  },
  {
   "cell_type": "code",
   "execution_count": null,
   "metadata": {},
   "outputs": [],
   "source": [
    "# start asking questions\n",
    "questions = [\"What causes the trail behind jets at high altitude? ?\"]\n",
    "prompt = \"Answer the following question after looking at the text.\"\n",
    "answers = pipeline.run(questions,prompt)\n",
    "print(json.dumps(answers, indent=4))"
   ]
  },
  {
   "cell_type": "code",
   "execution_count": 15,
   "metadata": {},
   "outputs": [],
   "source": [
    "#setup a FlanT5PromptReader: note this loads a Flan T5 large model\n",
    "from primeqa.components.reader.prompt import PromptFLANT5Reader\n",
    "reader = PromptFLANT5Reader()\n",
    "reader.load()"
   ]
  },
  {
   "cell_type": "code",
   "execution_count": 16,
   "metadata": {},
   "outputs": [
    {
     "name": "stderr",
     "output_type": "stream",
     "text": [
      "14635it [00:00, 129992.25it/s]\n"
     ]
    }
   ],
   "source": [
    "# setup the pipeline\n",
    "pipeline = QAPipeline(retriever, reader)"
   ]
  },
  {
   "cell_type": "code",
   "execution_count": 17,
   "metadata": {},
   "outputs": [
    {
     "name": "stdout",
     "output_type": "stream",
     "text": [
      "[Feb 05, 15:18:28] #> XMLR QueryTokenizer.tensorize(batch_text[0], batch_background[0], bsize) ==\n",
      "[Feb 05, 15:18:28] #> Input: $ Does smoking marijuana impair driving ?, \t\t True, \t\t None\n",
      "[Feb 05, 15:18:28] #> Output IDs: torch.Size([32]), tensor([     0,   9748, 101790, 200166, 227071,    566, 109637, 132442,    705,\n",
      "             2,      1,      1,      1,      1,      1,      1,      1,      1,\n",
      "             1,      1,      1,      1,      1,      1,      1,      1,      1,\n",
      "             1,      1,      1,      1,      1])\n",
      "[Feb 05, 15:18:28] #> Output Mask: torch.Size([32]), tensor([1, 1, 1, 1, 1, 1, 1, 1, 1, 1, 0, 0, 0, 0, 0, 0, 0, 0, 0, 0, 0, 0, 0, 0,\n",
      "        0, 0, 0, 0, 0, 0, 0, 0])\n",
      "[Feb 05, 15:18:29] #>>>> colbert query ==\n",
      "[Feb 05, 15:18:29] #>>>>> input_ids: torch.Size([32]), tensor([     0,   9748, 101790, 200166, 227071,    566, 109637, 132442,    705,\n",
      "             2,      1,      1,      1,      1,      1,      1,      1,      1,\n",
      "             1,      1,      1,      1,      1,      1,      1,      1,      1,\n",
      "             1,      1,      1,      1,      1])\n",
      "[Feb 05, 15:18:29] #>>>> before linear query ==\n",
      "[Feb 05, 15:18:29] #>>>>> Q: torch.Size([32, 1024]), tensor([[-0.1650, -0.3333,  0.9402,  ...,  0.3227, -0.3856, -0.4365],\n",
      "        [ 0.0714, -0.7822,  0.3105,  ...,  1.2002, -1.3122, -0.1596],\n",
      "        [ 0.3656, -0.3024,  0.4815,  ...,  0.8248, -1.5551, -0.0617],\n",
      "        ...,\n",
      "        [-0.5295, -1.5305, -0.7263,  ...,  1.5818, -0.7768,  0.0924],\n",
      "        [-0.5295, -1.5305, -0.7263,  ...,  1.5818, -0.7768,  0.0924],\n",
      "        [-0.5295, -1.5305, -0.7263,  ...,  1.5818, -0.7768,  0.0924]])\n",
      "[Feb 05, 15:18:29] #>>>>> self.linear query : Parameter containing:\n",
      "tensor([[-0.0301, -0.0307, -0.0115,  ..., -0.0231, -0.0023, -0.0216],\n",
      "        [ 0.0053,  0.0023, -0.0308,  ...,  0.0108,  0.0011,  0.0201],\n",
      "        [-0.0220,  0.0370,  0.0339,  ..., -0.0023, -0.0172,  0.0244],\n",
      "        ...,\n",
      "        [ 0.0222,  0.0115, -0.0246,  ...,  0.0389, -0.0034, -0.0165],\n",
      "        [-0.0146,  0.0392,  0.0131,  ..., -0.0055,  0.0219, -0.0368],\n",
      "        [ 0.0071,  0.0256, -0.0346,  ...,  0.0322,  0.0370,  0.0437]],\n",
      "       requires_grad=True)\n",
      "[Feb 05, 15:18:29] #>>>> colbert query ==\n",
      "[Feb 05, 15:18:29] #>>>>> Q: torch.Size([32, 128]), tensor([[-0.4394, -0.1235,  0.4794,  ..., -0.0403, -0.5039, -0.4353],\n",
      "        [-0.5037, -0.8312,  0.6287,  ..., -0.0070, -1.4869, -0.4849],\n",
      "        [-0.1961, -0.9401,  0.4864,  ..., -0.2654, -1.2466, -0.4863],\n",
      "        ...,\n",
      "        [-1.0761, -0.1264,  0.8598,  ...,  0.5152, -1.2081,  0.1824],\n",
      "        [-1.0761, -0.1264,  0.8598,  ...,  0.5152, -1.2081,  0.1824],\n",
      "        [-1.0761, -0.1264,  0.8598,  ...,  0.5152, -1.2081,  0.1824]])\n"
     ]
    },
    {
     "name": "stderr",
     "output_type": "stream",
     "text": [
      "100%|██████████| 1/1 [00:00<00:00, 66.32it/s]\n",
      "/dccstor/srosent1/miniconda3/envs/primeqa4.24/lib/python3.9/site-packages/transformers/generation_utils.py:1359: UserWarning: Neither `max_length` nor `max_new_tokens` has been set, `max_length` will default to 20 (`self.config.max_length`). Controlling `max_length` via the config is deprecated and `max_length` will be removed from the config in v5 of Transformers -- we recommend using `max_new_tokens` to control the maximum length of the generation.\n",
      "  warnings.warn(\n"
     ]
    },
    {
     "name": "stdout",
     "output_type": "stream",
     "text": [
      "[\n",
      "    {\n",
      "        \"example_id\": 0,\n",
      "        \"text\": [\n",
      "            \"\\\"[a]ny amount of marijuana consumption puts you at risk of driving impaired.\\\"\\\"\"\n",
      "        ],\n",
      "        \"passages\": [\n",
      "            \"\\\"In the US state of Colorado, the state government indicates that \\\"\\\"[a]ny amount of marijuana consumption puts you at risk of driving impaired.\\\"\\\" Colorado law states that \\\"\\\"drivers with five nanograms of active tetrahydrocannabinol (THC) in their whole blood can be prosecuted for driving under the influence (DUI). However, no matter the level of THC, law enforcement officers base arrests on observed impairment.\\\"\\\" In Colorado, if consumption of marijuana is impairing your ability to drive, \\\"\\\"it is illegal for you to be driving, even if that substance is prescribed [by a doctor] or legally acquired.\\\"\\\" Section: Other drugs.:Prescription medications.\\\"\",\n",
      "            \"\\\"Section: Legal standards.:Americas.:United States.:State.:Georgia. Georgia Statute \\u00a7 40-6-391 makes it to drive while there is \\\"\\\"\\\"\\\"any amount\\\"\\\" of marijuana . . . present in the person's blood or urine, or both, \\\"\\\"including the metabolites and derivatives of each or both\\\"\\\" . . . .\\\"\\\" Subsection (b) of the statute provides that being legally entitled to use a drug is not a defense to the statute if the person is still \\\"\\\"rendered incapable of driving safely as a result\\\"\\\" of using that drug. Section: Legal standards.:Americas.:United States.:State.:Illinois.\\\"\",\n",
      "            \"Acute effects may include anxiety and panic, impaired attention and memory, an increased risk of psychotic symptoms, the inability to think clearly, and an increased risk of accidents. Cannabis impairs a person's driving ability, and THC was the illicit drug most frequently found in the blood of drivers who have been involved in vehicle crashes. Those with THC in their system were from three to seven times more likely to be the cause of the accident than those who had not used either cannabis or alcohol, although its role is not necessarily causal because THC stays in the bloodstream for\"\n",
      "        ]\n",
      "    }\n",
      "]\n"
     ]
    }
   ],
   "source": [
    "# start asking questions\n",
    "questions = [\"Does smoking marijuana impair driving ?\"]\n",
    "prompt = \"Answer the following question after looking at the text.\"\n",
    "answers = pipeline.run(questions,prompt)\n",
    "print(json.dumps(answers, indent=4))"
   ]
  },
  {
   "cell_type": "code",
   "execution_count": 18,
   "metadata": {},
   "outputs": [
    {
     "name": "stderr",
     "output_type": "stream",
     "text": [
      "100%|██████████| 1/1 [00:00<00:00, 77.71it/s]\n"
     ]
    },
    {
     "name": "stdout",
     "output_type": "stream",
     "text": [
      "[\n",
      "    {\n",
      "        \"example_id\": 0,\n",
      "        \"text\": [\n",
      "            \"condensation trails\"\n",
      "        ],\n",
      "        \"passages\": [\n",
      "            \"\\\"Aircraft flying at high altitude form condensation trails or contrails in the exhaust plume of their engines. While in the Troposphere these have very little climatic impact. However, jet aircraft cruising in the Stratosphere do create an impact from their contrails, although the extent of the damage to the environment is as yet unknown. Contrails can also trigger the formation of high-altitude Cirrus cloud thus creating a greater climatic effect. A 2015 study found that artificial cloudiness caused by contrail \\\"\\\"outbreaks\\\"\\\" reduce the difference between daytime and nighttime temperatures. The former are decreased and the latter are increased, in comparison\\\"\",\n",
      "            \"\\\"Contrails, or condensation trails, are \\\"\\\"streaks of condensed water vapor created in the air by an airplane or rocket at high altitudes.\\\"\\\" Fossil fuel combustion (as in piston and jet engines) produces carbon dioxide and water vapor. At high altitudes the air is very cold. Hot humid air from the engine exhaust mixes with the colder surrounding air, causing the water vapor to condense into droplets or ice crystals that form visible clouds. The rate at which contrails dissipate is entirely dependent on weather conditions. If the atmosphere is near saturation, the contrail may exist for some time. Conversely, if\\\"\",\n",
      "            \"\\\"Contrails (; short for \\\"\\\"condensation trails\\\"\\\") are line-shaped clouds produced by aircraft engine exhaust or changes in air pressure, typically at aircraft cruise altitudes several miles above the Earth's surface. Contrails are composed primarily of water, in the form of ice crystals. The combination of water vapor in aircraft engine exhaust and the low ambient temperatures that exist at high altitudes allows the formation of the trails. Impurities in the engine exhaust from the fuel, including sulfur compounds (0.05% by weight in jet fuel) provide some of the particles that can serve as sites for water droplet growth in the\\\"\"\n",
      "        ]\n",
      "    }\n",
      "]\n"
     ]
    }
   ],
   "source": [
    "# start asking questions\n",
    "questions = [\"What causes the trail behind jets at high altitude? ?\"]\n",
    "prompt = \"Answer the following question after looking at the text.\"\n",
    "answers = pipeline.run(questions,prompt)\n",
    "print(json.dumps(answers, indent=4))"
   ]
  },
  {
   "cell_type": "code",
   "execution_count": 19,
   "metadata": {},
   "outputs": [],
   "source": [
    "#setup a FlanT5PromptReader using the bam service (https://bam.res.ibm.com/): note this loads a Flan T5 large model\n",
    "from primeqa.components.reader.prompt import PromptFLANT5Reader\n",
    "reader = PromptFLANT5Reader(use_bam=True, api_key='API KEY HERE')\n",
    "reader.load()"
   ]
  },
  {
   "cell_type": "code",
   "execution_count": 20,
   "metadata": {},
   "outputs": [
    {
     "name": "stderr",
     "output_type": "stream",
     "text": [
      "14635it [00:00, 283158.38it/s]\n"
     ]
    }
   ],
   "source": [
    "# setup the pipeline\n",
    "pipeline = QAPipeline(retriever, reader)"
   ]
  },
  {
   "cell_type": "code",
   "execution_count": 21,
   "metadata": {},
   "outputs": [
    {
     "name": "stderr",
     "output_type": "stream",
     "text": [
      "100%|██████████| 1/1 [00:00<00:00, 36.33it/s]\n",
      "/dccstor/srosent1/miniconda3/envs/primeqa4.24/lib/python3.9/site-packages/urllib3/connectionpool.py:1045: InsecureRequestWarning: Unverified HTTPS request is being made to host 'bam-api.res.ibm.com'. Adding certificate verification is strongly advised. See: https://urllib3.readthedocs.io/en/1.26.x/advanced-usage.html#ssl-warnings\n",
      "  warnings.warn(\n"
     ]
    },
    {
     "name": "stdout",
     "output_type": "stream",
     "text": [
      "[\n",
      "    {\n",
      "        \"example_id\": 0,\n",
      "        \"text\": \"\\\"[a]ny amount of marijuana consumption puts you at risk of driving impaired.\\\"\\\" Colorado law states that \\\"\\\"drivers with five nanograms of active tetrahydrocannabinol (THC) in their whole blood can be prosecuted for driving under the influence (DUI). However, no matter the level of THC, law enforcement officers base arrests on observed impairment.\\\"\\\" In Colorado, if consumption of marijuana is impairing your ability to drive, \\\"\\\"it is illegal for you to be driving, even if that substance is prescribed [by a doctor] or legally acquired.\\\"\\\" Section: Other drugs.:Prescription medications.\\\", \\\"Section: Legal standards.:Americas.:United States.:State.:Georgia. Georgia Statute  40-6-391 makes it to drive while there is \\\"\\\"\\\"\\\"any amount\\\"\\\" of marijuana . . . present in the person's blood or urine, or both, \\\"\\\"including the metabolites and derivatives of each or both\\\"\\\"\\\"\\\" Subsection (b) of the statute provides that being legally entitled to use a drug\",\n",
      "        \"passages\": [\n",
      "            \"\\\"In the US state of Colorado, the state government indicates that \\\"\\\"[a]ny amount of marijuana consumption puts you at risk of driving impaired.\\\"\\\" Colorado law states that \\\"\\\"drivers with five nanograms of active tetrahydrocannabinol (THC) in their whole blood can be prosecuted for driving under the influence (DUI). However, no matter the level of THC, law enforcement officers base arrests on observed impairment.\\\"\\\" In Colorado, if consumption of marijuana is impairing your ability to drive, \\\"\\\"it is illegal for you to be driving, even if that substance is prescribed [by a doctor] or legally acquired.\\\"\\\" Section: Other drugs.:Prescription medications.\\\"\",\n",
      "            \"\\\"Section: Legal standards.:Americas.:United States.:State.:Georgia. Georgia Statute \\u00a7 40-6-391 makes it to drive while there is \\\"\\\"\\\"\\\"any amount\\\"\\\" of marijuana . . . present in the person's blood or urine, or both, \\\"\\\"including the metabolites and derivatives of each or both\\\"\\\" . . . .\\\"\\\" Subsection (b) of the statute provides that being legally entitled to use a drug is not a defense to the statute if the person is still \\\"\\\"rendered incapable of driving safely as a result\\\"\\\" of using that drug. Section: Legal standards.:Americas.:United States.:State.:Illinois.\\\"\",\n",
      "            \"Acute effects may include anxiety and panic, impaired attention and memory, an increased risk of psychotic symptoms, the inability to think clearly, and an increased risk of accidents. Cannabis impairs a person's driving ability, and THC was the illicit drug most frequently found in the blood of drivers who have been involved in vehicle crashes. Those with THC in their system were from three to seven times more likely to be the cause of the accident than those who had not used either cannabis or alcohol, although its role is not necessarily causal because THC stays in the bloodstream for\"\n",
      "        ]\n",
      "    }\n",
      "]\n"
     ]
    }
   ],
   "source": [
    "# start asking questions\n",
    "questions = [\"Does smoking marijuana impair driving ?\"]\n",
    "prompt = \"Answer the following question after looking at the text.\"\n",
    "answers = pipeline.run(questions,prompt)\n",
    "print(json.dumps(answers, indent=4))"
   ]
  },
  {
   "cell_type": "code",
   "execution_count": 22,
   "metadata": {},
   "outputs": [
    {
     "name": "stderr",
     "output_type": "stream",
     "text": [
      "100%|██████████| 1/1 [00:00<00:00, 58.55it/s]\n",
      "/dccstor/srosent1/miniconda3/envs/primeqa4.24/lib/python3.9/site-packages/urllib3/connectionpool.py:1045: InsecureRequestWarning: Unverified HTTPS request is being made to host 'bam-api.res.ibm.com'. Adding certificate verification is strongly advised. See: https://urllib3.readthedocs.io/en/1.26.x/advanced-usage.html#ssl-warnings\n",
      "  warnings.warn(\n"
     ]
    },
    {
     "name": "stdout",
     "output_type": "stream",
     "text": [
      "[\n",
      "    {\n",
      "        \"example_id\": 0,\n",
      "        \"text\": \"condensation trails or contrails in the exhaust plume of their engines. While in the Troposphere these have very little climatic impact. However, jet aircraft cruising in the Stratosphere do create an impact from their contrails, although the extent of the damage to the environment is as yet unknown. Contrails can also trigger the formation of high-altitude Cirrus cloud thus creating a greater climatic effect. A 2015 study found that artificial cloudiness caused by contrail \\\"\\\"outbreaks\\\"\\\" reduce the difference between daytime and nighttime temperatures. The former are decreased and the latter are increased, in comparison\\\"\",\n",
      "        \"passages\": [\n",
      "            \"\\\"Aircraft flying at high altitude form condensation trails or contrails in the exhaust plume of their engines. While in the Troposphere these have very little climatic impact. However, jet aircraft cruising in the Stratosphere do create an impact from their contrails, although the extent of the damage to the environment is as yet unknown. Contrails can also trigger the formation of high-altitude Cirrus cloud thus creating a greater climatic effect. A 2015 study found that artificial cloudiness caused by contrail \\\"\\\"outbreaks\\\"\\\" reduce the difference between daytime and nighttime temperatures. The former are decreased and the latter are increased, in comparison\\\"\",\n",
      "            \"\\\"Contrails, or condensation trails, are \\\"\\\"streaks of condensed water vapor created in the air by an airplane or rocket at high altitudes.\\\"\\\" Fossil fuel combustion (as in piston and jet engines) produces carbon dioxide and water vapor. At high altitudes the air is very cold. Hot humid air from the engine exhaust mixes with the colder surrounding air, causing the water vapor to condense into droplets or ice crystals that form visible clouds. The rate at which contrails dissipate is entirely dependent on weather conditions. If the atmosphere is near saturation, the contrail may exist for some time. Conversely, if\\\"\",\n",
      "            \"\\\"Contrails (; short for \\\"\\\"condensation trails\\\"\\\") are line-shaped clouds produced by aircraft engine exhaust or changes in air pressure, typically at aircraft cruise altitudes several miles above the Earth's surface. Contrails are composed primarily of water, in the form of ice crystals. The combination of water vapor in aircraft engine exhaust and the low ambient temperatures that exist at high altitudes allows the formation of the trails. Impurities in the engine exhaust from the fuel, including sulfur compounds (0.05% by weight in jet fuel) provide some of the particles that can serve as sites for water droplet growth in the\\\"\"\n",
      "        ]\n",
      "    }\n",
      "]\n"
     ]
    }
   ],
   "source": [
    "# start asking questions\n",
    "questions = [\"What causes the trail behind jets at high altitude? ?\"]\n",
    "prompt = \"Answer the following question after looking at the text.\"\n",
    "answers = pipeline.run(questions,prompt)\n",
    "print(json.dumps(answers, indent=4))"
   ]
  }
 ],
 "metadata": {
  "kernelspec": {
   "display_name": "Python 3 (ipykernel)",
   "language": "python",
   "name": "python3"
  },
  "language_info": {
   "codemirror_mode": {
    "name": "ipython",
    "version": 3
   },
   "file_extension": ".py",
   "mimetype": "text/x-python",
   "name": "python",
   "nbconvert_exporter": "python",
   "pygments_lexer": "ipython3",
   "version": "3.9.16"
  },
  "vscode": {
   "interpreter": {
    "hash": "d32919132f66e210a1b695050b8f424e37551142a4189348e2af6a594afe21a0"
   }
  }
 },
 "nbformat": 4,
 "nbformat_minor": 2
}
