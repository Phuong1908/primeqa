{
 "cells": [
  {
   "cell_type": "markdown",
   "metadata": {},
   "source": [
    "Instructions for creating a ColBERT index and train a FiD Model for KILT-ELI5 van be found [here]()  \n",
    "This code was tested with a large ColBERT index based on the KILT-Wikipedia corpus and an FiD reader trained on KILT-ELI5.\n",
    "This code was tested on a machine with 300GB memory."
   ]
  },
  {
   "cell_type": "code",
   "execution_count": null,
   "metadata": {},
   "outputs": [],
   "source": [
    "from primeqa.pipelines.components.retriever.dense import ColBERTRetriever\n",
    "from primeqa.pipelines.components.reader.generative import GenerativeFiDReader\n",
    "from primeqa.pipelines.qa_pipeline import QAPipeline\n",
    "import json\n",
    "\n",
    "index_root = \"/dccstor/mabornea1/kilt-wikipedia/colbert_ir/kilt_wikipedia_exp/indexes/\"\n",
    "index_name = \"kilt_wikipedia_indname\"\n",
    "collection = \"/dccstor/mabornea1/kilt-wikipedia/passages/kilt_knowledgesource_0.tsv\"\n",
    "colbert_retriever = ColBERTRetriever(index_root = index_root, index_name = index_name, collection = collection, max_num_documents = 3)\n",
    "colbert_retriever.load()\n",
    "\n",
    "fid_reader = GenerativeFiDReader()\n",
    "fid_reader.load()\n",
    "\n",
    "lfqa_pipeline = QAPipeline(colbert_retriever, fid_reader)\n",
    "\n",
    "questions = [\"What causes the trail behind jets at high altitude?\"]\n",
    "answers = lfqa_pipeline.run(questions)"
   ]
  }
 ],
 "metadata": {
  "kernelspec": {
   "display_name": "Python 3.9.13 ('fid3')",
   "language": "python",
   "name": "python3"
  },
  "language_info": {
   "codemirror_mode": {
    "name": "ipython",
    "version": 3
   },
   "file_extension": ".py",
   "mimetype": "text/x-python",
   "name": "python",
   "nbconvert_exporter": "python",
   "pygments_lexer": "ipython3",
   "version": "3.9.13"
  },
  "orig_nbformat": 4,
  "vscode": {
   "interpreter": {
    "hash": "5492b400f97c20119cdc89c038296abc6178f6ab9b3c8735a30b6f38049e922d"
   }
  }
 },
 "nbformat": 4,
 "nbformat_minor": 2
}
