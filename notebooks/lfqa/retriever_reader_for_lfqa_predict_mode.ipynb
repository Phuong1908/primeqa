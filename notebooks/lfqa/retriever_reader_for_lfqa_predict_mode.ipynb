{
 "cells": [
  {
   "cell_type": "code",
   "execution_count": null,
   "metadata": {},
   "outputs": [],
   "source": [
    "import json\n",
    "from primeqa.pipelines.components.reader.generative import GenerativeFiDReader\n",
    "from primeqa.pipelines.components.retriever.dense import ColBERTRetriever\n",
    "\n",
    "index_root = \"/dccstor/mabornea1/kilt-wikipedia/colbert_ir/kilt_wikipedia_exp/indexes/\"\n",
    "index_name = \"kilt_wikipedia_indname\"\n",
    "retriever = ColBERTRetriever(index_root = index_root, index_name = index_name, max_num_documents = 3)\n",
    "retriever.load()\n",
    "questions = [\"What causes the trail behind jets at high altitude?\"]\n",
    "results = retriever.retrieve(input_texts = questions)\n",
    "print(results)\n",
    "\n",
    "#fid_reader = GenerativeFiDReader()\n",
    "#fid_reader.load()"
   ]
  }
 ],
 "metadata": {
  "kernelspec": {
   "display_name": "Python 3.9.13 ('fid2')",
   "language": "python",
   "name": "python3"
  },
  "language_info": {
   "codemirror_mode": {
    "name": "ipython",
    "version": 3
   },
   "file_extension": ".py",
   "mimetype": "text/x-python",
   "name": "python",
   "nbconvert_exporter": "python",
   "pygments_lexer": "ipython3",
   "version": "3.9.13"
  },
  "orig_nbformat": 4,
  "vscode": {
   "interpreter": {
    "hash": "d46188ad2618180fd7f7eec71970fbf57588098ec0d5b28866320649df1783a0"
   }
  }
 },
 "nbformat": 4,
 "nbformat_minor": 2
}
