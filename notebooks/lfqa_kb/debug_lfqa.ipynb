{
 "cells": [
  {
   "cell_type": "code",
   "execution_count": 1,
   "metadata": {},
   "outputs": [],
   "source": [
    "import datasets\n",
    "from datasets import load_dataset"
   ]
  },
  {
   "cell_type": "code",
   "execution_count": 18,
   "metadata": {},
   "outputs": [
    {
     "name": "stderr",
     "output_type": "stream",
     "text": [
      "Reusing dataset kilt_tasks (/u/myu2/.cache/huggingface/datasets/kilt_tasks/eli5/1.0.0/57dc8b2431e76637e0c6ef79689ca4af61ed3a330e2e0cd62c8971465a35db3a)\n"
     ]
    },
    {
     "data": {
      "application/vnd.jupyter.widget-view+json": {
       "model_id": "81b0f535c6574285b7872973800fb0e6",
       "version_major": 2,
       "version_minor": 0
      },
      "text/plain": [
       "  0%|          | 0/3 [00:00<?, ?it/s]"
      ]
     },
     "metadata": {},
     "output_type": "display_data"
    }
   ],
   "source": [
    "raw_datasets = load_dataset(\"kilt_tasks\", \"eli5\")"
   ]
  },
  {
   "cell_type": "code",
   "execution_count": 19,
   "metadata": {},
   "outputs": [
    {
     "data": {
      "application/vnd.jupyter.widget-view+json": {
       "model_id": "feea3fc61bf24f76820b7de24b43cbce",
       "version_major": 2,
       "version_minor": 0
      },
      "text/plain": [
       "Creating json from Arrow format:   0%|          | 0/28 [00:00<?, ?ba/s]"
      ]
     },
     "metadata": {},
     "output_type": "display_data"
    },
    {
     "data": {
      "text/plain": [
       "599038772"
      ]
     },
     "execution_count": 19,
     "metadata": {},
     "output_type": "execute_result"
    }
   ],
   "source": [
    "raw_datasets[\"train\"].to_json(\"/dccstor/myu/data/kilt_eli5_tmp/eli5-train-kilt.json\")"
   ]
  },
  {
   "cell_type": "code",
   "execution_count": 24,
   "metadata": {},
   "outputs": [
    {
     "name": "stderr",
     "output_type": "stream",
     "text": [
      "Using custom data configuration default-97f3a9677bc7fc92\n",
      "Reusing dataset json (/u/myu2/.cache/huggingface/datasets/json/default-97f3a9677bc7fc92/0.0.0/ac0ca5f5289a6cf108e706efcf040422dbbfa8e658dee6a819f20d76bb84d26b)\n"
     ]
    }
   ],
   "source": [
    "examples = load_dataset(\"json\", data_files={\n",
    "    \"validation\": \"/dccstor/myu/data/kilt_eli5/eli5-dev-kilt.json\"\n",
    "}, split=\"validation\")"
   ]
  },
  {
   "cell_type": "code",
   "execution_count": 28,
   "metadata": {},
   "outputs": [],
   "source": [
    "references = [{\"id\": ex[\"id\"], \"answers\": [x[\"answer\"] for x in ex[\"output\"] if x[\"answer\"] is not None]} for ex in examples] # muli references\n"
   ]
  },
  {
   "cell_type": "code",
   "execution_count": 29,
   "metadata": {},
   "outputs": [
    {
     "data": {
      "text/plain": [
       "{'id': '1kiwfx',\n",
       " 'input': 'In Trading Places (1983, Akroyd/Murphy) how does the scheme at the end of the movie work? Why would buying a lot of OJ at a high price ruin the Duke Brothers?',\n",
       " 'output': [{'answer': 'The final scene involves future contracts. This simply means entering into a contract to buy something (oil, wheat, even frozen concentrated orange juice(FCOJ)) at a specified time for the current price. The person selling the future does not have to own the FCOJ at the time of sale he simply has to provide them at the agreed upon date. Futures help companies mitigate risk against the unpredictable price of FCOJ. If the price of FCOJ goes up the buyer wins the seller loses and visa versa. This price is often affected by fresh oranges. If there is a good harvest FCOJ price goes down and so on. The Dukes believed there was going to be a bad harvest. Their plan was to buy as much FCOJ as they could and basically corner the market then sell it at a much higher price due to a lack of oranges. So here is what happened. At first Winthrop and Valentine begin selling futures contracts at inflated prices caused by the Dukes (on the info from the fake report of a bad orange harvest) at approximately $1.45 per unit. When the report comes out that the orange harvest is expected to be good caused a massive selloff and the futures price plummeted to about $.22 cents. This is when Winthrop and Valentine begin buying futures instead of selling. So now they can fill the futures orders of $1.45 with oranges costing $.22 earning something like a 545% profit.',\n",
       "   'provenance': None},\n",
       "  {'answer': 'They had an episode of Marketplace that addressed this a few weeks ago:  URL_0 ',\n",
       "   'provenance': None},\n",
       "  {'answer': 'NPR actually did a interview explaining everything pretty well.  URL_0 ',\n",
       "   'provenance': None},\n",
       "  {'answer': 'If I remember correctly, they knew that the price of orange juice was going to fall. Normally this wouldn\\'t matter, because you are supposed to buy and hold stocks, but they were buying what\\'s called \\'futures\\'. In a nutshell, they were buying contracts that afford them the legal right to purchase units of OJ at a specific price. Since they knew the price of OJ would fall (remember the dude with the locked briefcase?) they were buying option contracts to purchase OJ at a higher price. Anyone with half a brain would sell them these and of course that\\'s what happened. For in depth knowledge, look up \"how futures trading works.\"',\n",
       "   'provenance': None},\n",
       "  {'answer': \"The unrealistic part of that flick is not the trading but Winthorp and Valentine being able just to waltz in to that pit and stand wherever they want. Spots in a commodity pit are protected like gang turf. They just go in and stand in the middle. Also if they deposit the cash from everyone's savings lets say 100k and the margin per contract is 5k per contract they can only buy or sell 20 contracts. I don't know what the FCOJ margins are, but if they trade more than 20 the profit goes to the exchange. At least that's how the CME rolls.\",\n",
       "   'provenance': None},\n",
       "  {'answer': 'Fun fact: In \"Coming to America\", when Akeem\\'s character gave the money to the 2 homeless guys, it was the Duke brothers. :)  URL_0 ',\n",
       "   'provenance': None},\n",
       "  {'answer': \"odd things I noted - 1. They didn't go in with that much cash. I understand they first sold high and then bought low. So how did they sell so much with just a small sum? They should've bought very little contracts of fcoj which would sell out in 1min with that frenzy and then the buyers would go somewhere else and price would rise even beyond $1.42 2. They all look at the clock and then 9am (I think) strikes and crop report is read. Then they all panic because they need to unload whatever they bought and finding the 2 buying they sell ASAP. Again how can these 2 buy everything with so little money? 3. Finally the closing bell strikes and trading stops. How did all this scheme happen so fast ? Doesnt trading happen 9:30am to 4pm at NYSE (why wtc was shown?) for such commodities. Did they spend that many hours there? It just seemed sudden and abrupt the time flow.\",\n",
       "   'provenance': None},\n",
       "  {'answer': 'it was the margin call for the duke brothers. as i\\'m sure others explained, the dukes shorted the market based on info from the phony crop report. so when the price shot up, a margin call was due, even after the price settled a bit after billy and louie sold their holdings for huge gains. when the market closed with the price still up, the movie shows the guy affiliated with the exchange saying \"Margin call.\". In reality I think it would\\'ve been the firm that they trade through and that provided them the loan in the first place. (margin call means pay back the loaned amount) edit: maybe I had it backwards and the dukes were going to go long on OJ futures, but it\\'s the same principle. margin call did them in after the market worked against them based on their false knowledge.',\n",
       "   'provenance': None},\n",
       "  {'answer': 'I feel so old. People have been askinbg what happened at the end of this movie for what must be the last 15 years of my life. It never stops. Every year/month/fortnight, I see someone asking what happened, and someone explaining. Andf it will keep on happening, until I am 90yrs old, in a home, with nothing but the Internet and my bladder to keep me going. And there it will be: \"what happens at the end of Trading Places?\"',\n",
       "   'provenance': None},\n",
       "  {'answer': None,\n",
       "   'provenance': [{'wikipedia_id': '242855',\n",
       "     'title': 'Futures contract',\n",
       "     'section': 'Section::::Abstract.',\n",
       "     'start_paragraph_id': 1,\n",
       "     'start_character': 14,\n",
       "     'end_paragraph_id': 1,\n",
       "     'end_character': 612,\n",
       "     'bleu_score': 0.9232808519770748,\n",
       "     'meta': None}]}],\n",
       " 'meta': {'partial_evidence': [{'wikipedia_id': '520990',\n",
       "    'title': 'Trading Places',\n",
       "    'section': 'Section::::Plot.\\n',\n",
       "    'start_paragraph_id': 7,\n",
       "    'end_paragraph_id': 7,\n",
       "    'meta': {'evidence_span': ['On television, they learn that Clarence Beeks is transporting a secret USDA report on orange crop forecasts.',\n",
       "      'On television, they learn that Clarence Beeks is transporting a secret USDA report on orange crop forecasts. Winthorpe and Valentine recall large payments made to Beeks by the Dukes and realize that the Dukes plan to obtain the report to corner the market on frozen orange juice.',\n",
       "      'Winthorpe and Valentine recall large payments made to Beeks by the Dukes and realize that the Dukes plan to obtain the report to corner the market on frozen orange juice.']}}]}}"
      ]
     },
     "execution_count": 29,
     "metadata": {},
     "output_type": "execute_result"
    }
   ],
   "source": [
    "examples[0]"
   ]
  },
  {
   "cell_type": "code",
   "execution_count": 30,
   "metadata": {},
   "outputs": [
    {
     "data": {
      "text/plain": [
       "{'id': '1kiwfx',\n",
       " 'answers': ['The final scene involves future contracts. This simply means entering into a contract to buy something (oil, wheat, even frozen concentrated orange juice(FCOJ)) at a specified time for the current price. The person selling the future does not have to own the FCOJ at the time of sale he simply has to provide them at the agreed upon date. Futures help companies mitigate risk against the unpredictable price of FCOJ. If the price of FCOJ goes up the buyer wins the seller loses and visa versa. This price is often affected by fresh oranges. If there is a good harvest FCOJ price goes down and so on. The Dukes believed there was going to be a bad harvest. Their plan was to buy as much FCOJ as they could and basically corner the market then sell it at a much higher price due to a lack of oranges. So here is what happened. At first Winthrop and Valentine begin selling futures contracts at inflated prices caused by the Dukes (on the info from the fake report of a bad orange harvest) at approximately $1.45 per unit. When the report comes out that the orange harvest is expected to be good caused a massive selloff and the futures price plummeted to about $.22 cents. This is when Winthrop and Valentine begin buying futures instead of selling. So now they can fill the futures orders of $1.45 with oranges costing $.22 earning something like a 545% profit.',\n",
       "  'They had an episode of Marketplace that addressed this a few weeks ago:  URL_0 ',\n",
       "  'NPR actually did a interview explaining everything pretty well.  URL_0 ',\n",
       "  'If I remember correctly, they knew that the price of orange juice was going to fall. Normally this wouldn\\'t matter, because you are supposed to buy and hold stocks, but they were buying what\\'s called \\'futures\\'. In a nutshell, they were buying contracts that afford them the legal right to purchase units of OJ at a specific price. Since they knew the price of OJ would fall (remember the dude with the locked briefcase?) they were buying option contracts to purchase OJ at a higher price. Anyone with half a brain would sell them these and of course that\\'s what happened. For in depth knowledge, look up \"how futures trading works.\"',\n",
       "  \"The unrealistic part of that flick is not the trading but Winthorp and Valentine being able just to waltz in to that pit and stand wherever they want. Spots in a commodity pit are protected like gang turf. They just go in and stand in the middle. Also if they deposit the cash from everyone's savings lets say 100k and the margin per contract is 5k per contract they can only buy or sell 20 contracts. I don't know what the FCOJ margins are, but if they trade more than 20 the profit goes to the exchange. At least that's how the CME rolls.\",\n",
       "  'Fun fact: In \"Coming to America\", when Akeem\\'s character gave the money to the 2 homeless guys, it was the Duke brothers. :)  URL_0 ',\n",
       "  \"odd things I noted - 1. They didn't go in with that much cash. I understand they first sold high and then bought low. So how did they sell so much with just a small sum? They should've bought very little contracts of fcoj which would sell out in 1min with that frenzy and then the buyers would go somewhere else and price would rise even beyond $1.42 2. They all look at the clock and then 9am (I think) strikes and crop report is read. Then they all panic because they need to unload whatever they bought and finding the 2 buying they sell ASAP. Again how can these 2 buy everything with so little money? 3. Finally the closing bell strikes and trading stops. How did all this scheme happen so fast ? Doesnt trading happen 9:30am to 4pm at NYSE (why wtc was shown?) for such commodities. Did they spend that many hours there? It just seemed sudden and abrupt the time flow.\",\n",
       "  'it was the margin call for the duke brothers. as i\\'m sure others explained, the dukes shorted the market based on info from the phony crop report. so when the price shot up, a margin call was due, even after the price settled a bit after billy and louie sold their holdings for huge gains. when the market closed with the price still up, the movie shows the guy affiliated with the exchange saying \"Margin call.\". In reality I think it would\\'ve been the firm that they trade through and that provided them the loan in the first place. (margin call means pay back the loaned amount) edit: maybe I had it backwards and the dukes were going to go long on OJ futures, but it\\'s the same principle. margin call did them in after the market worked against them based on their false knowledge.',\n",
       "  'I feel so old. People have been askinbg what happened at the end of this movie for what must be the last 15 years of my life. It never stops. Every year/month/fortnight, I see someone asking what happened, and someone explaining. Andf it will keep on happening, until I am 90yrs old, in a home, with nothing but the Internet and my bladder to keep me going. And there it will be: \"what happens at the end of Trading Places?\"']}"
      ]
     },
     "execution_count": 30,
     "metadata": {},
     "output_type": "execute_result"
    }
   ],
   "source": [
    "references[0]"
   ]
  },
  {
   "cell_type": "code",
   "execution_count": 3,
   "metadata": {},
   "outputs": [],
   "source": [
    "\n",
    "import transformers\n",
    "from typer import Option\n",
    "from oneqa.lfqa_kb.trainers.seq2seq_trainer import QuestionAnsweringSeq2SeqTrainer\n",
    "from oneqa.lfqa_kb.metrics.utils import compute_metrics\n",
    "from oneqa.lfqa_kb.models.fid import FiDBART\n",
    "from transformers import (\n",
    "    AutoConfig,\n",
    "    AutoModelForSeq2SeqLM,\n",
    "    AutoTokenizer,\n",
    "    DataCollatorForSeq2Seq,\n",
    "    HfArgumentParser,\n",
    "    Seq2SeqTrainingArguments,\n",
    "    set_seed,\n",
    "    BartForConditionalGeneration,\n",
    ")\n",
    "from transformers.trainer_utils import get_last_checkpoint\n",
    "from transformers.utils import check_min_version\n",
    "from transformers.utils.versions import require_version\n"
   ]
  },
  {
   "cell_type": "code",
   "execution_count": 2,
   "metadata": {},
   "outputs": [],
   "source": [
    "bart = BartForConditionalGeneration.from_pretrained(\"facebook/bart-base\")\n",
    "model = FiDBART(bart.config)\n",
    "model.load_pretrained(bart.state_dict())"
   ]
  },
  {
   "cell_type": "code",
   "execution_count": 18,
   "metadata": {},
   "outputs": [
    {
     "name": "stdout",
     "output_type": "stream",
     "text": [
      "[[1, 1, 1], [1, 1, 0]]\n"
     ]
    },
    {
     "ename": "AssertionError",
     "evalue": "",
     "output_type": "error",
     "traceback": [
      "\u001b[0;31m---------------------------------------------------------------------------\u001b[0m",
      "\u001b[0;31mAssertionError\u001b[0m                            Traceback (most recent call last)",
      "\u001b[0;32m/tmp/ipykernel_2891817/1809373620.py\u001b[0m in \u001b[0;36m<module>\u001b[0;34m\u001b[0m\n\u001b[1;32m     12\u001b[0m \u001b[0mx\u001b[0m \u001b[0;34m=\u001b[0m \u001b[0moutput\u001b[0m\u001b[0;34m[\u001b[0m\u001b[0;34m'attention_mask'\u001b[0m\u001b[0;34m]\u001b[0m\u001b[0;34m[\u001b[0m\u001b[0;36m0\u001b[0m\u001b[0;34m,\u001b[0m \u001b[0;34m:\u001b[0m\u001b[0;34m]\u001b[0m\u001b[0;34m.\u001b[0m\u001b[0mtolist\u001b[0m\u001b[0;34m(\u001b[0m\u001b[0;34m)\u001b[0m\u001b[0;34m\u001b[0m\u001b[0;34m\u001b[0m\u001b[0m\n\u001b[1;32m     13\u001b[0m \u001b[0mprint\u001b[0m\u001b[0;34m(\u001b[0m\u001b[0mx\u001b[0m\u001b[0;34m)\u001b[0m \u001b[0;31m# [1, 1, 1, 0, 0, 0]\u001b[0m\u001b[0;34m\u001b[0m\u001b[0;34m\u001b[0m\u001b[0m\n\u001b[0;32m---> 14\u001b[0;31m \u001b[0;32massert\u001b[0m \u001b[0mx\u001b[0m \u001b[0;34m==\u001b[0m \u001b[0;34m[\u001b[0m\u001b[0;36m1\u001b[0m\u001b[0;34m,\u001b[0m\u001b[0;36m1\u001b[0m\u001b[0;34m,\u001b[0m\u001b[0;36m0\u001b[0m\u001b[0;34m]\u001b[0m \u001b[0;34m+\u001b[0m \u001b[0;34m[\u001b[0m\u001b[0;36m0\u001b[0m\u001b[0;34m]\u001b[0m \u001b[0;34m*\u001b[0m \u001b[0;36m3\u001b[0m\u001b[0;34m\u001b[0m\u001b[0;34m\u001b[0m\u001b[0m\n\u001b[0m",
      "\u001b[0;31mAssertionError\u001b[0m: "
     ]
    }
   ],
   "source": [
    "import transformers\n",
    "\n",
    "tokenizer = transformers.AutoTokenizer.from_pretrained('facebook/bart-base')\n",
    "tokenizer.pad_token = tokenizer.unk_token\n",
    "\n",
    "features = [\n",
    "  {\"input_ids\": [[1,2,3],[4,5,6]], \"attention_mask\": [[1,1,1],[1,1,0]], \"labels\": [-100,-100,-100,-100,-100,6]},\n",
    "  {\"input_ids\": [[1,2,3], [4,4,4]], \"attention_mask\": [[1,1,0],[1,1,1]], \"labels\": [-100,-100,4]},\n",
    "]\n",
    "output = transformers.DataCollatorForSeq2Seq(tokenizer)(features)\n",
    "\n",
    "x = output['attention_mask'][0, :].tolist()\n",
    "print(x) # [1, 1, 1, 0, 0, 0]\n",
    "assert x == [1,1,0] + [0] * 3"
   ]
  },
  {
   "cell_type": "code",
   "execution_count": 27,
   "metadata": {},
   "outputs": [],
   "source": [
    "features = [{'input_ids': [[0, 40018, 35, 1336, 109, 52, 216, 70, 5, 418, 5, 168, 16, 562, 31, 827, 13070, 16, 164, 124, 7, 5, 82, 116, 9078, 35, 96, 3454, 6, 10, 2228, 8068, 36, 368, 2228, 1361, 43, 16, 10, 8068, 9, 418, 30, 10, 582, 254, 2024, 88, 10, 582, 1942, 18, 827, 1316, 4, 10480, 8874, 32, 144, 10266, 156, 30, 1252, 11, 5, 3207, 9, 9241, 8, 6729, 8, 13, 5, 3207, 9, 7593, 108, 2349, 6, 53, 5, 2122, 64, 28, 341, 13, 3081, 13, 143, 3508, 6, 215, 25, 3207, 9, 4033, 6, 2556, 6, 8, 97, 168, 1103, 4, 10480, 8874, 32, 144, 10266, 156, 30, 839, 9, 5175, 1188, 12291, 36689, 634, 804, 6, 1830, 6, 8, 7377, 3454, 1743, 53, 2], [0, 40018, 35, 1336, 109, 52, 216, 70, 5, 418, 5, 168, 16, 562, 31, 827, 13070, 16, 164, 124, 7, 5, 82, 116, 9078, 35, 6389, 3454, 16, 10, 5177, 32598, 18670, 23920, 613, 518, 32, 16556, 8094, 1195, 87, 30574, 11, 10, 4828, 827, 4, 6389, 3454, 34, 63, 8121, 11, 8178, 13426, 8, 21, 144, 682, 5091, 13, 304, 30, 5177, 12, 506, 13598, 3353, 36, 41583, 6209, 43, 25, 10, 169, 7, 797, 1042, 4, 8451, 256, 14071, 3375, 3454, 6448, 58, 18163, 1070, 30, 2974, 4344, 225, 788, 8, 172, 423, 2226, 30, 1134, 215, 25, 20381, 4054, 1016, 3787, 610, 19802, 4, 3687, 382, 12, 805, 786, 12, 7699, 2244, 89, 32, 23, 513, 1105, 5177, 506, 13598, 3353, 36, 41583, 2]], 'attention_mask': [[1, 1, 1, 1, 1, 1, 1, 1, 1, 1, 1, 1, 1, 1, 1, 1, 1, 1, 1, 1, 1, 1, 1, 1, 1, 1, 1, 1, 1, 1, 1, 1, 1, 1, 1, 1, 1, 1, 1, 1, 1, 1, 1, 1, 1, 1, 1, 1, 1, 1, 1, 1, 1, 1, 1, 1, 1, 1, 1, 1, 1, 1, 1, 1, 1, 1, 1, 1, 1, 1, 1, 1, 1, 1, 1, 1, 1, 1, 1, 1, 1, 1, 1, 1, 1, 1, 1, 1, 1, 1, 1, 1, 1, 1, 1, 1, 1, 1, 1, 1, 1, 1, 1, 1, 1, 1, 1, 1, 1, 1, 1, 1, 1, 1, 1, 1, 1, 1, 1, 1, 1, 1, 1, 1, 1, 1, 1, 1], [1, 1, 1, 1, 1, 1, 1, 1, 1, 1, 1, 1, 1, 1, 1, 1, 1, 1, 1, 1, 1, 1, 1, 1, 1, 1, 1, 1, 1, 1, 1, 1, 1, 1, 1, 1, 1, 1, 1, 1, 1, 1, 1, 1, 1, 1, 1, 1, 1, 1, 1, 1, 1, 1, 1, 1, 1, 1, 1, 1, 1, 1, 1, 1, 1, 1, 1, 1, 1, 1, 1, 1, 1, 1, 1, 1, 1, 1, 1, 1, 1, 1, 1, 1, 1, 1, 1, 1, 1, 1, 1, 1, 1, 1, 1, 1, 1, 1, 1, 1, 1, 1, 1, 1, 1, 1, 1, 1, 1, 1, 1, 1, 1, 1, 1, 1, 1, 1, 1, 1, 1, 1, 1, 1, 1, 1, 1, 1]]},{'input_ids': [[0, 40018, 35, 1336, 109, 52, 216, 70, 5, 418, 5, 168, 16, 562, 31, 827, 13070, 16, 164, 124, 7, 5, 82, 116, 9078, 35, 96, 3454, 6, 10, 2228, 8068, 36, 368, 2228, 1361, 43, 16, 10, 8068, 9, 418, 30, 10, 582, 254, 2024, 88, 10, 582, 1942, 18, 827, 1316, 4, 10480, 8874, 32, 144, 10266, 156, 30, 1252, 11, 5, 3207, 9, 9241, 8, 6729, 8, 13, 5, 3207, 9, 7593, 108, 2349, 6, 53, 5, 2122, 64, 28, 341, 13, 3081, 13, 143, 3508, 6, 215, 25, 3207, 9, 4033, 6, 2556, 6, 8, 97, 168, 1103, 4, 10480, 8874, 32, 144, 10266, 156, 30, 839, 9, 5175, 1188, 12291, 36689, 634, 804, 6, 1830, 6, 8, 7377, 3454, 1743, 53, 2], [0, 40018, 35, 1336, 109, 52, 216, 70, 5, 418, 5, 168, 16, 562, 31, 827, 13070, 16, 164, 124, 7, 5, 82, 116, 9078, 35, 6389, 3454, 16, 10, 5177, 32598, 18670, 23920, 613, 518, 32, 16556, 8094, 1195, 87, 30574, 11, 10, 4828, 827, 4, 6389, 3454, 34, 63, 8121, 11, 8178, 13426, 8, 21, 144, 682, 5091, 13, 304, 30, 5177, 12, 506, 13598, 3353, 36, 41583, 6209, 43, 25, 10, 169, 7, 797, 1042, 4, 8451, 256, 14071, 3375, 3454, 6448, 58, 18163, 1070, 30, 2974, 4344, 225, 788, 8, 172, 423, 2226, 30, 1134, 215, 25, 20381, 4054, 1016, 3787, 610, 19802, 4, 3687, 382, 12, 805, 786, 12, 7699, 2244, 89, 32, 23, 513, 1105, 5177, 506, 13598, 3353, 36, 41583, 2]], 'attention_mask': [[1, 1, 1, 1, 1, 1, 1, 1, 1, 1, 1, 1, 1, 1, 1, 1, 1, 1, 1, 1, 1, 1, 1, 1, 1, 1, 1, 1, 1, 1, 1, 1, 1, 1, 1, 1, 1, 1, 1, 1, 1, 1, 1, 1, 1, 1, 1, 1, 1, 1, 1, 1, 1, 1, 1, 1, 1, 1, 1, 1, 1, 1, 1, 1, 1, 1, 1, 1, 1, 1, 1, 1, 1, 1, 1, 1, 1, 1, 1, 1, 1, 1, 1, 1, 1, 1, 1, 1, 1, 1, 1, 1, 1, 1, 1, 1, 1, 1, 1, 1, 1, 1, 1, 1, 1, 1, 1, 1, 1, 1, 1, 1, 1, 1, 1, 1, 1, 1, 1, 1, 1, 1, 1, 1, 1, 1, 1, 1], [1, 1, 1, 1, 1, 1, 1, 1, 1, 1, 1, 1, 1, 1, 1, 1, 1, 1, 1, 1, 1, 1, 1, 1, 1, 1, 1, 1, 1, 1, 1, 1, 1, 1, 1, 1, 1, 1, 1, 1, 1, 1, 1, 1, 1, 1, 1, 1, 1, 1, 1, 1, 1, 1, 1, 1, 1, 1, 1, 1, 1, 1, 1, 1, 1, 1, 1, 1, 1, 1, 1, 1, 1, 1, 1, 1, 1, 1, 1, 1, 1, 1, 1, 1, 1, 1, 1, 1, 1, 1, 1, 1, 1, 1, 1, 1, 1, 1, 1, 1, 1, 1, 1, 1, 1, 1, 1, 1, 1, 1, 1, 1, 1, 1, 1, 1, 1, 1, 1, 1, 1, 1, 1, 1, 1, 1, 1, 1]]}]"
   ]
  },
  {
   "cell_type": "code",
   "execution_count": 33,
   "metadata": {},
   "outputs": [
    {
     "name": "stdout",
     "output_type": "stream",
     "text": [
      "tensor([[[    0, 40018,    35,  1336,   109,    52,   216,    70,     5,   418,\n",
      "              5,   168,    16,   562,    31,   827, 13070,    16,   164,   124,\n",
      "              7,     5,    82,   116,  9078,    35,    96,  3454,     6,    10,\n",
      "           2228,  8068,    36,   368,  2228,  1361,    43,    16,    10,  8068,\n",
      "              9,   418,    30,    10,   582,   254,  2024,    88,    10,   582,\n",
      "           1942,    18,   827,  1316,     4, 10480,  8874,    32,   144, 10266,\n",
      "            156,    30,  1252,    11,     5,  3207,     9,  9241,     8,  6729,\n",
      "              8,    13,     5,  3207,     9,  7593,   108,  2349,     6,    53,\n",
      "              5,  2122,    64,    28,   341,    13,  3081,    13,   143,  3508,\n",
      "              6,   215,    25,  3207,     9,  4033,     6,  2556,     6,     8,\n",
      "             97,   168,  1103,     4, 10480,  8874,    32,   144, 10266,   156,\n",
      "             30,   839,     9,  5175,  1188, 12291, 36689,   634,   804,     6,\n",
      "           1830,     6,     8,  7377,  3454,  1743,    53,     2],\n",
      "         [    0, 40018,    35,  1336,   109,    52,   216,    70,     5,   418,\n",
      "              5,   168,    16,   562,    31,   827, 13070,    16,   164,   124,\n",
      "              7,     5,    82,   116,  9078,    35,  6389,  3454,    16,    10,\n",
      "           5177, 32598, 18670, 23920,   613,   518,    32, 16556,  8094,  1195,\n",
      "             87, 30574,    11,    10,  4828,   827,     4,  6389,  3454,    34,\n",
      "             63,  8121,    11,  8178, 13426,     8,    21,   144,   682,  5091,\n",
      "             13,   304,    30,  5177,    12,   506, 13598,  3353,    36, 41583,\n",
      "           6209,    43,    25,    10,   169,     7,   797,  1042,     4,  8451,\n",
      "            256, 14071,  3375,  3454,  6448,    58, 18163,  1070,    30,  2974,\n",
      "           4344,   225,   788,     8,   172,   423,  2226,    30,  1134,   215,\n",
      "             25, 20381,  4054,  1016,  3787,   610, 19802,     4,  3687,   382,\n",
      "             12,   805,   786,    12,  7699,  2244,    89,    32,    23,   513,\n",
      "           1105,  5177,   506, 13598,  3353,    36, 41583,     2]],\n",
      "\n",
      "        [[    0, 40018,    35,  1336,   109,    52,   216,    70,     5,   418,\n",
      "              5,   168,    16,   562,    31,   827, 13070,    16,   164,   124,\n",
      "              7,     5,    82,   116,  9078,    35,    96,  3454,     6,    10,\n",
      "           2228,  8068,    36,   368,  2228,  1361,    43,    16,    10,  8068,\n",
      "              9,   418,    30,    10,   582,   254,  2024,    88,    10,   582,\n",
      "           1942,    18,   827,  1316,     4, 10480,  8874,    32,   144, 10266,\n",
      "            156,    30,  1252,    11,     5,  3207,     9,  9241,     8,  6729,\n",
      "              8,    13,     5,  3207,     9,  7593,   108,  2349,     6,    53,\n",
      "              5,  2122,    64,    28,   341,    13,  3081,    13,   143,  3508,\n",
      "              6,   215,    25,  3207,     9,  4033,     6,  2556,     6,     8,\n",
      "             97,   168,  1103,     4, 10480,  8874,    32,   144, 10266,   156,\n",
      "             30,   839,     9,  5175,  1188, 12291, 36689,   634,   804,     6,\n",
      "           1830,     6,     8,  7377,  3454,  1743,    53,     2],\n",
      "         [    0, 40018,    35,  1336,   109,    52,   216,    70,     5,   418,\n",
      "              5,   168,    16,   562,    31,   827, 13070,    16,   164,   124,\n",
      "              7,     5,    82,   116,  9078,    35,  6389,  3454,    16,    10,\n",
      "           5177, 32598, 18670, 23920,   613,   518,    32, 16556,  8094,  1195,\n",
      "             87, 30574,    11,    10,  4828,   827,     4,  6389,  3454,    34,\n",
      "             63,  8121,    11,  8178, 13426,     8,    21,   144,   682,  5091,\n",
      "             13,   304,    30,  5177,    12,   506, 13598,  3353,    36, 41583,\n",
      "           6209,    43,    25,    10,   169,     7,   797,  1042,     4,  8451,\n",
      "            256, 14071,  3375,  3454,  6448,    58, 18163,  1070,    30,  2974,\n",
      "           4344,   225,   788,     8,   172,   423,  2226,    30,  1134,   215,\n",
      "             25, 20381,  4054,  1016,  3787,   610, 19802,     4,  3687,   382,\n",
      "             12,   805,   786,    12,  7699,  2244,    89,    32,    23,   513,\n",
      "           1105,  5177,   506, 13598,  3353,    36, 41583,     2]]])\n",
      "tensor([[[    0, 40018,    35,  1336,   109,    52,   216,    70,     5,   418,\n",
      "              5,   168,    16,   562,    31,   827, 13070,    16,   164,   124,\n",
      "              7,     5,    82,   116,  9078,    35,    96,  3454,     6,    10,\n",
      "           2228,  8068,    36,   368,  2228,  1361,    43,    16,    10,  8068,\n",
      "              9,   418,    30,    10,   582,   254,  2024,    88,    10,   582,\n",
      "           1942,    18,   827,  1316,     4, 10480,  8874,    32,   144, 10266,\n",
      "            156,    30,  1252,    11,     5,  3207,     9,  9241,     8,  6729,\n",
      "              8,    13,     5,  3207,     9,  7593,   108,  2349,     6,    53,\n",
      "              5,  2122,    64,    28,   341,    13,  3081,    13,   143,  3508,\n",
      "              6,   215,    25,  3207,     9,  4033,     6,  2556,     6,     8,\n",
      "             97,   168,  1103,     4, 10480,  8874,    32,   144, 10266,   156,\n",
      "             30,   839,     9,  5175,  1188, 12291, 36689,   634,   804,     6,\n",
      "           1830,     6,     8,  7377,  3454,  1743,    53,     2],\n",
      "         [    0, 40018,    35,  1336,   109,    52,   216,    70,     5,   418,\n",
      "              5,   168,    16,   562,    31,   827, 13070,    16,   164,   124,\n",
      "              7,     5,    82,   116,  9078,    35,  6389,  3454,    16,    10,\n",
      "           5177, 32598, 18670, 23920,   613,   518,    32, 16556,  8094,  1195,\n",
      "             87, 30574,    11,    10,  4828,   827,     4,  6389,  3454,    34,\n",
      "             63,  8121,    11,  8178, 13426,     8,    21,   144,   682,  5091,\n",
      "             13,   304,    30,  5177,    12,   506, 13598,  3353,    36, 41583,\n",
      "           6209,    43,    25,    10,   169,     7,   797,  1042,     4,  8451,\n",
      "            256, 14071,  3375,  3454,  6448,    58, 18163,  1070,    30,  2974,\n",
      "           4344,   225,   788,     8,   172,   423,  2226,    30,  1134,   215,\n",
      "             25, 20381,  4054,  1016,  3787,   610, 19802,     4,  3687,   382,\n",
      "             12,   805,   786,    12,  7699,  2244,    89,    32,    23,   513,\n",
      "           1105,  5177,   506, 13598,  3353,    36, 41583,     2]],\n",
      "\n",
      "        [[    0, 40018,    35,  1336,   109,    52,   216,    70,     5,   418,\n",
      "              5,   168,    16,   562,    31,   827, 13070,    16,   164,   124,\n",
      "              7,     5,    82,   116,  9078,    35,    96,  3454,     6,    10,\n",
      "           2228,  8068,    36,   368,  2228,  1361,    43,    16,    10,  8068,\n",
      "              9,   418,    30,    10,   582,   254,  2024,    88,    10,   582,\n",
      "           1942,    18,   827,  1316,     4, 10480,  8874,    32,   144, 10266,\n",
      "            156,    30,  1252,    11,     5,  3207,     9,  9241,     8,  6729,\n",
      "              8,    13,     5,  3207,     9,  7593,   108,  2349,     6,    53,\n",
      "              5,  2122,    64,    28,   341,    13,  3081,    13,   143,  3508,\n",
      "              6,   215,    25,  3207,     9,  4033,     6,  2556,     6,     8,\n",
      "             97,   168,  1103,     4, 10480,  8874,    32,   144, 10266,   156,\n",
      "             30,   839,     9,  5175,  1188, 12291, 36689,   634,   804,     6,\n",
      "           1830,     6,     8,  7377,  3454,  1743,    53,     2],\n",
      "         [    0, 40018,    35,  1336,   109,    52,   216,    70,     5,   418,\n",
      "              5,   168,    16,   562,    31,   827, 13070,    16,   164,   124,\n",
      "              7,     5,    82,   116,  9078,    35,  6389,  3454,    16,    10,\n",
      "           5177, 32598, 18670, 23920,   613,   518,    32, 16556,  8094,  1195,\n",
      "             87, 30574,    11,    10,  4828,   827,     4,  6389,  3454,    34,\n",
      "             63,  8121,    11,  8178, 13426,     8,    21,   144,   682,  5091,\n",
      "             13,   304,    30,  5177,    12,   506, 13598,  3353,    36, 41583,\n",
      "           6209,    43,    25,    10,   169,     7,   797,  1042,     4,  8451,\n",
      "            256, 14071,  3375,  3454,  6448,    58, 18163,  1070,    30,  2974,\n",
      "           4344,   225,   788,     8,   172,   423,  2226,    30,  1134,   215,\n",
      "             25, 20381,  4054,  1016,  3787,   610, 19802,     4,  3687,   382,\n",
      "             12,   805,   786,    12,  7699,  2244,    89,    32,    23,   513,\n",
      "           1105,  5177,   506, 13598,  3353,    36, 41583,     2]]])\n"
     ]
    }
   ],
   "source": [
    "batch_features = {}\n",
    "for feature in features:\n",
    "    for k,v in feature.items(): \n",
    "        if k not in batch_features:\n",
    "            batch_features[k] = []\n",
    "        batch_features[k].append(v)\n",
    "for k,v in batch_features.items():\n",
    "    batch_features[k] = torch.tensor(v) # convert to tensor\n",
    "\n",
    "# prepare decoder_input_ids\n",
    "    print(batch_features[\"input_ids\"])"
   ]
  },
  {
   "cell_type": "code",
   "execution_count": 31,
   "metadata": {},
   "outputs": [
    {
     "ename": "ValueError",
     "evalue": "Unable to create tensor, you should probably activate truncation and/or padding with 'padding=True' 'truncation=True' to have batched tensors with the same length.",
     "output_type": "error",
     "traceback": [
      "\u001b[0;31m---------------------------------------------------------------------------\u001b[0m",
      "\u001b[0;31mTypeError\u001b[0m                                 Traceback (most recent call last)",
      "\u001b[0;32m/dccstor/myu/anaconda3/envs/lfqa/lib/python3.7/site-packages/transformers/tokenization_utils_base.py\u001b[0m in \u001b[0;36mconvert_to_tensors\u001b[0;34m(self, tensor_type, prepend_batch_axis)\u001b[0m\n\u001b[1;32m    707\u001b[0m                 \u001b[0;32mif\u001b[0m \u001b[0;32mnot\u001b[0m \u001b[0mis_tensor\u001b[0m\u001b[0;34m(\u001b[0m\u001b[0mvalue\u001b[0m\u001b[0;34m)\u001b[0m\u001b[0;34m:\u001b[0m\u001b[0;34m\u001b[0m\u001b[0;34m\u001b[0m\u001b[0m\n\u001b[0;32m--> 708\u001b[0;31m                     \u001b[0mtensor\u001b[0m \u001b[0;34m=\u001b[0m \u001b[0mas_tensor\u001b[0m\u001b[0;34m(\u001b[0m\u001b[0mvalue\u001b[0m\u001b[0;34m)\u001b[0m\u001b[0;34m\u001b[0m\u001b[0;34m\u001b[0m\u001b[0m\n\u001b[0m\u001b[1;32m    709\u001b[0m \u001b[0;34m\u001b[0m\u001b[0m\n",
      "\u001b[0;31mTypeError\u001b[0m: not a sequence",
      "\nDuring handling of the above exception, another exception occurred:\n",
      "\u001b[0;31mValueError\u001b[0m                                Traceback (most recent call last)",
      "\u001b[0;32m/tmp/ipykernel_2891817/3610407379.py\u001b[0m in \u001b[0;36m<module>\u001b[0;34m\u001b[0m\n\u001b[0;32m----> 1\u001b[0;31m \u001b[0moutput_features\u001b[0m \u001b[0;34m=\u001b[0m \u001b[0mtokenizer\u001b[0m\u001b[0;34m.\u001b[0m\u001b[0mpad\u001b[0m\u001b[0;34m(\u001b[0m\u001b[0mfeatures\u001b[0m\u001b[0;34m,\u001b[0m \u001b[0mpadding\u001b[0m\u001b[0;34m=\u001b[0m\u001b[0;34m\"max_length\"\u001b[0m\u001b[0;34m,\u001b[0m \u001b[0mmax_length\u001b[0m\u001b[0;34m=\u001b[0m\u001b[0;36m6\u001b[0m\u001b[0;34m,\u001b[0m \u001b[0mreturn_tensors\u001b[0m\u001b[0;34m=\u001b[0m\u001b[0;34m'pt'\u001b[0m\u001b[0;34m)\u001b[0m\u001b[0;34m\u001b[0m\u001b[0;34m\u001b[0m\u001b[0m\n\u001b[0m\u001b[1;32m      2\u001b[0m \u001b[0mprint\u001b[0m\u001b[0;34m(\u001b[0m\u001b[0moutput_features\u001b[0m\u001b[0;34m[\u001b[0m\u001b[0;34m\"input_ids\"\u001b[0m\u001b[0;34m]\u001b[0m\u001b[0;34m.\u001b[0m\u001b[0mshape\u001b[0m\u001b[0;34m)\u001b[0m\u001b[0;34m\u001b[0m\u001b[0;34m\u001b[0m\u001b[0m\n",
      "\u001b[0;32m/dccstor/myu/anaconda3/envs/lfqa/lib/python3.7/site-packages/transformers/tokenization_utils_base.py\u001b[0m in \u001b[0;36mpad\u001b[0;34m(self, encoded_inputs, padding, max_length, pad_to_multiple_of, return_attention_mask, return_tensors, verbose)\u001b[0m\n\u001b[1;32m   2860\u001b[0m                 \u001b[0mbatch_outputs\u001b[0m\u001b[0;34m[\u001b[0m\u001b[0mkey\u001b[0m\u001b[0;34m]\u001b[0m\u001b[0;34m.\u001b[0m\u001b[0mappend\u001b[0m\u001b[0;34m(\u001b[0m\u001b[0mvalue\u001b[0m\u001b[0;34m)\u001b[0m\u001b[0;34m\u001b[0m\u001b[0;34m\u001b[0m\u001b[0m\n\u001b[1;32m   2861\u001b[0m \u001b[0;34m\u001b[0m\u001b[0m\n\u001b[0;32m-> 2862\u001b[0;31m         \u001b[0;32mreturn\u001b[0m \u001b[0mBatchEncoding\u001b[0m\u001b[0;34m(\u001b[0m\u001b[0mbatch_outputs\u001b[0m\u001b[0;34m,\u001b[0m \u001b[0mtensor_type\u001b[0m\u001b[0;34m=\u001b[0m\u001b[0mreturn_tensors\u001b[0m\u001b[0;34m)\u001b[0m\u001b[0;34m\u001b[0m\u001b[0;34m\u001b[0m\u001b[0m\n\u001b[0m\u001b[1;32m   2863\u001b[0m \u001b[0;34m\u001b[0m\u001b[0m\n\u001b[1;32m   2864\u001b[0m     def create_token_type_ids_from_sequences(\n",
      "\u001b[0;32m/dccstor/myu/anaconda3/envs/lfqa/lib/python3.7/site-packages/transformers/tokenization_utils_base.py\u001b[0m in \u001b[0;36m__init__\u001b[0;34m(self, data, encoding, tensor_type, prepend_batch_axis, n_sequences)\u001b[0m\n\u001b[1;32m    211\u001b[0m         \u001b[0mself\u001b[0m\u001b[0;34m.\u001b[0m\u001b[0m_n_sequences\u001b[0m \u001b[0;34m=\u001b[0m \u001b[0mn_sequences\u001b[0m\u001b[0;34m\u001b[0m\u001b[0;34m\u001b[0m\u001b[0m\n\u001b[1;32m    212\u001b[0m \u001b[0;34m\u001b[0m\u001b[0m\n\u001b[0;32m--> 213\u001b[0;31m         \u001b[0mself\u001b[0m\u001b[0;34m.\u001b[0m\u001b[0mconvert_to_tensors\u001b[0m\u001b[0;34m(\u001b[0m\u001b[0mtensor_type\u001b[0m\u001b[0;34m=\u001b[0m\u001b[0mtensor_type\u001b[0m\u001b[0;34m,\u001b[0m \u001b[0mprepend_batch_axis\u001b[0m\u001b[0;34m=\u001b[0m\u001b[0mprepend_batch_axis\u001b[0m\u001b[0;34m)\u001b[0m\u001b[0;34m\u001b[0m\u001b[0;34m\u001b[0m\u001b[0m\n\u001b[0m\u001b[1;32m    214\u001b[0m \u001b[0;34m\u001b[0m\u001b[0m\n\u001b[1;32m    215\u001b[0m     \u001b[0;34m@\u001b[0m\u001b[0mproperty\u001b[0m\u001b[0;34m\u001b[0m\u001b[0;34m\u001b[0m\u001b[0m\n",
      "\u001b[0;32m/dccstor/myu/anaconda3/envs/lfqa/lib/python3.7/site-packages/transformers/tokenization_utils_base.py\u001b[0m in \u001b[0;36mconvert_to_tensors\u001b[0;34m(self, tensor_type, prepend_batch_axis)\u001b[0m\n\u001b[1;32m    723\u001b[0m                     )\n\u001b[1;32m    724\u001b[0m                 raise ValueError(\n\u001b[0;32m--> 725\u001b[0;31m                     \u001b[0;34m\"Unable to create tensor, you should probably activate truncation and/or padding \"\u001b[0m\u001b[0;34m\u001b[0m\u001b[0;34m\u001b[0m\u001b[0m\n\u001b[0m\u001b[1;32m    726\u001b[0m                     \u001b[0;34m\"with 'padding=True' 'truncation=True' to have batched tensors with the same length.\"\u001b[0m\u001b[0;34m\u001b[0m\u001b[0;34m\u001b[0m\u001b[0m\n\u001b[1;32m    727\u001b[0m                 )\n",
      "\u001b[0;31mValueError\u001b[0m: Unable to create tensor, you should probably activate truncation and/or padding with 'padding=True' 'truncation=True' to have batched tensors with the same length."
     ]
    }
   ],
   "source": [
    "output_features = tokenizer.pad(features, padding=\"max_length\", max_length=6, return_tensors='pt')\n",
    "print(output_features[\"input_ids\"].shape)"
   ]
  },
  {
   "cell_type": "code",
   "execution_count": null,
   "metadata": {},
   "outputs": [],
   "source": [
    "raw_datasets[\"validation\"][0][\"output\"]"
   ]
  },
  {
   "cell_type": "code",
   "execution_count": 5,
   "metadata": {},
   "outputs": [],
   "source": [
    "p = tokenizer([\"I am a big fan of IBM.\"])"
   ]
  },
  {
   "cell_type": "code",
   "execution_count": 6,
   "metadata": {},
   "outputs": [
    {
     "data": {
      "text/plain": [
       "[[0, 100, 524, 10, 380, 2378, 9, 11510, 4, 2]]"
      ]
     },
     "execution_count": 6,
     "metadata": {},
     "output_type": "execute_result"
    }
   ],
   "source": [
    "p[\"input_ids\"]"
   ]
  },
  {
   "cell_type": "code",
   "execution_count": 12,
   "metadata": {},
   "outputs": [],
   "source": [
    "import torch\n",
    "a = torch.tensor(p[\"attention_mask\"])"
   ]
  },
  {
   "cell_type": "code",
   "execution_count": 14,
   "metadata": {},
   "outputs": [
    {
     "data": {
      "text/plain": [
       "tensor([[True, True, True, True, True, True, True, True, True, True]])"
      ]
     },
     "execution_count": 14,
     "metadata": {},
     "output_type": "execute_result"
    }
   ],
   "source": [
    "a.bool()"
   ]
  },
  {
   "cell_type": "code",
   "execution_count": 15,
   "metadata": {},
   "outputs": [
    {
     "data": {
      "text/plain": [
       "{'answer': 'In most cases the O-Line is supposed to make a hole for the running back to go through. If you run too many plays to the outside/throws the defense will catch on.\\n\\nAlso, 2 5 yard plays gets you a new set of downs.',\n",
       " 'meta': {'score': 2},\n",
       " 'provenance': []}"
      ]
     },
     "execution_count": 15,
     "metadata": {},
     "output_type": "execute_result"
    }
   ],
   "source": [
    "output[2]"
   ]
  },
  {
   "cell_type": "code",
   "execution_count": 6,
   "metadata": {},
   "outputs": [],
   "source": [
    "import json\n",
    "from collections import Counter\n",
    "ans_score_list = []\n",
    "with open (\"/dccstor/myu/OneQA/oneqa/lfqa_kb/data_models/kilt_eli5/eli5-train-kilt.jsonl\", 'r', encoding='utf-8') as f:\n",
    "    for line in f:\n",
    "        data = json.loads(line.strip())\n",
    "        answer_list = data[\"output\"]\n",
    "        ans_score_cnt = Counter()\n",
    "        if len(answer_list) > 0:\n",
    "            for ans in answer_list:\n",
    "                ans_text = ans[\"answer\"]\n",
    "                ans_score = ans[\"meta\"][\"score\"]\n",
    "                ans_score_cnt[ans_score] += 1\n",
    "        ans_score_list.append(ans_score_cnt)\n",
    "                "
   ]
  },
  {
   "cell_type": "markdown",
   "metadata": {},
   "source": [
    "how many instances have at least one 3 score:"
   ]
  },
  {
   "cell_type": "code",
   "execution_count": 28,
   "metadata": {},
   "outputs": [
    {
     "name": "stdout",
     "output_type": "stream",
     "text": [
      "259498\n"
     ]
    }
   ],
   "source": [
    "tmp = 0\n",
    "highest_score_cnt = Counter()\n",
    "for cnt in ans_score_list:\n",
    "    answer_num = sum([v for k,v in cnt.items()])\n",
    "    scores = [k for k,v in cnt.items()]\n",
    "    highest_score = max(scores)\n",
    "    if highest_score >= 3:\n",
    "        tmp += 1\n",
    "    else:\n",
    "        if answer_num == 1:\n",
    "            tmp += 1\n",
    "        highest_score_cnt[max(scores)] += 1\n",
    "        \n",
    "\n",
    "            \n",
    "        \n",
    "print(tmp)"
   ]
  },
  {
   "cell_type": "code",
   "execution_count": 27,
   "metadata": {},
   "outputs": [
    {
     "name": "stdout",
     "output_type": "stream",
     "text": [
      "2 52479\n"
     ]
    }
   ],
   "source": [
    "for k,v in highest_score_cnt.items():\n",
    "    print(k,v)"
   ]
  },
  {
   "cell_type": "code",
   "execution_count": 8,
   "metadata": {},
   "outputs": [
    {
     "data": {
      "text/plain": [
       "272634"
      ]
     },
     "execution_count": 8,
     "metadata": {},
     "output_type": "execute_result"
    }
   ],
   "source": [
    "len(ans_score_list)"
   ]
  },
  {
   "cell_type": "code",
   "execution_count": 14,
   "metadata": {},
   "outputs": [
    {
     "data": {
      "text/plain": [
       "True"
      ]
     },
     "execution_count": 14,
     "metadata": {},
     "output_type": "execute_result"
    }
   ],
   "source": [
    "3 in ans_score_list[0]"
   ]
  },
  {
   "cell_type": "code",
   "execution_count": 5,
   "metadata": {},
   "outputs": [
    {
     "data": {
      "text/plain": [
       "{'rouge1': AggregateScore(low=Score(precision=0.9629629629629629, recall=0.040912667191188044, fmeasure=0.07849056603773585), mid=Score(precision=0.9629629629629629, recall=0.040912667191188044, fmeasure=0.07849056603773585), high=Score(precision=0.9629629629629629, recall=0.040912667191188044, fmeasure=0.07849056603773585)),\n",
       " 'rouge2': AggregateScore(low=Score(precision=0.9433962264150944, recall=0.03937007874015748, fmeasure=0.07558578987150416), mid=Score(precision=0.9433962264150944, recall=0.03937007874015748, fmeasure=0.07558578987150416), high=Score(precision=0.9433962264150944, recall=0.03937007874015748, fmeasure=0.07558578987150416)),\n",
       " 'rougeL': AggregateScore(low=Score(precision=0.9629629629629629, recall=0.040912667191188044, fmeasure=0.07849056603773585), mid=Score(precision=0.9629629629629629, recall=0.040912667191188044, fmeasure=0.07849056603773585), high=Score(precision=0.9629629629629629, recall=0.040912667191188044, fmeasure=0.07849056603773585)),\n",
       " 'rougeLsum': AggregateScore(low=Score(precision=0.9629629629629629, recall=0.040912667191188044, fmeasure=0.07849056603773585), mid=Score(precision=0.9629629629629629, recall=0.040912667191188044, fmeasure=0.07849056603773585), high=Score(precision=0.9629629629629629, recall=0.040912667191188044, fmeasure=0.07849056603773585))}"
      ]
     },
     "execution_count": 5,
     "metadata": {},
     "output_type": "execute_result"
    }
   ],
   "source": [
    "from datasets import load_metric\n",
    "metric = load_metric(\"rouge\")\n",
    "refs = [{      \"id\": \"1qdjpv\",\n",
    "        \"answers\": [\n",
    "            \"There probably would be similarities. Things that were swimmers would probably be sleek, for instance, due to natural selection. It's just that there would have been an entirely different evolutionary history and so different things may/would have been tried that didn't get a chance on our world.\",\n",
    "            \"There are many ways that human race could have turned out - the problems we needed to evolve for would, most of the time, have more than one solution. That means chances are that life on a similar planet to ours would have solved the problems in a different way - Maybe giving us more blubber and less hair to combat cold; more opposable thumbs; more eyes, etc etc. Also, if other things on the world are a little different it could cause an evolutionary butterfly effect, making them much different to us. Another factor would be if there was an unlucky disaster that wiped out all of the species similar to ours maybe their version of the Neanderthal lived on and became the dominant species. So many variables = a species with some similarities to us but probably much different\",\n",
    "            \"Life evolves through random mutations. This image demonstrates how you could take one of two paths, and keep doing this over and over until your destination is incredibly distant.  URL_0  Life doesn't have to live in the same way we do. There are the radioactive fungi recently discovered for example. We just live by one set of rules and there's no reason why we couldn't have lived by another.\",\n",
    "            \"I guess the first question is, what do you mean by habitable? Same atmosphere? Same atmosphere earth started with, or same atmosphere earth has now? Let's do a thought experiment. We'll take a bunch of different planets that started out identical to earth, but \\\"split off\\\" at different points. So, that would be like saying \\\"what if I hadn't gotten on the train last tuesday\\\". Your life might be different, you might have lost your job, or found your wife, but humanity would not cease to exist (nor would you not be born). You get the idea. First stop, a planet that only branched 5 million years ago. If you visited this planet, you will still recognize many animals, or at least animal types. Humanity may or may not have ever evolved (at least to the point you see them now) but other than that, the earth would look quite similar. Next we'll branch at 200 million years ago. Maybe now the planet you're coming to (in the present) still has dinosaurs, maybe mammals never took hold. No matter how evolution continued in this world, you may recognize very few TYPES of animals, but you'll still recongize them AS animals. Insects will be relatively recognizable, plants will as well. Next we'll branch at 550 MYA. At this point, it becomes more of a crapshoot. Depending on the circumstances, land plants might not have evolved. Sure, something would fill that niche, but that something might look entirely foreign to you. We're also missing vertebrates (all higher animals). Again, something would probably evolve to fill that niche, but that something would likely not have the body plan that's so familiar to us. The world would look increasingly alien. Of course, again, we could still recognize what lived there as life, and there would still be animals, and fungus, and all sorts of things we could at least SOMEWHAT relate to. Now for the gist of your question, what if the planets branched before life even evolved? That's where we really don't know, but we can speculate. The biggest question is, is the basic structure of our DNA a chemical necessity (as in, there is no other way to have a self-replicating molecule to build higher life on), or was it a fluke? Are there a variety of different molecules that could form, and could self replicate in the way DNA/RNA did, and the only reason why we have DNA is because once SOMETHING like that forms, it will immediately become the ONLY thing, and change the environment in such a way to prevent any other \\\"things\\\" from ever forming? If that's the case, a planet that started out like earth could very well end up with \\\"life\\\" that is so alien we might not even recognize it AS life.\",\n",
    "            \"it would be less of a question of *are they simalir* and more of a question *how far along in the natural history are we on that planet, and how are specific traits exhibited, and are there any traits that we have never seen before?* you will have sleek swimmers, maybe they have fins. maybe they have jet propulsion, maybe they just float there. the major fluid present is a factor here. you will have flyers. how many wings, or do they use buoyancy? air pressure becomes a factor here, as well as gravity, and atmospheric components. they will have *mouths* or some way to eat/gain nutrition. but how, would they have a standard digestive system? maybe more of a venom based system is selected for, leading to a whole planet looking like Australia. would the plants ue sunlight, or be more like the fungi from earths early history? perhaps hey get selected more towards carnivorous plants, and you have things like giant Venus flytraps, or pitcher plants more common then here on earth. maybe they use a different system entirely, and it might be totally possible for a plant and animal symbioid to appear *think bulbasaur* youll have things with legs, youll have prehensile limbs, youll have horns or a means of self defense. there will be a anolog for all of these things, its just how they are expressed that will be diffrent. and weather or not life on that planet has been around long enough for its life to get a chance to express analogs to our life. animals will have some sort of camoflauge, we dont know what kind exactly, but we can guess it probably would depend on the local environment and selective pressure. but it will be there in SOME form. and if the planet has had life long enough MAYBE it might have a intelligent species. now...would that be a hive mind caste system like ants? like us? are they aquatic like dolphins or octopi? do they communicate with voice? or by pheromones? maybe they comunicate by flashes of light? eyes will evolve unless its a very dark world. but where would they be? what would they look like? maybe compound style eyes are preferred. maybe the use their whole body to see. another thing to consider, if you had visited earth a very long time ago, you wouldn't see much of anything that looks like today animals. giant bugs existed cause oxygen was so plentiful in the atmosphere. hell, go deep enough into the sea and you can find fish that can stretch their bellies like 5 times their size. and ones that entrance their prey with light. we have electric eels. ELECTRIC. FUCKING. EELS. if you have never heard of them, they delver a sizable shock of around 600 fucking volts. idr what amperage its at. but, hell i didn't think that was possible till i heard of it. and that's on EARTH. point is, we wont know till we look. we can be sure the same niches will exist, its just how the alien life solves it would be the question.\",\n",
    "            \"\"\n",
    "        ]}]\n",
    "preds =  [{\n",
    "        \"id\": \"1qdjpv\",\n",
    "        \"prediction_text\": \"There probably would be similarities. Things that were swimmers would probably be sleek, for instance, due to natural selection. It's just that there would have been an entirely different evolutionary history and so different things may/would have been tried that didn't get a chance on our world.\",\n",
    "\n",
    "    }],\n",
    "metric.compute(predictions=preds, references=refs)"
   ]
  },
  {
   "cell_type": "code",
   "execution_count": null,
   "metadata": {},
   "outputs": [],
   "source": []
  }
 ],
 "metadata": {
  "interpreter": {
   "hash": "88ef27eae4435836562f365b00201516abaa7c67ef051fce85d1491a271aa183"
  },
  "kernelspec": {
   "display_name": "Python 3.7.13 ('lfqa': conda)",
   "language": "python",
   "name": "python3"
  },
  "language_info": {
   "codemirror_mode": {
    "name": "ipython",
    "version": 3
   },
   "file_extension": ".py",
   "mimetype": "text/x-python",
   "name": "python",
   "nbconvert_exporter": "python",
   "pygments_lexer": "ipython3",
   "version": "3.7.13"
  },
  "orig_nbformat": 4
 },
 "nbformat": 4,
 "nbformat_minor": 2
}
