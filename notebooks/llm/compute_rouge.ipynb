{
 "cells": [
  {
   "cell_type": "code",
   "execution_count": 2,
   "metadata": {},
   "outputs": [],
   "source": [
    "from rouge import Rouge\n",
    "\n",
    "rouge = Rouge()\n",
    "\n",
    "def rougel_score(prediction, ground_truth):\n",
    "    # no normalization\n",
    "    try:\n",
    "        scores = rouge.get_scores(prediction.lower(), ground_truth.lower(), avg=True)\n",
    "    except ValueError:  # \"Hypothesis is empty.\"\n",
    "        return 0.0\n",
    "    return scores[\"rouge-l\"][\"f\"]"
   ]
  },
  {
   "cell_type": "code",
   "execution_count": 3,
   "metadata": {},
   "outputs": [],
   "source": [
    "import json\n",
    "ELI5 = {}\n",
    "NQ = {}\n",
    "\n",
    "with open(\"/dccstor/srosent2/generative/eli5-sample/5-ELI5-train-examples-for-evaluation.jsonl\",'r') as f:\n",
    "    for line in f.readlines():\n",
    "        data = json.loads(line)\n",
    "        ELI5[data['id']] = data\n",
    "with open(\"/dccstor/srosent2/generative/appen/NQ_sample.json\",'r') as f:\n",
    "    for line in f.readlines():\n",
    "        data = json.loads(line)\n",
    "        NQ[data['id']] = data"
   ]
  },
  {
   "cell_type": "code",
   "execution_count": 52,
   "metadata": {},
   "outputs": [],
   "source": [
    "chatGPT = {}\n",
    "chatGPT['4ryd2h_0']='The text does not provide an explanation for why smoking preserves food in the section that is mentioned. The mentioned section, \"Preservation,\" explains that smoking is useful for preserving food due to its antimicrobial and antioxidant properties, but it is typically combined with other methods like salt-curing or drying. The section \"Genetics\" is unrelated to the topic of smoking and food preservation.'\n",
    "chatGPT['wyli3_1']=\t'The text does not provide information on how fruit flies \"magically\" appear.'\n",
    "chatGPT['5rq6pa_0']= \"and other people ``nose breathers''?\tThe text explains that some people are \\\"mouth breathers\\\" while others are \\\"nose breathers\\\" due to various causes, including nasal obstruction or partial blockage, as well as habitual or anatomic factors. In most cases, mouth breathing is an adaptation to nasal obstruction. While breathing through both the nose and mouth during exercise is normal, mouth breathing during rest is considered abnormal. The text does not mention anything about the term \\\"mouth-breather\\\" being utilized as an insult to imply low intelligence.\"\n",
    "chatGPT['5v4xi7_0']= 'The tray in a microwave rotates to reduce the problem of uneven heating in microwaved food by ensuring that the microwave energy is distributed to different parts of the food. This is achieved through a stirrer or a turntable/carousel that turns the food. Turntables may still leave spots, such as the center of the oven, which receive uneven energy distribution.'\n",
    "chatGPT['64px9o_0']= \"A flight can be overbooked when an airline sells more tickets than the number of available seats on the aircraft. Airlines may do this because they want to ensure that their planes are filled to capacity even if some passengers don't show up. They can use computer algorithms to predict how many passengers will show up, but sometimes they overestimate, leading to an overbooking situation. Overbooking can also happen when airlines intentionally sell more tickets than available seats to increase revenue, but this is not a common practice. In some cases, airlines may cheat passengers by tagging confirmed tickets as no-shows and pocketing the money made by overbooking without offering an alternative flight for overbooked customers.\""
   ]
  },
  {
   "cell_type": "code",
   "execution_count": 53,
   "metadata": {},
   "outputs": [
    {
     "name": "stdout",
     "output_type": "stream",
     "text": [
      "0.4285714235969388\n",
      "0.14285713795918387\n",
      "0.2916666620334202\n",
      "0.12307691841893507\n",
      "0.2608695611251418\n"
     ]
    }
   ],
   "source": [
    "for id in chatGPT:\n",
    "    print(rougel_score(chatGPT[id], ELI5[id]['output'][0]['answer']))"
   ]
  },
  {
   "cell_type": "code",
   "execution_count": 54,
   "metadata": {},
   "outputs": [],
   "source": [
    "davincci = {}\n",
    "davincci['4ryd2h_0'] = '\\n\\nSmoking helps seal the outer layer of the food being cured, making it more difficult for bacteria to enter. It can be done in combination with other curing methods such as salting. Smoke deposits a number of pyrolysis products onto the food, including the phenols syringol, guaiacol and catechol. Salt accelerates the drying process using osmosis and also inhibits the growth of several common strains of bacteria. The combination of smoke and salt helps to preserve food by making it more difficult for bacteria to enter, drying it out to limit bacterial growth, and providing antimicrobial agents that aid in preservation.'\n",
    "davincci['wyli3_1'] = '\\n\\nFruit flies can \"magically\" appear when adult flies lay eggs under the skin of the fruit, which then hatch within a few days and grow inside the fruit. The larvae eventually emerge from the fruit, dropping to the ground and pupating in the soil to become mature adult flies.'\n",
    "davincci['5rq6pa_0'] = 'between the onset of nasal obstruction and the onset of oral breathing, and this can be used to distinguish between nasal and oral breathing.\\n\\nMouth breathing is caused by nasal obstruction, which can be partial or complete. It can be an adaptation to nasal obstruction, or it can be a habit. Human infants are usually considered obligate nasal breathers, but they can breathe through their mouths if their noses are blocked. People who are able to breathe through their noses during rest will usually breathe through both their nose and mouth during exercise to increase air intake.'\n",
    "davincci['5v4xi7_0'] = '\\n\\nThe tray in a microwave rotates to evenly distribute the microwave energy and reduce uneven heating in the food.'\n",
    "davincci['64px9o_0'] = 'A flight can be overbooked by predicting the number of passengers who will actually fly after making a reservation and by stimulating pricing for low demand flights. Airlines also sometimes overbook flights if they have given incorrect instructions to travel agents, causing paid tickets to be invalid.'"
   ]
  },
  {
   "cell_type": "code",
   "execution_count": 55,
   "metadata": {},
   "outputs": [
    {
     "name": "stdout",
     "output_type": "stream",
     "text": [
      "0.27777777316358027\n",
      "0.3076923034319527\n",
      "0.34408601681119205\n",
      "0.2564102516765287\n",
      "0.1866666617386668\n"
     ]
    }
   ],
   "source": [
    "for id in davincci:\n",
    "    print(rougel_score(davincci[id], ELI5[id]['output'][0]['answer']))"
   ]
  },
  {
   "cell_type": "code",
   "execution_count": 56,
   "metadata": {},
   "outputs": [],
   "source": [
    "chatGPT = {}\n",
    "chatGPT['8849568873685505619'] = 'As per the text, as of 2017, The Beatles are considered the highest-selling band based on both sales claims and certified units. However, Elvis Presley is considered the highest-selling individual artist based on sales claims, and Rihanna is the highest-selling individual artist based on certified units. Therefore, the answer to the question \"who has sold more records than anyone in history\" is not mentioned explicitly in the given text.'\n",
    "chatGPT['-7702508458750578906'] = 'What is the most common form of user interface used on PCs today? Answer: The most common form of user interface used on PCs today is a graphical user interface (GUI) and menu-driven interactions, as many end users rely on them. However, software developers, system administrators, and advanced users still heavily rely on command-line interfaces for efficiency and accessing features not available through a GUI.'\n",
    "chatGPT['-7652766263809313045'] = 'The text suggests that the idea for Walmart came from Sam Walton\\'s decision to achieve higher sales volumes by keeping sales prices lower than his competitors by reducing his profit margin. He was also inspired by the successes of other discount department store chains.'\n",
    "chatGPT['-1215745899771320061'] = 'The text describes how a counterfeit banknote detection pen works. When the pen is used to mark genuine banknotes, the mark is yellowish or colourless because genuine banknotes are printed on paper based on cotton fibers and do not contain the starches that are reactive with iodine. This property of genuine banknotes allows the pen to detect counterfeit banknotes which may contain such starches, and therefore produce a different mark when marked by the pen. The text mentions that these pens are used to detect counterfeit banknotes of several currencies including Swiss francs, euros, and United States banknotes. The text does not provide information about how to acquire such pens in the UK or the price range of such pens.'\n",
    "chatGPT['1756361713228458982'] = 'The text states that there is one area code in Montana, which is area code 406.'"
   ]
  },
  {
   "cell_type": "code",
   "execution_count": 57,
   "metadata": {},
   "outputs": [
    {
     "name": "stdout",
     "output_type": "stream",
     "text": [
      "0.5070422488791907\n",
      "0.3793103413495839\n",
      "0.43589743090072325\n",
      "0.5904761861659865\n",
      "0.4444444394513032\n"
     ]
    }
   ],
   "source": [
    "\n",
    "for id in chatGPT:\n",
    "    print(rougel_score(chatGPT[id], NQ[id]['output'][0]['answer']))"
   ]
  },
  {
   "cell_type": "code",
   "execution_count": 4,
   "metadata": {},
   "outputs": [],
   "source": [
    "davincci = {}\n",
    "davincci['8849568873685505619'] = '\\n\\nThe Beatles are considered the highest-selling band and Elvis Presley is considered the highest-selling individual artist based on sales claims.'\n",
    "davincci['-7702508458750578906'] = '\\n\\nAnswer: Graphical User Interface (GUI)'\n",
    "davincci['-7652766263809313045'] = '\\n\\nThe idea of Walmart came from Sam Walton, inspired by the successes of other discount department store chains. His assistant Bob Bogle came up with the name \"Wal-Mart\" for the new chain.'\n",
    "davincci['-1215745899771320061'] = '\\n\\nWhen the pen is used to mark counterfeit bills, the mark is typically black or dark blue.'\n",
    "davincci['1756361713228458982'] = '\\n\\nThere is only one area code in Montana: 406.'"
   ]
  },
  {
   "cell_type": "code",
   "execution_count": 6,
   "metadata": {},
   "outputs": [
    {
     "name": "stdout",
     "output_type": "stream",
     "text": [
      "0.6666666619501135\n",
      "0.33333332932098775\n",
      "0.3880596966807752\n",
      "0.38297871922136717\n",
      "0.6956521691493385\n"
     ]
    }
   ],
   "source": [
    "for id in davincci:\n",
    "    print(str(rougel_score(davincci[id], NQ[id]['output'][0]['answer'])))"
   ]
  },
  {
   "attachments": {},
   "cell_type": "markdown",
   "metadata": {},
   "source": [
    "0.6666666619501135\n",
    "0.33333332932098775\n",
    "0.3880596966807752\n",
    "0.38297871922136717\n",
    "0.6956521691493385"
   ]
  }
 ],
 "metadata": {
  "kernelspec": {
   "display_name": "primeqa4.24",
   "language": "python",
   "name": "python3"
  },
  "language_info": {
   "codemirror_mode": {
    "name": "ipython",
    "version": 3
   },
   "file_extension": ".py",
   "mimetype": "text/x-python",
   "name": "python",
   "nbconvert_exporter": "python",
   "pygments_lexer": "ipython3",
   "version": "3.9.16"
  },
  "orig_nbformat": 4,
  "vscode": {
   "interpreter": {
    "hash": "d32919132f66e210a1b695050b8f424e37551142a4189348e2af6a594afe21a0"
   }
  }
 },
 "nbformat": 4,
 "nbformat_minor": 2
}
