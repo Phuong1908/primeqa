{
 "cells": [
  {
   "cell_type": "markdown",
   "id": "8804bb07",
   "metadata": {},
   "source": [
    "# Answer classification for boolean questions\n",
    "\n",
    "In this notebook, we look at the answer (evidence) classifation, which is a component in the TyDiQA pipeline which decides whether a boolean question should be answered `yes` or `no`, based on a passage selected by the machine reading comprehension component.\n",
    "\n",
    "## Preliminaries\n",
    "We assume that the machine reading comprehension and the question type classifier components of the TyDiQA pipeline have already run, either through the integrated command line or the step-by-step process, both described [here](../../primeqa/boolqa/README.md) and that the output directory was `base`.\n",
    "\n",
    "First some setup.  The classifier will obtain its input from the `qtc/eval_predictions.json` file produced by the question type classifier.\n",
    "Most of this setup is very similar to the setup for [mrc](../mrc/mrc.ipynb)"
   ]
  },
  {
   "cell_type": "code",
   "execution_count": 2,
   "id": "b47ef1b6",
   "metadata": {},
   "outputs": [],
   "source": [
    "output_dir=\"out\"\n",
    "input_file=f\"{base}/qtc/predictions.json\"\n",
    "\n",
    "from transformers import (\n",
    "    AutoConfig,\n",
    "    AutoModelForSequenceClassification,\n",
    "    AutoTokenizer,\n",
    "    DataCollatorWithPadding,\n",
    "    HfArgumentParser,\n",
    "    Trainer,\n",
    "    TrainingArguments)\n",
    "from transformers.trainer_utils import set_seed\n",
    "from primeqa.text_classification.processors.postprocessors.text_classifier import TextClassifierPostProcessor\n",
    "from primeqa.text_classification.processors.preprocessors.text_classifier import TextClassifierPreProcessor\n",
    "from primeqa.boolqa.processors.dataset.mrc2dataset import create_dataset_from_run_mrc_output, create_dataset_from_json_str\n",
    "import pandas as pd\n",
    "\n",
    "seed = 42\n",
    "set_seed(seed)\n",
    "\n",
    "training_args = TrainingArguments(\n",
    "    output_dir=output_dir,\n",
    "    overwrite_output_dir=True,\n",
    "    do_train=False,\n",
    "    do_eval=True,\n",
    "    per_device_train_batch_size=16,\n",
    "    per_device_eval_batch_size=16,\n",
    "    gradient_accumulation_steps=1,\n",
    "    num_train_epochs=1,\n",
    "    evaluation_strategy='no',\n",
    "    learning_rate=4e-05,\n",
    "    warmup_ratio=0.1,\n",
    "    weight_decay=0.1,\n",
    "    save_steps=50000,\n",
    "    seed=seed,\n",
    ")"
   ]
  },
  {
   "cell_type": "markdown",
   "id": "47782751",
   "metadata": {},
   "source": [
    "## Setup the auxiliary classes\n",
    "\n",
    "These are the same type of classes that are used in the mrc system.  The `sentence1_key` and `sentence2_key` argument to the preprocessor specifies that the evidence classifier will predict `yes` or `no` based on the question and the (long) passage answer produced by the upstream MRC system.  In general the minimal (short) answers are too short to make reasonable predictions from."
   ]
  },
  {
   "cell_type": "code",
   "execution_count": 3,
   "id": "8bb49333",
   "metadata": {},
   "outputs": [],
   "source": [
    "config = AutoConfig.from_pretrained('PrimeQA/tydi-tydi_boolean_answer_classifier-xlmr_large-20221117', num_labels=2, use_auth_token=True)\n",
    "\n",
    "tokenizer=AutoTokenizer.from_pretrained('PrimeQA/tydi-boolean_answer_classifier-xlmr_large-20221117', use_fast=True, use_auth_token=True)\n",
    "\n",
    "model = AutoModelForSequenceClassification.from_pretrained('PrimeQA/tydi-tydi_boolean_answer_classifier-xlmr_large-20221117', config=config, use_auth_token=True)\n",
    "\n",
    "label_list=['no', 'yes']\n",
    "\n",
    "postprocessor_class = TextClassifierPostProcessor\n",
    "postprocessor = postprocessor_class(\n",
    "    k=10,       \n",
    "    drop_label=None,\n",
    "    label_list = label_list,\n",
    "    id_key='example_id',\n",
    "    output_label_prefix='boolean_answer'\n",
    ")\n",
    "\n",
    "preprocessor_class = TextClassifierPreProcessor\n",
    "preprocessor = preprocessor_class(\n",
    "    example_id_key='example_id',\n",
    "    sentence1_key='question',\n",
    "    sentence2_key='passage_answer_text',\n",
    "    tokenizer=tokenizer,\n",
    "    load_from_cache_file=False,\n",
    "    max_seq_len=500,\n",
    "    padding=False,\n",
    "    language_key='en',\n",
    "    label_list=label_list\n",
    ")"
   ]
  },
  {
   "cell_type": "markdown",
   "id": "d092f3d4",
   "metadata": {},
   "source": [
    "## Inputs\n",
    "Here we create a dataset from the input file.  The input file is the output file of the question type classifier.  For illustrative purposes, we filter it to focus on the english questions that have been predicted to be boolean."
   ]
  },
  {
   "cell_type": "code",
   "execution_count": 4,
   "id": "cd4872ee",
   "metadata": {
    "scrolled": true
   },
   "outputs": [
    {
     "data": {
      "application/vnd.jupyter.widget-view+json": {
       "model_id": "be2e540e673645ac96ca5a740690ee2e",
       "version_major": 2,
       "version_minor": 0
      },
      "text/plain": [
       "  0%|          | 0/19 [00:00<?, ?ba/s]"
      ]
     },
     "metadata": {},
     "output_type": "display_data"
    },
    {
     "data": {
      "application/vnd.jupyter.widget-view+json": {
       "model_id": "f73824b628d24efea7f0c19964b55a32",
       "version_major": 2,
       "version_minor": 0
      },
      "text/plain": [
       "  0%|          | 0/1 [00:00<?, ?ba/s]"
      ]
     },
     "metadata": {},
     "output_type": "display_data"
    },
    {
     "data": {
      "text/plain": [
       "Dataset({\n",
       "    features: ['example_id', 'cls_score', 'start_logit', 'end_logit', 'span_answer', 'span_answer_score', 'start_index', 'end_index', 'passage_index', 'target_type_logits', 'span_answer_text', 'yes_no_answer', 'start_stdev', 'end_stdev', 'query_passage_similarity', 'normalized_span_answer_score', 'confidence_score', 'question', 'language', 'passage_answer_text', 'order', 'rank', 'question_type_pred', 'question_type_scores', 'question_type_conf'],\n",
       "    num_rows: 113\n",
       "})"
      ]
     },
     "execution_count": 4,
     "metadata": {},
     "output_type": "execute_result"
    }
   ],
   "source": [
    "examples=create_dataset_from_run_mrc_output(input_file, unpack=False)\n",
    "examples=examples.filter(lambda x:x['language']=='english' and x['question_type_pred']=='boolean')\n",
    "eval_examples, eval_dataset = preprocessor.process_eval(examples)\n",
    "eval_examples"
   ]
  },
  {
   "cell_type": "markdown",
   "id": "76317ef0",
   "metadata": {},
   "source": [
    "## Do the predictions.\n",
    "As in mrc, the trainer class instance runs the predictions."
   ]
  },
  {
   "cell_type": "code",
   "execution_count": 5,
   "id": "14241f1b",
   "metadata": {},
   "outputs": [
    {
     "data": {
      "text/html": [
       "\n",
       "    <div>\n",
       "      \n",
       "      <progress value='8' max='8' style='width:300px; height:20px; vertical-align: middle;'></progress>\n",
       "      [8/8 01:13]\n",
       "    </div>\n",
       "    "
      ],
      "text/plain": [
       "<IPython.core.display.HTML object>"
      ]
     },
     "metadata": {},
     "output_type": "display_data"
    }
   ],
   "source": [
    "trainer = Trainer( \n",
    "    model=model,\n",
    "    args=training_args,\n",
    "    train_dataset=None,\n",
    "    eval_dataset=eval_dataset,\n",
    "    compute_metrics=None, #compute_metrics,\n",
    "    tokenizer=tokenizer,\n",
    "    data_collator=None,\n",
    ")\n",
    "predictions = trainer.predict(eval_dataset, metric_key_prefix=\"predict\").predictions\n",
    "\n"
   ]
  },
  {
   "cell_type": "markdown",
   "id": "caec27ba",
   "metadata": {},
   "source": [
    "## Predictions\n",
    "\n",
    "Column 0 corresponds to `no`.  Column 1 corresponds to `yes`, as in the `label_list` variable."
   ]
  },
  {
   "cell_type": "code",
   "execution_count": 6,
   "id": "49845d97",
   "metadata": {},
   "outputs": [
    {
     "data": {
      "text/html": [
       "<div>\n",
       "<style scoped>\n",
       "    .dataframe tbody tr th:only-of-type {\n",
       "        vertical-align: middle;\n",
       "    }\n",
       "\n",
       "    .dataframe tbody tr th {\n",
       "        vertical-align: top;\n",
       "    }\n",
       "\n",
       "    .dataframe thead th {\n",
       "        text-align: right;\n",
       "    }\n",
       "</style>\n",
       "<table border=\"1\" class=\"dataframe\">\n",
       "  <thead>\n",
       "    <tr style=\"text-align: right;\">\n",
       "      <th></th>\n",
       "      <th>0</th>\n",
       "      <th>1</th>\n",
       "    </tr>\n",
       "  </thead>\n",
       "  <tbody>\n",
       "    <tr>\n",
       "      <th>0</th>\n",
       "      <td>-5.019741</td>\n",
       "      <td>4.272789</td>\n",
       "    </tr>\n",
       "    <tr>\n",
       "      <th>1</th>\n",
       "      <td>4.270126</td>\n",
       "      <td>-3.877274</td>\n",
       "    </tr>\n",
       "    <tr>\n",
       "      <th>2</th>\n",
       "      <td>4.284977</td>\n",
       "      <td>-3.864507</td>\n",
       "    </tr>\n",
       "    <tr>\n",
       "      <th>3</th>\n",
       "      <td>-2.675221</td>\n",
       "      <td>2.365314</td>\n",
       "    </tr>\n",
       "    <tr>\n",
       "      <th>4</th>\n",
       "      <td>-2.605473</td>\n",
       "      <td>2.228158</td>\n",
       "    </tr>\n",
       "  </tbody>\n",
       "</table>\n",
       "</div>"
      ],
      "text/plain": [
       "          0         1\n",
       "0 -5.019741  4.272789\n",
       "1  4.270126 -3.877274\n",
       "2  4.284977 -3.864507\n",
       "3 -2.675221  2.365314\n",
       "4 -2.605473  2.228158"
      ]
     },
     "execution_count": 6,
     "metadata": {},
     "output_type": "execute_result"
    }
   ],
   "source": [
    "pd.DataFrame.from_records(predictions[0:5,:])"
   ]
  },
  {
   "cell_type": "code",
   "execution_count": 7,
   "id": "e47b69c8",
   "metadata": {},
   "outputs": [
    {
     "name": "stdout",
     "output_type": "stream",
     "text": [
      "in process\n",
      "Dataset({\n",
      "    features: ['example_id', 'cls_score', 'start_logit', 'end_logit', 'span_answer', 'span_answer_score', 'start_index', 'end_index', 'passage_index', 'target_type_logits', 'span_answer_text', 'yes_no_answer', 'start_stdev', 'end_stdev', 'query_passage_similarity', 'normalized_span_answer_score', 'confidence_score', 'question', 'language', 'passage_answer_text', 'order', 'rank', 'question_type_pred', 'question_type_scores', 'question_type_conf', 'boolean_answer_pred', 'boolean_answer_scores', 'boolean_answer_conf'],\n",
      "    num_rows: 113\n",
      "})\n"
     ]
    }
   ],
   "source": [
    "eval_preds = postprocessor.process(eval_examples, eval_dataset, predictions)\n",
    "eval_preds_ds = create_dataset_from_json_str(eval_preds.predictions, False)\n",
    "print(eval_preds_ds)"
   ]
  },
  {
   "cell_type": "markdown",
   "id": "e62d736a",
   "metadata": {},
   "source": [
    "## Questions and answers\n",
    "\n",
    "Here we display some questions that have been identified as boolean, and their predicted answers, based on the system output of the MRC system.  A weakness in the TydiQA dataset is that most (85%) of the boolean questions have an answer of `yes` - apparently the question writers wrote questions seeking confirmations of what they already knew or suspected.  We display the `passage_answer_text` that was automatically extracted by the upstream MRC system.\n"
   ]
  },
  {
   "cell_type": "code",
   "execution_count": 8,
   "id": "cfcaf2a5",
   "metadata": {},
   "outputs": [
    {
     "data": {
      "application/vnd.jupyter.widget-view+json": {
       "model_id": "b8b22529015c4b7eb16112e564d8f58e",
       "version_major": 2,
       "version_minor": 0
      },
      "text/plain": [
       "  0%|          | 0/1 [00:00<?, ?ba/s]"
      ]
     },
     "metadata": {},
     "output_type": "display_data"
    },
    {
     "data": {
      "text/html": [
       "<table border=\"1\" class=\"dataframe\">\n",
       "  <thead>\n",
       "    <tr style=\"text-align: right;\">\n",
       "      <th></th>\n",
       "      <th>example_id</th>\n",
       "      <th>question</th>\n",
       "      <th>passage_answer_text</th>\n",
       "      <th>boolean_answer_pred</th>\n",
       "      <th>boolean_answer_scores</th>\n",
       "    </tr>\n",
       "  </thead>\n",
       "  <tbody>\n",
       "    <tr>\n",
       "      <th>80</th>\n",
       "      <td>e021bf05-5d39-4781-96a3-e4aded51f940</td>\n",
       "      <td>Is popcorn lung linked to vaping?</td>\n",
       "      <td>Bronchiolitis obliterans (BO), also known as popcorn lung and constrictive bronchiolitis, is a disease that results in obstruction of the smallest airways of the lungs (bronchioles) due to inflammation.[1] Symptoms include a dry cough, shortness of breath, wheezing and feeling tired.[1] These sympto...</td>\n",
       "      <td>no</td>\n",
       "      <td>{'no': 4.307797431945801, 'yes': -4.1906046867370605}</td>\n",
       "    </tr>\n",
       "    <tr>\n",
       "      <th>4</th>\n",
       "      <td>55facded-804e-4728-a3d4-c5d098daf5ab</td>\n",
       "      <td>Does the Magellanic Cloud system have a super massive black hole?</td>\n",
       "      <td>The Large Magellanic Cloud and its neighbour and relative, the Small Magellanic Cloud, are conspicuous objects in the southern hemisphere, looking like separated pieces of the Milky Way to the naked eye. Roughly 21° apart in the night sky, the true distance between them is roughly 75,000 light-years...</td>\n",
       "      <td>yes</td>\n",
       "      <td>{'no': -2.6054728031158447, 'yes': 2.2281577587127686}</td>\n",
       "    </tr>\n",
       "    <tr>\n",
       "      <th>40</th>\n",
       "      <td>ecd427f1-ef0b-41e2-b259-d0dd2c48f4e6</td>\n",
       "      <td>How do you tell if you have an addictive personality?</td>\n",
       "      <td>An addictive personality refers to a particular set of personality traits that make an individual predisposed to developing addictions.[1] This hypothesis states that there may be common personality traits observable in people suffering from addiction. Alan R. Lang of Florida State University, autho...</td>\n",
       "      <td>yes</td>\n",
       "      <td>{'no': -4.374283790588379, 'yes': 3.593200922012329}</td>\n",
       "    </tr>\n",
       "    <tr>\n",
       "      <th>69</th>\n",
       "      <td>58dfd53c-26cb-4148-baf0-395d177626bc</td>\n",
       "      <td>Do the Aborigines have a verbal culture?</td>\n",
       "      <td>The Yugambeh (Yugambeh: Miban) are a group of Australian Aboriginal clans whose ancestors all spoke one or more dialects of the Yugambeh language. Their traditional lands are located in south-east Queensland and north-east New South Wales, now within the Logan City, Gold Coast, Scenic Rim, and Tweed...</td>\n",
       "      <td>yes</td>\n",
       "      <td>{'no': -5.008730888366699, 'yes': 4.264303207397461}</td>\n",
       "    </tr>\n",
       "    <tr>\n",
       "      <th>10</th>\n",
       "      <td>9eef8d9b-536c-482b-bc0c-49051373cb59</td>\n",
       "      <td>Is Cantonese written the same as Mandarin?</td>\n",
       "      <td>Written Cantonese is the written form of Cantonese, the most complete written form of Chinese after that for Mandarin Chinese and Classical Chinese. Written Chinese was originally developed for Classical Chinese, and was the main literary language of China until the 19th century.  Written vernacular...</td>\n",
       "      <td>no</td>\n",
       "      <td>{'no': 4.223395824432373, 'yes': -3.887373924255371}</td>\n",
       "    </tr>\n",
       "    <tr>\n",
       "      <th>45</th>\n",
       "      <td>375ed26c-a5d5-413e-b672-148010d3eb23</td>\n",
       "      <td>Does the KGB still exist?</td>\n",
       "      <td>The agency was a military service governed by army laws and regulations, in the same fashion as the Soviet Army or MVD Internal Troops. While most of the KGB archives remain classified, two online documentary sources are available.[1][2] Its main functions were foreign intelligence, counter-intellig...</td>\n",
       "      <td>yes</td>\n",
       "      <td>{'no': -4.376760482788086, 'yes': 3.681140661239624}</td>\n",
       "    </tr>\n",
       "    <tr>\n",
       "      <th>70</th>\n",
       "      <td>44091813-f673-47b1-902f-6a96557221a7</td>\n",
       "      <td>Can the central nervous system heal itself?</td>\n",
       "      <td>Nervous system injuries affect over 90,000 people every year.[2] It is estimated that spinal cord injuries alone affect 10,000 each year.[3] As a result of this high incidence of neurological injuries, nerve regeneration and repair, a subfield of neural tissue engineering, is becoming a rapidly grow...</td>\n",
       "      <td>yes</td>\n",
       "      <td>{'no': -3.8311636447906494, 'yes': 3.0920374393463135}</td>\n",
       "    </tr>\n",
       "    <tr>\n",
       "      <th>11</th>\n",
       "      <td>36af5968-9d7a-4139-a678-531f205db4d3</td>\n",
       "      <td>Is Hungarian a romance language?</td>\n",
       "      <td>Additionally, the letter pairs ⟨ny⟩, ⟨ty⟩, and ⟨gy⟩ represent the palatal consonants /ɲ/, /c/, and /ɟ/ (a little like the \"d+y\" sounds in British \"du&lt;/i&gt;ke\" or American \"woul&lt;i data-parsoid='{\"dsr\":[64312,64319,2,2]}'&gt;d y&lt;/i&gt;ou\")—a bit like saying \"d\" with the tongue pointing to the palate....</td>\n",
       "      <td>no</td>\n",
       "      <td>{'no': 4.077722549438477, 'yes': -3.616605043411255}</td>\n",
       "    </tr>\n",
       "    <tr>\n",
       "      <th>98</th>\n",
       "      <td>319b8e52-33bc-4f00-8846-06d6657aba96</td>\n",
       "      <td>Are any BBS servers still running today?</td>\n",
       "      <td>The introduction of inexpensive dial-up internet service and the Mosaic web browser offered ease of use and global access that BBS and online systems did not provide, and led to a rapid crash in the market starting in 1994. Over the next year, many of the leading BBS software providers went bankrupt...</td>\n",
       "      <td>no</td>\n",
       "      <td>{'no': 3.8056693077087402, 'yes': -3.3668763637542725}</td>\n",
       "    </tr>\n",
       "    <tr>\n",
       "      <th>36</th>\n",
       "      <td>0e86e43c-9892-4a3a-aef0-bf75f539fe30</td>\n",
       "      <td>Are Urdu and Hindu the same?</td>\n",
       "      <td>The Hindi–Urdu controversy is an ongoing dispute—dating back to the 19th century—regarding the status of Hindi and Urdu as a single language, Hindustani (lit \"of Hindustan\"), or as two dialects of a single language, and the establishment of a single standard language in certain areas of North India....</td>\n",
       "      <td>no</td>\n",
       "      <td>{'no': 4.417458534240723, 'yes': -3.884164571762085}</td>\n",
       "    </tr>\n",
       "  </tbody>\n",
       "</table>"
      ],
      "text/plain": [
       "<IPython.core.display.HTML object>"
      ]
     },
     "metadata": {},
     "output_type": "display_data"
    }
   ],
   "source": [
    "from datasets import ClassLabel, Sequence\n",
    "from numpy.random import permutation\n",
    "import random\n",
    "import pandas as pd\n",
    "from IPython.display import display, HTML\n",
    "\n",
    "# Based on https://github.com/huggingface/notebooks/blob/main/examples/question_answering.ipynb\n",
    "def show_balanced_examples(dataset, perm, groups, nrows, maxchars, cols):\n",
    "    df = pd.DataFrame(dataset)\n",
    "    dfp = df.iloc[perm] # shuffle\n",
    "    dfg = dfp.groupby(groups)\n",
    "    df_todisplay = dfg.head(nrows)[cols]\n",
    "    if 'passage_answer_text' in cols:\n",
    "        df_todisplay['passage_answer_text'] = df_todisplay['passage_answer_text'].str.slice(0,maxchars) + '...'\n",
    "    display(HTML(df_todisplay.to_html()))\n",
    "    \n",
    "    \n",
    "\n",
    "english_boolean_eval_examples = eval_preds_ds.filter(lambda x:x['language']=='english' and x['question_type_pred']=='boolean')\n",
    "random_idxs = permutation(len(english_boolean_eval_examples))\n",
    "cols=['example_id','question','passage_answer_text', 'boolean_answer_pred', 'boolean_answer_scores']\n",
    "show_balanced_examples(english_boolean_eval_examples, random_idxs, 'boolean_answer_pred', 5, 300, cols)\n"
   ]
  },
  {
   "cell_type": "code",
   "execution_count": null,
   "id": "f77c5246",
   "metadata": {},
   "outputs": [],
   "source": []
  }
 ],
 "metadata": {
  "kernelspec": {
   "display_name": "Python 3 (ipykernel)",
   "language": "python",
   "name": "python3"
  },
  "language_info": {
   "codemirror_mode": {
    "name": "ipython",
    "version": 3
   },
   "file_extension": ".py",
   "mimetype": "text/x-python",
   "name": "python",
   "nbconvert_exporter": "python",
   "pygments_lexer": "ipython3",
   "version": "3.7.15"
  }
 },
 "nbformat": 4,
 "nbformat_minor": 5
}
