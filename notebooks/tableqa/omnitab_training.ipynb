{
 "cells": [
  {
   "cell_type": "markdown",
   "metadata": {},
   "source": [
    "# OminTab based Table Question Answering\n",
    "In this notebook, we will see how to fine-tune and evaluate a question  answering model based on OmniTab"
   ]
  }
 ],
 "metadata": {
  "kernelspec": {
   "display_name": "Python 3.7.13",
   "language": "python",
   "name": "python3"
  },
  "language_info": {
   "name": "python",
   "version": "3.7.13"
  },
  "orig_nbformat": 4,
  "vscode": {
   "interpreter": {
    "hash": "99055e53b3a25bf4e2b8ce30500bd8baee1aacdd3b4228b925265ba78da5fc2d"
   }
  }
 },
 "nbformat": 4,
 "nbformat_minor": 2
}
