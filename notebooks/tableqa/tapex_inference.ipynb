{
 "cells": [
  {
   "cell_type": "markdown",
   "metadata": {},
   "source": [
    "# Table Question Generation: Inference example\n",
    "\n",
    "In this notebook, we will show how to use our pretrained TableQA model to answer questions over a table. The pre-trained model is available in huggingface and is trained on WikiSQL lookup queries."
   ]
  },
  {
   "cell_type": "markdown",
   "metadata": {},
   "source": [
    "## Dependencies\n",
    "\n",
    "If not already done, make sure to install PrimeQA with notebooks extras before getting started."
   ]
  },
  {
   "cell_type": "code",
   "execution_count": 1,
   "metadata": {},
   "outputs": [],
   "source": [
    "from primeqa.tableqa.models.tableqa_model import TableQAModel\n",
    "import pandas as pd"
   ]
  },
  {
   "cell_type": "markdown",
   "metadata": {},
   "source": [
    "## Loading pretrained model from huggingface\n",
    "\n",
    "This model was trained using PrimeQA library and uploaded to huggingface."
   ]
  },
  {
   "cell_type": "code",
   "execution_count": 9,
   "metadata": {},
   "outputs": [
    {
     "ename": "SyntaxError",
     "evalue": "invalid syntax (2257542171.py, line 4)",
     "output_type": "error",
     "traceback": [
      "\u001b[0;36m  File \u001b[0;32m\"/tmp/ipykernel_1889051/2257542171.py\"\u001b[0;36m, line \u001b[0;32m4\u001b[0m\n\u001b[0;31m    model = TableQASeq2SeqModel(\"microsoft/tapex-large-finetuned-wtq\")|\u001b[0m\n\u001b[0m                                                                       ^\u001b[0m\n\u001b[0;31mSyntaxError\u001b[0m\u001b[0;31m:\u001b[0m invalid syntax\n"
     ]
    }
   ],
   "source": [
    "#load the model from HuggingFace\n",
    "from primeqa.tableqa.models.tableqa_seq2seq_model import TableQASeq2SeqModel\n",
    "\n",
    "model = TableQASeq2SeqModel(\"microsoft/tapex-large-finetuned-wtq\")"
   ]
  },
  {
   "cell_type": "code",
   "execution_count": 6,
   "metadata": {},
   "outputs": [
    {
     "name": "stdout",
     "output_type": "stream",
     "text": [
      "               Actors Number of movies\n",
      "0           Brad Pitt               87\n",
      "1  Leonardo Di Caprio               53\n",
      "2      George Clooney               69\n"
     ]
    }
   ],
   "source": [
    "# Load the Table \n",
    "data = {\"Actors\": [\"Brad Pitt\", \"Leonardo Di Caprio\",\n",
    "                        \"George Clooney\"], \"Number of movies\": [\"87\", \"53\", \"69\"]}\n",
    "print(pd.DataFrame.from_dict(data))\n"
   ]
  },
  {
   "cell_type": "markdown",
   "metadata": {},
   "source": [
    "The natural language queries can be passed as a list of strings."
   ]
  },
  {
   "cell_type": "code",
   "execution_count": 7,
   "metadata": {},
   "outputs": [
    {
     "name": "stdout",
     "output_type": "stream",
     "text": [
      "{'What is the name of the first actor': 'Brad Pitt', 'how many movies George Clooney acted in': '69'}\n"
     ]
    }
   ],
   "source": [
    "queries = [\"What is the name of the first actor\", \"how many movies George Clooney acted in\"]\n",
    "print(model.predict(data,queries))"
   ]
  },
  {
   "cell_type": "code",
   "execution_count": null,
   "metadata": {},
   "outputs": [],
   "source": []
  }
 ],
 "metadata": {
  "kernelspec": {
   "display_name": "Python 3.7.13",
   "language": "python",
   "name": "python3"
  },
  "language_info": {
   "codemirror_mode": {
    "name": "ipython",
    "version": 3
   },
   "file_extension": ".py",
   "mimetype": "text/x-python",
   "name": "python",
   "nbconvert_exporter": "python",
   "pygments_lexer": "ipython3",
   "version": "3.7.13"
  },
  "orig_nbformat": 4,
  "vscode": {
   "interpreter": {
    "hash": "c8e6bfac5cac7e4e34d134443bbc413fadb09d761c0b298e6086be4b2ce744cd"
   }
  }
 },
 "nbformat": 4,
 "nbformat_minor": 2
}
