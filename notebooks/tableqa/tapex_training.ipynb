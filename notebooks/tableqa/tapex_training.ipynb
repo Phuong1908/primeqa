{
 "cells": [
  {
   "cell_type": "markdown",
   "metadata": {},
   "source": [
    "# Table Question Answering Based on Tapex: Training example\n",
    "\n",
    "In this notebook, we will show how to use our train a TableQA model based on tapex to answer questions over a table. The pre-trained model is available in huggingface and is trained on wiktablequestions dataset."
   ]
  },
  {
   "cell_type": "code",
   "execution_count": 1,
   "metadata": {},
   "outputs": [
    {
     "name": "stderr",
     "output_type": "stream",
     "text": [
      " 25%|██▌       | 3/12 [01:18<03:54, 26.11s/ba]loading file vocab.json from cache at /u/vishk024/.cache/huggingface/hub/models--microsoft--tapex-large/snapshots/4faed895961e60d5e85285f20fd53bcb9a1a89b2/vocab.json\n",
      "loading file merges.txt from cache at /u/vishk024/.cache/huggingface/hub/models--microsoft--tapex-large/snapshots/4faed895961e60d5e85285f20fd53bcb9a1a89b2/merges.txt\n",
      "loading file added_tokens.json from cache at None\n",
      "loading file special_tokens_map.json from cache at None\n",
      "loading file tokenizer_config.json from cache at /u/vishk024/.cache/huggingface/hub/models--microsoft--tapex-large/snapshots/4faed895961e60d5e85285f20fd53bcb9a1a89b2/tokenizer_config.json\n"
     ]
    }
   ],
   "source": [
    "from primeqa.components.reader_component import ReaderComponent\n",
    "import pandas as pd\n",
    "# Define the `dataset name` output_directory and other `hyperparamter` values in the config file.\n",
    "tapex_reader = ReaderComponent('TapexModel',\"../../primeqa/tableqa/tapex/configs/tapex_config_wtq.json\")\n",
    "\n",
    "tapex_reader.train()"
   ]
  },
  {
   "cell_type": "code",
   "execution_count": null,
   "metadata": {},
   "outputs": [],
   "source": [
    "# Testing the trained model\n",
    "# Load the Table \n",
    "data = {\"Actors\": [\"Brad Pitt\", \"Leonardo Di Caprio\",\n",
    "                        \"George Clooney\"], \"Number of movies\": [\"87\", \"53\", \"69\"]}\n",
    "print(pd.DataFrame.from_dict(data))"
   ]
  },
  {
   "cell_type": "code",
   "execution_count": null,
   "metadata": {},
   "outputs": [],
   "source": [
    "queries = [\"how many movies Brad Pitt acted in\", \"Name the actor who has been in 53 movies\"]\n",
    "answers = tapex_reader.predict(data,queries)\n",
    "print(\"answers\" , answers)"
   ]
  },
  {
   "cell_type": "code",
   "execution_count": null,
   "metadata": {},
   "outputs": [],
   "source": []
  }
 ],
 "metadata": {
  "kernelspec": {
   "display_name": "Python 3.7.13",
   "language": "python",
   "name": "python3"
  },
  "language_info": {
   "codemirror_mode": {
    "name": "ipython",
    "version": 3
   },
   "file_extension": ".py",
   "mimetype": "text/x-python",
   "name": "python",
   "nbconvert_exporter": "python",
   "pygments_lexer": "ipython3",
   "version": "3.7.13"
  },
  "orig_nbformat": 4,
  "vscode": {
   "interpreter": {
    "hash": "1123b6107f42b6697a5a39c024fbef081697ea5b38d97b196d4e1cf900f7b6b6"
   }
  }
 },
 "nbformat": 4,
 "nbformat_minor": 2
}
