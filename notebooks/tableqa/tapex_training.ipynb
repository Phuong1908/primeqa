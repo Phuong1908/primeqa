{
 "cells": [
  {
   "cell_type": "markdown",
   "metadata": {},
   "source": [
    "# Table Question Answering Based on Tapex: Training example\n",
    "\n",
    "In this notebook, we will show how to use our train a TableQA model based on tapex to answer questions over a table. The pre-trained model is available in huggingface and is trained on wiktablequestions dataset."
   ]
  },
  {
   "cell_type": "code",
   "execution_count": null,
   "metadata": {},
   "outputs": [],
   "source": [
    "from primeqa.components.reader_component import ReaderComponent\n",
    "import pandas as pd\n",
    "# Define the `dataset name` output_directory and other `hyperparamter` values in the config file.\n",
    "tapex_reader = ReaderComponent('TapexModel',\"../../primeqa/tableqa/tapex/tapex_config.json\")\n",
    "\n",
    "tapex_reader.train()"
   ]
  },
  {
   "cell_type": "code",
   "execution_count": 1,
   "metadata": {},
   "outputs": [
    {
     "ename": "NameError",
     "evalue": "name 'pd' is not defined",
     "output_type": "error",
     "traceback": [
      "\u001b[0;31m---------------------------------------------------------------------------\u001b[0m",
      "\u001b[0;31mNameError\u001b[0m                                 Traceback (most recent call last)",
      "\u001b[0;32m/tmp/ipykernel_3743014/2747285653.py\u001b[0m in \u001b[0;36m<module>\u001b[0;34m\u001b[0m\n\u001b[1;32m      2\u001b[0m data = {\"Actors\": [\"Brad Pitt\", \"Leonardo Di Caprio\",\n\u001b[1;32m      3\u001b[0m                         \"George Clooney\"], \"Number of movies\": [\"87\", \"53\", \"69\"]}\n\u001b[0;32m----> 4\u001b[0;31m \u001b[0mprint\u001b[0m\u001b[0;34m(\u001b[0m\u001b[0mpd\u001b[0m\u001b[0;34m.\u001b[0m\u001b[0mDataFrame\u001b[0m\u001b[0;34m.\u001b[0m\u001b[0mfrom_dict\u001b[0m\u001b[0;34m(\u001b[0m\u001b[0mdata\u001b[0m\u001b[0;34m)\u001b[0m\u001b[0;34m)\u001b[0m\u001b[0;34m\u001b[0m\u001b[0;34m\u001b[0m\u001b[0m\n\u001b[0m",
      "\u001b[0;31mNameError\u001b[0m: name 'pd' is not defined"
     ]
    }
   ],
   "source": [
    "# Testing the trained model\n",
    "# Load the Table \n",
    "data = {\"Actors\": [\"Brad Pitt\", \"Leonardo Di Caprio\",\n",
    "                        \"George Clooney\"], \"Number of movies\": [\"87\", \"53\", \"69\"]}\n",
    "print(pd.DataFrame.from_dict(data))"
   ]
  },
  {
   "cell_type": "code",
   "execution_count": null,
   "metadata": {},
   "outputs": [],
   "source": [
    "queries = [\"how many movies Brad Pitt acted in\", \"Name the actor who has been in 53 movies\"]\n",
    "answers = tapex_reader.predict(data,queries)\n",
    "print(\"answers\" , answers)"
   ]
  },
  {
   "cell_type": "code",
   "execution_count": null,
   "metadata": {},
   "outputs": [],
   "source": []
  }
 ],
 "metadata": {
  "kernelspec": {
   "display_name": "Python 3.8.13 (conda)",
   "language": "python",
   "name": "python3"
  },
  "language_info": {
   "codemirror_mode": {
    "name": "ipython",
    "version": 3
   },
   "file_extension": ".py",
   "mimetype": "text/x-python",
   "name": "python",
   "nbconvert_exporter": "python",
   "pygments_lexer": "ipython3",
   "version": "3.8.13"
  },
  "orig_nbformat": 4,
  "vscode": {
   "interpreter": {
    "hash": "97a2e66cd491088e72397f494f035e3638824be50a4ccceabe9b50e51666c147"
   }
  }
 },
 "nbformat": 4,
 "nbformat_minor": 2
}
