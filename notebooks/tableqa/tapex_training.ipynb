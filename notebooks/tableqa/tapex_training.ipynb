{
 "cells": [
  {
   "cell_type": "markdown",
   "metadata": {},
   "source": [
    "# Table Question Answering Based on Tapex: Training example\n",
    "\n",
    "In this notebook, we will show how to use our train a TableQA model based on tapex to answer questions over a table. The pre-trained model is available in huggingface and is trained on wiktablequestions dataset."
   ]
  },
  {
   "cell_type": "code",
   "execution_count": null,
   "metadata": {},
   "outputs": [],
   "source": []
  }
 ],
 "metadata": {
  "kernelspec": {
   "display_name": "Python 3.7.13",
   "language": "python",
   "name": "python3"
  },
  "language_info": {
   "name": "python",
   "version": "3.7.13"
  },
  "orig_nbformat": 4,
  "vscode": {
   "interpreter": {
    "hash": "99055e53b3a25bf4e2b8ce30500bd8baee1aacdd3b4228b925265ba78da5fc2d"
   }
  }
 },
 "nbformat": 4,
 "nbformat_minor": 2
}
