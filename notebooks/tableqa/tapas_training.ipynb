{
 "cells": [
  {
   "cell_type": "markdown",
   "metadata": {},
   "source": [
    "# Table Question Generation using TAPAS: How to Train\n",
    "\n",
    "In this notebook, we will show how to use ReaderComponent class to instantiate Tapas and use it to train()"
   ]
  },
  {
   "cell_type": "code",
   "execution_count": 1,
   "metadata": {},
   "outputs": [],
   "source": [
    "from primeqa.components.reader_component import ReaderComponent\n",
    "import pandas as pd"
   ]
  },
  {
   "cell_type": "code",
   "execution_count": 2,
   "metadata": {},
   "outputs": [],
   "source": [
    "# config is read from a default location when no explicit path is provided for config.json\n",
    "reader = ReaderComponent('TapasModel')"
   ]
  },
  {
   "cell_type": "code",
   "execution_count": 3,
   "metadata": {},
   "outputs": [
    {
     "name": "stdout",
     "output_type": "stream",
     "text": [
      "loading from config at  ../../primeqa/tableqa/tapas/configs/tapas_config.json\n",
      "Preprocessing wikisql dataset\n",
      "{\"time\":\"2022-12-06 07:55:58,872\", \"name\": \"nlp.load\", \"level\": \"INFO\", \"message\": \"Checking /u/jaydesen/.cache/huggingface/datasets/e6305d5981c5107101189ff917073a7286c4e71db220340fec67e0f69bb6bbdd.e1797f2c1ffe28c0d770867818c0e7df49f220a07f4feb608ec8939227b2dbdc.py for additional imports.\"}\n",
      "{\"time\":\"2022-12-06 07:55:58,918\", \"name\": \"nlp.load\", \"level\": \"INFO\", \"message\": \"Found main folder for dataset https://s3.amazonaws.com/datasets.huggingface.co/nlp/datasets/wikisql/wikisql.py at /dccstor/irl-tableqa/jaydeep/tu4.24.0/lib/python3.7/site-packages/nlp/datasets/wikisql\"}\n",
      "{\"time\":\"2022-12-06 07:55:58,939\", \"name\": \"nlp.load\", \"level\": \"INFO\", \"message\": \"Found specific version folder for dataset https://s3.amazonaws.com/datasets.huggingface.co/nlp/datasets/wikisql/wikisql.py at /dccstor/irl-tableqa/jaydeep/tu4.24.0/lib/python3.7/site-packages/nlp/datasets/wikisql/6c75e26bb08db6bca2dbc201e89b574f053fc25492ef8bbf2614463c14436618\"}\n",
      "{\"time\":\"2022-12-06 07:55:58,955\", \"name\": \"nlp.load\", \"level\": \"INFO\", \"message\": \"Found script file from https://s3.amazonaws.com/datasets.huggingface.co/nlp/datasets/wikisql/wikisql.py to /dccstor/irl-tableqa/jaydeep/tu4.24.0/lib/python3.7/site-packages/nlp/datasets/wikisql/6c75e26bb08db6bca2dbc201e89b574f053fc25492ef8bbf2614463c14436618/wikisql.py\"}\n",
      "{\"time\":\"2022-12-06 07:55:58,982\", \"name\": \"nlp.load\", \"level\": \"INFO\", \"message\": \"Found dataset infos file from https://s3.amazonaws.com/datasets.huggingface.co/nlp/datasets/wikisql/dataset_infos.json to /dccstor/irl-tableqa/jaydeep/tu4.24.0/lib/python3.7/site-packages/nlp/datasets/wikisql/6c75e26bb08db6bca2dbc201e89b574f053fc25492ef8bbf2614463c14436618/dataset_infos.json\"}\n",
      "{\"time\":\"2022-12-06 07:55:58,992\", \"name\": \"nlp.load\", \"level\": \"INFO\", \"message\": \"Found metadata file for dataset https://s3.amazonaws.com/datasets.huggingface.co/nlp/datasets/wikisql/wikisql.py at /dccstor/irl-tableqa/jaydeep/tu4.24.0/lib/python3.7/site-packages/nlp/datasets/wikisql/6c75e26bb08db6bca2dbc201e89b574f053fc25492ef8bbf2614463c14436618/wikisql.json\"}\n",
      "{\"time\":\"2022-12-06 07:55:59,081\", \"name\": \"nlp.builder\", \"level\": \"WARNING\", \"message\": \"Using custom data configuration default\"}\n",
      "{\"time\":\"2022-12-06 07:55:59,090\", \"name\": \"nlp.info\", \"level\": \"INFO\", \"message\": \"Loading Dataset Infos from /dccstor/irl-tableqa/jaydeep/tu4.24.0/lib/python3.7/site-packages/nlp/datasets/wikisql/6c75e26bb08db6bca2dbc201e89b574f053fc25492ef8bbf2614463c14436618\"}\n",
      "{\"time\":\"2022-12-06 07:55:59,129\", \"name\": \"nlp.builder\", \"level\": \"INFO\", \"message\": \"Overwrite dataset info from restored data version.\"}\n",
      "{\"time\":\"2022-12-06 07:55:59,130\", \"name\": \"nlp.info\", \"level\": \"INFO\", \"message\": \"Loading Dataset info from /u/jaydesen/.cache/huggingface/datasets/wiki_sql/default/0.1.0/6c75e26bb08db6bca2dbc201e89b574f053fc25492ef8bbf2614463c14436618\"}\n",
      "{\"time\":\"2022-12-06 07:55:59,148\", \"name\": \"nlp.builder\", \"level\": \"INFO\", \"message\": \"Reusing dataset wiki_sql (/u/jaydesen/.cache/huggingface/datasets/wiki_sql/default/0.1.0/6c75e26bb08db6bca2dbc201e89b574f053fc25492ef8bbf2614463c14436618)\"}\n",
      "{\"time\":\"2022-12-06 07:55:59,149\", \"name\": \"nlp.builder\", \"level\": \"INFO\", \"message\": \"Constructing Dataset for split validation, from /u/jaydesen/.cache/huggingface/datasets/wiki_sql/default/0.1.0/6c75e26bb08db6bca2dbc201e89b574f053fc25492ef8bbf2614463c14436618\"}\n",
      "{\"time\":\"2022-12-06 07:55:59,165\", \"name\": \"nlp.utils.info_utils\", \"level\": \"INFO\", \"message\": \"All the checksums matched successfully for post processing resources\"}\n",
      "{\"time\":\"2022-12-06 07:55:59,583\", \"name\": \"nlp.load\", \"level\": \"INFO\", \"message\": \"Checking /u/jaydesen/.cache/huggingface/datasets/e6305d5981c5107101189ff917073a7286c4e71db220340fec67e0f69bb6bbdd.e1797f2c1ffe28c0d770867818c0e7df49f220a07f4feb608ec8939227b2dbdc.py for additional imports.\"}\n",
      "{\"time\":\"2022-12-06 07:55:59,601\", \"name\": \"nlp.load\", \"level\": \"INFO\", \"message\": \"Found main folder for dataset https://s3.amazonaws.com/datasets.huggingface.co/nlp/datasets/wikisql/wikisql.py at /dccstor/irl-tableqa/jaydeep/tu4.24.0/lib/python3.7/site-packages/nlp/datasets/wikisql\"}\n",
      "{\"time\":\"2022-12-06 07:55:59,613\", \"name\": \"nlp.load\", \"level\": \"INFO\", \"message\": \"Found specific version folder for dataset https://s3.amazonaws.com/datasets.huggingface.co/nlp/datasets/wikisql/wikisql.py at /dccstor/irl-tableqa/jaydeep/tu4.24.0/lib/python3.7/site-packages/nlp/datasets/wikisql/6c75e26bb08db6bca2dbc201e89b574f053fc25492ef8bbf2614463c14436618\"}\n",
      "{\"time\":\"2022-12-06 07:55:59,627\", \"name\": \"nlp.load\", \"level\": \"INFO\", \"message\": \"Found script file from https://s3.amazonaws.com/datasets.huggingface.co/nlp/datasets/wikisql/wikisql.py to /dccstor/irl-tableqa/jaydeep/tu4.24.0/lib/python3.7/site-packages/nlp/datasets/wikisql/6c75e26bb08db6bca2dbc201e89b574f053fc25492ef8bbf2614463c14436618/wikisql.py\"}\n",
      "{\"time\":\"2022-12-06 07:55:59,649\", \"name\": \"nlp.load\", \"level\": \"INFO\", \"message\": \"Found dataset infos file from https://s3.amazonaws.com/datasets.huggingface.co/nlp/datasets/wikisql/dataset_infos.json to /dccstor/irl-tableqa/jaydeep/tu4.24.0/lib/python3.7/site-packages/nlp/datasets/wikisql/6c75e26bb08db6bca2dbc201e89b574f053fc25492ef8bbf2614463c14436618/dataset_infos.json\"}\n",
      "{\"time\":\"2022-12-06 07:55:59,658\", \"name\": \"nlp.load\", \"level\": \"INFO\", \"message\": \"Found metadata file for dataset https://s3.amazonaws.com/datasets.huggingface.co/nlp/datasets/wikisql/wikisql.py at /dccstor/irl-tableqa/jaydeep/tu4.24.0/lib/python3.7/site-packages/nlp/datasets/wikisql/6c75e26bb08db6bca2dbc201e89b574f053fc25492ef8bbf2614463c14436618/wikisql.json\"}\n",
      "{\"time\":\"2022-12-06 07:55:59,661\", \"name\": \"nlp.builder\", \"level\": \"WARNING\", \"message\": \"Using custom data configuration default\"}\n",
      "{\"time\":\"2022-12-06 07:55:59,662\", \"name\": \"nlp.info\", \"level\": \"INFO\", \"message\": \"Loading Dataset Infos from /dccstor/irl-tableqa/jaydeep/tu4.24.0/lib/python3.7/site-packages/nlp/datasets/wikisql/6c75e26bb08db6bca2dbc201e89b574f053fc25492ef8bbf2614463c14436618\"}\n",
      "{\"time\":\"2022-12-06 07:55:59,673\", \"name\": \"nlp.builder\", \"level\": \"INFO\", \"message\": \"Overwrite dataset info from restored data version.\"}\n",
      "{\"time\":\"2022-12-06 07:55:59,674\", \"name\": \"nlp.info\", \"level\": \"INFO\", \"message\": \"Loading Dataset info from /u/jaydesen/.cache/huggingface/datasets/wiki_sql/default/0.1.0/6c75e26bb08db6bca2dbc201e89b574f053fc25492ef8bbf2614463c14436618\"}\n",
      "{\"time\":\"2022-12-06 07:55:59,697\", \"name\": \"nlp.builder\", \"level\": \"INFO\", \"message\": \"Reusing dataset wiki_sql (/u/jaydesen/.cache/huggingface/datasets/wiki_sql/default/0.1.0/6c75e26bb08db6bca2dbc201e89b574f053fc25492ef8bbf2614463c14436618)\"}\n",
      "{\"time\":\"2022-12-06 07:55:59,698\", \"name\": \"nlp.builder\", \"level\": \"INFO\", \"message\": \"Constructing Dataset for split train, from /u/jaydesen/.cache/huggingface/datasets/wiki_sql/default/0.1.0/6c75e26bb08db6bca2dbc201e89b574f053fc25492ef8bbf2614463c14436618\"}\n",
      "{\"time\":\"2022-12-06 07:55:59,732\", \"name\": \"nlp.utils.info_utils\", \"level\": \"INFO\", \"message\": \"All the checksums matched successfully for post processing resources\"}\n",
      "Preprocessing done\n",
      "Preprocessing done\n"
     ]
    },
    {
     "ename": "AttributeError",
     "evalue": "'DatasetProcessor' object has no attribute 'select'",
     "output_type": "error",
     "traceback": [
      "\u001b[0;31m---------------------------------------------------------------------------\u001b[0m",
      "\u001b[0;31mAttributeError\u001b[0m                            Traceback (most recent call last)",
      "\u001b[0;32m/tmp/ipykernel_1548328/2888393231.py\u001b[0m in \u001b[0;36m<module>\u001b[0;34m\u001b[0m\n\u001b[0;32m----> 1\u001b[0;31m \u001b[0mreader\u001b[0m\u001b[0;34m.\u001b[0m\u001b[0mtrain\u001b[0m\u001b[0;34m(\u001b[0m\u001b[0;34m)\u001b[0m\u001b[0;34m\u001b[0m\u001b[0;34m\u001b[0m\u001b[0m\n\u001b[0m",
      "\u001b[0;32m/dccstor/irl-tableqa/jaydeep/primeqa/primeqa/components/reader_component.py\u001b[0m in \u001b[0;36mtrain\u001b[0;34m(self)\u001b[0m\n\u001b[1;32m     14\u001b[0m \u001b[0;34m\u001b[0m\u001b[0m\n\u001b[1;32m     15\u001b[0m     \u001b[0;32mdef\u001b[0m \u001b[0mtrain\u001b[0m\u001b[0;34m(\u001b[0m\u001b[0mself\u001b[0m\u001b[0;34m)\u001b[0m\u001b[0;34m:\u001b[0m\u001b[0;34m\u001b[0m\u001b[0;34m\u001b[0m\u001b[0m\n\u001b[0;32m---> 16\u001b[0;31m         \u001b[0mtrained_results\u001b[0m \u001b[0;34m=\u001b[0m \u001b[0mself\u001b[0m\u001b[0;34m.\u001b[0m\u001b[0m_class_object\u001b[0m\u001b[0;34m.\u001b[0m\u001b[0mtrain\u001b[0m\u001b[0;34m(\u001b[0m\u001b[0;34m)\u001b[0m\u001b[0;34m\u001b[0m\u001b[0;34m\u001b[0m\u001b[0m\n\u001b[0m\u001b[1;32m     17\u001b[0m         \u001b[0;32mreturn\u001b[0m \u001b[0mtrained_results\u001b[0m\u001b[0;34m\u001b[0m\u001b[0;34m\u001b[0m\u001b[0m\n\u001b[1;32m     18\u001b[0m \u001b[0;34m\u001b[0m\u001b[0m\n",
      "\u001b[0;32m/dccstor/irl-tableqa/jaydeep/primeqa/primeqa/tableqa/tapas/models/tapas_model.py\u001b[0m in \u001b[0;36mtrain\u001b[0;34m(self)\u001b[0m\n\u001b[1;32m    145\u001b[0m \u001b[0;34m\u001b[0m\u001b[0m\n\u001b[1;32m    146\u001b[0m         \u001b[0;32mif\u001b[0m \u001b[0mdata_args\u001b[0m\u001b[0;34m.\u001b[0m\u001b[0mmax_train_samples\u001b[0m \u001b[0;32mis\u001b[0m \u001b[0;32mnot\u001b[0m \u001b[0;32mNone\u001b[0m\u001b[0;34m:\u001b[0m\u001b[0;34m\u001b[0m\u001b[0;34m\u001b[0m\u001b[0m\n\u001b[0;32m--> 147\u001b[0;31m             \u001b[0mtrain_dataset\u001b[0m \u001b[0;34m=\u001b[0m \u001b[0mtrain_dataset\u001b[0m\u001b[0;34m.\u001b[0m\u001b[0mselect\u001b[0m\u001b[0;34m(\u001b[0m\u001b[0mrange\u001b[0m\u001b[0;34m(\u001b[0m\u001b[0mdata_args\u001b[0m\u001b[0;34m.\u001b[0m\u001b[0mmax_train_samples\u001b[0m\u001b[0;34m)\u001b[0m\u001b[0;34m)\u001b[0m\u001b[0;34m\u001b[0m\u001b[0;34m\u001b[0m\u001b[0m\n\u001b[0m\u001b[1;32m    148\u001b[0m \u001b[0;34m\u001b[0m\u001b[0m\n\u001b[1;32m    149\u001b[0m         trainer = TableQATrainer(model=self._model,\n",
      "\u001b[0;31mAttributeError\u001b[0m: 'DatasetProcessor' object has no attribute 'select'"
     ]
    }
   ],
   "source": [
    "reader.train()"
   ]
  },
  {
   "cell_type": "code",
   "execution_count": null,
   "metadata": {},
   "outputs": [],
   "source": []
  }
 ],
 "metadata": {
  "kernelspec": {
   "display_name": "Python 3.7.13 (conda)",
   "language": "python",
   "name": "python3"
  },
  "language_info": {
   "codemirror_mode": {
    "name": "ipython",
    "version": 3
   },
   "file_extension": ".py",
   "mimetype": "text/x-python",
   "name": "python",
   "nbconvert_exporter": "python",
   "pygments_lexer": "ipython3",
   "version": "3.7.13"
  },
  "orig_nbformat": 4,
  "vscode": {
   "interpreter": {
    "hash": "462c2d4a549f7e8ad9e3a5a27df1b3303915605cb9c357c0b44397d41ee24173"
   }
  }
 },
 "nbformat": 4,
 "nbformat_minor": 2
}
